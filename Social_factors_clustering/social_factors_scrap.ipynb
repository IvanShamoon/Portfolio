{
 "cells": [
  {
   "cell_type": "markdown",
   "metadata": {},
   "source": [
    "# Social factors by countries Clustering Analysis - Web Scraping component using Selenium and Beautifulsoup\n",
    "\n",
    "This is a personal project to developing my clustering techniques and interpretation using python. The data is sourced from a variety of websites, and so merging and cleaning will be a pivital step in excavating a sound analysis.\n",
    "\n",
    "The purpose of this project is to deployed data I have scraped off the internet onto a usesable dashboard in PowerBi so that one can survey the factors of each countries. In addition, investigating whether these factors are distinctive enough between the countires to generate accurate clusters, and how within these clusters one can gather useful information. This can be used for personal enjoyment, or to predict the qualities of future countires and determining within which cluster they fit.\n",
    "\n",
    "The focus on social factors is due to a potential dominating force in other factors such as economic data as these are quite distinctive in their fields and so clustering would be meaningful as it should appear obvious. This is the reason why I choose to harp on the more subtle form of data in social factors\n",
    "\n"
   ]
  },
  {
   "cell_type": "code",
   "execution_count": 2,
   "metadata": {},
   "outputs": [],
   "source": [
    "# Import required libraries\n",
    "import requests\n",
    "import json\n",
    "import pandas as pd\n",
    "import random\n",
    "import time\n",
    "import numpy as np \n",
    "from bs4 import BeautifulSoup\n",
    "from selenium import webdriver\n",
    "from selenium.webdriver.chrome.service import Service\n",
    "from selenium.webdriver.common.keys import Keys\n",
    "import time \n",
    "from selenium.webdriver.common.by import By\n",
    "from selenium.webdriver.support import expected_conditions as EC\n",
    "from selenium.common.exceptions import TimeoutException"
   ]
  },
  {
   "cell_type": "markdown",
   "metadata": {},
   "source": [
    "## Continents and country\n",
    "\n",
    "With gathering continental data from different sources around the web, one of the challenges that will invitabily occur is merging data on the basis of varying formats. Effective cleaning and formating should occur so that the process of data gose smoothly and for important information to not be lost in the process.\n",
    "\n",
    "The focus on social facto"
   ]
  },
  {
   "cell_type": "markdown",
   "metadata": {},
   "source": [
    "To initialise the process, a baseline of all the countries with their respective continents will be extracted from Github. Cleaning for major countires will be deployed."
   ]
  },
  {
   "cell_type": "code",
   "execution_count": null,
   "metadata": {},
   "outputs": [],
   "source": [
    "url = 'https://raw.githubusercontent.com/dbouquin/IS_608/master/NanosatDB_munging/Countries-Continents.csv    '                                                                                                                                                                                    url = 'https://raw.githubusercontent.com/dbouquin/IS_608/master/NanosatDB_munging/Countries-Continents.csv'\n",
    "countries_contin = pd.read_csv(url, index_col=0)\n",
    "df = pd.DataFrame(countries_contin)\n",
    "df = df.reset_index()\n",
    "df = df.rename(columns = {'Country':'country'})"
   ]
  },
  {
   "cell_type": "code",
   "execution_count": 202,
   "metadata": {},
   "outputs": [],
   "source": [
    "df['country'][df['country'] == 'Korea, North'] = 'North Korea'\n",
    "df['country'][df['country'] == 'Korea, South'] = 'South Korea'\n",
    "df['country'][df['country'] == 'US'] = 'United States'\n",
    "df['country'][df['country'] == 'Russian Federation'] = 'Russia'\n",
    "df['country'][df['country'] == 'CZ'] = 'Czech Republic'\n",
    "df['country'] = [item.replace('&','and') for item in df['country']]"
   ]
  },
  {
   "cell_type": "markdown",
   "metadata": {},
   "source": [
    "### C02 emissions"
   ]
  },
  {
   "cell_type": "code",
   "execution_count": 203,
   "metadata": {},
   "outputs": [],
   "source": [
    "url = 'https://www.worldometers.info/co2-emissions/co2-emissions-per-capita/'\n",
    "page = requests.get(url)\n",
    "soup = BeautifulSoup(page.content, 'html.parser')\n",
    "\n",
    "# Identify the whole table segemented by tr\n",
    "row = soup.find_all('tr')\n",
    "country = []\n",
    "CO2_per_capita_2016 = []\n",
    "\n",
    "# Go through each element in the table\n",
    "for item in row:\n",
    "    # element in each row defined by td\n",
    "    element = item.find_all('td')\n",
    "    # skip instances of empty rows\n",
    "    if len(element) > 1:\n",
    "        # get country and its CO2 per capita value\n",
    "        country.append(element[1].text)\n",
    "        CO2_per_capita_2016.append(element[2].text)\n",
    "\n",
    "d = {'country' : country, 'CO2_per_capita_2016':CO2_per_capita_2016}\n",
    "df_co2_capita = pd.DataFrame(d)\n",
    "df_co2_capita['CO2_per_capita_2016'] = df_co2_capita['CO2_per_capita_2016'].astype(float)\n",
    "df_co2_capita['country'] = [item.split('(')[0] for item in df_co2_capita['country']]\n",
    "df_co2_capita['country'] = [item.strip() for item in df_co2_capita['country']]"
   ]
  },
  {
   "cell_type": "code",
   "execution_count": 204,
   "metadata": {},
   "outputs": [],
   "source": [
    "merged_data = pd.merge(df,df_co2_capita, how = 'left', on = 'country')\n",
    "merged_data['CO2_per_capita_2016'] = pd.to_numeric(merged_data.CO2_per_capita_2016.astype(str).str.replace(',',''), errors='coerce')\n",
    "merged_data['CO2_per_capita_2016'] =  merged_data['CO2_per_capita_2016'].fillna(merged_data.groupby('Continent')['CO2_per_capita_2016'].transform('mean')).astype(float)"
   ]
  },
  {
   "cell_type": "markdown",
   "metadata": {},
   "source": [
    "### Crime index data"
   ]
  },
  {
   "cell_type": "code",
   "execution_count": 205,
   "metadata": {},
   "outputs": [],
   "source": [
    "crime_data = pd.read_csv('csvData.csv')\n",
    "crime_data = crime_data.drop(columns = ['rank','pop2022'])\n",
    "crime_data['country'] = [item.replace('And','and') for item in crime_data['country']]"
   ]
  },
  {
   "cell_type": "code",
   "execution_count": 206,
   "metadata": {},
   "outputs": [],
   "source": [
    "merged_data = pd.merge(merged_data,crime_data, on  = 'country' , how = 'left')\n",
    "merged_data['crimeIndex'] =  merged_data['crimeIndex'].fillna(merged_data.groupby('Continent')['crimeIndex'].transform('mean')).astype(float)"
   ]
  },
  {
   "cell_type": "markdown",
   "metadata": {},
   "source": [
    "### Water index data"
   ]
  },
  {
   "cell_type": "code",
   "execution_count": 207,
   "metadata": {},
   "outputs": [],
   "source": [
    "url = 'https://epi.yale.edu/epi-results/2020/component/h2o'\n",
    "page = requests.get(url)\n",
    "soup = BeautifulSoup(page.content, 'html.parser')\n",
    "\n",
    "# Identify the whole table segemented by tr\n",
    "row = soup.find_all('tr')\n",
    "country = []\n",
    "epi_score_2022 = []\n",
    "\n",
    "for item in row:\n",
    "    # element in each row defined by td\n",
    "    element = item.find_all('td')\n",
    "    # skip instances of empty rows\n",
    "    if len(element) > 1:\n",
    "        # get country and its CO2 per capita value\n",
    "        country.append(element[0].text.strip())\n",
    "        epi_score_2022.append(element[2].text.strip())\n",
    "\n",
    "d = {'country' : country, 'epi_score2022': epi_score_2022}\n",
    "water_score_2022 = pd.DataFrame(d)\n",
    "\n",
    "water_score_2022['country'][water_score_2022['country'] == 'Dem. Rep. Congo'] = 'Congo'\n",
    "water_score_2022['country'][water_score_2022['country'] == 'United States of America' ] = 'United States'\n",
    "water_score_2022['country'][water_score_2022['country'] == 'Viet Nam'] = 'Vietnam'"
   ]
  },
  {
   "cell_type": "code",
   "execution_count": 208,
   "metadata": {},
   "outputs": [],
   "source": [
    "merged_data = pd.merge(merged_data,water_score_2022, how = 'left', on = 'country')\n",
    "merged_data['epi_score2022'] = pd.to_numeric(merged_data.epi_score2022.astype(str).str.replace(',',''), errors='coerce')\n",
    "merged_data['epi_score2022'] =  merged_data['epi_score2022'].fillna(merged_data.groupby('Continent')['epi_score2022'].transform('mean')).astype(float)"
   ]
  },
  {
   "cell_type": "markdown",
   "metadata": {},
   "source": [
    "### Happiness index data"
   ]
  },
  {
   "cell_type": "code",
   "execution_count": 209,
   "metadata": {},
   "outputs": [
    {
     "name": "stderr",
     "output_type": "stream",
     "text": [
      "C:\\Users\\Ivan Shamoon\\AppData\\Local\\Temp\\ipykernel_10572\\4198245005.py:3: SettingWithCopyWarning: \n",
      "A value is trying to be set on a copy of a slice from a DataFrame\n",
      "\n",
      "See the caveats in the documentation: https://pandas.pydata.org/pandas-docs/stable/user_guide/indexing.html#returning-a-view-versus-a-copy\n",
      "  happy_data['country'][happy_data['country'] == 'Republic of the Congo'] = 'Congo'\n"
     ]
    }
   ],
   "source": [
    "happy_data = pd.read_csv('happiness_index.csv')\n",
    "happy_data = happy_data.drop(columns = ['rank','pop2022','happiness2020'])\n",
    "happy_data['country'][happy_data['country'] == 'Republic of the Congo'] = 'Congo'\n"
   ]
  },
  {
   "cell_type": "code",
   "execution_count": 210,
   "metadata": {},
   "outputs": [],
   "source": [
    "merged_data = pd.merge(merged_data,happy_data, how = 'left', on = 'country')\n",
    "merged_data['happiness2021'] =  merged_data['happiness2021'].fillna(merged_data.groupby('Continent')['happiness2021'].transform('mean')).astype(float)\n"
   ]
  },
  {
   "cell_type": "markdown",
   "metadata": {},
   "source": [
    "### Life expectancy data"
   ]
  },
  {
   "cell_type": "code",
   "execution_count": 211,
   "metadata": {},
   "outputs": [],
   "source": [
    "url = 'https://www.worldometers.info/demographics/life-expectancy/'\n",
    "page = requests.get(url)\n",
    "soup = BeautifulSoup(page.content, 'html.parser')\n",
    "\n",
    "# Identify the table with all the row elements\n",
    "rows = soup.find_all('tr')\n",
    "country = []\n",
    "fem_life = []\n",
    "male_life = []\n",
    "\n",
    "for item in rows:\n",
    "    element = item.find_all('td')\n",
    "    if len(element) > 0:\n",
    "        country.append(element[1].text)\n",
    "        fem_life.append(element[3].text)\n",
    "        male_life.append(element[4].text)\n",
    "\n",
    "d = {'country' : country, 'fem_life_expectancy': fem_life, 'male_life_expectancy': male_life}\n",
    "life_expectancy_2022 = pd.DataFrame(d)\n",
    "\n",
    "life_expectancy_2022['country'] = [item.replace('&' , 'and') for item in life_expectancy_2022['country']]\n",
    "life_expectancy_2022['country'][life_expectancy_2022['country'] == 'Czech Republic (Czechia)'] = 'Czech Republic'"
   ]
  },
  {
   "cell_type": "code",
   "execution_count": 225,
   "metadata": {},
   "outputs": [],
   "source": [
    "merged_data = pd.merge(merged_data,life_expectancy_2022, how = 'left' , on = 'country')\n",
    "cols = ['fem_life_expectancy','male_life_expectancy']\n",
    "merged_data[cols] = merged_data[cols].apply(pd.to_numeric, errors = 'coerce', axis= 1)\n",
    "merged_data[cols] = merged_data[cols].fillna(merged_data.groupby('Continent')[cols].transform('mean')).astype(float)"
   ]
  },
  {
   "cell_type": "markdown",
   "metadata": {},
   "source": [
    "### Religion Data"
   ]
  },
  {
   "cell_type": "code",
   "execution_count": 227,
   "metadata": {},
   "outputs": [],
   "source": [
    "reli_data = pd.read_csv('religion.csv')\n",
    "reli_data['religion'] = reli_data.loc[:, reli_data.columns != 'country'].idxmax(axis=1)\n",
    "merged_data = pd.merge(merged_data, reli_data[['country','religion']], on = 'country', how = 'left')\n",
    "merged_data['religion'] = merged_data['religion'].fillna(merged_data.groupby('Continent')['religion'].agg(pd.Series.mode)[0])"
   ]
  },
  {
   "cell_type": "markdown",
   "metadata": {},
   "source": [
    "### Homosexuality data\n",
    "\n",
    "Unlike the other websites, this is off wikipedia. It is not a simple process to scrap off the websites. Homosexuality is not a quantitative measure and thereofre factors such as homosexuality activity/marriage/criminsation must be weighted. The page includes these information in the form of a data with checkmarks.\n",
    "\n",
    "I used selenium to determine the presence of these checkmarks and weight according to my personal scale on the severity. Some coutries do show mercy in some areas but are harsh in another. If a country passes activity but bans marriage, how would that be weight. Here are the metrics I used (Moderate: 1, Severe: 2):\n",
    "\n",
    "\n",
    "* Same-sex sexual actvitiy: 1 \n",
    "\n",
    "* Recognition of same-sex unions: 2\n",
    "\n",
    "* Same-sex marriage: 2 \n",
    "\n",
    "* Adoption by same-sex couples: 1\n",
    "\n",
    "* LGBT people allowed to serve openly in military: 1\n",
    "\n",
    "* Anti-discrimination laws concerning sexual orientation: 2 \n",
    "\n",
    "* Laws concerning gender identity/expression: 1 \n",
    "\n"
   ]
  },
  {
   "cell_type": "code",
   "execution_count": 232,
   "metadata": {},
   "outputs": [
    {
     "name": "stderr",
     "output_type": "stream",
     "text": [
      "C:\\Users\\Ivan Shamoon\\AppData\\Local\\Temp\\ipykernel_10572\\3964260334.py:9: DeprecationWarning: executable_path has been deprecated, please pass in a Service object\n",
      "  driver = webdriver.Chrome(executable_path = PATH)\n"
     ]
    }
   ],
   "source": [
    "from selenium import webdriver\n",
    "from selenium.webdriver.chrome.service import Service\n",
    "from webdriver_manager.chrome import ChromeDriverManager\n",
    "from selenium.webdriver.common.by import By\n",
    "\n",
    "PATH = \"C:\\\\Users\\\\Ivan Shamoon\\\\Desktop\\\\chromedriver.exe\"\n",
    "url = 'https://en.wikipedia.org/wiki/LGBT_rights_by_country_or_territory'\n",
    "\n",
    "driver = webdriver.Chrome(executable_path = PATH)\n",
    "driver.get(url)\n",
    "driver.maximize_window()"
   ]
  },
  {
   "cell_type": "code",
   "execution_count": 233,
   "metadata": {},
   "outputs": [],
   "source": [
    "countries = []\n",
    "score = []\n",
    "\n",
    "tables = driver.find_elements(By.XPATH, \"//td[@style ='border: solid 1px silver; padding: 8px; background-color: white;']\")\n",
    "tables = tables[20:25]\n",
    "\n",
    "for table in tables:\n",
    "    slots = table.find_elements(By.TAG_NAME, 'tr')\n",
    "    for item in slots:\n",
    "        try:\n",
    "            name = item.find_elements(By.TAG_NAME, 'td')\n",
    "            countries.append(name[0].text)\n",
    "        except:\n",
    "            continue\n",
    "        try:\n",
    "            row = item.get_attribute('innerHTML').split('<td>')\n",
    "            row = row[2:99]\n",
    "            counter = 0\n",
    "            index = 0\n",
    "            \n",
    "            for element in row:\n",
    "                if index == 1 or index == 2 or index == 5:\n",
    "                    if 'title=\"Yes\"' in element:\n",
    "                        counter = counter + 2\n",
    "                else:\n",
    "                    if 'title=\"Yes\"' in element:\n",
    "                        counter = counter + 1\n",
    "                index = index + 1\n",
    "            score.append(counter)\n",
    "        except:\n",
    "            continue\n",
    "            \n",
    "countries = [item.split('\\n')[0] for item in countries]\n",
    "d = {'country' : countries, 'homosexuality_score': score}\n",
    "homosexuality_score = pd.DataFrame(d)"
   ]
  },
  {
   "cell_type": "code",
   "execution_count": 238,
   "metadata": {},
   "outputs": [],
   "source": [
    "merged_data = pd.merge(merged_data,homosexuality_score, on = 'country', how = 'left')\n",
    "merged_data['homosexuality_score'] = merged_data['homosexuality_score'].fillna(merged_data.groupby('Continent')['homosexuality_score'].transform('mean')).astype(int)"
   ]
  },
  {
   "cell_type": "markdown",
   "metadata": {},
   "source": [
    "### Average schooling data"
   ]
  },
  {
   "cell_type": "code",
   "execution_count": 251,
   "metadata": {},
   "outputs": [],
   "source": [
    "url = 'https://www.worldeconomics.com/Indicator-Data/ESG/Social/Mean-Years-of-Schooling/'\n",
    "page = requests.get(url)\n",
    "soup = BeautifulSoup(page.content, 'html.parser')\n",
    "\n",
    "first_row = True\n",
    "country = []\n",
    "avg_schooling = []\n",
    "\n",
    "table = soup.find_all('tr')\n",
    "\n",
    "for item in table:\n",
    "    if first_row:\n",
    "        first_row = False\n",
    "    else:\n",
    "        element = item.find_all('td')\n",
    "        country.append(element[0].text)\n",
    "        avg_schooling.append(element[1].text)\n",
    "\n",
    "d = {'country' : country, 'avg_schooling': avg_schooling}\n",
    "avg_schooling = pd.DataFrame(d)\n",
    "\n",
    "avg_schooling['country'][avg_schooling['country'] == 'Congo, Dem. Rep'] = 'Congo'"
   ]
  },
  {
   "cell_type": "code",
   "execution_count": null,
   "metadata": {},
   "outputs": [],
   "source": [
    "merged_data = pd.merge(merged_data, avg_schooling, on = 'country' , how = 'left')\n",
    "merged_data['avg_schooling'] = pd.to_numeric(merged_data.avg_schooling.astype(str).str.replace(',',''), errors='coerce')\n",
    "merged_data['avg_schooling'] = merged_data['avg_schooling'].fillna(merged_data.groupby('Continent')['avg_schooling'].transform('mean')).astype(int)\n"
   ]
  },
  {
   "cell_type": "markdown",
   "metadata": {},
   "source": [
    "### Adult obesity data"
   ]
  },
  {
   "cell_type": "code",
   "execution_count": null,
   "metadata": {},
   "outputs": [],
   "source": [
    "obesity = pd.read_csv('obesity_adult.csv')\n",
    "obesity_2016 = obesity[['Area', 'Value']]\n",
    "obesity_2016.rename(columns={'Value':'obesity_2016'}, inplace=True)\n"
   ]
  },
  {
   "cell_type": "markdown",
   "metadata": {},
   "source": [
    "### Percentage of people considered malnourished\n"
   ]
  },
  {
   "cell_type": "code",
   "execution_count": 265,
   "metadata": {},
   "outputs": [],
   "source": [
    "malnourisment_2016_18  = pd.read_csv('undernourishment.csv')\n",
    "malnourisment_2016_18 = malnourisment_2016_18[['Area', 'Value']]\n",
    "malnourisment_2016_18.rename(columns={'Value':'malnourishment_2016_18'}, inplace=True)\n"
   ]
  },
  {
   "cell_type": "markdown",
   "metadata": {},
   "source": [
    "### Percentage of areas with moderate to severe food insecurity"
   ]
  },
  {
   "cell_type": "code",
   "execution_count": 277,
   "metadata": {},
   "outputs": [],
   "source": [
    "food_insecurity_2017  = pd.read_csv('food_insecurity_2017.csv')\n",
    "food_insecurity_2017 = food_insecurity_2017[['Area', 'Value', 'Item']]\n",
    "food_insecurity_2017.rename(columns={'Value':'food_insecurity_2017'}, inplace=True)\n",
    "food_insecurity_2017 = food_insecurity_2017[food_insecurity_2017['Item'].str.contains('total')]\n",
    "food_insecurity_2017 = food_insecurity_2017.drop('Item', axis = 1)"
   ]
  },
  {
   "cell_type": "markdown",
   "metadata": {},
   "source": [
    "### Metric used to determine political stability"
   ]
  },
  {
   "cell_type": "code",
   "execution_count": 267,
   "metadata": {},
   "outputs": [],
   "source": [
    "political_stability_2020  = pd.read_csv('political_stability_2020.csv')\n",
    "political_stability_2020 = political_stability_2020[['Area', 'Value']]\n",
    "political_stability_2020.rename(columns={'Value':'political_stability_2020'}, inplace=True)"
   ]
  },
  {
   "cell_type": "markdown",
   "metadata": {},
   "source": [
    "### Protein supply by country"
   ]
  },
  {
   "cell_type": "code",
   "execution_count": 268,
   "metadata": {},
   "outputs": [],
   "source": [
    "protein_supply_2017  = pd.read_csv('protein_supply_2017.csv')\n",
    "protein_supply_2017 = protein_supply_2017[['Area', 'Value']]\n",
    "protein_supply_2017.rename(columns={'Value':'protein_supply_2017'}, inplace=True)"
   ]
  },
  {
   "cell_type": "markdown",
   "metadata": {},
   "source": [
    "### Merging FAOSTA Data"
   ]
  },
  {
   "cell_type": "code",
   "execution_count": 292,
   "metadata": {},
   "outputs": [],
   "source": [
    "import functools as ft\n",
    "\n",
    "dfs = [malnourisment_2016_18,protein_supply_2017,political_stability_2020,food_insecurity_2017]\n",
    "df_final = ft.reduce(lambda left, right: pd.merge(left, right, on='Area'), dfs)\n",
    "df_final = pd.merge(df_final, obesity_2016, how = 'left' , on = 'Area')"
   ]
  },
  {
   "cell_type": "code",
   "execution_count": null,
   "metadata": {},
   "outputs": [],
   "source": [
    "df_final['Area'][df_final['Area'] == 'Czechia'] = 'Czech Republic'\n",
    "df_final['Area'][df_final['Area'] == 'Viet Nam'] = 'Vietnam'\n",
    "df_final['Area'][df_final['Area'] == 'Russian Federation'] = 'Russia'\n",
    "df_final['Area'][df_final['Area'] == \"Democratic People's Republic of Korea\"] = 'North Korea'\n",
    "df_final['Area'][df_final['Area'] == \"Republic of Korea\"] = 'South Korea' \n",
    "df_final['Area'][df_final['Area'] == \"United States of America\"] = 'United States'\n",
    "df_final['Area'][df_final['Area'] == \"United Kingdom of Great Britain and Northern Ireland\"] = 'United Kingdom'\n",
    "df_final['Area'][df_final['Area'] == \"China, Hong Kong SAR\"] = 'China'\n",
    "\n",
    "new_list = []\n",
    "for item in df_final['Area']:\n",
    "    try:\n",
    "        element = item.split(\"(\")[0]\n",
    "        new_list.append(element.strip())\n",
    "    except:\n",
    "        new_list.append(element.strip())\n",
    "\n",
    "\n",
    "df_final.rename(columns = {'Area':'country'}, inplace = True)\n"
   ]
  },
  {
   "cell_type": "markdown",
   "metadata": {},
   "source": [
    "### Final Merge"
   ]
  },
  {
   "cell_type": "code",
   "execution_count": 314,
   "metadata": {},
   "outputs": [],
   "source": [
    "merged_data = pd.merge(merged_data, df_final, how = 'left', on = 'country')\n",
    "merged_data.malnourishment_2016_18 =  [item.strip('<') for item in merged_data.malnourishment_2016_18.astype(str)]\n",
    "\n",
    "cols = ['malnourishment_2016_18','protein_supply_2017','political_stability_2020','food_insecurity_2017','obesity_2016']\n",
    "merged_data[cols] = merged_data[cols].fillna(merged_data.groupby('Continent')[cols].transform('mean')).astype(float)\n"
   ]
  },
  {
   "cell_type": "code",
   "execution_count": 328,
   "metadata": {},
   "outputs": [
    {
     "data": {
      "text/html": [
       "<div>\n",
       "<style scoped>\n",
       "    .dataframe tbody tr th:only-of-type {\n",
       "        vertical-align: middle;\n",
       "    }\n",
       "\n",
       "    .dataframe tbody tr th {\n",
       "        vertical-align: top;\n",
       "    }\n",
       "\n",
       "    .dataframe thead th {\n",
       "        text-align: right;\n",
       "    }\n",
       "</style>\n",
       "<table border=\"1\" class=\"dataframe\">\n",
       "  <thead>\n",
       "    <tr style=\"text-align: right;\">\n",
       "      <th></th>\n",
       "      <th>Continent</th>\n",
       "      <th>country</th>\n",
       "      <th>CO2_per_capita_2016</th>\n",
       "      <th>crimeIndex</th>\n",
       "      <th>epi_score2022</th>\n",
       "      <th>happiness2021</th>\n",
       "      <th>fem_life_expectancy</th>\n",
       "      <th>male_life_expectancy</th>\n",
       "      <th>religion</th>\n",
       "      <th>homosexuality_score</th>\n",
       "      <th>avg_schooling</th>\n",
       "      <th>malnourishment_2016_18</th>\n",
       "      <th>protein_supply_2017</th>\n",
       "      <th>political_stability_2020</th>\n",
       "      <th>food_insecurity_2017</th>\n",
       "      <th>obesity_2016</th>\n",
       "    </tr>\n",
       "  </thead>\n",
       "  <tbody>\n",
       "    <tr>\n",
       "      <th>0</th>\n",
       "      <td>Africa</td>\n",
       "      <td>Algeria</td>\n",
       "      <td>3.850000</td>\n",
       "      <td>52.030000</td>\n",
       "      <td>53.200</td>\n",
       "      <td>4.887000</td>\n",
       "      <td>78.760000</td>\n",
       "      <td>76.300000</td>\n",
       "      <td>muslims</td>\n",
       "      <td>0</td>\n",
       "      <td>8</td>\n",
       "      <td>2.700000</td>\n",
       "      <td>89.300000</td>\n",
       "      <td>-0.860000</td>\n",
       "      <td>19.700000</td>\n",
       "      <td>27.400000</td>\n",
       "    </tr>\n",
       "    <tr>\n",
       "      <th>1</th>\n",
       "      <td>Africa</td>\n",
       "      <td>Angola</td>\n",
       "      <td>1.060000</td>\n",
       "      <td>66.480000</td>\n",
       "      <td>12.800</td>\n",
       "      <td>4.532128</td>\n",
       "      <td>65.120000</td>\n",
       "      <td>59.460000</td>\n",
       "      <td>christians</td>\n",
       "      <td>3</td>\n",
       "      <td>5</td>\n",
       "      <td>15.400000</td>\n",
       "      <td>52.400000</td>\n",
       "      <td>-0.520000</td>\n",
       "      <td>52.490909</td>\n",
       "      <td>8.200000</td>\n",
       "    </tr>\n",
       "    <tr>\n",
       "      <th>2</th>\n",
       "      <td>Africa</td>\n",
       "      <td>Benin</td>\n",
       "      <td>0.600000</td>\n",
       "      <td>53.974091</td>\n",
       "      <td>13.400</td>\n",
       "      <td>5.045000</td>\n",
       "      <td>64.450000</td>\n",
       "      <td>61.230000</td>\n",
       "      <td>christians</td>\n",
       "      <td>1</td>\n",
       "      <td>4</td>\n",
       "      <td>7.900000</td>\n",
       "      <td>64.300000</td>\n",
       "      <td>-0.440000</td>\n",
       "      <td>66.300000</td>\n",
       "      <td>9.600000</td>\n",
       "    </tr>\n",
       "    <tr>\n",
       "      <th>3</th>\n",
       "      <td>Africa</td>\n",
       "      <td>Botswana</td>\n",
       "      <td>2.980000</td>\n",
       "      <td>52.980000</td>\n",
       "      <td>20.800</td>\n",
       "      <td>3.467000</td>\n",
       "      <td>72.690000</td>\n",
       "      <td>66.720000</td>\n",
       "      <td>christians</td>\n",
       "      <td>3</td>\n",
       "      <td>10</td>\n",
       "      <td>21.300000</td>\n",
       "      <td>71.000000</td>\n",
       "      <td>1.090000</td>\n",
       "      <td>53.400000</td>\n",
       "      <td>18.900000</td>\n",
       "    </tr>\n",
       "    <tr>\n",
       "      <th>4</th>\n",
       "      <td>Africa</td>\n",
       "      <td>Burkina</td>\n",
       "      <td>1.140625</td>\n",
       "      <td>53.974091</td>\n",
       "      <td>19.325</td>\n",
       "      <td>4.532128</td>\n",
       "      <td>67.183878</td>\n",
       "      <td>63.171429</td>\n",
       "      <td>christians</td>\n",
       "      <td>0</td>\n",
       "      <td>5</td>\n",
       "      <td>16.957895</td>\n",
       "      <td>68.213158</td>\n",
       "      <td>-0.724082</td>\n",
       "      <td>52.490909</td>\n",
       "      <td>12.446809</td>\n",
       "    </tr>\n",
       "    <tr>\n",
       "      <th>...</th>\n",
       "      <td>...</td>\n",
       "      <td>...</td>\n",
       "      <td>...</td>\n",
       "      <td>...</td>\n",
       "      <td>...</td>\n",
       "      <td>...</td>\n",
       "      <td>...</td>\n",
       "      <td>...</td>\n",
       "      <td>...</td>\n",
       "      <td>...</td>\n",
       "      <td>...</td>\n",
       "      <td>...</td>\n",
       "      <td>...</td>\n",
       "      <td>...</td>\n",
       "      <td>...</td>\n",
       "      <td>...</td>\n",
       "    </tr>\n",
       "    <tr>\n",
       "      <th>211</th>\n",
       "      <td>South America</td>\n",
       "      <td>Paraguay</td>\n",
       "      <td>0.890000</td>\n",
       "      <td>49.370000</td>\n",
       "      <td>47.500</td>\n",
       "      <td>5.653000</td>\n",
       "      <td>76.780000</td>\n",
       "      <td>72.550000</td>\n",
       "      <td>christians</td>\n",
       "      <td>2</td>\n",
       "      <td>9</td>\n",
       "      <td>7.800000</td>\n",
       "      <td>68.000000</td>\n",
       "      <td>0.020000</td>\n",
       "      <td>15.600000</td>\n",
       "      <td>20.300000</td>\n",
       "    </tr>\n",
       "    <tr>\n",
       "      <th>212</th>\n",
       "      <td>South America</td>\n",
       "      <td>Peru</td>\n",
       "      <td>1.870000</td>\n",
       "      <td>66.720000</td>\n",
       "      <td>43.000</td>\n",
       "      <td>5.840000</td>\n",
       "      <td>80.150000</td>\n",
       "      <td>74.870000</td>\n",
       "      <td>christians</td>\n",
       "      <td>5</td>\n",
       "      <td>10</td>\n",
       "      <td>7.600000</td>\n",
       "      <td>87.400000</td>\n",
       "      <td>-0.290000</td>\n",
       "      <td>42.900000</td>\n",
       "      <td>19.700000</td>\n",
       "    </tr>\n",
       "    <tr>\n",
       "      <th>213</th>\n",
       "      <td>South America</td>\n",
       "      <td>Suriname</td>\n",
       "      <td>3.810000</td>\n",
       "      <td>61.356364</td>\n",
       "      <td>39.300</td>\n",
       "      <td>5.873900</td>\n",
       "      <td>75.550000</td>\n",
       "      <td>68.880000</td>\n",
       "      <td>christians</td>\n",
       "      <td>3</td>\n",
       "      <td>9</td>\n",
       "      <td>8.300000</td>\n",
       "      <td>62.000000</td>\n",
       "      <td>0.420000</td>\n",
       "      <td>25.371429</td>\n",
       "      <td>26.400000</td>\n",
       "    </tr>\n",
       "    <tr>\n",
       "      <th>214</th>\n",
       "      <td>South America</td>\n",
       "      <td>Uruguay</td>\n",
       "      <td>1.900000</td>\n",
       "      <td>51.730000</td>\n",
       "      <td>70.800</td>\n",
       "      <td>6.431000</td>\n",
       "      <td>81.880000</td>\n",
       "      <td>74.750000</td>\n",
       "      <td>christians</td>\n",
       "      <td>10</td>\n",
       "      <td>9</td>\n",
       "      <td>2.500000</td>\n",
       "      <td>84.000000</td>\n",
       "      <td>1.050000</td>\n",
       "      <td>25.100000</td>\n",
       "      <td>27.900000</td>\n",
       "    </tr>\n",
       "    <tr>\n",
       "      <th>215</th>\n",
       "      <td>South America</td>\n",
       "      <td>Venezuela</td>\n",
       "      <td>5.890000</td>\n",
       "      <td>83.760000</td>\n",
       "      <td>46.800</td>\n",
       "      <td>4.892000</td>\n",
       "      <td>76.250000</td>\n",
       "      <td>68.590000</td>\n",
       "      <td>christians</td>\n",
       "      <td>3</td>\n",
       "      <td>9</td>\n",
       "      <td>5.740000</td>\n",
       "      <td>80.900000</td>\n",
       "      <td>-0.029000</td>\n",
       "      <td>25.371429</td>\n",
       "      <td>23.510000</td>\n",
       "    </tr>\n",
       "  </tbody>\n",
       "</table>\n",
       "<p>216 rows × 16 columns</p>\n",
       "</div>"
      ],
      "text/plain": [
       "         Continent    country  CO2_per_capita_2016  crimeIndex  epi_score2022  \\\n",
       "0           Africa    Algeria             3.850000   52.030000         53.200   \n",
       "1           Africa     Angola             1.060000   66.480000         12.800   \n",
       "2           Africa      Benin             0.600000   53.974091         13.400   \n",
       "3           Africa   Botswana             2.980000   52.980000         20.800   \n",
       "4           Africa    Burkina             1.140625   53.974091         19.325   \n",
       "..             ...        ...                  ...         ...            ...   \n",
       "211  South America   Paraguay             0.890000   49.370000         47.500   \n",
       "212  South America       Peru             1.870000   66.720000         43.000   \n",
       "213  South America   Suriname             3.810000   61.356364         39.300   \n",
       "214  South America    Uruguay             1.900000   51.730000         70.800   \n",
       "215  South America  Venezuela             5.890000   83.760000         46.800   \n",
       "\n",
       "     happiness2021  fem_life_expectancy  male_life_expectancy    religion  \\\n",
       "0         4.887000            78.760000             76.300000     muslims   \n",
       "1         4.532128            65.120000             59.460000  christians   \n",
       "2         5.045000            64.450000             61.230000  christians   \n",
       "3         3.467000            72.690000             66.720000  christians   \n",
       "4         4.532128            67.183878             63.171429  christians   \n",
       "..             ...                  ...                   ...         ...   \n",
       "211       5.653000            76.780000             72.550000  christians   \n",
       "212       5.840000            80.150000             74.870000  christians   \n",
       "213       5.873900            75.550000             68.880000  christians   \n",
       "214       6.431000            81.880000             74.750000  christians   \n",
       "215       4.892000            76.250000             68.590000  christians   \n",
       "\n",
       "     homosexuality_score  avg_schooling  malnourishment_2016_18  \\\n",
       "0                      0              8                2.700000   \n",
       "1                      3              5               15.400000   \n",
       "2                      1              4                7.900000   \n",
       "3                      3             10               21.300000   \n",
       "4                      0              5               16.957895   \n",
       "..                   ...            ...                     ...   \n",
       "211                    2              9                7.800000   \n",
       "212                    5             10                7.600000   \n",
       "213                    3              9                8.300000   \n",
       "214                   10              9                2.500000   \n",
       "215                    3              9                5.740000   \n",
       "\n",
       "     protein_supply_2017  political_stability_2020  food_insecurity_2017  \\\n",
       "0              89.300000                 -0.860000             19.700000   \n",
       "1              52.400000                 -0.520000             52.490909   \n",
       "2              64.300000                 -0.440000             66.300000   \n",
       "3              71.000000                  1.090000             53.400000   \n",
       "4              68.213158                 -0.724082             52.490909   \n",
       "..                   ...                       ...                   ...   \n",
       "211            68.000000                  0.020000             15.600000   \n",
       "212            87.400000                 -0.290000             42.900000   \n",
       "213            62.000000                  0.420000             25.371429   \n",
       "214            84.000000                  1.050000             25.100000   \n",
       "215            80.900000                 -0.029000             25.371429   \n",
       "\n",
       "     obesity_2016  \n",
       "0       27.400000  \n",
       "1        8.200000  \n",
       "2        9.600000  \n",
       "3       18.900000  \n",
       "4       12.446809  \n",
       "..            ...  \n",
       "211     20.300000  \n",
       "212     19.700000  \n",
       "213     26.400000  \n",
       "214     27.900000  \n",
       "215     23.510000  \n",
       "\n",
       "[216 rows x 16 columns]"
      ]
     },
     "execution_count": 328,
     "metadata": {},
     "output_type": "execute_result"
    }
   ],
   "source": [
    "merged_data.head(8)"
   ]
  },
  {
   "cell_type": "code",
   "execution_count": 327,
   "metadata": {},
   "outputs": [],
   "source": [
    "merged_data.to_csv('social_factors.csv')"
   ]
  },
  {
   "cell_type": "markdown",
   "metadata": {},
   "source": [
    "## Final words\n",
    "\n",
    "This is a non-exhaustive list of factors, so feel free to add if you want. The data will be analysed, further cleaned, and visualised in the next component."
   ]
  }
 ],
 "metadata": {
  "kernelspec": {
   "display_name": "Python 3.10.2 64-bit",
   "language": "python",
   "name": "python3"
  },
  "language_info": {
   "codemirror_mode": {
    "name": "ipython",
    "version": 3
   },
   "file_extension": ".py",
   "mimetype": "text/x-python",
   "name": "python",
   "nbconvert_exporter": "python",
   "pygments_lexer": "ipython3",
   "version": "3.10.2"
  },
  "orig_nbformat": 4,
  "vscode": {
   "interpreter": {
    "hash": "d945ed2a52083c4a5b72234668779b0e7ade9860b23e6b7df5d4937d091dd521"
   }
  }
 },
 "nbformat": 4,
 "nbformat_minor": 2
}
