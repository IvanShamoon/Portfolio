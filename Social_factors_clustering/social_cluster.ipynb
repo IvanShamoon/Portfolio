{
 "cells": [
  {
   "cell_type": "markdown",
   "metadata": {},
   "source": [
    "# Social factors by countries Clustering Analysis - Clustering analysis and visualisations \n",
    "\n",
    "This is a personal project to developing my clustering techniques and interpretation using python. The data is sourced from a variety of websites, and so merging and cleaning will be a pivital step in excavating a sound analysis.\n",
    "\n",
    "The purpose of this project is to deployed data I have scraped off the internet onto a usesable dashboard in PowerBi so that one can survey the factors of each countries. In addition, investigating whether these factors are distinctive enough between the countires to generate accurate clusters, and how within these clusters one can gather useful information. This can be used for personal enjoyment, or to predict the qualities of future countires and determining within which cluster they fit.\n",
    "\n",
    "The focus on social factors is due to a potential dominating force in other factors such as economic data as these are quite distinctive in their fields and so clustering would be meaningful as it should appear obvious. This is the reason why I choose to harp on the more subtle form of data in social factors"
   ]
  },
  {
   "cell_type": "code",
   "execution_count": 2,
   "metadata": {},
   "outputs": [],
   "source": [
    "import pandas as pd\n",
    "import numpy as np\n",
    "import seaborn as sns\n",
    "import matplotlib.pyplot as plt\n",
    "import plotly.express as px\n",
    "from sklearn.model_selection import train_test_split\n",
    "from sklearn.ensemble import RandomForestRegressor\n",
    "from sklearn import preprocessing"
   ]
  },
  {
   "cell_type": "code",
   "execution_count": 3,
   "metadata": {},
   "outputs": [],
   "source": [
    "data = pd.read_csv('social_factors.csv')\n",
    "data = pd.DataFrame(data)\n",
    "del data['Unnamed: 0']"
   ]
  },
  {
   "cell_type": "markdown",
   "metadata": {},
   "source": [
    "Because religion is non-quantitative, it needs to be converted to a numerical factor.\n",
    "\n",
    "Political stability needs to be positive. This is why every value in the column had its three added to its value."
   ]
  },
  {
   "cell_type": "code",
   "execution_count": 28,
   "metadata": {},
   "outputs": [],
   "source": [
    "data['political_stability_2020'] = [item + 3 for item in data['political_stability_2020']]\n",
    "data['religion'] = data['religion'].map({'christians':1,'muslims':2,'buddhists':3,'unaffiliated':4,'hindus':5,'jews':6,'folkReligions':7})"
   ]
  },
  {
   "cell_type": "markdown",
   "metadata": {},
   "source": [
    "Perhaps the most interesting and not known metric I have included is the homosexuality score. I believe on which continent or country is most pregressive is not known. For this reason, I will do some elementary analysis for us to survey."
   ]
  },
  {
   "cell_type": "code",
   "execution_count": 7,
   "metadata": {},
   "outputs": [
    {
     "data": {
      "text/plain": [
       "Continent\n",
       "Europe           6.661017\n",
       "South America    6.416667\n",
       "North America    3.434783\n",
       "Oceania          3.200000\n",
       "Asia             2.307692\n",
       "Africa           0.836364\n",
       "Name: homosexuality_score, dtype: float64"
      ]
     },
     "execution_count": 7,
     "metadata": {},
     "output_type": "execute_result"
    }
   ],
   "source": [
    "data.groupby('Continent')['homosexuality_score'].mean().sort_values(ascending=False)"
   ]
  },
  {
   "cell_type": "code",
   "execution_count": 18,
   "metadata": {},
   "outputs": [
    {
     "data": {
      "text/html": [
       "<div>\n",
       "<style scoped>\n",
       "    .dataframe tbody tr th:only-of-type {\n",
       "        vertical-align: middle;\n",
       "    }\n",
       "\n",
       "    .dataframe tbody tr th {\n",
       "        vertical-align: top;\n",
       "    }\n",
       "\n",
       "    .dataframe thead th {\n",
       "        text-align: right;\n",
       "    }\n",
       "</style>\n",
       "<table border=\"1\" class=\"dataframe\">\n",
       "  <thead>\n",
       "    <tr style=\"text-align: right;\">\n",
       "      <th></th>\n",
       "      <th>Continent</th>\n",
       "      <th>country</th>\n",
       "      <th>homosexuality_score</th>\n",
       "    </tr>\n",
       "  </thead>\n",
       "  <tbody>\n",
       "    <tr>\n",
       "      <th>136</th>\n",
       "      <td>Europe</td>\n",
       "      <td>Germany</td>\n",
       "      <td>10</td>\n",
       "    </tr>\n",
       "    <tr>\n",
       "      <th>189</th>\n",
       "      <td>Oceania</td>\n",
       "      <td>Australia</td>\n",
       "      <td>10</td>\n",
       "    </tr>\n",
       "    <tr>\n",
       "      <th>130</th>\n",
       "      <td>Europe</td>\n",
       "      <td>Finland</td>\n",
       "      <td>10</td>\n",
       "    </tr>\n",
       "    <tr>\n",
       "      <th>131</th>\n",
       "      <td>Europe</td>\n",
       "      <td>France</td>\n",
       "      <td>10</td>\n",
       "    </tr>\n",
       "    <tr>\n",
       "      <th>68</th>\n",
       "      <td>Asia</td>\n",
       "      <td>Israel</td>\n",
       "      <td>10</td>\n",
       "    </tr>\n",
       "    <tr>\n",
       "      <th>170</th>\n",
       "      <td>North America</td>\n",
       "      <td>Canada</td>\n",
       "      <td>10</td>\n",
       "    </tr>\n",
       "    <tr>\n",
       "      <th>140</th>\n",
       "      <td>Europe</td>\n",
       "      <td>Ireland</td>\n",
       "      <td>10</td>\n",
       "    </tr>\n",
       "    <tr>\n",
       "      <th>164</th>\n",
       "      <td>Europe</td>\n",
       "      <td>United Kingdom</td>\n",
       "      <td>10</td>\n",
       "    </tr>\n",
       "    <tr>\n",
       "      <th>162</th>\n",
       "      <td>Europe</td>\n",
       "      <td>Switzerland</td>\n",
       "      <td>10</td>\n",
       "    </tr>\n",
       "    <tr>\n",
       "      <th>161</th>\n",
       "      <td>Europe</td>\n",
       "      <td>Sweden</td>\n",
       "      <td>10</td>\n",
       "    </tr>\n",
       "  </tbody>\n",
       "</table>\n",
       "</div>"
      ],
      "text/plain": [
       "         Continent         country  homosexuality_score\n",
       "136         Europe         Germany                   10\n",
       "189        Oceania       Australia                   10\n",
       "130         Europe         Finland                   10\n",
       "131         Europe          France                   10\n",
       "68            Asia          Israel                   10\n",
       "170  North America          Canada                   10\n",
       "140         Europe         Ireland                   10\n",
       "164         Europe  United Kingdom                   10\n",
       "162         Europe     Switzerland                   10\n",
       "161         Europe          Sweden                   10"
      ]
     },
     "execution_count": 18,
     "metadata": {},
     "output_type": "execute_result"
    }
   ],
   "source": [
    "data[['Continent','country','homosexuality_score']].sort_values(by = 'homosexuality_score', ascending = False).iloc[0:10]"
   ]
  },
  {
   "cell_type": "code",
   "execution_count": 19,
   "metadata": {},
   "outputs": [
    {
     "data": {
      "text/html": [
       "<div>\n",
       "<style scoped>\n",
       "    .dataframe tbody tr th:only-of-type {\n",
       "        vertical-align: middle;\n",
       "    }\n",
       "\n",
       "    .dataframe tbody tr th {\n",
       "        vertical-align: top;\n",
       "    }\n",
       "\n",
       "    .dataframe thead th {\n",
       "        text-align: right;\n",
       "    }\n",
       "</style>\n",
       "<table border=\"1\" class=\"dataframe\">\n",
       "  <thead>\n",
       "    <tr style=\"text-align: right;\">\n",
       "      <th></th>\n",
       "      <th>Continent</th>\n",
       "      <th>country</th>\n",
       "      <th>homosexuality_score</th>\n",
       "    </tr>\n",
       "  </thead>\n",
       "  <tbody>\n",
       "    <tr>\n",
       "      <th>0</th>\n",
       "      <td>Africa</td>\n",
       "      <td>Algeria</td>\n",
       "      <td>0</td>\n",
       "    </tr>\n",
       "    <tr>\n",
       "      <th>30</th>\n",
       "      <td>Africa</td>\n",
       "      <td>Malawi</td>\n",
       "      <td>0</td>\n",
       "    </tr>\n",
       "    <tr>\n",
       "      <th>32</th>\n",
       "      <td>Africa</td>\n",
       "      <td>Mauritania</td>\n",
       "      <td>0</td>\n",
       "    </tr>\n",
       "    <tr>\n",
       "      <th>88</th>\n",
       "      <td>Asia</td>\n",
       "      <td>Qatar</td>\n",
       "      <td>0</td>\n",
       "    </tr>\n",
       "    <tr>\n",
       "      <th>34</th>\n",
       "      <td>Africa</td>\n",
       "      <td>Morocco</td>\n",
       "      <td>0</td>\n",
       "    </tr>\n",
       "    <tr>\n",
       "      <th>85</th>\n",
       "      <td>Asia</td>\n",
       "      <td>Oman</td>\n",
       "      <td>0</td>\n",
       "    </tr>\n",
       "    <tr>\n",
       "      <th>38</th>\n",
       "      <td>Africa</td>\n",
       "      <td>Nigeria</td>\n",
       "      <td>0</td>\n",
       "    </tr>\n",
       "    <tr>\n",
       "      <th>82</th>\n",
       "      <td>Asia</td>\n",
       "      <td>Maldives</td>\n",
       "      <td>0</td>\n",
       "    </tr>\n",
       "    <tr>\n",
       "      <th>40</th>\n",
       "      <td>Africa</td>\n",
       "      <td>Sao Tome and Principe</td>\n",
       "      <td>0</td>\n",
       "    </tr>\n",
       "    <tr>\n",
       "      <th>41</th>\n",
       "      <td>Africa</td>\n",
       "      <td>Senegal</td>\n",
       "      <td>0</td>\n",
       "    </tr>\n",
       "  </tbody>\n",
       "</table>\n",
       "</div>"
      ],
      "text/plain": [
       "   Continent                country  homosexuality_score\n",
       "0     Africa                Algeria                    0\n",
       "30    Africa                 Malawi                    0\n",
       "32    Africa             Mauritania                    0\n",
       "88      Asia                  Qatar                    0\n",
       "34    Africa                Morocco                    0\n",
       "85      Asia                   Oman                    0\n",
       "38    Africa                Nigeria                    0\n",
       "82      Asia               Maldives                    0\n",
       "40    Africa  Sao Tome and Principe                    0\n",
       "41    Africa                Senegal                    0"
      ]
     },
     "execution_count": 19,
     "metadata": {},
     "output_type": "execute_result"
    }
   ],
   "source": [
    "data[['Continent','country','homosexuality_score']].sort_values(by = 'homosexuality_score', ascending = True).iloc[0:10]"
   ]
  },
  {
   "cell_type": "markdown",
   "metadata": {},
   "source": [
    "There is no basis to judge, but evidence is clear that people identifying with LGBT identity have different lives across the globe. Those living in Africa are likely not as open as say Europe where higher homosexuality is ubiquitdous. Australia scores 10. How about visualisations."
   ]
  },
  {
   "cell_type": "code",
   "execution_count": 25,
   "metadata": {},
   "outputs": [
    {
     "data": {
      "application/vnd.plotly.v1+json": {
       "config": {
        "plotlyServerURL": "https://plot.ly"
       },
       "data": [
        {
         "hovertemplate": "Continent=Africa<br>homosexuality_score=%{x}<br>country=%{y}<br>political_stability_2020=%{marker.size}<extra></extra>",
         "legendgroup": "Africa",
         "marker": {
          "color": "#636efa",
          "size": [
           2.14,
           2.48,
           2.56,
           4.09,
           2.2759183673469385,
           1.59,
           1.47,
           2.2759183673469385,
           0.8199999999999998,
           1.74,
           2.71,
           2.1,
           2.2759183673469385,
           2.6799999999999997,
           1.79,
           1.79,
           2.81,
           2.02,
           1.26,
           2.92,
           3.25,
           3.13,
           2.36,
           2.4,
           2.2759183673469385,
           2,
           2.67,
           2.63,
           0.52,
           2.54,
           2.76,
           0.8500000000000001,
           2.25,
           3.89,
           2.67,
           1.84,
           3.65,
           1.26,
           1.14,
           3.03,
           3.48,
           2.98,
           3.7199999999999998,
           2.76,
           0.48,
           2.76,
           0.8300000000000001,
           1.24,
           2.2759183673469385,
           2.2759183673469385,
           2.08,
           2.37,
           2.2199999999999998,
           2.87,
           1.92
          ],
          "sizemode": "area",
          "sizeref": 0.01155,
          "symbol": "circle"
         },
         "mode": "markers",
         "name": "Africa",
         "orientation": "h",
         "showlegend": true,
         "type": "scatter",
         "x": [
          0,
          3,
          1,
          3,
          0,
          0,
          0,
          3,
          1,
          0,
          0,
          0,
          0,
          1,
          0,
          0,
          1,
          0,
          0,
          1,
          0,
          1,
          0,
          1,
          1,
          1,
          1,
          0,
          0,
          1,
          0,
          1,
          0,
          3,
          0,
          3,
          2,
          1,
          0,
          1,
          0,
          0,
          3,
          1,
          0,
          10,
          0,
          0,
          0,
          0,
          0,
          0,
          0,
          0,
          1
         ],
         "xaxis": "x",
         "y": [
          "Algeria",
          "Angola",
          "Benin",
          "Botswana",
          "Burkina",
          "Burundi",
          "Cameroon",
          "Cape Verde",
          "Central African Republic",
          "Chad",
          "Comoros",
          "Congo",
          "Congo, Democratic Republic of",
          "Djibouti",
          "Egypt",
          "Egypt",
          "Equatorial Guinea",
          "Eritrea",
          "Ethiopia",
          "Gabon",
          "Gambia",
          "Ghana",
          "Guinea",
          "Guinea-Bissau",
          "Ivory Coast",
          "Kenya",
          "Lesotho",
          "Liberia",
          "Libya",
          "Madagascar",
          "Malawi",
          "Mali",
          "Mauritania",
          "Mauritius",
          "Morocco",
          "Mozambique",
          "Namibia",
          "Niger",
          "Nigeria",
          "Rwanda",
          "Sao Tome and Principe",
          "Senegal",
          "Seychelles",
          "Sierra Leone",
          "Somalia",
          "South Africa",
          "South Sudan",
          "Sudan",
          "Swaziland",
          "Tanzania",
          "Togo",
          "Tunisia",
          "Uganda",
          "Zambia",
          "Zimbabwe"
         ],
         "yaxis": "y"
        },
        {
         "hovertemplate": "Continent=Asia<br>homosexuality_score=%{x}<br>country=%{y}<br>political_stability_2020=%{marker.size}<extra></extra>",
         "legendgroup": "Asia",
         "marker": {
          "color": "#EF553B",
          "size": [
           0.27,
           2.41,
           2.08,
           4.02,
           2.61952380952381,
           2.61952380952381,
           2.76,
           3.09,
           2.61952380952381,
           2.14,
           2.5,
           2.61952380952381,
           0.4700000000000002,
           2.17,
           4.04,
           2.6799999999999997,
           2.74,
           2.74,
           2.74,
           2.74,
           2.6,
           3.56,
           3.24,
           2.5700000000000003,
           2.61952380952381,
           1.35,
           3.12,
           3.41,
           3.79,
           2.8,
           3.37,
           1.15,
           2.21,
           3.67,
           2.27,
           2.27,
           2.27,
           2.34,
           4.47,
           2.95,
           2.61952380952381,
           2.48,
           2.38,
           2.61952380952381,
           2.61952380952381,
           2.61952380952381,
           2.61952380952381,
           2.71,
           3.63,
           2.56,
           2.9299999999999997,
           0.33000000000000007
          ],
          "sizemode": "area",
          "sizeref": 0.01155,
          "symbol": "circle"
         },
         "mode": "markers",
         "name": "Asia",
         "orientation": "h",
         "showlegend": true,
         "type": "scatter",
         "x": [
          0,
          2,
          1,
          1,
          0,
          2,
          4,
          4,
          3,
          6,
          4,
          1,
          1,
          10,
          5,
          2,
          3,
          3,
          3,
          3,
          1,
          4,
          1,
          2,
          1,
          2,
          0,
          0,
          4,
          5,
          0,
          3,
          4,
          0,
          2,
          2,
          2,
          0,
          5,
          1,
          1,
          2,
          5,
          2,
          2,
          2,
          2,
          1,
          0,
          1,
          5,
          0
         ],
         "xaxis": "x",
         "y": [
          "Afghanistan",
          "Bahrain",
          "Bangladesh",
          "Bhutan",
          "Brunei",
          "Burma (Myanmar)",
          "Cambodia",
          "China",
          "East Timor",
          "India",
          "Indonesia",
          "Iran",
          "Iraq",
          "Israel",
          "Japan",
          "Jordan",
          "Kazakhstan",
          "Kazakhstan",
          "Kazakhstan",
          "Kazakhstan",
          "North Korea",
          "South Korea",
          "Kuwait",
          "Kyrgyzstan",
          "Laos",
          "Lebanon",
          "Malaysia",
          "Maldives",
          "Mongolia",
          "Nepal",
          "Oman",
          "Pakistan",
          "Philippines",
          "Qatar",
          "Russia",
          "Russia",
          "Russia",
          "Saudi Arabia",
          "Singapore",
          "Sri Lanka",
          "Syria",
          "Tajikistan",
          "Thailand",
          "Turkey",
          "Turkey",
          "Turkey",
          "Turkey",
          "Turkmenistan",
          "United Arab Emirates",
          "Uzbekistan",
          "Vietnam",
          "Yemen"
         ],
         "yaxis": "y"
        },
        {
         "hovertemplate": "Continent=Europe<br>homosexuality_score=%{x}<br>country=%{y}<br>political_stability_2020=%{marker.size}<extra></extra>",
         "legendgroup": "Europe",
         "marker": {
          "color": "#00cc96",
          "size": [
           3.08,
           4.62,
           2.43,
           2.43,
           2.43,
           2.43,
           3.85,
           2.27,
           2.27,
           2.27,
           2.27,
           2.27,
           3.59,
           2.49,
           3.4699999999999998,
           3.61,
           3.29,
           3.29,
           3.29,
           3.29,
           3.92,
           3.94,
           3.71,
           3.94,
           3.31,
           2.5700000000000003,
           2.5700000000000003,
           2.5700000000000003,
           2.5700000000000003,
           3.67,
           3.13,
           3.86,
           4.39,
           3.98,
           3.44,
           3.46,
           3.311132075471698,
           3.87,
           4.23,
           3.311132075471698,
           3.95,
           3.311132075471698,
           3.311132075471698,
           3,
           3.85,
           4.25,
           3.57,
           4.03,
           3.59,
           3.311132075471698,
           2.91,
           3.64,
           3.71,
           3.4,
           4.02,
           4.1899999999999995,
           1.84,
           3.4699999999999998,
           3.311132075471698
          ],
          "sizemode": "area",
          "sizeref": 0.01155,
          "symbol": "circle"
         },
         "mode": "markers",
         "name": "Europe",
         "orientation": "h",
         "showlegend": true,
         "type": "scatter",
         "x": [
          4,
          9,
          3,
          3,
          3,
          3,
          10,
          1,
          1,
          1,
          1,
          3,
          10,
          5,
          7,
          8,
          7,
          7,
          7,
          7,
          7,
          10,
          8,
          10,
          10,
          4,
          4,
          4,
          4,
          10,
          7,
          7,
          9,
          10,
          7,
          7,
          6,
          7,
          10,
          6,
          10,
          5,
          6,
          7,
          10,
          10,
          7,
          10,
          7,
          6,
          5,
          7,
          10,
          10,
          10,
          10,
          5,
          10,
          1
         ],
         "xaxis": "x",
         "y": [
          "Albania",
          "Andorra",
          "Armenia",
          "Armenia",
          "Armenia",
          "Armenia",
          "Austria",
          "Azerbaijan",
          "Azerbaijan",
          "Azerbaijan",
          "Azerbaijan",
          "Belarus",
          "Belgium",
          "Bosnia and Herzegovina",
          "Bulgaria",
          "Croatia",
          "Cyprus",
          "Cyprus",
          "Cyprus",
          "Cyprus",
          "Czech Republic",
          "Denmark",
          "Estonia",
          "Finland",
          "France",
          "Georgia",
          "Georgia",
          "Georgia",
          "Georgia",
          "Germany",
          "Greece",
          "Hungary",
          "Iceland",
          "Ireland",
          "Italy",
          "Latvia",
          "Liechtenstein",
          "Lithuania",
          "Luxembourg",
          "Macedonia",
          "Malta",
          "Moldova",
          "Monaco",
          "Montenegro",
          "Netherlands",
          "Norway",
          "Poland",
          "Portugal",
          "Romania",
          "San Marino",
          "Serbia",
          "Slovakia",
          "Slovenia",
          "Spain",
          "Sweden",
          "Switzerland",
          "Ukraine",
          "United Kingdom",
          "Vatican City"
         ],
         "yaxis": "y"
        },
        {
         "hovertemplate": "Continent=North America<br>homosexuality_score=%{x}<br>country=%{y}<br>political_stability_2020=%{marker.size}<extra></extra>",
         "legendgroup": "North America",
         "marker": {
          "color": "#ab63fa",
          "size": [
           3.93,
           3.85,
           4.13,
           3.51,
           4.11,
           3.76,
           3.6,
           4.35,
           3.17,
           2.98,
           4.03,
           2.5700000000000003,
           1.96,
           2.46,
           3.27,
           2.15,
           2.35,
           3.23,
           3.93,
           3.87,
           4.03,
           3.18,
           2.98
          ],
          "sizemode": "area",
          "sizeref": 0.01155,
          "symbol": "circle"
         },
         "mode": "markers",
         "name": "North America",
         "orientation": "h",
         "showlegend": true,
         "type": "scatter",
         "x": [
          1,
          2,
          4,
          3,
          10,
          9,
          5,
          0,
          1,
          4,
          1,
          3,
          1,
          3,
          1,
          9,
          3,
          4,
          1,
          3,
          0,
          1,
          10
         ],
         "xaxis": "x",
         "y": [
          "Antigua and Barbuda",
          "Bahamas",
          "Barbados",
          "Belize",
          "Canada",
          "Costa Rica",
          "Cuba",
          "Dominica",
          "Dominican Republic",
          "El Salvador",
          "Grenada",
          "Guatemala",
          "Haiti",
          "Honduras",
          "Jamaica",
          "Mexico",
          "Nicaragua",
          "Panama",
          "Saint Kitts and Nevis",
          "Saint Lucia",
          "Saint Vincent and the Grenadines",
          "Trinidad and Tobago",
          "United States"
         ],
         "yaxis": "y"
        },
        {
         "hovertemplate": "Continent=Oceania<br>homosexuality_score=%{x}<br>country=%{y}<br>political_stability_2020=%{marker.size}<extra></extra>",
         "legendgroup": "Oceania",
         "marker": {
          "color": "#FFA15A",
          "size": [
           3.85,
           3.75,
           4.08,
           3.59,
           3.8269230769230766,
           3.8269230769230766,
           3.94,
           4.49,
           3.89,
           2.26,
           4.16,
           3.64,
           4.02,
           4.18,
           3.9
          ],
          "sizemode": "area",
          "sizeref": 0.01155,
          "symbol": "circle"
         },
         "mode": "markers",
         "name": "Oceania",
         "orientation": "h",
         "showlegend": true,
         "type": "scatter",
         "x": [
          10,
          3,
          3,
          3,
          3,
          3,
          1,
          10,
          1,
          1,
          3,
          0,
          1,
          3,
          3
         ],
         "xaxis": "x",
         "y": [
          "Australia",
          "Fiji",
          "Kiribati",
          "Marshall Islands",
          "Micronesia",
          "Micronesia",
          "Nauru",
          "New Zealand",
          "Palau",
          "Papua New Guinea",
          "Samoa",
          "Solomon Islands",
          "Tonga",
          "Tuvalu",
          "Vanuatu"
         ],
         "yaxis": "y"
        },
        {
         "hovertemplate": "Continent=South America<br>homosexuality_score=%{x}<br>country=%{y}<br>political_stability_2020=%{marker.size}<extra></extra>",
         "legendgroup": "South America",
         "marker": {
          "color": "#19d3f3",
          "size": [
           3.04,
           2.971,
           2.58,
           3.07,
           2.33,
           2.64,
           2.85,
           3.02,
           2.71,
           3.42,
           4.05,
           2.971
          ],
          "sizemode": "area",
          "sizeref": 0.01155,
          "symbol": "circle"
         },
         "mode": "markers",
         "name": "South America",
         "orientation": "h",
         "showlegend": true,
         "type": "scatter",
         "x": [
          10,
          5,
          10,
          10,
          10,
          8,
          1,
          2,
          5,
          3,
          10,
          3
         ],
         "xaxis": "x",
         "y": [
          "Argentina",
          "Bolivia",
          "Brazil",
          "Chile",
          "Colombia",
          "Ecuador",
          "Guyana",
          "Paraguay",
          "Peru",
          "Suriname",
          "Uruguay",
          "Venezuela"
         ],
         "yaxis": "y"
        }
       ],
       "layout": {
        "legend": {
         "itemsizing": "constant",
         "title": {
          "text": "Continent"
         },
         "tracegroupgap": 0
        },
        "margin": {
         "t": 60
        },
        "template": {
         "data": {
          "bar": [
           {
            "error_x": {
             "color": "#2a3f5f"
            },
            "error_y": {
             "color": "#2a3f5f"
            },
            "marker": {
             "line": {
              "color": "#E5ECF6",
              "width": 0.5
             },
             "pattern": {
              "fillmode": "overlay",
              "size": 10,
              "solidity": 0.2
             }
            },
            "type": "bar"
           }
          ],
          "barpolar": [
           {
            "marker": {
             "line": {
              "color": "#E5ECF6",
              "width": 0.5
             },
             "pattern": {
              "fillmode": "overlay",
              "size": 10,
              "solidity": 0.2
             }
            },
            "type": "barpolar"
           }
          ],
          "carpet": [
           {
            "aaxis": {
             "endlinecolor": "#2a3f5f",
             "gridcolor": "white",
             "linecolor": "white",
             "minorgridcolor": "white",
             "startlinecolor": "#2a3f5f"
            },
            "baxis": {
             "endlinecolor": "#2a3f5f",
             "gridcolor": "white",
             "linecolor": "white",
             "minorgridcolor": "white",
             "startlinecolor": "#2a3f5f"
            },
            "type": "carpet"
           }
          ],
          "choropleth": [
           {
            "colorbar": {
             "outlinewidth": 0,
             "ticks": ""
            },
            "type": "choropleth"
           }
          ],
          "contour": [
           {
            "colorbar": {
             "outlinewidth": 0,
             "ticks": ""
            },
            "colorscale": [
             [
              0,
              "#0d0887"
             ],
             [
              0.1111111111111111,
              "#46039f"
             ],
             [
              0.2222222222222222,
              "#7201a8"
             ],
             [
              0.3333333333333333,
              "#9c179e"
             ],
             [
              0.4444444444444444,
              "#bd3786"
             ],
             [
              0.5555555555555556,
              "#d8576b"
             ],
             [
              0.6666666666666666,
              "#ed7953"
             ],
             [
              0.7777777777777778,
              "#fb9f3a"
             ],
             [
              0.8888888888888888,
              "#fdca26"
             ],
             [
              1,
              "#f0f921"
             ]
            ],
            "type": "contour"
           }
          ],
          "contourcarpet": [
           {
            "colorbar": {
             "outlinewidth": 0,
             "ticks": ""
            },
            "type": "contourcarpet"
           }
          ],
          "heatmap": [
           {
            "colorbar": {
             "outlinewidth": 0,
             "ticks": ""
            },
            "colorscale": [
             [
              0,
              "#0d0887"
             ],
             [
              0.1111111111111111,
              "#46039f"
             ],
             [
              0.2222222222222222,
              "#7201a8"
             ],
             [
              0.3333333333333333,
              "#9c179e"
             ],
             [
              0.4444444444444444,
              "#bd3786"
             ],
             [
              0.5555555555555556,
              "#d8576b"
             ],
             [
              0.6666666666666666,
              "#ed7953"
             ],
             [
              0.7777777777777778,
              "#fb9f3a"
             ],
             [
              0.8888888888888888,
              "#fdca26"
             ],
             [
              1,
              "#f0f921"
             ]
            ],
            "type": "heatmap"
           }
          ],
          "heatmapgl": [
           {
            "colorbar": {
             "outlinewidth": 0,
             "ticks": ""
            },
            "colorscale": [
             [
              0,
              "#0d0887"
             ],
             [
              0.1111111111111111,
              "#46039f"
             ],
             [
              0.2222222222222222,
              "#7201a8"
             ],
             [
              0.3333333333333333,
              "#9c179e"
             ],
             [
              0.4444444444444444,
              "#bd3786"
             ],
             [
              0.5555555555555556,
              "#d8576b"
             ],
             [
              0.6666666666666666,
              "#ed7953"
             ],
             [
              0.7777777777777778,
              "#fb9f3a"
             ],
             [
              0.8888888888888888,
              "#fdca26"
             ],
             [
              1,
              "#f0f921"
             ]
            ],
            "type": "heatmapgl"
           }
          ],
          "histogram": [
           {
            "marker": {
             "pattern": {
              "fillmode": "overlay",
              "size": 10,
              "solidity": 0.2
             }
            },
            "type": "histogram"
           }
          ],
          "histogram2d": [
           {
            "colorbar": {
             "outlinewidth": 0,
             "ticks": ""
            },
            "colorscale": [
             [
              0,
              "#0d0887"
             ],
             [
              0.1111111111111111,
              "#46039f"
             ],
             [
              0.2222222222222222,
              "#7201a8"
             ],
             [
              0.3333333333333333,
              "#9c179e"
             ],
             [
              0.4444444444444444,
              "#bd3786"
             ],
             [
              0.5555555555555556,
              "#d8576b"
             ],
             [
              0.6666666666666666,
              "#ed7953"
             ],
             [
              0.7777777777777778,
              "#fb9f3a"
             ],
             [
              0.8888888888888888,
              "#fdca26"
             ],
             [
              1,
              "#f0f921"
             ]
            ],
            "type": "histogram2d"
           }
          ],
          "histogram2dcontour": [
           {
            "colorbar": {
             "outlinewidth": 0,
             "ticks": ""
            },
            "colorscale": [
             [
              0,
              "#0d0887"
             ],
             [
              0.1111111111111111,
              "#46039f"
             ],
             [
              0.2222222222222222,
              "#7201a8"
             ],
             [
              0.3333333333333333,
              "#9c179e"
             ],
             [
              0.4444444444444444,
              "#bd3786"
             ],
             [
              0.5555555555555556,
              "#d8576b"
             ],
             [
              0.6666666666666666,
              "#ed7953"
             ],
             [
              0.7777777777777778,
              "#fb9f3a"
             ],
             [
              0.8888888888888888,
              "#fdca26"
             ],
             [
              1,
              "#f0f921"
             ]
            ],
            "type": "histogram2dcontour"
           }
          ],
          "mesh3d": [
           {
            "colorbar": {
             "outlinewidth": 0,
             "ticks": ""
            },
            "type": "mesh3d"
           }
          ],
          "parcoords": [
           {
            "line": {
             "colorbar": {
              "outlinewidth": 0,
              "ticks": ""
             }
            },
            "type": "parcoords"
           }
          ],
          "pie": [
           {
            "automargin": true,
            "type": "pie"
           }
          ],
          "scatter": [
           {
            "fillpattern": {
             "fillmode": "overlay",
             "size": 10,
             "solidity": 0.2
            },
            "type": "scatter"
           }
          ],
          "scatter3d": [
           {
            "line": {
             "colorbar": {
              "outlinewidth": 0,
              "ticks": ""
             }
            },
            "marker": {
             "colorbar": {
              "outlinewidth": 0,
              "ticks": ""
             }
            },
            "type": "scatter3d"
           }
          ],
          "scattercarpet": [
           {
            "marker": {
             "colorbar": {
              "outlinewidth": 0,
              "ticks": ""
             }
            },
            "type": "scattercarpet"
           }
          ],
          "scattergeo": [
           {
            "marker": {
             "colorbar": {
              "outlinewidth": 0,
              "ticks": ""
             }
            },
            "type": "scattergeo"
           }
          ],
          "scattergl": [
           {
            "marker": {
             "colorbar": {
              "outlinewidth": 0,
              "ticks": ""
             }
            },
            "type": "scattergl"
           }
          ],
          "scattermapbox": [
           {
            "marker": {
             "colorbar": {
              "outlinewidth": 0,
              "ticks": ""
             }
            },
            "type": "scattermapbox"
           }
          ],
          "scatterpolar": [
           {
            "marker": {
             "colorbar": {
              "outlinewidth": 0,
              "ticks": ""
             }
            },
            "type": "scatterpolar"
           }
          ],
          "scatterpolargl": [
           {
            "marker": {
             "colorbar": {
              "outlinewidth": 0,
              "ticks": ""
             }
            },
            "type": "scatterpolargl"
           }
          ],
          "scatterternary": [
           {
            "marker": {
             "colorbar": {
              "outlinewidth": 0,
              "ticks": ""
             }
            },
            "type": "scatterternary"
           }
          ],
          "surface": [
           {
            "colorbar": {
             "outlinewidth": 0,
             "ticks": ""
            },
            "colorscale": [
             [
              0,
              "#0d0887"
             ],
             [
              0.1111111111111111,
              "#46039f"
             ],
             [
              0.2222222222222222,
              "#7201a8"
             ],
             [
              0.3333333333333333,
              "#9c179e"
             ],
             [
              0.4444444444444444,
              "#bd3786"
             ],
             [
              0.5555555555555556,
              "#d8576b"
             ],
             [
              0.6666666666666666,
              "#ed7953"
             ],
             [
              0.7777777777777778,
              "#fb9f3a"
             ],
             [
              0.8888888888888888,
              "#fdca26"
             ],
             [
              1,
              "#f0f921"
             ]
            ],
            "type": "surface"
           }
          ],
          "table": [
           {
            "cells": {
             "fill": {
              "color": "#EBF0F8"
             },
             "line": {
              "color": "white"
             }
            },
            "header": {
             "fill": {
              "color": "#C8D4E3"
             },
             "line": {
              "color": "white"
             }
            },
            "type": "table"
           }
          ]
         },
         "layout": {
          "annotationdefaults": {
           "arrowcolor": "#2a3f5f",
           "arrowhead": 0,
           "arrowwidth": 1
          },
          "autotypenumbers": "strict",
          "coloraxis": {
           "colorbar": {
            "outlinewidth": 0,
            "ticks": ""
           }
          },
          "colorscale": {
           "diverging": [
            [
             0,
             "#8e0152"
            ],
            [
             0.1,
             "#c51b7d"
            ],
            [
             0.2,
             "#de77ae"
            ],
            [
             0.3,
             "#f1b6da"
            ],
            [
             0.4,
             "#fde0ef"
            ],
            [
             0.5,
             "#f7f7f7"
            ],
            [
             0.6,
             "#e6f5d0"
            ],
            [
             0.7,
             "#b8e186"
            ],
            [
             0.8,
             "#7fbc41"
            ],
            [
             0.9,
             "#4d9221"
            ],
            [
             1,
             "#276419"
            ]
           ],
           "sequential": [
            [
             0,
             "#0d0887"
            ],
            [
             0.1111111111111111,
             "#46039f"
            ],
            [
             0.2222222222222222,
             "#7201a8"
            ],
            [
             0.3333333333333333,
             "#9c179e"
            ],
            [
             0.4444444444444444,
             "#bd3786"
            ],
            [
             0.5555555555555556,
             "#d8576b"
            ],
            [
             0.6666666666666666,
             "#ed7953"
            ],
            [
             0.7777777777777778,
             "#fb9f3a"
            ],
            [
             0.8888888888888888,
             "#fdca26"
            ],
            [
             1,
             "#f0f921"
            ]
           ],
           "sequentialminus": [
            [
             0,
             "#0d0887"
            ],
            [
             0.1111111111111111,
             "#46039f"
            ],
            [
             0.2222222222222222,
             "#7201a8"
            ],
            [
             0.3333333333333333,
             "#9c179e"
            ],
            [
             0.4444444444444444,
             "#bd3786"
            ],
            [
             0.5555555555555556,
             "#d8576b"
            ],
            [
             0.6666666666666666,
             "#ed7953"
            ],
            [
             0.7777777777777778,
             "#fb9f3a"
            ],
            [
             0.8888888888888888,
             "#fdca26"
            ],
            [
             1,
             "#f0f921"
            ]
           ]
          },
          "colorway": [
           "#636efa",
           "#EF553B",
           "#00cc96",
           "#ab63fa",
           "#FFA15A",
           "#19d3f3",
           "#FF6692",
           "#B6E880",
           "#FF97FF",
           "#FECB52"
          ],
          "font": {
           "color": "#2a3f5f"
          },
          "geo": {
           "bgcolor": "white",
           "lakecolor": "white",
           "landcolor": "#E5ECF6",
           "showlakes": true,
           "showland": true,
           "subunitcolor": "white"
          },
          "hoverlabel": {
           "align": "left"
          },
          "hovermode": "closest",
          "mapbox": {
           "style": "light"
          },
          "paper_bgcolor": "white",
          "plot_bgcolor": "#E5ECF6",
          "polar": {
           "angularaxis": {
            "gridcolor": "white",
            "linecolor": "white",
            "ticks": ""
           },
           "bgcolor": "#E5ECF6",
           "radialaxis": {
            "gridcolor": "white",
            "linecolor": "white",
            "ticks": ""
           }
          },
          "scene": {
           "xaxis": {
            "backgroundcolor": "#E5ECF6",
            "gridcolor": "white",
            "gridwidth": 2,
            "linecolor": "white",
            "showbackground": true,
            "ticks": "",
            "zerolinecolor": "white"
           },
           "yaxis": {
            "backgroundcolor": "#E5ECF6",
            "gridcolor": "white",
            "gridwidth": 2,
            "linecolor": "white",
            "showbackground": true,
            "ticks": "",
            "zerolinecolor": "white"
           },
           "zaxis": {
            "backgroundcolor": "#E5ECF6",
            "gridcolor": "white",
            "gridwidth": 2,
            "linecolor": "white",
            "showbackground": true,
            "ticks": "",
            "zerolinecolor": "white"
           }
          },
          "shapedefaults": {
           "line": {
            "color": "#2a3f5f"
           }
          },
          "ternary": {
           "aaxis": {
            "gridcolor": "white",
            "linecolor": "white",
            "ticks": ""
           },
           "baxis": {
            "gridcolor": "white",
            "linecolor": "white",
            "ticks": ""
           },
           "bgcolor": "#E5ECF6",
           "caxis": {
            "gridcolor": "white",
            "linecolor": "white",
            "ticks": ""
           }
          },
          "title": {
           "x": 0.05
          },
          "xaxis": {
           "automargin": true,
           "gridcolor": "white",
           "linecolor": "white",
           "ticks": "",
           "title": {
            "standoff": 15
           },
           "zerolinecolor": "white",
           "zerolinewidth": 2
          },
          "yaxis": {
           "automargin": true,
           "gridcolor": "white",
           "linecolor": "white",
           "ticks": "",
           "title": {
            "standoff": 15
           },
           "zerolinecolor": "white",
           "zerolinewidth": 2
          }
         }
        },
        "xaxis": {
         "anchor": "y",
         "domain": [
          0,
          1
         ],
         "title": {
          "text": "homosexuality_score"
         }
        },
        "yaxis": {
         "anchor": "x",
         "domain": [
          0,
          1
         ],
         "title": {
          "text": "country"
         }
        }
       }
      }
     },
     "metadata": {},
     "output_type": "display_data"
    }
   ],
   "source": [
    "fig = px.scatter(data, x=\"homosexuality_score\", y=\"country\", color=\"Continent\",\n",
    "                 size='political_stability_2020', hover_data=['homosexuality_score'])\n",
    "fig.show()\n"
   ]
  },
  {
   "cell_type": "markdown",
   "metadata": {},
   "source": [
    "Already there appears to show some hint of clustering in the data. However, not massive, there is a clear distinctive, for example, between the countires in Europe and Asia. They population around certain areas in the scale, and therefore, a countries within that area could be, in theory, be identify. Yet, there is clear overlap, as our table above already show. North America and Oceania are nearly identify. \n",
    "\n",
    "One thing I found interesting was the low score for North America. I think many people including myself think of NA as the United States and Canada who are universally progressive. Yet it is not. Countries such as Dominca and the Bahamas are included as well. For this reason, the score may seem different from expectation, at least at my end.\n",
    "\n",
    "It is also interesting to look the outliers for the data. For example, overperforming coutry in Isreal for Asia, and South Africa for Africa. The best performing for North America is the US, and for Oceania is Australia and New Zealand."
   ]
  },
  {
   "cell_type": "code",
   "execution_count": 24,
   "metadata": {},
   "outputs": [
    {
     "data": {
      "application/vnd.plotly.v1+json": {
       "config": {
        "plotlyServerURL": "https://plot.ly"
       },
       "data": [
        {
         "hovertemplate": "Continent=Africa<br>crimeIndex=%{x}<br>country=%{y}<br>political_stability_2020=%{marker.size}<extra></extra>",
         "legendgroup": "Africa",
         "marker": {
          "color": "#636efa",
          "size": [
           2.14,
           2.48,
           2.56,
           4.09,
           2.2759183673469385,
           1.59,
           1.47,
           2.2759183673469385,
           0.8199999999999998,
           1.74,
           2.71,
           2.1,
           2.2759183673469385,
           2.6799999999999997,
           1.79,
           1.79,
           2.81,
           2.02,
           1.26,
           2.92,
           3.25,
           3.13,
           2.36,
           2.4,
           2.2759183673469385,
           2,
           2.67,
           2.63,
           0.52,
           2.54,
           2.76,
           0.8500000000000001,
           2.25,
           3.89,
           2.67,
           1.84,
           3.65,
           1.26,
           1.14,
           3.03,
           3.48,
           2.98,
           3.7199999999999998,
           2.76,
           0.48,
           2.76,
           0.8300000000000001,
           1.24,
           2.2759183673469385,
           2.2759183673469385,
           2.08,
           2.37,
           2.2199999999999998,
           2.87,
           1.92
          ],
          "sizemode": "area",
          "sizeref": 0.01155,
          "symbol": "circle"
         },
         "mode": "markers",
         "name": "Africa",
         "orientation": "h",
         "showlegend": true,
         "type": "scatter",
         "x": [
          52.03,
          66.48,
          53.97409090909091,
          52.98,
          53.97409090909091,
          53.97409090909091,
          65.24,
          53.97409090909091,
          53.97409090909091,
          53.97409090909091,
          53.97409090909091,
          53.97409090909091,
          53.97409090909091,
          53.97409090909091,
          46.83,
          46.83,
          53.97409090909091,
          53.97409090909091,
          49.3,
          53.97409090909091,
          53.97409090909091,
          46.98,
          53.97409090909091,
          53.97409090909091,
          53.97409090909091,
          60.14,
          53.97409090909091,
          53.97409090909091,
          61.78,
          53.97409090909091,
          53.97409090909091,
          53.97409090909091,
          53.97409090909091,
          48.88,
          48.66,
          53.97409090909091,
          65.21,
          53.97409090909091,
          64.06,
          24.89,
          53.97409090909091,
          53.97409090909091,
          53.97409090909091,
          53.97409090909091,
          56.04,
          76.86,
          53.97409090909091,
          42.34,
          53.97409090909091,
          56,
          53.97409090909091,
          43.69,
          56.12,
          43.62,
          59.3
         ],
         "xaxis": "x",
         "y": [
          "Algeria",
          "Angola",
          "Benin",
          "Botswana",
          "Burkina",
          "Burundi",
          "Cameroon",
          "Cape Verde",
          "Central African Republic",
          "Chad",
          "Comoros",
          "Congo",
          "Congo, Democratic Republic of",
          "Djibouti",
          "Egypt",
          "Egypt",
          "Equatorial Guinea",
          "Eritrea",
          "Ethiopia",
          "Gabon",
          "Gambia",
          "Ghana",
          "Guinea",
          "Guinea-Bissau",
          "Ivory Coast",
          "Kenya",
          "Lesotho",
          "Liberia",
          "Libya",
          "Madagascar",
          "Malawi",
          "Mali",
          "Mauritania",
          "Mauritius",
          "Morocco",
          "Mozambique",
          "Namibia",
          "Niger",
          "Nigeria",
          "Rwanda",
          "Sao Tome and Principe",
          "Senegal",
          "Seychelles",
          "Sierra Leone",
          "Somalia",
          "South Africa",
          "South Sudan",
          "Sudan",
          "Swaziland",
          "Tanzania",
          "Togo",
          "Tunisia",
          "Uganda",
          "Zambia",
          "Zimbabwe"
         ],
         "yaxis": "y"
        },
        {
         "hovertemplate": "Continent=Asia<br>crimeIndex=%{x}<br>country=%{y}<br>political_stability_2020=%{marker.size}<extra></extra>",
         "legendgroup": "Asia",
         "marker": {
          "color": "#EF553B",
          "size": [
           0.27,
           2.41,
           2.08,
           4.02,
           2.61952380952381,
           2.61952380952381,
           2.76,
           3.09,
           2.61952380952381,
           2.14,
           2.5,
           2.61952380952381,
           0.4700000000000002,
           2.17,
           4.04,
           2.6799999999999997,
           2.74,
           2.74,
           2.74,
           2.74,
           2.6,
           3.56,
           3.24,
           2.5700000000000003,
           2.61952380952381,
           1.35,
           3.12,
           3.41,
           3.79,
           2.8,
           3.37,
           1.15,
           2.21,
           3.67,
           2.27,
           2.27,
           2.27,
           2.34,
           4.47,
           2.95,
           2.61952380952381,
           2.48,
           2.38,
           2.61952380952381,
           2.61952380952381,
           2.61952380952381,
           2.61952380952381,
           2.71,
           3.63,
           2.56,
           2.9299999999999997,
           0.33000000000000007
          ],
          "sizemode": "area",
          "sizeref": 0.01155,
          "symbol": "circle"
         },
         "mode": "markers",
         "name": "Asia",
         "orientation": "h",
         "showlegend": true,
         "type": "scatter",
         "x": [
          76.31,
          25.64,
          63.9,
          40.91833333333333,
          29,
          40.91833333333333,
          51.13,
          30.14,
          40.91833333333333,
          44.43,
          45.93,
          49.38,
          48.42,
          31.47,
          22.19,
          39.96,
          53.77,
          53.77,
          53.77,
          53.77,
          40.91833333333333,
          26.68,
          33.42,
          56.87,
          40.91833333333333,
          46.77,
          57.29,
          55.34,
          56.01,
          36.01,
          20.34,
          42.51,
          42.46,
          12.13,
          39.99,
          39.99,
          39.99,
          25.23,
          27.96,
          41.39,
          67.18,
          40.91833333333333,
          39.35,
          39.62,
          39.62,
          39.62,
          39.62,
          40.91833333333333,
          15.23,
          33.42,
          46.19,
          40.91833333333333
         ],
         "xaxis": "x",
         "y": [
          "Afghanistan",
          "Bahrain",
          "Bangladesh",
          "Bhutan",
          "Brunei",
          "Burma (Myanmar)",
          "Cambodia",
          "China",
          "East Timor",
          "India",
          "Indonesia",
          "Iran",
          "Iraq",
          "Israel",
          "Japan",
          "Jordan",
          "Kazakhstan",
          "Kazakhstan",
          "Kazakhstan",
          "Kazakhstan",
          "North Korea",
          "South Korea",
          "Kuwait",
          "Kyrgyzstan",
          "Laos",
          "Lebanon",
          "Malaysia",
          "Maldives",
          "Mongolia",
          "Nepal",
          "Oman",
          "Pakistan",
          "Philippines",
          "Qatar",
          "Russia",
          "Russia",
          "Russia",
          "Saudi Arabia",
          "Singapore",
          "Sri Lanka",
          "Syria",
          "Tajikistan",
          "Thailand",
          "Turkey",
          "Turkey",
          "Turkey",
          "Turkey",
          "Turkmenistan",
          "United Arab Emirates",
          "Uzbekistan",
          "Vietnam",
          "Yemen"
         ],
         "yaxis": "y"
        },
        {
         "hovertemplate": "Continent=Europe<br>crimeIndex=%{x}<br>country=%{y}<br>political_stability_2020=%{marker.size}<extra></extra>",
         "legendgroup": "Europe",
         "marker": {
          "color": "#00cc96",
          "size": [
           3.08,
           4.62,
           2.43,
           2.43,
           2.43,
           2.43,
           3.85,
           2.27,
           2.27,
           2.27,
           2.27,
           2.27,
           3.59,
           2.49,
           3.4699999999999998,
           3.61,
           3.29,
           3.29,
           3.29,
           3.29,
           3.92,
           3.94,
           3.71,
           3.94,
           3.31,
           2.5700000000000003,
           2.5700000000000003,
           2.5700000000000003,
           2.5700000000000003,
           3.67,
           3.13,
           3.86,
           4.39,
           3.98,
           3.44,
           3.46,
           3.311132075471698,
           3.87,
           4.23,
           3.311132075471698,
           3.95,
           3.311132075471698,
           3.311132075471698,
           3,
           3.85,
           4.25,
           3.57,
           4.03,
           3.59,
           3.311132075471698,
           2.91,
           3.64,
           3.71,
           3.4,
           4.02,
           4.1899999999999995,
           1.84,
           3.4699999999999998,
           3.311132075471698
          ],
          "sizemode": "area",
          "sizeref": 0.01155,
          "symbol": "circle"
         },
         "mode": "markers",
         "name": "Europe",
         "orientation": "h",
         "showlegend": true,
         "type": "scatter",
         "x": [
          42.53,
          35.21073170731707,
          22.79,
          22.79,
          22.79,
          22.79,
          25.54,
          32.02,
          32.02,
          32.02,
          32.02,
          59.58,
          44.58,
          42.99,
          38.21,
          24.59,
          31.28,
          31.28,
          31.28,
          31.28,
          25.52,
          26.22,
          23.71,
          27.59,
          51.99,
          23.38,
          23.38,
          23.38,
          23.38,
          35.79,
          45.85,
          34.36,
          23.75,
          45.51,
          44.85,
          38.77,
          35.21073170731707,
          33.42,
          34.13,
          35.21073170731707,
          40.39,
          46.35,
          35.21073170731707,
          41.18,
          27.16,
          33.72,
          30.5,
          29.91,
          28.3,
          35.21073170731707,
          38.1,
          30.37,
          22.28,
          33.32,
          48,
          21.62,
          47.42,
          46.07,
          35.21073170731707
         ],
         "xaxis": "x",
         "y": [
          "Albania",
          "Andorra",
          "Armenia",
          "Armenia",
          "Armenia",
          "Armenia",
          "Austria",
          "Azerbaijan",
          "Azerbaijan",
          "Azerbaijan",
          "Azerbaijan",
          "Belarus",
          "Belgium",
          "Bosnia and Herzegovina",
          "Bulgaria",
          "Croatia",
          "Cyprus",
          "Cyprus",
          "Cyprus",
          "Cyprus",
          "Czech Republic",
          "Denmark",
          "Estonia",
          "Finland",
          "France",
          "Georgia",
          "Georgia",
          "Georgia",
          "Georgia",
          "Germany",
          "Greece",
          "Hungary",
          "Iceland",
          "Ireland",
          "Italy",
          "Latvia",
          "Liechtenstein",
          "Lithuania",
          "Luxembourg",
          "Macedonia",
          "Malta",
          "Moldova",
          "Monaco",
          "Montenegro",
          "Netherlands",
          "Norway",
          "Poland",
          "Portugal",
          "Romania",
          "San Marino",
          "Serbia",
          "Slovakia",
          "Slovenia",
          "Spain",
          "Sweden",
          "Switzerland",
          "Ukraine",
          "United Kingdom",
          "Vatican City"
         ],
         "yaxis": "y"
        },
        {
         "hovertemplate": "Continent=North America<br>crimeIndex=%{x}<br>country=%{y}<br>political_stability_2020=%{marker.size}<extra></extra>",
         "legendgroup": "North America",
         "marker": {
          "color": "#ab63fa",
          "size": [
           3.93,
           3.85,
           4.13,
           3.51,
           4.11,
           3.76,
           3.6,
           4.35,
           3.17,
           2.98,
           4.03,
           2.5700000000000003,
           1.96,
           2.46,
           3.27,
           2.15,
           2.35,
           3.23,
           3.93,
           3.87,
           4.03,
           3.18,
           2.98
          ],
          "sizemode": "area",
          "sizeref": 0.01155,
          "symbol": "circle"
         },
         "mode": "markers",
         "name": "North America",
         "orientation": "h",
         "showlegend": true,
         "type": "scatter",
         "x": [
          55.53333333333333,
          62.06,
          55.53333333333333,
          50.39,
          41.89,
          54.22,
          28.33,
          55.53333333333333,
          61.02,
          67.79,
          55.53333333333333,
          58.67,
          55.53333333333333,
          74.54,
          67.42,
          54.19,
          47.89,
          45.15,
          55.53333333333333,
          55.53333333333333,
          55.53333333333333,
          71.63,
          47.81
         ],
         "xaxis": "x",
         "y": [
          "Antigua and Barbuda",
          "Bahamas",
          "Barbados",
          "Belize",
          "Canada",
          "Costa Rica",
          "Cuba",
          "Dominica",
          "Dominican Republic",
          "El Salvador",
          "Grenada",
          "Guatemala",
          "Haiti",
          "Honduras",
          "Jamaica",
          "Mexico",
          "Nicaragua",
          "Panama",
          "Saint Kitts and Nevis",
          "Saint Lucia",
          "Saint Vincent and the Grenadines",
          "Trinidad and Tobago",
          "United States"
         ],
         "yaxis": "y"
        },
        {
         "hovertemplate": "Continent=Oceania<br>crimeIndex=%{x}<br>country=%{y}<br>political_stability_2020=%{marker.size}<extra></extra>",
         "legendgroup": "Oceania",
         "marker": {
          "color": "#FFA15A",
          "size": [
           3.85,
           3.75,
           4.08,
           3.59,
           3.8269230769230766,
           3.8269230769230766,
           3.94,
           4.49,
           3.89,
           2.26,
           4.16,
           3.64,
           4.02,
           4.18,
           3.9
          ],
          "sizemode": "area",
          "sizeref": 0.01155,
          "symbol": "circle"
         },
         "mode": "markers",
         "name": "Oceania",
         "orientation": "h",
         "showlegend": true,
         "type": "scatter",
         "x": [
          43.03,
          57.62,
          56.08,
          56.08,
          56.08,
          56.08,
          56.08,
          42.88,
          56.08,
          80.79,
          56.08,
          56.08,
          56.08,
          56.08,
          56.08
         ],
         "xaxis": "x",
         "y": [
          "Australia",
          "Fiji",
          "Kiribati",
          "Marshall Islands",
          "Micronesia",
          "Micronesia",
          "Nauru",
          "New Zealand",
          "Palau",
          "Papua New Guinea",
          "Samoa",
          "Solomon Islands",
          "Tonga",
          "Tuvalu",
          "Vanuatu"
         ],
         "yaxis": "y"
        },
        {
         "hovertemplate": "Continent=South America<br>crimeIndex=%{x}<br>country=%{y}<br>political_stability_2020=%{marker.size}<extra></extra>",
         "legendgroup": "South America",
         "marker": {
          "color": "#19d3f3",
          "size": [
           3.04,
           2.971,
           2.58,
           3.07,
           2.33,
           2.64,
           2.85,
           3.02,
           2.71,
           3.42,
           4.05,
           2.971
          ],
          "sizemode": "area",
          "sizeref": 0.01155,
          "symbol": "circle"
         },
         "mode": "markers",
         "name": "South America",
         "orientation": "h",
         "showlegend": true,
         "type": "scatter",
         "x": [
          63.82,
          57.77,
          67.49,
          53.42,
          56.87,
          55.23,
          68.74,
          49.37,
          66.72,
          61.35636363636363,
          51.73,
          83.76
         ],
         "xaxis": "x",
         "y": [
          "Argentina",
          "Bolivia",
          "Brazil",
          "Chile",
          "Colombia",
          "Ecuador",
          "Guyana",
          "Paraguay",
          "Peru",
          "Suriname",
          "Uruguay",
          "Venezuela"
         ],
         "yaxis": "y"
        }
       ],
       "layout": {
        "legend": {
         "itemsizing": "constant",
         "title": {
          "text": "Continent"
         },
         "tracegroupgap": 0
        },
        "margin": {
         "t": 60
        },
        "template": {
         "data": {
          "bar": [
           {
            "error_x": {
             "color": "#2a3f5f"
            },
            "error_y": {
             "color": "#2a3f5f"
            },
            "marker": {
             "line": {
              "color": "#E5ECF6",
              "width": 0.5
             },
             "pattern": {
              "fillmode": "overlay",
              "size": 10,
              "solidity": 0.2
             }
            },
            "type": "bar"
           }
          ],
          "barpolar": [
           {
            "marker": {
             "line": {
              "color": "#E5ECF6",
              "width": 0.5
             },
             "pattern": {
              "fillmode": "overlay",
              "size": 10,
              "solidity": 0.2
             }
            },
            "type": "barpolar"
           }
          ],
          "carpet": [
           {
            "aaxis": {
             "endlinecolor": "#2a3f5f",
             "gridcolor": "white",
             "linecolor": "white",
             "minorgridcolor": "white",
             "startlinecolor": "#2a3f5f"
            },
            "baxis": {
             "endlinecolor": "#2a3f5f",
             "gridcolor": "white",
             "linecolor": "white",
             "minorgridcolor": "white",
             "startlinecolor": "#2a3f5f"
            },
            "type": "carpet"
           }
          ],
          "choropleth": [
           {
            "colorbar": {
             "outlinewidth": 0,
             "ticks": ""
            },
            "type": "choropleth"
           }
          ],
          "contour": [
           {
            "colorbar": {
             "outlinewidth": 0,
             "ticks": ""
            },
            "colorscale": [
             [
              0,
              "#0d0887"
             ],
             [
              0.1111111111111111,
              "#46039f"
             ],
             [
              0.2222222222222222,
              "#7201a8"
             ],
             [
              0.3333333333333333,
              "#9c179e"
             ],
             [
              0.4444444444444444,
              "#bd3786"
             ],
             [
              0.5555555555555556,
              "#d8576b"
             ],
             [
              0.6666666666666666,
              "#ed7953"
             ],
             [
              0.7777777777777778,
              "#fb9f3a"
             ],
             [
              0.8888888888888888,
              "#fdca26"
             ],
             [
              1,
              "#f0f921"
             ]
            ],
            "type": "contour"
           }
          ],
          "contourcarpet": [
           {
            "colorbar": {
             "outlinewidth": 0,
             "ticks": ""
            },
            "type": "contourcarpet"
           }
          ],
          "heatmap": [
           {
            "colorbar": {
             "outlinewidth": 0,
             "ticks": ""
            },
            "colorscale": [
             [
              0,
              "#0d0887"
             ],
             [
              0.1111111111111111,
              "#46039f"
             ],
             [
              0.2222222222222222,
              "#7201a8"
             ],
             [
              0.3333333333333333,
              "#9c179e"
             ],
             [
              0.4444444444444444,
              "#bd3786"
             ],
             [
              0.5555555555555556,
              "#d8576b"
             ],
             [
              0.6666666666666666,
              "#ed7953"
             ],
             [
              0.7777777777777778,
              "#fb9f3a"
             ],
             [
              0.8888888888888888,
              "#fdca26"
             ],
             [
              1,
              "#f0f921"
             ]
            ],
            "type": "heatmap"
           }
          ],
          "heatmapgl": [
           {
            "colorbar": {
             "outlinewidth": 0,
             "ticks": ""
            },
            "colorscale": [
             [
              0,
              "#0d0887"
             ],
             [
              0.1111111111111111,
              "#46039f"
             ],
             [
              0.2222222222222222,
              "#7201a8"
             ],
             [
              0.3333333333333333,
              "#9c179e"
             ],
             [
              0.4444444444444444,
              "#bd3786"
             ],
             [
              0.5555555555555556,
              "#d8576b"
             ],
             [
              0.6666666666666666,
              "#ed7953"
             ],
             [
              0.7777777777777778,
              "#fb9f3a"
             ],
             [
              0.8888888888888888,
              "#fdca26"
             ],
             [
              1,
              "#f0f921"
             ]
            ],
            "type": "heatmapgl"
           }
          ],
          "histogram": [
           {
            "marker": {
             "pattern": {
              "fillmode": "overlay",
              "size": 10,
              "solidity": 0.2
             }
            },
            "type": "histogram"
           }
          ],
          "histogram2d": [
           {
            "colorbar": {
             "outlinewidth": 0,
             "ticks": ""
            },
            "colorscale": [
             [
              0,
              "#0d0887"
             ],
             [
              0.1111111111111111,
              "#46039f"
             ],
             [
              0.2222222222222222,
              "#7201a8"
             ],
             [
              0.3333333333333333,
              "#9c179e"
             ],
             [
              0.4444444444444444,
              "#bd3786"
             ],
             [
              0.5555555555555556,
              "#d8576b"
             ],
             [
              0.6666666666666666,
              "#ed7953"
             ],
             [
              0.7777777777777778,
              "#fb9f3a"
             ],
             [
              0.8888888888888888,
              "#fdca26"
             ],
             [
              1,
              "#f0f921"
             ]
            ],
            "type": "histogram2d"
           }
          ],
          "histogram2dcontour": [
           {
            "colorbar": {
             "outlinewidth": 0,
             "ticks": ""
            },
            "colorscale": [
             [
              0,
              "#0d0887"
             ],
             [
              0.1111111111111111,
              "#46039f"
             ],
             [
              0.2222222222222222,
              "#7201a8"
             ],
             [
              0.3333333333333333,
              "#9c179e"
             ],
             [
              0.4444444444444444,
              "#bd3786"
             ],
             [
              0.5555555555555556,
              "#d8576b"
             ],
             [
              0.6666666666666666,
              "#ed7953"
             ],
             [
              0.7777777777777778,
              "#fb9f3a"
             ],
             [
              0.8888888888888888,
              "#fdca26"
             ],
             [
              1,
              "#f0f921"
             ]
            ],
            "type": "histogram2dcontour"
           }
          ],
          "mesh3d": [
           {
            "colorbar": {
             "outlinewidth": 0,
             "ticks": ""
            },
            "type": "mesh3d"
           }
          ],
          "parcoords": [
           {
            "line": {
             "colorbar": {
              "outlinewidth": 0,
              "ticks": ""
             }
            },
            "type": "parcoords"
           }
          ],
          "pie": [
           {
            "automargin": true,
            "type": "pie"
           }
          ],
          "scatter": [
           {
            "fillpattern": {
             "fillmode": "overlay",
             "size": 10,
             "solidity": 0.2
            },
            "type": "scatter"
           }
          ],
          "scatter3d": [
           {
            "line": {
             "colorbar": {
              "outlinewidth": 0,
              "ticks": ""
             }
            },
            "marker": {
             "colorbar": {
              "outlinewidth": 0,
              "ticks": ""
             }
            },
            "type": "scatter3d"
           }
          ],
          "scattercarpet": [
           {
            "marker": {
             "colorbar": {
              "outlinewidth": 0,
              "ticks": ""
             }
            },
            "type": "scattercarpet"
           }
          ],
          "scattergeo": [
           {
            "marker": {
             "colorbar": {
              "outlinewidth": 0,
              "ticks": ""
             }
            },
            "type": "scattergeo"
           }
          ],
          "scattergl": [
           {
            "marker": {
             "colorbar": {
              "outlinewidth": 0,
              "ticks": ""
             }
            },
            "type": "scattergl"
           }
          ],
          "scattermapbox": [
           {
            "marker": {
             "colorbar": {
              "outlinewidth": 0,
              "ticks": ""
             }
            },
            "type": "scattermapbox"
           }
          ],
          "scatterpolar": [
           {
            "marker": {
             "colorbar": {
              "outlinewidth": 0,
              "ticks": ""
             }
            },
            "type": "scatterpolar"
           }
          ],
          "scatterpolargl": [
           {
            "marker": {
             "colorbar": {
              "outlinewidth": 0,
              "ticks": ""
             }
            },
            "type": "scatterpolargl"
           }
          ],
          "scatterternary": [
           {
            "marker": {
             "colorbar": {
              "outlinewidth": 0,
              "ticks": ""
             }
            },
            "type": "scatterternary"
           }
          ],
          "surface": [
           {
            "colorbar": {
             "outlinewidth": 0,
             "ticks": ""
            },
            "colorscale": [
             [
              0,
              "#0d0887"
             ],
             [
              0.1111111111111111,
              "#46039f"
             ],
             [
              0.2222222222222222,
              "#7201a8"
             ],
             [
              0.3333333333333333,
              "#9c179e"
             ],
             [
              0.4444444444444444,
              "#bd3786"
             ],
             [
              0.5555555555555556,
              "#d8576b"
             ],
             [
              0.6666666666666666,
              "#ed7953"
             ],
             [
              0.7777777777777778,
              "#fb9f3a"
             ],
             [
              0.8888888888888888,
              "#fdca26"
             ],
             [
              1,
              "#f0f921"
             ]
            ],
            "type": "surface"
           }
          ],
          "table": [
           {
            "cells": {
             "fill": {
              "color": "#EBF0F8"
             },
             "line": {
              "color": "white"
             }
            },
            "header": {
             "fill": {
              "color": "#C8D4E3"
             },
             "line": {
              "color": "white"
             }
            },
            "type": "table"
           }
          ]
         },
         "layout": {
          "annotationdefaults": {
           "arrowcolor": "#2a3f5f",
           "arrowhead": 0,
           "arrowwidth": 1
          },
          "autotypenumbers": "strict",
          "coloraxis": {
           "colorbar": {
            "outlinewidth": 0,
            "ticks": ""
           }
          },
          "colorscale": {
           "diverging": [
            [
             0,
             "#8e0152"
            ],
            [
             0.1,
             "#c51b7d"
            ],
            [
             0.2,
             "#de77ae"
            ],
            [
             0.3,
             "#f1b6da"
            ],
            [
             0.4,
             "#fde0ef"
            ],
            [
             0.5,
             "#f7f7f7"
            ],
            [
             0.6,
             "#e6f5d0"
            ],
            [
             0.7,
             "#b8e186"
            ],
            [
             0.8,
             "#7fbc41"
            ],
            [
             0.9,
             "#4d9221"
            ],
            [
             1,
             "#276419"
            ]
           ],
           "sequential": [
            [
             0,
             "#0d0887"
            ],
            [
             0.1111111111111111,
             "#46039f"
            ],
            [
             0.2222222222222222,
             "#7201a8"
            ],
            [
             0.3333333333333333,
             "#9c179e"
            ],
            [
             0.4444444444444444,
             "#bd3786"
            ],
            [
             0.5555555555555556,
             "#d8576b"
            ],
            [
             0.6666666666666666,
             "#ed7953"
            ],
            [
             0.7777777777777778,
             "#fb9f3a"
            ],
            [
             0.8888888888888888,
             "#fdca26"
            ],
            [
             1,
             "#f0f921"
            ]
           ],
           "sequentialminus": [
            [
             0,
             "#0d0887"
            ],
            [
             0.1111111111111111,
             "#46039f"
            ],
            [
             0.2222222222222222,
             "#7201a8"
            ],
            [
             0.3333333333333333,
             "#9c179e"
            ],
            [
             0.4444444444444444,
             "#bd3786"
            ],
            [
             0.5555555555555556,
             "#d8576b"
            ],
            [
             0.6666666666666666,
             "#ed7953"
            ],
            [
             0.7777777777777778,
             "#fb9f3a"
            ],
            [
             0.8888888888888888,
             "#fdca26"
            ],
            [
             1,
             "#f0f921"
            ]
           ]
          },
          "colorway": [
           "#636efa",
           "#EF553B",
           "#00cc96",
           "#ab63fa",
           "#FFA15A",
           "#19d3f3",
           "#FF6692",
           "#B6E880",
           "#FF97FF",
           "#FECB52"
          ],
          "font": {
           "color": "#2a3f5f"
          },
          "geo": {
           "bgcolor": "white",
           "lakecolor": "white",
           "landcolor": "#E5ECF6",
           "showlakes": true,
           "showland": true,
           "subunitcolor": "white"
          },
          "hoverlabel": {
           "align": "left"
          },
          "hovermode": "closest",
          "mapbox": {
           "style": "light"
          },
          "paper_bgcolor": "white",
          "plot_bgcolor": "#E5ECF6",
          "polar": {
           "angularaxis": {
            "gridcolor": "white",
            "linecolor": "white",
            "ticks": ""
           },
           "bgcolor": "#E5ECF6",
           "radialaxis": {
            "gridcolor": "white",
            "linecolor": "white",
            "ticks": ""
           }
          },
          "scene": {
           "xaxis": {
            "backgroundcolor": "#E5ECF6",
            "gridcolor": "white",
            "gridwidth": 2,
            "linecolor": "white",
            "showbackground": true,
            "ticks": "",
            "zerolinecolor": "white"
           },
           "yaxis": {
            "backgroundcolor": "#E5ECF6",
            "gridcolor": "white",
            "gridwidth": 2,
            "linecolor": "white",
            "showbackground": true,
            "ticks": "",
            "zerolinecolor": "white"
           },
           "zaxis": {
            "backgroundcolor": "#E5ECF6",
            "gridcolor": "white",
            "gridwidth": 2,
            "linecolor": "white",
            "showbackground": true,
            "ticks": "",
            "zerolinecolor": "white"
           }
          },
          "shapedefaults": {
           "line": {
            "color": "#2a3f5f"
           }
          },
          "ternary": {
           "aaxis": {
            "gridcolor": "white",
            "linecolor": "white",
            "ticks": ""
           },
           "baxis": {
            "gridcolor": "white",
            "linecolor": "white",
            "ticks": ""
           },
           "bgcolor": "#E5ECF6",
           "caxis": {
            "gridcolor": "white",
            "linecolor": "white",
            "ticks": ""
           }
          },
          "title": {
           "x": 0.05
          },
          "xaxis": {
           "automargin": true,
           "gridcolor": "white",
           "linecolor": "white",
           "ticks": "",
           "title": {
            "standoff": 15
           },
           "zerolinecolor": "white",
           "zerolinewidth": 2
          },
          "yaxis": {
           "automargin": true,
           "gridcolor": "white",
           "linecolor": "white",
           "ticks": "",
           "title": {
            "standoff": 15
           },
           "zerolinecolor": "white",
           "zerolinewidth": 2
          }
         }
        },
        "xaxis": {
         "anchor": "y",
         "domain": [
          0,
          1
         ],
         "title": {
          "text": "crimeIndex"
         }
        },
        "yaxis": {
         "anchor": "x",
         "domain": [
          0,
          1
         ],
         "title": {
          "text": "country"
         }
        }
       }
      }
     },
     "metadata": {},
     "output_type": "display_data"
    }
   ],
   "source": [
    "fig = px.scatter(data, x=\"crimeIndex\", y=\"country\", color=\"Continent\",\n",
    "                 size='political_stability_2020', hover_data=['crimeIndex'])\n",
    "fig.show()"
   ]
  },
  {
   "cell_type": "markdown",
   "metadata": {},
   "source": [
    "In the case of crime index, clustering is needed forming. Europe for example shows overall a low score (good). Interesting the most dangerous in terms of this metric are Belarus and France.\n",
    "\n",
    "The three most \"safe\" coutries are Qatar, United Arah Emirates, and Oman. Interesting situation in Asia yet universally identify as Middle Eastern countries. Which are perspective by people or media outlets as 'hostile and volitile' environment due to the perception of perpetual war. \n",
    "\n",
    "However, one thing to note, and could be a point of concern it is abundance of countries overlapping each other. This is due to the lack of data from the original source, and therefore the transformation I applied in the cleaning process. This could affect the clustering and cause dishonesty. But we will see."
   ]
  },
  {
   "cell_type": "code",
   "execution_count": 50,
   "metadata": {},
   "outputs": [
    {
     "data": {
      "application/vnd.plotly.v1+json": {
       "config": {
        "plotlyServerURL": "https://plot.ly"
       },
       "data": [
        {
         "hovertemplate": "Continent=Africa<br>protein_supply_2017=%{x}<br>country=%{y}<br>food_insecurity_2017=%{marker.size}<extra></extra>",
         "legendgroup": "Africa",
         "marker": {
          "color": "#636efa",
          "size": [
           19.7,
           52.490909090909085,
           66.3,
           53.4,
           52.490909090909085,
           52.490909090909085,
           58,
           52.490909090909085,
           52.490909090909085,
           52.490909090909085,
           52.490909090909085,
           87.9,
           52.490909090909085,
           52.490909090909085,
           33.1,
           33.1,
           52.490909090909085,
           52.490909090909085,
           59.4,
           52.490909090909085,
           52.7,
           43.8,
           74.1,
           61.7,
           52.490909090909085,
           60.9,
           52.490909090909085,
           81,
           33.2,
           52.490909090909085,
           80.3,
           52.490909090909085,
           32.3,
           18.5,
           26.1,
           68.4,
           55.3,
           50,
           42.8,
           52.490909090909085,
           52.490909090909085,
           35.8,
           14.3,
           83,
           52.490909090909085,
           52.490909090909085,
           85.1,
           46.4,
           52.490909090909085,
           52.490909090909085,
           61.8,
           20,
           74.8,
           52,
           67
          ],
          "sizemode": "area",
          "sizeref": 0.21975,
          "symbol": "circle"
         },
         "mode": "markers",
         "name": "Africa",
         "orientation": "h",
         "showlegend": true,
         "type": "scatter",
         "x": [
          89.3,
          52.4,
          64.3,
          71,
          68.21315789473685,
          68.21315789473685,
          71.6,
          68.21315789473685,
          50.7,
          77.7,
          55,
          51.7,
          68.21315789473685,
          68.7,
          97,
          97,
          68.21315789473685,
          68.21315789473685,
          72.3,
          81,
          64.3,
          60,
          68.21315789473685,
          43,
          68.21315789473685,
          61,
          63.3,
          41.3,
          68.21315789473685,
          42.7,
          69.7,
          80,
          81.3,
          86,
          99.7,
          68.21315789473685,
          64.7,
          83,
          60,
          60,
          52.7,
          63,
          68.21315789473685,
          48.7,
          68.21315789473685,
          79.7,
          68.21315789473685,
          74,
          68.21315789473685,
          68.21315789473685,
          56.3,
          99.7,
          68.21315789473685,
          58.3,
          68.21315789473685
         ],
         "xaxis": "x",
         "y": [
          "Algeria",
          "Angola",
          "Benin",
          "Botswana",
          "Burkina",
          "Burundi",
          "Cameroon",
          "Cape Verde",
          "Central African Republic",
          "Chad",
          "Comoros",
          "Congo",
          "Congo, Democratic Republic of",
          "Djibouti",
          "Egypt",
          "Egypt",
          "Equatorial Guinea",
          "Eritrea",
          "Ethiopia",
          "Gabon",
          "Gambia",
          "Ghana",
          "Guinea",
          "Guinea-Bissau",
          "Ivory Coast",
          "Kenya",
          "Lesotho",
          "Liberia",
          "Libya",
          "Madagascar",
          "Malawi",
          "Mali",
          "Mauritania",
          "Mauritius",
          "Morocco",
          "Mozambique",
          "Namibia",
          "Niger",
          "Nigeria",
          "Rwanda",
          "Sao Tome and Principe",
          "Senegal",
          "Seychelles",
          "Sierra Leone",
          "Somalia",
          "South Africa",
          "South Sudan",
          "Sudan",
          "Swaziland",
          "Tanzania",
          "Togo",
          "Tunisia",
          "Uganda",
          "Zambia",
          "Zimbabwe"
         ],
         "yaxis": "y"
        },
        {
         "hovertemplate": "Continent=Asia<br>protein_supply_2017=%{x}<br>country=%{y}<br>food_insecurity_2017=%{marker.size}<extra></extra>",
         "legendgroup": "Asia",
         "marker": {
          "color": "#EF553B",
          "size": [
           54.3,
           14.823076923076922,
           31.5,
           14.823076923076922,
           14.823076923076922,
           14.823076923076922,
           44.9,
           14.823076923076922,
           14.823076923076922,
           14.823076923076922,
           7.6,
           14.823076923076922,
           14.823076923076922,
           12.3,
           3.2,
           32.4,
           2.1,
           2.1,
           2.1,
           2.1,
           14.823076923076922,
           5.4,
           12.3,
           6.3,
           14.823076923076922,
           14.823076923076922,
           15.1,
           14.823076923076922,
           27.1,
           31.6,
           14.823076923076922,
           12.8,
           14.823076923076922,
           14.823076923076922,
           7.9,
           7.9,
           7.9,
           14.823076923076922,
           4.1,
           6.5,
           14.823076923076922,
           14.823076923076922,
           24.8,
           14.823076923076922,
           14.823076923076922,
           14.823076923076922,
           14.823076923076922,
           14.823076923076922,
           14.823076923076922,
           14.9,
           6.2,
           14.823076923076922
          ],
          "sizemode": "area",
          "sizeref": 0.21975,
          "symbol": "circle"
         },
         "mode": "markers",
         "name": "Asia",
         "orientation": "h",
         "showlegend": true,
         "type": "scatter",
         "x": [
          58,
          82.4108108108108,
          59,
          82.4108108108108,
          82.4108108108108,
          82.4108108108108,
          65.3,
          131,
          82.4108108108108,
          64,
          68,
          82.4108108108108,
          63.7,
          125.7,
          86,
          69.3,
          100,
          100,
          100,
          100,
          54.3,
          96.7,
          99.7,
          83.7,
          82.4108108108108,
          69.7,
          77,
          82.4108108108108,
          93.7,
          73.7,
          84.4,
          65.7,
          62.3,
          82.4108108108108,
          102,
          102,
          102,
          88.3,
          82.4108108108108,
          67,
          82.4108108108108,
          69.7,
          61.3,
          82.4108108108108,
          82.4108108108108,
          82.4108108108108,
          82.4108108108108,
          90,
          82,
          99,
          84.3,
          50.7
         ],
         "xaxis": "x",
         "y": [
          "Afghanistan",
          "Bahrain",
          "Bangladesh",
          "Bhutan",
          "Brunei",
          "Burma (Myanmar)",
          "Cambodia",
          "China",
          "East Timor",
          "India",
          "Indonesia",
          "Iran",
          "Iraq",
          "Israel",
          "Japan",
          "Jordan",
          "Kazakhstan",
          "Kazakhstan",
          "Kazakhstan",
          "Kazakhstan",
          "North Korea",
          "South Korea",
          "Kuwait",
          "Kyrgyzstan",
          "Laos",
          "Lebanon",
          "Malaysia",
          "Maldives",
          "Mongolia",
          "Nepal",
          "Oman",
          "Pakistan",
          "Philippines",
          "Qatar",
          "Russia",
          "Russia",
          "Russia",
          "Saudi Arabia",
          "Singapore",
          "Sri Lanka",
          "Syria",
          "Tajikistan",
          "Thailand",
          "Turkey",
          "Turkey",
          "Turkey",
          "Turkey",
          "Turkmenistan",
          "United Arab Emirates",
          "Uzbekistan",
          "Vietnam",
          "Yemen"
         ],
         "yaxis": "y"
        },
        {
         "hovertemplate": "Continent=Europe<br>protein_supply_2017=%{x}<br>country=%{y}<br>food_insecurity_2017=%{marker.size}<extra></extra>",
         "legendgroup": "Europe",
         "marker": {
          "color": "#00cc96",
          "size": [
           38.6,
           12.036956521739132,
           17.1,
           17.1,
           17.1,
           17.1,
           4.4,
           8.6,
           8.6,
           8.6,
           8.6,
           12.036956521739132,
           12.036956521739132,
           8.7,
           12,
           7.8,
           12.036956521739132,
           12.036956521739132,
           12.036956521739132,
           12.036956521739132,
           3.9,
           5.4,
           8.2,
           8.3,
           6.3,
           35.5,
           35.5,
           35.5,
           35.5,
           3.6,
           16.6,
           8.8,
           6.8,
           6.6,
           7.5,
           9.4,
           12.036956521739132,
           12.3,
           3.3,
           12.036956521739132,
           5.1,
           12.036956521739132,
           12.036956521739132,
           12,
           5.1,
           4.8,
           5.3,
           11.6,
           14.7,
           12.036956521739132,
           12.5,
           5,
           11.2,
           7.5,
           5.4,
           3.1,
           21.5,
           5.6,
           12.036956521739132
          ],
          "sizemode": "area",
          "sizeref": 0.21975,
          "symbol": "circle"
         },
         "mode": "markers",
         "name": "Europe",
         "orientation": "h",
         "showlegend": true,
         "type": "scatter",
         "x": [
          113.3,
          99.12692307692308,
          97,
          97,
          97,
          97,
          108.3,
          92,
          92,
          92,
          92,
          89,
          98.3,
          98,
          84.3,
          90.3,
          92,
          92,
          92,
          92,
          86.7,
          115.3,
          102.7,
          117.7,
          108.7,
          75.3,
          75.3,
          75.3,
          75.3,
          104.3,
          106.3,
          88,
          143,
          114.4,
          104,
          100.4,
          99.12692307692308,
          125,
          109.3,
          99.12692307692308,
          113,
          99.12692307692308,
          99.12692307692308,
          112.3,
          104.7,
          113.7,
          104.3,
          114.3,
          108.7,
          99.12692307692308,
          83.7,
          68.7,
          97,
          107.7,
          105.7,
          96.3,
          87.3,
          104.7,
          99.12692307692308
         ],
         "xaxis": "x",
         "y": [
          "Albania",
          "Andorra",
          "Armenia",
          "Armenia",
          "Armenia",
          "Armenia",
          "Austria",
          "Azerbaijan",
          "Azerbaijan",
          "Azerbaijan",
          "Azerbaijan",
          "Belarus",
          "Belgium",
          "Bosnia and Herzegovina",
          "Bulgaria",
          "Croatia",
          "Cyprus",
          "Cyprus",
          "Cyprus",
          "Cyprus",
          "Czech Republic",
          "Denmark",
          "Estonia",
          "Finland",
          "France",
          "Georgia",
          "Georgia",
          "Georgia",
          "Georgia",
          "Germany",
          "Greece",
          "Hungary",
          "Iceland",
          "Ireland",
          "Italy",
          "Latvia",
          "Liechtenstein",
          "Lithuania",
          "Luxembourg",
          "Macedonia",
          "Malta",
          "Moldova",
          "Monaco",
          "Montenegro",
          "Netherlands",
          "Norway",
          "Poland",
          "Portugal",
          "Romania",
          "San Marino",
          "Serbia",
          "Slovakia",
          "Slovenia",
          "Spain",
          "Sweden",
          "Switzerland",
          "Ukraine",
          "United Kingdom",
          "Vatican City"
         ],
         "yaxis": "y"
        },
        {
         "hovertemplate": "Continent=North America<br>protein_supply_2017=%{x}<br>country=%{y}<br>food_insecurity_2017=%{marker.size}<extra></extra>",
         "legendgroup": "North America",
         "marker": {
          "color": "#ab63fa",
          "size": [
           26.991666666666664,
           26.991666666666664,
           26.991666666666664,
           26.991666666666664,
           5,
           13.7,
           26.991666666666664,
           26.991666666666664,
           26.991666666666664,
           41.6,
           23.6,
           43.5,
           26.991666666666664,
           41.1,
           46.9,
           23,
           26.991666666666664,
           26.991666666666664,
           21.1,
           22.2,
           33.3,
           26.991666666666664,
           8.9
          ],
          "sizemode": "area",
          "sizeref": 0.21975,
          "symbol": "circle"
         },
         "mode": "markers",
         "name": "North America",
         "orientation": "h",
         "showlegend": true,
         "type": "scatter",
         "x": [
          79.10555555555555,
          79.10555555555555,
          87.3,
          68.7,
          104.3,
          80,
          86.3,
          81,
          64.7,
          75.3,
          79.10555555555555,
          69.3,
          49,
          61.3,
          73.3,
          90,
          64.3,
          82.1,
          79.10555555555555,
          79.10555555555555,
          88.7,
          85,
          113.3
         ],
         "xaxis": "x",
         "y": [
          "Antigua and Barbuda",
          "Bahamas",
          "Barbados",
          "Belize",
          "Canada",
          "Costa Rica",
          "Cuba",
          "Dominica",
          "Dominican Republic",
          "El Salvador",
          "Grenada",
          "Guatemala",
          "Haiti",
          "Honduras",
          "Jamaica",
          "Mexico",
          "Nicaragua",
          "Panama",
          "Saint Kitts and Nevis",
          "Saint Lucia",
          "Saint Vincent and the Grenadines",
          "Trinidad and Tobago",
          "United States"
         ],
         "yaxis": "y"
        },
        {
         "hovertemplate": "Continent=Oceania<br>protein_supply_2017=%{x}<br>country=%{y}<br>food_insecurity_2017=%{marker.size}<extra></extra>",
         "legendgroup": "Oceania",
         "marker": {
          "color": "#FFA15A",
          "size": [
           12.7,
           16.533333333333335,
           16.533333333333335,
           16.533333333333335,
           16.533333333333335,
           16.533333333333335,
           16.533333333333335,
           13.3,
           16.533333333333335,
           16.533333333333335,
           23.6,
           16.533333333333335,
           16.533333333333335,
           16.533333333333335,
           16.533333333333335
          ],
          "sizemode": "area",
          "sizeref": 0.21975,
          "symbol": "circle"
         },
         "mode": "markers",
         "name": "Oceania",
         "orientation": "h",
         "showlegend": true,
         "type": "scatter",
         "x": [
          107,
          73,
          71,
          76.875,
          76.875,
          76.875,
          76.875,
          94.7,
          76.875,
          64.3,
          87.7,
          53.3,
          76.875,
          76.875,
          64
         ],
         "xaxis": "x",
         "y": [
          "Australia",
          "Fiji",
          "Kiribati",
          "Marshall Islands",
          "Micronesia",
          "Micronesia",
          "Nauru",
          "New Zealand",
          "Palau",
          "Papua New Guinea",
          "Samoa",
          "Solomon Islands",
          "Tonga",
          "Tuvalu",
          "Vanuatu"
         ],
         "yaxis": "y"
        },
        {
         "hovertemplate": "Continent=South America<br>protein_supply_2017=%{x}<br>country=%{y}<br>food_insecurity_2017=%{marker.size}<extra></extra>",
         "legendgroup": "South America",
         "marker": {
          "color": "#19d3f3",
          "size": [
           32.3,
           25.37142857142857,
           21.8,
           13.7,
           25.37142857142857,
           26.2,
           25.37142857142857,
           15.6,
           42.9,
           25.37142857142857,
           25.1,
           25.37142857142857
          ],
          "sizemode": "area",
          "sizeref": 0.21975,
          "symbol": "circle"
         },
         "mode": "markers",
         "name": "South America",
         "orientation": "h",
         "showlegend": true,
         "type": "scatter",
         "x": [
          105.7,
          80.89999999999999,
          94.3,
          90.7,
          70.3,
          62.3,
          84.3,
          68,
          87.4,
          62,
          84,
          80.89999999999999
         ],
         "xaxis": "x",
         "y": [
          "Argentina",
          "Bolivia",
          "Brazil",
          "Chile",
          "Colombia",
          "Ecuador",
          "Guyana",
          "Paraguay",
          "Peru",
          "Suriname",
          "Uruguay",
          "Venezuela"
         ],
         "yaxis": "y"
        }
       ],
       "layout": {
        "legend": {
         "itemsizing": "constant",
         "title": {
          "text": "Continent"
         },
         "tracegroupgap": 0
        },
        "margin": {
         "t": 60
        },
        "template": {
         "data": {
          "bar": [
           {
            "error_x": {
             "color": "#2a3f5f"
            },
            "error_y": {
             "color": "#2a3f5f"
            },
            "marker": {
             "line": {
              "color": "#E5ECF6",
              "width": 0.5
             },
             "pattern": {
              "fillmode": "overlay",
              "size": 10,
              "solidity": 0.2
             }
            },
            "type": "bar"
           }
          ],
          "barpolar": [
           {
            "marker": {
             "line": {
              "color": "#E5ECF6",
              "width": 0.5
             },
             "pattern": {
              "fillmode": "overlay",
              "size": 10,
              "solidity": 0.2
             }
            },
            "type": "barpolar"
           }
          ],
          "carpet": [
           {
            "aaxis": {
             "endlinecolor": "#2a3f5f",
             "gridcolor": "white",
             "linecolor": "white",
             "minorgridcolor": "white",
             "startlinecolor": "#2a3f5f"
            },
            "baxis": {
             "endlinecolor": "#2a3f5f",
             "gridcolor": "white",
             "linecolor": "white",
             "minorgridcolor": "white",
             "startlinecolor": "#2a3f5f"
            },
            "type": "carpet"
           }
          ],
          "choropleth": [
           {
            "colorbar": {
             "outlinewidth": 0,
             "ticks": ""
            },
            "type": "choropleth"
           }
          ],
          "contour": [
           {
            "colorbar": {
             "outlinewidth": 0,
             "ticks": ""
            },
            "colorscale": [
             [
              0,
              "#0d0887"
             ],
             [
              0.1111111111111111,
              "#46039f"
             ],
             [
              0.2222222222222222,
              "#7201a8"
             ],
             [
              0.3333333333333333,
              "#9c179e"
             ],
             [
              0.4444444444444444,
              "#bd3786"
             ],
             [
              0.5555555555555556,
              "#d8576b"
             ],
             [
              0.6666666666666666,
              "#ed7953"
             ],
             [
              0.7777777777777778,
              "#fb9f3a"
             ],
             [
              0.8888888888888888,
              "#fdca26"
             ],
             [
              1,
              "#f0f921"
             ]
            ],
            "type": "contour"
           }
          ],
          "contourcarpet": [
           {
            "colorbar": {
             "outlinewidth": 0,
             "ticks": ""
            },
            "type": "contourcarpet"
           }
          ],
          "heatmap": [
           {
            "colorbar": {
             "outlinewidth": 0,
             "ticks": ""
            },
            "colorscale": [
             [
              0,
              "#0d0887"
             ],
             [
              0.1111111111111111,
              "#46039f"
             ],
             [
              0.2222222222222222,
              "#7201a8"
             ],
             [
              0.3333333333333333,
              "#9c179e"
             ],
             [
              0.4444444444444444,
              "#bd3786"
             ],
             [
              0.5555555555555556,
              "#d8576b"
             ],
             [
              0.6666666666666666,
              "#ed7953"
             ],
             [
              0.7777777777777778,
              "#fb9f3a"
             ],
             [
              0.8888888888888888,
              "#fdca26"
             ],
             [
              1,
              "#f0f921"
             ]
            ],
            "type": "heatmap"
           }
          ],
          "heatmapgl": [
           {
            "colorbar": {
             "outlinewidth": 0,
             "ticks": ""
            },
            "colorscale": [
             [
              0,
              "#0d0887"
             ],
             [
              0.1111111111111111,
              "#46039f"
             ],
             [
              0.2222222222222222,
              "#7201a8"
             ],
             [
              0.3333333333333333,
              "#9c179e"
             ],
             [
              0.4444444444444444,
              "#bd3786"
             ],
             [
              0.5555555555555556,
              "#d8576b"
             ],
             [
              0.6666666666666666,
              "#ed7953"
             ],
             [
              0.7777777777777778,
              "#fb9f3a"
             ],
             [
              0.8888888888888888,
              "#fdca26"
             ],
             [
              1,
              "#f0f921"
             ]
            ],
            "type": "heatmapgl"
           }
          ],
          "histogram": [
           {
            "marker": {
             "pattern": {
              "fillmode": "overlay",
              "size": 10,
              "solidity": 0.2
             }
            },
            "type": "histogram"
           }
          ],
          "histogram2d": [
           {
            "colorbar": {
             "outlinewidth": 0,
             "ticks": ""
            },
            "colorscale": [
             [
              0,
              "#0d0887"
             ],
             [
              0.1111111111111111,
              "#46039f"
             ],
             [
              0.2222222222222222,
              "#7201a8"
             ],
             [
              0.3333333333333333,
              "#9c179e"
             ],
             [
              0.4444444444444444,
              "#bd3786"
             ],
             [
              0.5555555555555556,
              "#d8576b"
             ],
             [
              0.6666666666666666,
              "#ed7953"
             ],
             [
              0.7777777777777778,
              "#fb9f3a"
             ],
             [
              0.8888888888888888,
              "#fdca26"
             ],
             [
              1,
              "#f0f921"
             ]
            ],
            "type": "histogram2d"
           }
          ],
          "histogram2dcontour": [
           {
            "colorbar": {
             "outlinewidth": 0,
             "ticks": ""
            },
            "colorscale": [
             [
              0,
              "#0d0887"
             ],
             [
              0.1111111111111111,
              "#46039f"
             ],
             [
              0.2222222222222222,
              "#7201a8"
             ],
             [
              0.3333333333333333,
              "#9c179e"
             ],
             [
              0.4444444444444444,
              "#bd3786"
             ],
             [
              0.5555555555555556,
              "#d8576b"
             ],
             [
              0.6666666666666666,
              "#ed7953"
             ],
             [
              0.7777777777777778,
              "#fb9f3a"
             ],
             [
              0.8888888888888888,
              "#fdca26"
             ],
             [
              1,
              "#f0f921"
             ]
            ],
            "type": "histogram2dcontour"
           }
          ],
          "mesh3d": [
           {
            "colorbar": {
             "outlinewidth": 0,
             "ticks": ""
            },
            "type": "mesh3d"
           }
          ],
          "parcoords": [
           {
            "line": {
             "colorbar": {
              "outlinewidth": 0,
              "ticks": ""
             }
            },
            "type": "parcoords"
           }
          ],
          "pie": [
           {
            "automargin": true,
            "type": "pie"
           }
          ],
          "scatter": [
           {
            "fillpattern": {
             "fillmode": "overlay",
             "size": 10,
             "solidity": 0.2
            },
            "type": "scatter"
           }
          ],
          "scatter3d": [
           {
            "line": {
             "colorbar": {
              "outlinewidth": 0,
              "ticks": ""
             }
            },
            "marker": {
             "colorbar": {
              "outlinewidth": 0,
              "ticks": ""
             }
            },
            "type": "scatter3d"
           }
          ],
          "scattercarpet": [
           {
            "marker": {
             "colorbar": {
              "outlinewidth": 0,
              "ticks": ""
             }
            },
            "type": "scattercarpet"
           }
          ],
          "scattergeo": [
           {
            "marker": {
             "colorbar": {
              "outlinewidth": 0,
              "ticks": ""
             }
            },
            "type": "scattergeo"
           }
          ],
          "scattergl": [
           {
            "marker": {
             "colorbar": {
              "outlinewidth": 0,
              "ticks": ""
             }
            },
            "type": "scattergl"
           }
          ],
          "scattermapbox": [
           {
            "marker": {
             "colorbar": {
              "outlinewidth": 0,
              "ticks": ""
             }
            },
            "type": "scattermapbox"
           }
          ],
          "scatterpolar": [
           {
            "marker": {
             "colorbar": {
              "outlinewidth": 0,
              "ticks": ""
             }
            },
            "type": "scatterpolar"
           }
          ],
          "scatterpolargl": [
           {
            "marker": {
             "colorbar": {
              "outlinewidth": 0,
              "ticks": ""
             }
            },
            "type": "scatterpolargl"
           }
          ],
          "scatterternary": [
           {
            "marker": {
             "colorbar": {
              "outlinewidth": 0,
              "ticks": ""
             }
            },
            "type": "scatterternary"
           }
          ],
          "surface": [
           {
            "colorbar": {
             "outlinewidth": 0,
             "ticks": ""
            },
            "colorscale": [
             [
              0,
              "#0d0887"
             ],
             [
              0.1111111111111111,
              "#46039f"
             ],
             [
              0.2222222222222222,
              "#7201a8"
             ],
             [
              0.3333333333333333,
              "#9c179e"
             ],
             [
              0.4444444444444444,
              "#bd3786"
             ],
             [
              0.5555555555555556,
              "#d8576b"
             ],
             [
              0.6666666666666666,
              "#ed7953"
             ],
             [
              0.7777777777777778,
              "#fb9f3a"
             ],
             [
              0.8888888888888888,
              "#fdca26"
             ],
             [
              1,
              "#f0f921"
             ]
            ],
            "type": "surface"
           }
          ],
          "table": [
           {
            "cells": {
             "fill": {
              "color": "#EBF0F8"
             },
             "line": {
              "color": "white"
             }
            },
            "header": {
             "fill": {
              "color": "#C8D4E3"
             },
             "line": {
              "color": "white"
             }
            },
            "type": "table"
           }
          ]
         },
         "layout": {
          "annotationdefaults": {
           "arrowcolor": "#2a3f5f",
           "arrowhead": 0,
           "arrowwidth": 1
          },
          "autotypenumbers": "strict",
          "coloraxis": {
           "colorbar": {
            "outlinewidth": 0,
            "ticks": ""
           }
          },
          "colorscale": {
           "diverging": [
            [
             0,
             "#8e0152"
            ],
            [
             0.1,
             "#c51b7d"
            ],
            [
             0.2,
             "#de77ae"
            ],
            [
             0.3,
             "#f1b6da"
            ],
            [
             0.4,
             "#fde0ef"
            ],
            [
             0.5,
             "#f7f7f7"
            ],
            [
             0.6,
             "#e6f5d0"
            ],
            [
             0.7,
             "#b8e186"
            ],
            [
             0.8,
             "#7fbc41"
            ],
            [
             0.9,
             "#4d9221"
            ],
            [
             1,
             "#276419"
            ]
           ],
           "sequential": [
            [
             0,
             "#0d0887"
            ],
            [
             0.1111111111111111,
             "#46039f"
            ],
            [
             0.2222222222222222,
             "#7201a8"
            ],
            [
             0.3333333333333333,
             "#9c179e"
            ],
            [
             0.4444444444444444,
             "#bd3786"
            ],
            [
             0.5555555555555556,
             "#d8576b"
            ],
            [
             0.6666666666666666,
             "#ed7953"
            ],
            [
             0.7777777777777778,
             "#fb9f3a"
            ],
            [
             0.8888888888888888,
             "#fdca26"
            ],
            [
             1,
             "#f0f921"
            ]
           ],
           "sequentialminus": [
            [
             0,
             "#0d0887"
            ],
            [
             0.1111111111111111,
             "#46039f"
            ],
            [
             0.2222222222222222,
             "#7201a8"
            ],
            [
             0.3333333333333333,
             "#9c179e"
            ],
            [
             0.4444444444444444,
             "#bd3786"
            ],
            [
             0.5555555555555556,
             "#d8576b"
            ],
            [
             0.6666666666666666,
             "#ed7953"
            ],
            [
             0.7777777777777778,
             "#fb9f3a"
            ],
            [
             0.8888888888888888,
             "#fdca26"
            ],
            [
             1,
             "#f0f921"
            ]
           ]
          },
          "colorway": [
           "#636efa",
           "#EF553B",
           "#00cc96",
           "#ab63fa",
           "#FFA15A",
           "#19d3f3",
           "#FF6692",
           "#B6E880",
           "#FF97FF",
           "#FECB52"
          ],
          "font": {
           "color": "#2a3f5f"
          },
          "geo": {
           "bgcolor": "white",
           "lakecolor": "white",
           "landcolor": "#E5ECF6",
           "showlakes": true,
           "showland": true,
           "subunitcolor": "white"
          },
          "hoverlabel": {
           "align": "left"
          },
          "hovermode": "closest",
          "mapbox": {
           "style": "light"
          },
          "paper_bgcolor": "white",
          "plot_bgcolor": "#E5ECF6",
          "polar": {
           "angularaxis": {
            "gridcolor": "white",
            "linecolor": "white",
            "ticks": ""
           },
           "bgcolor": "#E5ECF6",
           "radialaxis": {
            "gridcolor": "white",
            "linecolor": "white",
            "ticks": ""
           }
          },
          "scene": {
           "xaxis": {
            "backgroundcolor": "#E5ECF6",
            "gridcolor": "white",
            "gridwidth": 2,
            "linecolor": "white",
            "showbackground": true,
            "ticks": "",
            "zerolinecolor": "white"
           },
           "yaxis": {
            "backgroundcolor": "#E5ECF6",
            "gridcolor": "white",
            "gridwidth": 2,
            "linecolor": "white",
            "showbackground": true,
            "ticks": "",
            "zerolinecolor": "white"
           },
           "zaxis": {
            "backgroundcolor": "#E5ECF6",
            "gridcolor": "white",
            "gridwidth": 2,
            "linecolor": "white",
            "showbackground": true,
            "ticks": "",
            "zerolinecolor": "white"
           }
          },
          "shapedefaults": {
           "line": {
            "color": "#2a3f5f"
           }
          },
          "ternary": {
           "aaxis": {
            "gridcolor": "white",
            "linecolor": "white",
            "ticks": ""
           },
           "baxis": {
            "gridcolor": "white",
            "linecolor": "white",
            "ticks": ""
           },
           "bgcolor": "#E5ECF6",
           "caxis": {
            "gridcolor": "white",
            "linecolor": "white",
            "ticks": ""
           }
          },
          "title": {
           "x": 0.05
          },
          "xaxis": {
           "automargin": true,
           "gridcolor": "white",
           "linecolor": "white",
           "ticks": "",
           "title": {
            "standoff": 15
           },
           "zerolinecolor": "white",
           "zerolinewidth": 2
          },
          "yaxis": {
           "automargin": true,
           "gridcolor": "white",
           "linecolor": "white",
           "ticks": "",
           "title": {
            "standoff": 15
           },
           "zerolinecolor": "white",
           "zerolinewidth": 2
          }
         }
        },
        "xaxis": {
         "anchor": "y",
         "domain": [
          0,
          1
         ],
         "title": {
          "text": "protein_supply_2017"
         }
        },
        "yaxis": {
         "anchor": "x",
         "domain": [
          0,
          1
         ],
         "title": {
          "text": "country"
         }
        }
       }
      }
     },
     "metadata": {},
     "output_type": "display_data"
    }
   ],
   "source": [
    "fig = px.scatter(data, x=\"protein_supply_2017\", y=\"country\", color=\"Continent\",\n",
    "                 size='food_insecurity_2017', hover_data=['protein_supply_2017'])\n",
    "fig.show()\n"
   ]
  },
  {
   "cell_type": "markdown",
   "metadata": {},
   "source": [
    "This problem is showing up again. This is obvious in the continents of Africa and Asia. Reguardless it is interesting. This data relates to the supply of animal protein. \n",
    "\n",
    "The countires with the most supply are Iceland, China, and Isreal. It would be interesting to know the ratio of domestic produce and imports. Iceland, for example, is not the first thing to come to mind when you think of globalisation, but China is. Iceland being a far outlier is interesting to say the least. Unfortunetaly the countries in Africa are both high in protein supply and high in food insecurity. The reasons are beyond the scope of this project, and unfortunately as expected outcome for many."
   ]
  },
  {
   "cell_type": "code",
   "execution_count": 21,
   "metadata": {},
   "outputs": [
    {
     "data": {
      "application/vnd.plotly.v1+json": {
       "config": {
        "plotlyServerURL": "https://plot.ly"
       },
       "data": [
        {
         "customdata": [
          [
           89.3
          ],
          [
           52.4
          ],
          [
           64.3
          ],
          [
           71
          ],
          [
           68.21315789473685
          ],
          [
           68.21315789473685
          ],
          [
           71.6
          ],
          [
           68.21315789473685
          ],
          [
           50.7
          ],
          [
           77.7
          ],
          [
           55
          ],
          [
           51.7
          ],
          [
           68.21315789473685
          ],
          [
           68.7
          ],
          [
           97
          ],
          [
           97
          ],
          [
           68.21315789473685
          ],
          [
           68.21315789473685
          ],
          [
           72.3
          ],
          [
           81
          ],
          [
           64.3
          ],
          [
           60
          ],
          [
           68.21315789473685
          ],
          [
           43
          ],
          [
           68.21315789473685
          ],
          [
           61
          ],
          [
           63.3
          ],
          [
           41.3
          ],
          [
           68.21315789473685
          ],
          [
           42.7
          ],
          [
           69.7
          ],
          [
           80
          ],
          [
           81.3
          ],
          [
           86
          ],
          [
           99.7
          ],
          [
           68.21315789473685
          ],
          [
           64.7
          ],
          [
           83
          ],
          [
           60
          ],
          [
           60
          ],
          [
           52.7
          ],
          [
           63
          ],
          [
           68.21315789473685
          ],
          [
           48.7
          ],
          [
           68.21315789473685
          ],
          [
           79.7
          ],
          [
           68.21315789473685
          ],
          [
           74
          ],
          [
           68.21315789473685
          ],
          [
           68.21315789473685
          ],
          [
           56.3
          ],
          [
           99.7
          ],
          [
           68.21315789473685
          ],
          [
           58.3
          ],
          [
           68.21315789473685
          ]
         ],
         "hovertemplate": "Continent=Africa<br>obesity_2016=%{x}<br>country=%{y}<br>protein_supply_2017=%{customdata[0]}<extra></extra>",
         "legendgroup": "Africa",
         "marker": {
          "color": "#636efa",
          "symbol": "circle"
         },
         "mode": "markers",
         "name": "Africa",
         "orientation": "h",
         "showlegend": true,
         "type": "scatter",
         "x": [
          27.4,
          8.2,
          9.6,
          18.9,
          12.446808510638297,
          5.4,
          11.4,
          12.446808510638297,
          7.5,
          6.1,
          7.8,
          9.6,
          12.446808510638297,
          13.5,
          32,
          32,
          8,
          5,
          4.5,
          15,
          10.3,
          10.9,
          7.7,
          9.5,
          12.446808510638297,
          7.1,
          16.6,
          9.9,
          32.5,
          5.3,
          5.8,
          8.6,
          12.7,
          10.8,
          26.1,
          7.2,
          17.2,
          5.5,
          8.9,
          5.8,
          12.4,
          8.8,
          14,
          8.7,
          8.3,
          28.3,
          12.446808510638297,
          12.446808510638297,
          12.446808510638297,
          12.446808510638297,
          8.4,
          26.9,
          5.3,
          8.1,
          15.5
         ],
         "xaxis": "x",
         "y": [
          "Algeria",
          "Angola",
          "Benin",
          "Botswana",
          "Burkina",
          "Burundi",
          "Cameroon",
          "Cape Verde",
          "Central African Republic",
          "Chad",
          "Comoros",
          "Congo",
          "Congo, Democratic Republic of",
          "Djibouti",
          "Egypt",
          "Egypt",
          "Equatorial Guinea",
          "Eritrea",
          "Ethiopia",
          "Gabon",
          "Gambia",
          "Ghana",
          "Guinea",
          "Guinea-Bissau",
          "Ivory Coast",
          "Kenya",
          "Lesotho",
          "Liberia",
          "Libya",
          "Madagascar",
          "Malawi",
          "Mali",
          "Mauritania",
          "Mauritius",
          "Morocco",
          "Mozambique",
          "Namibia",
          "Niger",
          "Nigeria",
          "Rwanda",
          "Sao Tome and Principe",
          "Senegal",
          "Seychelles",
          "Sierra Leone",
          "Somalia",
          "South Africa",
          "South Sudan",
          "Sudan",
          "Swaziland",
          "Tanzania",
          "Togo",
          "Tunisia",
          "Uganda",
          "Zambia",
          "Zimbabwe"
         ],
         "yaxis": "y"
        },
        {
         "customdata": [
          [
           58
          ],
          [
           82.4108108108108
          ],
          [
           59
          ],
          [
           82.4108108108108
          ],
          [
           82.4108108108108
          ],
          [
           82.4108108108108
          ],
          [
           65.3
          ],
          [
           131
          ],
          [
           82.4108108108108
          ],
          [
           64
          ],
          [
           68
          ],
          [
           82.4108108108108
          ],
          [
           63.7
          ],
          [
           125.7
          ],
          [
           86
          ],
          [
           69.3
          ],
          [
           100
          ],
          [
           100
          ],
          [
           100
          ],
          [
           100
          ],
          [
           54.3
          ],
          [
           96.7
          ],
          [
           99.7
          ],
          [
           83.7
          ],
          [
           82.4108108108108
          ],
          [
           69.7
          ],
          [
           77
          ],
          [
           82.4108108108108
          ],
          [
           93.7
          ],
          [
           73.7
          ],
          [
           84.4
          ],
          [
           65.7
          ],
          [
           62.3
          ],
          [
           82.4108108108108
          ],
          [
           102
          ],
          [
           102
          ],
          [
           102
          ],
          [
           88.3
          ],
          [
           82.4108108108108
          ],
          [
           67
          ],
          [
           82.4108108108108
          ],
          [
           69.7
          ],
          [
           61.3
          ],
          [
           82.4108108108108
          ],
          [
           82.4108108108108
          ],
          [
           82.4108108108108
          ],
          [
           82.4108108108108
          ],
          [
           90
          ],
          [
           82
          ],
          [
           99
          ],
          [
           84.3
          ],
          [
           50.7
          ]
         ],
         "hovertemplate": "Continent=Asia<br>obesity_2016=%{x}<br>country=%{y}<br>protein_supply_2017=%{customdata[0]}<extra></extra>",
         "legendgroup": "Asia",
         "marker": {
          "color": "#EF553B",
          "symbol": "circle"
         },
         "mode": "markers",
         "name": "Asia",
         "orientation": "h",
         "showlegend": true,
         "type": "scatter",
         "x": [
          5.5,
          29.8,
          3.6,
          6.4,
          16.843902439024394,
          16.843902439024394,
          3.9,
          16.843902439024394,
          16.843902439024394,
          3.9,
          6.9,
          16.843902439024394,
          30.4,
          26.1,
          4.3,
          35.5,
          21,
          21,
          21,
          21,
          6.8,
          4.7,
          37.9,
          16.6,
          16.843902439024394,
          32,
          15.6,
          8.6,
          20.6,
          4.1,
          27,
          8.6,
          6.4,
          35.1,
          23.1,
          23.1,
          23.1,
          35.4,
          6.1,
          5.2,
          16.843902439024394,
          14.2,
          10,
          16.843902439024394,
          16.843902439024394,
          16.843902439024394,
          16.843902439024394,
          18.6,
          31.7,
          16.6,
          2.1,
          17.1
         ],
         "xaxis": "x",
         "y": [
          "Afghanistan",
          "Bahrain",
          "Bangladesh",
          "Bhutan",
          "Brunei",
          "Burma (Myanmar)",
          "Cambodia",
          "China",
          "East Timor",
          "India",
          "Indonesia",
          "Iran",
          "Iraq",
          "Israel",
          "Japan",
          "Jordan",
          "Kazakhstan",
          "Kazakhstan",
          "Kazakhstan",
          "Kazakhstan",
          "North Korea",
          "South Korea",
          "Kuwait",
          "Kyrgyzstan",
          "Laos",
          "Lebanon",
          "Malaysia",
          "Maldives",
          "Mongolia",
          "Nepal",
          "Oman",
          "Pakistan",
          "Philippines",
          "Qatar",
          "Russia",
          "Russia",
          "Russia",
          "Saudi Arabia",
          "Singapore",
          "Sri Lanka",
          "Syria",
          "Tajikistan",
          "Thailand",
          "Turkey",
          "Turkey",
          "Turkey",
          "Turkey",
          "Turkmenistan",
          "United Arab Emirates",
          "Uzbekistan",
          "Vietnam",
          "Yemen"
         ],
         "yaxis": "y"
        },
        {
         "customdata": [
          [
           113.3
          ],
          [
           99.12692307692308
          ],
          [
           97
          ],
          [
           97
          ],
          [
           97
          ],
          [
           97
          ],
          [
           108.3
          ],
          [
           92
          ],
          [
           92
          ],
          [
           92
          ],
          [
           92
          ],
          [
           89
          ],
          [
           98.3
          ],
          [
           98
          ],
          [
           84.3
          ],
          [
           90.3
          ],
          [
           92
          ],
          [
           92
          ],
          [
           92
          ],
          [
           92
          ],
          [
           86.7
          ],
          [
           115.3
          ],
          [
           102.7
          ],
          [
           117.7
          ],
          [
           108.7
          ],
          [
           75.3
          ],
          [
           75.3
          ],
          [
           75.3
          ],
          [
           75.3
          ],
          [
           104.3
          ],
          [
           106.3
          ],
          [
           88
          ],
          [
           143
          ],
          [
           114.4
          ],
          [
           104
          ],
          [
           100.4
          ],
          [
           99.12692307692308
          ],
          [
           125
          ],
          [
           109.3
          ],
          [
           99.12692307692308
          ],
          [
           113
          ],
          [
           99.12692307692308
          ],
          [
           99.12692307692308
          ],
          [
           112.3
          ],
          [
           104.7
          ],
          [
           113.7
          ],
          [
           104.3
          ],
          [
           114.3
          ],
          [
           108.7
          ],
          [
           99.12692307692308
          ],
          [
           83.7
          ],
          [
           68.7
          ],
          [
           97
          ],
          [
           107.7
          ],
          [
           105.7
          ],
          [
           96.3
          ],
          [
           87.3
          ],
          [
           104.7
          ],
          [
           99.12692307692308
          ]
         ],
         "hovertemplate": "Continent=Europe<br>obesity_2016=%{x}<br>country=%{y}<br>protein_supply_2017=%{customdata[0]}<extra></extra>",
         "legendgroup": "Europe",
         "marker": {
          "color": "#00cc96",
          "symbol": "circle"
         },
         "mode": "markers",
         "name": "Europe",
         "orientation": "h",
         "showlegend": true,
         "type": "scatter",
         "x": [
          21.7,
          25.6,
          20.2,
          20.2,
          20.2,
          20.2,
          20.1,
          19.9,
          19.9,
          19.9,
          19.9,
          24.5,
          22.1,
          17.9,
          25,
          24.4,
          21.8,
          21.8,
          21.8,
          21.8,
          26,
          19.7,
          21.2,
          22.2,
          21.6,
          21.7,
          21.7,
          21.7,
          21.7,
          22.3,
          24.9,
          26.4,
          21.9,
          25.3,
          19.9,
          23.6,
          22.25849056603773,
          26.3,
          22.6,
          22.25849056603773,
          28.9,
          22.25849056603773,
          22.25849056603773,
          23.3,
          20.4,
          23.1,
          23.1,
          20.8,
          22.5,
          22.25849056603773,
          21.5,
          20.5,
          20.2,
          23.8,
          20.6,
          19.5,
          24.1,
          27.8,
          22.25849056603773
         ],
         "xaxis": "x",
         "y": [
          "Albania",
          "Andorra",
          "Armenia",
          "Armenia",
          "Armenia",
          "Armenia",
          "Austria",
          "Azerbaijan",
          "Azerbaijan",
          "Azerbaijan",
          "Azerbaijan",
          "Belarus",
          "Belgium",
          "Bosnia and Herzegovina",
          "Bulgaria",
          "Croatia",
          "Cyprus",
          "Cyprus",
          "Cyprus",
          "Cyprus",
          "Czech Republic",
          "Denmark",
          "Estonia",
          "Finland",
          "France",
          "Georgia",
          "Georgia",
          "Georgia",
          "Georgia",
          "Germany",
          "Greece",
          "Hungary",
          "Iceland",
          "Ireland",
          "Italy",
          "Latvia",
          "Liechtenstein",
          "Lithuania",
          "Luxembourg",
          "Macedonia",
          "Malta",
          "Moldova",
          "Monaco",
          "Montenegro",
          "Netherlands",
          "Norway",
          "Poland",
          "Portugal",
          "Romania",
          "San Marino",
          "Serbia",
          "Slovakia",
          "Slovenia",
          "Spain",
          "Sweden",
          "Switzerland",
          "Ukraine",
          "United Kingdom",
          "Vatican City"
         ],
         "yaxis": "y"
        },
        {
         "customdata": [
          [
           79.10555555555555
          ],
          [
           79.10555555555555
          ],
          [
           87.3
          ],
          [
           68.7
          ],
          [
           104.3
          ],
          [
           80
          ],
          [
           86.3
          ],
          [
           81
          ],
          [
           64.7
          ],
          [
           75.3
          ],
          [
           79.10555555555555
          ],
          [
           69.3
          ],
          [
           49
          ],
          [
           61.3
          ],
          [
           73.3
          ],
          [
           90
          ],
          [
           64.3
          ],
          [
           82.1
          ],
          [
           79.10555555555555
          ],
          [
           79.10555555555555
          ],
          [
           88.7
          ],
          [
           85
          ],
          [
           113.3
          ]
         ],
         "hovertemplate": "Continent=North America<br>obesity_2016=%{x}<br>country=%{y}<br>protein_supply_2017=%{customdata[0]}<extra></extra>",
         "legendgroup": "North America",
         "marker": {
          "color": "#ab63fa",
          "symbol": "circle"
         },
         "mode": "markers",
         "name": "North America",
         "orientation": "h",
         "showlegend": true,
         "type": "scatter",
         "x": [
          18.9,
          31.6,
          23.1,
          24.1,
          29.4,
          25.7,
          24.6,
          27.9,
          27.6,
          24.6,
          21.3,
          21.2,
          22.7,
          21.4,
          24.7,
          28.9,
          23.7,
          22.7,
          22.9,
          19.7,
          23.7,
          18.6,
          36.2
         ],
         "xaxis": "x",
         "y": [
          "Antigua and Barbuda",
          "Bahamas",
          "Barbados",
          "Belize",
          "Canada",
          "Costa Rica",
          "Cuba",
          "Dominica",
          "Dominican Republic",
          "El Salvador",
          "Grenada",
          "Guatemala",
          "Haiti",
          "Honduras",
          "Jamaica",
          "Mexico",
          "Nicaragua",
          "Panama",
          "Saint Kitts and Nevis",
          "Saint Lucia",
          "Saint Vincent and the Grenadines",
          "Trinidad and Tobago",
          "United States"
         ],
         "yaxis": "y"
        },
        {
         "customdata": [
          [
           107
          ],
          [
           73
          ],
          [
           71
          ],
          [
           76.875
          ],
          [
           76.875
          ],
          [
           76.875
          ],
          [
           76.875
          ],
          [
           94.7
          ],
          [
           76.875
          ],
          [
           64.3
          ],
          [
           87.7
          ],
          [
           53.3
          ],
          [
           76.875
          ],
          [
           76.875
          ],
          [
           64
          ]
         ],
         "hovertemplate": "Continent=Oceania<br>obesity_2016=%{x}<br>country=%{y}<br>protein_supply_2017=%{customdata[0]}<extra></extra>",
         "legendgroup": "Oceania",
         "marker": {
          "color": "#FFA15A",
          "symbol": "circle"
         },
         "mode": "markers",
         "name": "Oceania",
         "orientation": "h",
         "showlegend": true,
         "type": "scatter",
         "x": [
          29,
          30.2,
          46,
          52.9,
          40.10000000000001,
          40.10000000000001,
          61,
          30.8,
          55.3,
          21.3,
          47.3,
          22.5,
          48.2,
          51.6,
          25.2
         ],
         "xaxis": "x",
         "y": [
          "Australia",
          "Fiji",
          "Kiribati",
          "Marshall Islands",
          "Micronesia",
          "Micronesia",
          "Nauru",
          "New Zealand",
          "Palau",
          "Papua New Guinea",
          "Samoa",
          "Solomon Islands",
          "Tonga",
          "Tuvalu",
          "Vanuatu"
         ],
         "yaxis": "y"
        },
        {
         "customdata": [
          [
           105.7
          ],
          [
           80.89999999999999
          ],
          [
           94.3
          ],
          [
           90.7
          ],
          [
           70.3
          ],
          [
           62.3
          ],
          [
           84.3
          ],
          [
           68
          ],
          [
           87.4
          ],
          [
           62
          ],
          [
           84
          ],
          [
           80.89999999999999
          ]
         ],
         "hovertemplate": "Continent=South America<br>obesity_2016=%{x}<br>country=%{y}<br>protein_supply_2017=%{customdata[0]}<extra></extra>",
         "legendgroup": "South America",
         "marker": {
          "color": "#19d3f3",
          "symbol": "circle"
         },
         "mode": "markers",
         "name": "South America",
         "orientation": "h",
         "showlegend": true,
         "type": "scatter",
         "x": [
          28.3,
          23.51,
          22.1,
          28,
          22.3,
          19.9,
          20.2,
          20.3,
          19.7,
          26.4,
          27.9,
          23.51
         ],
         "xaxis": "x",
         "y": [
          "Argentina",
          "Bolivia",
          "Brazil",
          "Chile",
          "Colombia",
          "Ecuador",
          "Guyana",
          "Paraguay",
          "Peru",
          "Suriname",
          "Uruguay",
          "Venezuela"
         ],
         "yaxis": "y"
        }
       ],
       "layout": {
        "legend": {
         "title": {
          "text": "Continent"
         },
         "tracegroupgap": 0
        },
        "margin": {
         "t": 60
        },
        "template": {
         "data": {
          "bar": [
           {
            "error_x": {
             "color": "#2a3f5f"
            },
            "error_y": {
             "color": "#2a3f5f"
            },
            "marker": {
             "line": {
              "color": "#E5ECF6",
              "width": 0.5
             },
             "pattern": {
              "fillmode": "overlay",
              "size": 10,
              "solidity": 0.2
             }
            },
            "type": "bar"
           }
          ],
          "barpolar": [
           {
            "marker": {
             "line": {
              "color": "#E5ECF6",
              "width": 0.5
             },
             "pattern": {
              "fillmode": "overlay",
              "size": 10,
              "solidity": 0.2
             }
            },
            "type": "barpolar"
           }
          ],
          "carpet": [
           {
            "aaxis": {
             "endlinecolor": "#2a3f5f",
             "gridcolor": "white",
             "linecolor": "white",
             "minorgridcolor": "white",
             "startlinecolor": "#2a3f5f"
            },
            "baxis": {
             "endlinecolor": "#2a3f5f",
             "gridcolor": "white",
             "linecolor": "white",
             "minorgridcolor": "white",
             "startlinecolor": "#2a3f5f"
            },
            "type": "carpet"
           }
          ],
          "choropleth": [
           {
            "colorbar": {
             "outlinewidth": 0,
             "ticks": ""
            },
            "type": "choropleth"
           }
          ],
          "contour": [
           {
            "colorbar": {
             "outlinewidth": 0,
             "ticks": ""
            },
            "colorscale": [
             [
              0,
              "#0d0887"
             ],
             [
              0.1111111111111111,
              "#46039f"
             ],
             [
              0.2222222222222222,
              "#7201a8"
             ],
             [
              0.3333333333333333,
              "#9c179e"
             ],
             [
              0.4444444444444444,
              "#bd3786"
             ],
             [
              0.5555555555555556,
              "#d8576b"
             ],
             [
              0.6666666666666666,
              "#ed7953"
             ],
             [
              0.7777777777777778,
              "#fb9f3a"
             ],
             [
              0.8888888888888888,
              "#fdca26"
             ],
             [
              1,
              "#f0f921"
             ]
            ],
            "type": "contour"
           }
          ],
          "contourcarpet": [
           {
            "colorbar": {
             "outlinewidth": 0,
             "ticks": ""
            },
            "type": "contourcarpet"
           }
          ],
          "heatmap": [
           {
            "colorbar": {
             "outlinewidth": 0,
             "ticks": ""
            },
            "colorscale": [
             [
              0,
              "#0d0887"
             ],
             [
              0.1111111111111111,
              "#46039f"
             ],
             [
              0.2222222222222222,
              "#7201a8"
             ],
             [
              0.3333333333333333,
              "#9c179e"
             ],
             [
              0.4444444444444444,
              "#bd3786"
             ],
             [
              0.5555555555555556,
              "#d8576b"
             ],
             [
              0.6666666666666666,
              "#ed7953"
             ],
             [
              0.7777777777777778,
              "#fb9f3a"
             ],
             [
              0.8888888888888888,
              "#fdca26"
             ],
             [
              1,
              "#f0f921"
             ]
            ],
            "type": "heatmap"
           }
          ],
          "heatmapgl": [
           {
            "colorbar": {
             "outlinewidth": 0,
             "ticks": ""
            },
            "colorscale": [
             [
              0,
              "#0d0887"
             ],
             [
              0.1111111111111111,
              "#46039f"
             ],
             [
              0.2222222222222222,
              "#7201a8"
             ],
             [
              0.3333333333333333,
              "#9c179e"
             ],
             [
              0.4444444444444444,
              "#bd3786"
             ],
             [
              0.5555555555555556,
              "#d8576b"
             ],
             [
              0.6666666666666666,
              "#ed7953"
             ],
             [
              0.7777777777777778,
              "#fb9f3a"
             ],
             [
              0.8888888888888888,
              "#fdca26"
             ],
             [
              1,
              "#f0f921"
             ]
            ],
            "type": "heatmapgl"
           }
          ],
          "histogram": [
           {
            "marker": {
             "pattern": {
              "fillmode": "overlay",
              "size": 10,
              "solidity": 0.2
             }
            },
            "type": "histogram"
           }
          ],
          "histogram2d": [
           {
            "colorbar": {
             "outlinewidth": 0,
             "ticks": ""
            },
            "colorscale": [
             [
              0,
              "#0d0887"
             ],
             [
              0.1111111111111111,
              "#46039f"
             ],
             [
              0.2222222222222222,
              "#7201a8"
             ],
             [
              0.3333333333333333,
              "#9c179e"
             ],
             [
              0.4444444444444444,
              "#bd3786"
             ],
             [
              0.5555555555555556,
              "#d8576b"
             ],
             [
              0.6666666666666666,
              "#ed7953"
             ],
             [
              0.7777777777777778,
              "#fb9f3a"
             ],
             [
              0.8888888888888888,
              "#fdca26"
             ],
             [
              1,
              "#f0f921"
             ]
            ],
            "type": "histogram2d"
           }
          ],
          "histogram2dcontour": [
           {
            "colorbar": {
             "outlinewidth": 0,
             "ticks": ""
            },
            "colorscale": [
             [
              0,
              "#0d0887"
             ],
             [
              0.1111111111111111,
              "#46039f"
             ],
             [
              0.2222222222222222,
              "#7201a8"
             ],
             [
              0.3333333333333333,
              "#9c179e"
             ],
             [
              0.4444444444444444,
              "#bd3786"
             ],
             [
              0.5555555555555556,
              "#d8576b"
             ],
             [
              0.6666666666666666,
              "#ed7953"
             ],
             [
              0.7777777777777778,
              "#fb9f3a"
             ],
             [
              0.8888888888888888,
              "#fdca26"
             ],
             [
              1,
              "#f0f921"
             ]
            ],
            "type": "histogram2dcontour"
           }
          ],
          "mesh3d": [
           {
            "colorbar": {
             "outlinewidth": 0,
             "ticks": ""
            },
            "type": "mesh3d"
           }
          ],
          "parcoords": [
           {
            "line": {
             "colorbar": {
              "outlinewidth": 0,
              "ticks": ""
             }
            },
            "type": "parcoords"
           }
          ],
          "pie": [
           {
            "automargin": true,
            "type": "pie"
           }
          ],
          "scatter": [
           {
            "fillpattern": {
             "fillmode": "overlay",
             "size": 10,
             "solidity": 0.2
            },
            "type": "scatter"
           }
          ],
          "scatter3d": [
           {
            "line": {
             "colorbar": {
              "outlinewidth": 0,
              "ticks": ""
             }
            },
            "marker": {
             "colorbar": {
              "outlinewidth": 0,
              "ticks": ""
             }
            },
            "type": "scatter3d"
           }
          ],
          "scattercarpet": [
           {
            "marker": {
             "colorbar": {
              "outlinewidth": 0,
              "ticks": ""
             }
            },
            "type": "scattercarpet"
           }
          ],
          "scattergeo": [
           {
            "marker": {
             "colorbar": {
              "outlinewidth": 0,
              "ticks": ""
             }
            },
            "type": "scattergeo"
           }
          ],
          "scattergl": [
           {
            "marker": {
             "colorbar": {
              "outlinewidth": 0,
              "ticks": ""
             }
            },
            "type": "scattergl"
           }
          ],
          "scattermapbox": [
           {
            "marker": {
             "colorbar": {
              "outlinewidth": 0,
              "ticks": ""
             }
            },
            "type": "scattermapbox"
           }
          ],
          "scatterpolar": [
           {
            "marker": {
             "colorbar": {
              "outlinewidth": 0,
              "ticks": ""
             }
            },
            "type": "scatterpolar"
           }
          ],
          "scatterpolargl": [
           {
            "marker": {
             "colorbar": {
              "outlinewidth": 0,
              "ticks": ""
             }
            },
            "type": "scatterpolargl"
           }
          ],
          "scatterternary": [
           {
            "marker": {
             "colorbar": {
              "outlinewidth": 0,
              "ticks": ""
             }
            },
            "type": "scatterternary"
           }
          ],
          "surface": [
           {
            "colorbar": {
             "outlinewidth": 0,
             "ticks": ""
            },
            "colorscale": [
             [
              0,
              "#0d0887"
             ],
             [
              0.1111111111111111,
              "#46039f"
             ],
             [
              0.2222222222222222,
              "#7201a8"
             ],
             [
              0.3333333333333333,
              "#9c179e"
             ],
             [
              0.4444444444444444,
              "#bd3786"
             ],
             [
              0.5555555555555556,
              "#d8576b"
             ],
             [
              0.6666666666666666,
              "#ed7953"
             ],
             [
              0.7777777777777778,
              "#fb9f3a"
             ],
             [
              0.8888888888888888,
              "#fdca26"
             ],
             [
              1,
              "#f0f921"
             ]
            ],
            "type": "surface"
           }
          ],
          "table": [
           {
            "cells": {
             "fill": {
              "color": "#EBF0F8"
             },
             "line": {
              "color": "white"
             }
            },
            "header": {
             "fill": {
              "color": "#C8D4E3"
             },
             "line": {
              "color": "white"
             }
            },
            "type": "table"
           }
          ]
         },
         "layout": {
          "annotationdefaults": {
           "arrowcolor": "#2a3f5f",
           "arrowhead": 0,
           "arrowwidth": 1
          },
          "autotypenumbers": "strict",
          "coloraxis": {
           "colorbar": {
            "outlinewidth": 0,
            "ticks": ""
           }
          },
          "colorscale": {
           "diverging": [
            [
             0,
             "#8e0152"
            ],
            [
             0.1,
             "#c51b7d"
            ],
            [
             0.2,
             "#de77ae"
            ],
            [
             0.3,
             "#f1b6da"
            ],
            [
             0.4,
             "#fde0ef"
            ],
            [
             0.5,
             "#f7f7f7"
            ],
            [
             0.6,
             "#e6f5d0"
            ],
            [
             0.7,
             "#b8e186"
            ],
            [
             0.8,
             "#7fbc41"
            ],
            [
             0.9,
             "#4d9221"
            ],
            [
             1,
             "#276419"
            ]
           ],
           "sequential": [
            [
             0,
             "#0d0887"
            ],
            [
             0.1111111111111111,
             "#46039f"
            ],
            [
             0.2222222222222222,
             "#7201a8"
            ],
            [
             0.3333333333333333,
             "#9c179e"
            ],
            [
             0.4444444444444444,
             "#bd3786"
            ],
            [
             0.5555555555555556,
             "#d8576b"
            ],
            [
             0.6666666666666666,
             "#ed7953"
            ],
            [
             0.7777777777777778,
             "#fb9f3a"
            ],
            [
             0.8888888888888888,
             "#fdca26"
            ],
            [
             1,
             "#f0f921"
            ]
           ],
           "sequentialminus": [
            [
             0,
             "#0d0887"
            ],
            [
             0.1111111111111111,
             "#46039f"
            ],
            [
             0.2222222222222222,
             "#7201a8"
            ],
            [
             0.3333333333333333,
             "#9c179e"
            ],
            [
             0.4444444444444444,
             "#bd3786"
            ],
            [
             0.5555555555555556,
             "#d8576b"
            ],
            [
             0.6666666666666666,
             "#ed7953"
            ],
            [
             0.7777777777777778,
             "#fb9f3a"
            ],
            [
             0.8888888888888888,
             "#fdca26"
            ],
            [
             1,
             "#f0f921"
            ]
           ]
          },
          "colorway": [
           "#636efa",
           "#EF553B",
           "#00cc96",
           "#ab63fa",
           "#FFA15A",
           "#19d3f3",
           "#FF6692",
           "#B6E880",
           "#FF97FF",
           "#FECB52"
          ],
          "font": {
           "color": "#2a3f5f"
          },
          "geo": {
           "bgcolor": "white",
           "lakecolor": "white",
           "landcolor": "#E5ECF6",
           "showlakes": true,
           "showland": true,
           "subunitcolor": "white"
          },
          "hoverlabel": {
           "align": "left"
          },
          "hovermode": "closest",
          "mapbox": {
           "style": "light"
          },
          "paper_bgcolor": "white",
          "plot_bgcolor": "#E5ECF6",
          "polar": {
           "angularaxis": {
            "gridcolor": "white",
            "linecolor": "white",
            "ticks": ""
           },
           "bgcolor": "#E5ECF6",
           "radialaxis": {
            "gridcolor": "white",
            "linecolor": "white",
            "ticks": ""
           }
          },
          "scene": {
           "xaxis": {
            "backgroundcolor": "#E5ECF6",
            "gridcolor": "white",
            "gridwidth": 2,
            "linecolor": "white",
            "showbackground": true,
            "ticks": "",
            "zerolinecolor": "white"
           },
           "yaxis": {
            "backgroundcolor": "#E5ECF6",
            "gridcolor": "white",
            "gridwidth": 2,
            "linecolor": "white",
            "showbackground": true,
            "ticks": "",
            "zerolinecolor": "white"
           },
           "zaxis": {
            "backgroundcolor": "#E5ECF6",
            "gridcolor": "white",
            "gridwidth": 2,
            "linecolor": "white",
            "showbackground": true,
            "ticks": "",
            "zerolinecolor": "white"
           }
          },
          "shapedefaults": {
           "line": {
            "color": "#2a3f5f"
           }
          },
          "ternary": {
           "aaxis": {
            "gridcolor": "white",
            "linecolor": "white",
            "ticks": ""
           },
           "baxis": {
            "gridcolor": "white",
            "linecolor": "white",
            "ticks": ""
           },
           "bgcolor": "#E5ECF6",
           "caxis": {
            "gridcolor": "white",
            "linecolor": "white",
            "ticks": ""
           }
          },
          "title": {
           "x": 0.05
          },
          "xaxis": {
           "automargin": true,
           "gridcolor": "white",
           "linecolor": "white",
           "ticks": "",
           "title": {
            "standoff": 15
           },
           "zerolinecolor": "white",
           "zerolinewidth": 2
          },
          "yaxis": {
           "automargin": true,
           "gridcolor": "white",
           "linecolor": "white",
           "ticks": "",
           "title": {
            "standoff": 15
           },
           "zerolinecolor": "white",
           "zerolinewidth": 2
          }
         }
        },
        "xaxis": {
         "anchor": "y",
         "domain": [
          0,
          1
         ],
         "title": {
          "text": "obesity_2016"
         }
        },
        "yaxis": {
         "anchor": "x",
         "domain": [
          0,
          1
         ],
         "title": {
          "text": "country"
         }
        }
       }
      }
     },
     "metadata": {},
     "output_type": "display_data"
    }
   ],
   "source": [
    "fig = px.scatter(data, x=\"obesity_2016\", y=\"country\", color=\"Continent\", hover_data=['obesity_2016'])\n",
    "fig.show()\n"
   ]
  },
  {
   "cell_type": "markdown",
   "metadata": {},
   "source": [
    "Going off the previous graph and results, it is expected to find countries in Africa showing low obesity percentages across the board. Interestingly the most obese coutries are from Oceania, and more specfically the Polynesian areas such as Palau, Naura, and the Marshall Islands.This is interesting to find when considering they did not show overpeformance in protein supply yet overpopulate the high obesity scale."
   ]
  },
  {
   "cell_type": "code",
   "execution_count": 24,
   "metadata": {},
   "outputs": [
    {
     "data": {
      "application/vnd.plotly.v1+json": {
       "config": {
        "plotlyServerURL": "https://plot.ly"
       },
       "data": [
        {
         "hovertemplate": "Continent=Africa<br>happiness2021=%{x}<br>country=%{y}<extra></extra>",
         "legendgroup": "Africa",
         "marker": {
          "color": "#636efa",
          "symbol": "circle"
         },
         "mode": "markers",
         "name": "Africa",
         "orientation": "h",
         "showlegend": true,
         "type": "scatter",
         "x": [
          4.887,
          4.532128205128205,
          5.045,
          3.467,
          4.532128205128205,
          3.775,
          5.142,
          4.532128205128205,
          4.532128205128205,
          4.355,
          4.289,
          5.342,
          4.532128205128205,
          4.532128205128205,
          4.283,
          4.283,
          4.532128205128205,
          4.532128205128205,
          4.275,
          4.852,
          5.051,
          5.088,
          4.984,
          4.532128205128205,
          5.306,
          4.607,
          3.512,
          4.625,
          5.41,
          4.208,
          3.6,
          4.723,
          4.227,
          6.049,
          4.918,
          4.794,
          4.574,
          5.074,
          4.759,
          3.415,
          4.532128205128205,
          5.132,
          4.532128205128205,
          3.849,
          4.532128205128205,
          4.956,
          4.532128205128205,
          4.532128205128205,
          4.532128205128205,
          3.623,
          4.107,
          4.596,
          4.636,
          4.073,
          3.145
         ],
         "xaxis": "x",
         "y": [
          "Algeria",
          "Angola",
          "Benin",
          "Botswana",
          "Burkina",
          "Burundi",
          "Cameroon",
          "Cape Verde",
          "Central African Republic",
          "Chad",
          "Comoros",
          "Congo",
          "Congo, Democratic Republic of",
          "Djibouti",
          "Egypt",
          "Egypt",
          "Equatorial Guinea",
          "Eritrea",
          "Ethiopia",
          "Gabon",
          "Gambia",
          "Ghana",
          "Guinea",
          "Guinea-Bissau",
          "Ivory Coast",
          "Kenya",
          "Lesotho",
          "Liberia",
          "Libya",
          "Madagascar",
          "Malawi",
          "Mali",
          "Mauritania",
          "Mauritius",
          "Morocco",
          "Mozambique",
          "Namibia",
          "Niger",
          "Nigeria",
          "Rwanda",
          "Sao Tome and Principe",
          "Senegal",
          "Seychelles",
          "Sierra Leone",
          "Somalia",
          "South Africa",
          "South Sudan",
          "Sudan",
          "Swaziland",
          "Tanzania",
          "Togo",
          "Tunisia",
          "Uganda",
          "Zambia",
          "Zimbabwe"
         ],
         "yaxis": "y"
        },
        {
         "hovertemplate": "Continent=Asia<br>happiness2021=%{x}<br>country=%{y}<extra></extra>",
         "legendgroup": "Asia",
         "marker": {
          "color": "#EF553B",
          "symbol": "circle"
         },
         "mode": "markers",
         "name": "Asia",
         "orientation": "h",
         "showlegend": true,
         "type": "scatter",
         "x": [
          2.523,
          6.647,
          5.025,
          5.3429166666666665,
          5.3429166666666665,
          5.3429166666666665,
          4.83,
          5.339,
          5.3429166666666665,
          3.819,
          5.345,
          4.721,
          4.854,
          7.157,
          5.94,
          4.395,
          6.152,
          6.152,
          6.152,
          6.152,
          5.3429166666666665,
          5.845,
          6.106,
          5.744,
          5.03,
          4.584,
          5.384,
          5.198,
          5.677,
          5.269,
          5.3429166666666665,
          4.934,
          5.88,
          5.3429166666666665,
          5.477,
          5.477,
          5.477,
          6.494,
          6.377,
          4.325,
          5.3429166666666665,
          5.466,
          5.985,
          4.948,
          4.948,
          4.948,
          4.948,
          5.066,
          6.561,
          6.179,
          5.411,
          3.658
         ],
         "xaxis": "x",
         "y": [
          "Afghanistan",
          "Bahrain",
          "Bangladesh",
          "Bhutan",
          "Brunei",
          "Burma (Myanmar)",
          "Cambodia",
          "China",
          "East Timor",
          "India",
          "Indonesia",
          "Iran",
          "Iraq",
          "Israel",
          "Japan",
          "Jordan",
          "Kazakhstan",
          "Kazakhstan",
          "Kazakhstan",
          "Kazakhstan",
          "North Korea",
          "South Korea",
          "Kuwait",
          "Kyrgyzstan",
          "Laos",
          "Lebanon",
          "Malaysia",
          "Maldives",
          "Mongolia",
          "Nepal",
          "Oman",
          "Pakistan",
          "Philippines",
          "Qatar",
          "Russia",
          "Russia",
          "Russia",
          "Saudi Arabia",
          "Singapore",
          "Sri Lanka",
          "Syria",
          "Tajikistan",
          "Thailand",
          "Turkey",
          "Turkey",
          "Turkey",
          "Turkey",
          "Turkmenistan",
          "United Arab Emirates",
          "Uzbekistan",
          "Vietnam",
          "Yemen"
         ],
         "yaxis": "y"
        },
        {
         "hovertemplate": "Continent=Europe<br>happiness2021=%{x}<br>country=%{y}<extra></extra>",
         "legendgroup": "Europe",
         "marker": {
          "color": "#00cc96",
          "symbol": "circle"
         },
         "mode": "markers",
         "name": "Europe",
         "orientation": "h",
         "showlegend": true,
         "type": "scatter",
         "x": [
          5.117,
          6.377195121951219,
          5.283,
          5.283,
          5.283,
          5.283,
          7.268,
          5.171,
          5.171,
          5.171,
          5.171,
          5.534,
          6.834,
          5.813,
          5.266,
          5.882,
          6.223,
          6.223,
          6.223,
          6.223,
          6.965,
          7.62,
          6.189,
          7.842,
          6.69,
          4.891,
          4.891,
          4.891,
          4.891,
          7.155,
          5.723,
          5.992,
          7.554,
          7.085,
          6.483,
          6.032,
          6.377195121951219,
          6.255,
          7.324,
          6.377195121951219,
          6.602,
          5.766,
          6.377195121951219,
          5.581,
          7.464,
          7.392,
          6.166,
          5.929,
          6.14,
          6.377195121951219,
          6.078,
          6.331,
          6.461,
          6.491,
          7.363,
          7.571,
          4.875,
          7.064,
          6.377195121951219
         ],
         "xaxis": "x",
         "y": [
          "Albania",
          "Andorra",
          "Armenia",
          "Armenia",
          "Armenia",
          "Armenia",
          "Austria",
          "Azerbaijan",
          "Azerbaijan",
          "Azerbaijan",
          "Azerbaijan",
          "Belarus",
          "Belgium",
          "Bosnia and Herzegovina",
          "Bulgaria",
          "Croatia",
          "Cyprus",
          "Cyprus",
          "Cyprus",
          "Cyprus",
          "Czech Republic",
          "Denmark",
          "Estonia",
          "Finland",
          "France",
          "Georgia",
          "Georgia",
          "Georgia",
          "Georgia",
          "Germany",
          "Greece",
          "Hungary",
          "Iceland",
          "Ireland",
          "Italy",
          "Latvia",
          "Liechtenstein",
          "Lithuania",
          "Luxembourg",
          "Macedonia",
          "Malta",
          "Moldova",
          "Monaco",
          "Montenegro",
          "Netherlands",
          "Norway",
          "Poland",
          "Portugal",
          "Romania",
          "San Marino",
          "Serbia",
          "Slovakia",
          "Slovenia",
          "Spain",
          "Sweden",
          "Switzerland",
          "Ukraine",
          "United Kingdom",
          "Vatican City"
         ],
         "yaxis": "y"
        },
        {
         "hovertemplate": "Continent=North America<br>happiness2021=%{x}<br>country=%{y}<extra></extra>",
         "legendgroup": "North America",
         "marker": {
          "color": "#ab63fa",
          "symbol": "circle"
         },
         "mode": "markers",
         "name": "North America",
         "orientation": "h",
         "showlegend": true,
         "type": "scatter",
         "x": [
          6.123,
          6.123,
          6.123,
          6.123,
          7.103,
          7.069,
          6.123,
          6.123,
          5.545,
          6.061,
          6.123,
          6.435,
          3.615,
          5.919,
          6.309,
          6.317,
          5.972,
          6.18,
          6.123,
          6.123,
          6.123,
          6.123,
          6.951
         ],
         "xaxis": "x",
         "y": [
          "Antigua and Barbuda",
          "Bahamas",
          "Barbados",
          "Belize",
          "Canada",
          "Costa Rica",
          "Cuba",
          "Dominica",
          "Dominican Republic",
          "El Salvador",
          "Grenada",
          "Guatemala",
          "Haiti",
          "Honduras",
          "Jamaica",
          "Mexico",
          "Nicaragua",
          "Panama",
          "Saint Kitts and Nevis",
          "Saint Lucia",
          "Saint Vincent and the Grenadines",
          "Trinidad and Tobago",
          "United States"
         ],
         "yaxis": "y"
        },
        {
         "hovertemplate": "Continent=Oceania<br>happiness2021=%{x}<br>country=%{y}<extra></extra>",
         "legendgroup": "Oceania",
         "marker": {
          "color": "#FFA15A",
          "symbol": "circle"
         },
         "mode": "markers",
         "name": "Oceania",
         "orientation": "h",
         "showlegend": true,
         "type": "scatter",
         "x": [
          7.183,
          7.23,
          7.23,
          7.23,
          7.23,
          7.23,
          7.23,
          7.277,
          7.23,
          7.23,
          7.23,
          7.23,
          7.23,
          7.23,
          7.23
         ],
         "xaxis": "x",
         "y": [
          "Australia",
          "Fiji",
          "Kiribati",
          "Marshall Islands",
          "Micronesia",
          "Micronesia",
          "Nauru",
          "New Zealand",
          "Palau",
          "Papua New Guinea",
          "Samoa",
          "Solomon Islands",
          "Tonga",
          "Tuvalu",
          "Vanuatu"
         ],
         "yaxis": "y"
        },
        {
         "hovertemplate": "Continent=South America<br>happiness2021=%{x}<br>country=%{y}<extra></extra>",
         "legendgroup": "South America",
         "marker": {
          "color": "#19d3f3",
          "symbol": "circle"
         },
         "mode": "markers",
         "name": "South America",
         "orientation": "h",
         "showlegend": true,
         "type": "scatter",
         "x": [
          5.929,
          5.716,
          6.33,
          6.172,
          6.012,
          5.764,
          5.8739,
          5.653,
          5.84,
          5.8739,
          6.431,
          4.892
         ],
         "xaxis": "x",
         "y": [
          "Argentina",
          "Bolivia",
          "Brazil",
          "Chile",
          "Colombia",
          "Ecuador",
          "Guyana",
          "Paraguay",
          "Peru",
          "Suriname",
          "Uruguay",
          "Venezuela"
         ],
         "yaxis": "y"
        }
       ],
       "layout": {
        "legend": {
         "title": {
          "text": "Continent"
         },
         "tracegroupgap": 0
        },
        "margin": {
         "t": 60
        },
        "template": {
         "data": {
          "bar": [
           {
            "error_x": {
             "color": "#2a3f5f"
            },
            "error_y": {
             "color": "#2a3f5f"
            },
            "marker": {
             "line": {
              "color": "#E5ECF6",
              "width": 0.5
             },
             "pattern": {
              "fillmode": "overlay",
              "size": 10,
              "solidity": 0.2
             }
            },
            "type": "bar"
           }
          ],
          "barpolar": [
           {
            "marker": {
             "line": {
              "color": "#E5ECF6",
              "width": 0.5
             },
             "pattern": {
              "fillmode": "overlay",
              "size": 10,
              "solidity": 0.2
             }
            },
            "type": "barpolar"
           }
          ],
          "carpet": [
           {
            "aaxis": {
             "endlinecolor": "#2a3f5f",
             "gridcolor": "white",
             "linecolor": "white",
             "minorgridcolor": "white",
             "startlinecolor": "#2a3f5f"
            },
            "baxis": {
             "endlinecolor": "#2a3f5f",
             "gridcolor": "white",
             "linecolor": "white",
             "minorgridcolor": "white",
             "startlinecolor": "#2a3f5f"
            },
            "type": "carpet"
           }
          ],
          "choropleth": [
           {
            "colorbar": {
             "outlinewidth": 0,
             "ticks": ""
            },
            "type": "choropleth"
           }
          ],
          "contour": [
           {
            "colorbar": {
             "outlinewidth": 0,
             "ticks": ""
            },
            "colorscale": [
             [
              0,
              "#0d0887"
             ],
             [
              0.1111111111111111,
              "#46039f"
             ],
             [
              0.2222222222222222,
              "#7201a8"
             ],
             [
              0.3333333333333333,
              "#9c179e"
             ],
             [
              0.4444444444444444,
              "#bd3786"
             ],
             [
              0.5555555555555556,
              "#d8576b"
             ],
             [
              0.6666666666666666,
              "#ed7953"
             ],
             [
              0.7777777777777778,
              "#fb9f3a"
             ],
             [
              0.8888888888888888,
              "#fdca26"
             ],
             [
              1,
              "#f0f921"
             ]
            ],
            "type": "contour"
           }
          ],
          "contourcarpet": [
           {
            "colorbar": {
             "outlinewidth": 0,
             "ticks": ""
            },
            "type": "contourcarpet"
           }
          ],
          "heatmap": [
           {
            "colorbar": {
             "outlinewidth": 0,
             "ticks": ""
            },
            "colorscale": [
             [
              0,
              "#0d0887"
             ],
             [
              0.1111111111111111,
              "#46039f"
             ],
             [
              0.2222222222222222,
              "#7201a8"
             ],
             [
              0.3333333333333333,
              "#9c179e"
             ],
             [
              0.4444444444444444,
              "#bd3786"
             ],
             [
              0.5555555555555556,
              "#d8576b"
             ],
             [
              0.6666666666666666,
              "#ed7953"
             ],
             [
              0.7777777777777778,
              "#fb9f3a"
             ],
             [
              0.8888888888888888,
              "#fdca26"
             ],
             [
              1,
              "#f0f921"
             ]
            ],
            "type": "heatmap"
           }
          ],
          "heatmapgl": [
           {
            "colorbar": {
             "outlinewidth": 0,
             "ticks": ""
            },
            "colorscale": [
             [
              0,
              "#0d0887"
             ],
             [
              0.1111111111111111,
              "#46039f"
             ],
             [
              0.2222222222222222,
              "#7201a8"
             ],
             [
              0.3333333333333333,
              "#9c179e"
             ],
             [
              0.4444444444444444,
              "#bd3786"
             ],
             [
              0.5555555555555556,
              "#d8576b"
             ],
             [
              0.6666666666666666,
              "#ed7953"
             ],
             [
              0.7777777777777778,
              "#fb9f3a"
             ],
             [
              0.8888888888888888,
              "#fdca26"
             ],
             [
              1,
              "#f0f921"
             ]
            ],
            "type": "heatmapgl"
           }
          ],
          "histogram": [
           {
            "marker": {
             "pattern": {
              "fillmode": "overlay",
              "size": 10,
              "solidity": 0.2
             }
            },
            "type": "histogram"
           }
          ],
          "histogram2d": [
           {
            "colorbar": {
             "outlinewidth": 0,
             "ticks": ""
            },
            "colorscale": [
             [
              0,
              "#0d0887"
             ],
             [
              0.1111111111111111,
              "#46039f"
             ],
             [
              0.2222222222222222,
              "#7201a8"
             ],
             [
              0.3333333333333333,
              "#9c179e"
             ],
             [
              0.4444444444444444,
              "#bd3786"
             ],
             [
              0.5555555555555556,
              "#d8576b"
             ],
             [
              0.6666666666666666,
              "#ed7953"
             ],
             [
              0.7777777777777778,
              "#fb9f3a"
             ],
             [
              0.8888888888888888,
              "#fdca26"
             ],
             [
              1,
              "#f0f921"
             ]
            ],
            "type": "histogram2d"
           }
          ],
          "histogram2dcontour": [
           {
            "colorbar": {
             "outlinewidth": 0,
             "ticks": ""
            },
            "colorscale": [
             [
              0,
              "#0d0887"
             ],
             [
              0.1111111111111111,
              "#46039f"
             ],
             [
              0.2222222222222222,
              "#7201a8"
             ],
             [
              0.3333333333333333,
              "#9c179e"
             ],
             [
              0.4444444444444444,
              "#bd3786"
             ],
             [
              0.5555555555555556,
              "#d8576b"
             ],
             [
              0.6666666666666666,
              "#ed7953"
             ],
             [
              0.7777777777777778,
              "#fb9f3a"
             ],
             [
              0.8888888888888888,
              "#fdca26"
             ],
             [
              1,
              "#f0f921"
             ]
            ],
            "type": "histogram2dcontour"
           }
          ],
          "mesh3d": [
           {
            "colorbar": {
             "outlinewidth": 0,
             "ticks": ""
            },
            "type": "mesh3d"
           }
          ],
          "parcoords": [
           {
            "line": {
             "colorbar": {
              "outlinewidth": 0,
              "ticks": ""
             }
            },
            "type": "parcoords"
           }
          ],
          "pie": [
           {
            "automargin": true,
            "type": "pie"
           }
          ],
          "scatter": [
           {
            "fillpattern": {
             "fillmode": "overlay",
             "size": 10,
             "solidity": 0.2
            },
            "type": "scatter"
           }
          ],
          "scatter3d": [
           {
            "line": {
             "colorbar": {
              "outlinewidth": 0,
              "ticks": ""
             }
            },
            "marker": {
             "colorbar": {
              "outlinewidth": 0,
              "ticks": ""
             }
            },
            "type": "scatter3d"
           }
          ],
          "scattercarpet": [
           {
            "marker": {
             "colorbar": {
              "outlinewidth": 0,
              "ticks": ""
             }
            },
            "type": "scattercarpet"
           }
          ],
          "scattergeo": [
           {
            "marker": {
             "colorbar": {
              "outlinewidth": 0,
              "ticks": ""
             }
            },
            "type": "scattergeo"
           }
          ],
          "scattergl": [
           {
            "marker": {
             "colorbar": {
              "outlinewidth": 0,
              "ticks": ""
             }
            },
            "type": "scattergl"
           }
          ],
          "scattermapbox": [
           {
            "marker": {
             "colorbar": {
              "outlinewidth": 0,
              "ticks": ""
             }
            },
            "type": "scattermapbox"
           }
          ],
          "scatterpolar": [
           {
            "marker": {
             "colorbar": {
              "outlinewidth": 0,
              "ticks": ""
             }
            },
            "type": "scatterpolar"
           }
          ],
          "scatterpolargl": [
           {
            "marker": {
             "colorbar": {
              "outlinewidth": 0,
              "ticks": ""
             }
            },
            "type": "scatterpolargl"
           }
          ],
          "scatterternary": [
           {
            "marker": {
             "colorbar": {
              "outlinewidth": 0,
              "ticks": ""
             }
            },
            "type": "scatterternary"
           }
          ],
          "surface": [
           {
            "colorbar": {
             "outlinewidth": 0,
             "ticks": ""
            },
            "colorscale": [
             [
              0,
              "#0d0887"
             ],
             [
              0.1111111111111111,
              "#46039f"
             ],
             [
              0.2222222222222222,
              "#7201a8"
             ],
             [
              0.3333333333333333,
              "#9c179e"
             ],
             [
              0.4444444444444444,
              "#bd3786"
             ],
             [
              0.5555555555555556,
              "#d8576b"
             ],
             [
              0.6666666666666666,
              "#ed7953"
             ],
             [
              0.7777777777777778,
              "#fb9f3a"
             ],
             [
              0.8888888888888888,
              "#fdca26"
             ],
             [
              1,
              "#f0f921"
             ]
            ],
            "type": "surface"
           }
          ],
          "table": [
           {
            "cells": {
             "fill": {
              "color": "#EBF0F8"
             },
             "line": {
              "color": "white"
             }
            },
            "header": {
             "fill": {
              "color": "#C8D4E3"
             },
             "line": {
              "color": "white"
             }
            },
            "type": "table"
           }
          ]
         },
         "layout": {
          "annotationdefaults": {
           "arrowcolor": "#2a3f5f",
           "arrowhead": 0,
           "arrowwidth": 1
          },
          "autotypenumbers": "strict",
          "coloraxis": {
           "colorbar": {
            "outlinewidth": 0,
            "ticks": ""
           }
          },
          "colorscale": {
           "diverging": [
            [
             0,
             "#8e0152"
            ],
            [
             0.1,
             "#c51b7d"
            ],
            [
             0.2,
             "#de77ae"
            ],
            [
             0.3,
             "#f1b6da"
            ],
            [
             0.4,
             "#fde0ef"
            ],
            [
             0.5,
             "#f7f7f7"
            ],
            [
             0.6,
             "#e6f5d0"
            ],
            [
             0.7,
             "#b8e186"
            ],
            [
             0.8,
             "#7fbc41"
            ],
            [
             0.9,
             "#4d9221"
            ],
            [
             1,
             "#276419"
            ]
           ],
           "sequential": [
            [
             0,
             "#0d0887"
            ],
            [
             0.1111111111111111,
             "#46039f"
            ],
            [
             0.2222222222222222,
             "#7201a8"
            ],
            [
             0.3333333333333333,
             "#9c179e"
            ],
            [
             0.4444444444444444,
             "#bd3786"
            ],
            [
             0.5555555555555556,
             "#d8576b"
            ],
            [
             0.6666666666666666,
             "#ed7953"
            ],
            [
             0.7777777777777778,
             "#fb9f3a"
            ],
            [
             0.8888888888888888,
             "#fdca26"
            ],
            [
             1,
             "#f0f921"
            ]
           ],
           "sequentialminus": [
            [
             0,
             "#0d0887"
            ],
            [
             0.1111111111111111,
             "#46039f"
            ],
            [
             0.2222222222222222,
             "#7201a8"
            ],
            [
             0.3333333333333333,
             "#9c179e"
            ],
            [
             0.4444444444444444,
             "#bd3786"
            ],
            [
             0.5555555555555556,
             "#d8576b"
            ],
            [
             0.6666666666666666,
             "#ed7953"
            ],
            [
             0.7777777777777778,
             "#fb9f3a"
            ],
            [
             0.8888888888888888,
             "#fdca26"
            ],
            [
             1,
             "#f0f921"
            ]
           ]
          },
          "colorway": [
           "#636efa",
           "#EF553B",
           "#00cc96",
           "#ab63fa",
           "#FFA15A",
           "#19d3f3",
           "#FF6692",
           "#B6E880",
           "#FF97FF",
           "#FECB52"
          ],
          "font": {
           "color": "#2a3f5f"
          },
          "geo": {
           "bgcolor": "white",
           "lakecolor": "white",
           "landcolor": "#E5ECF6",
           "showlakes": true,
           "showland": true,
           "subunitcolor": "white"
          },
          "hoverlabel": {
           "align": "left"
          },
          "hovermode": "closest",
          "mapbox": {
           "style": "light"
          },
          "paper_bgcolor": "white",
          "plot_bgcolor": "#E5ECF6",
          "polar": {
           "angularaxis": {
            "gridcolor": "white",
            "linecolor": "white",
            "ticks": ""
           },
           "bgcolor": "#E5ECF6",
           "radialaxis": {
            "gridcolor": "white",
            "linecolor": "white",
            "ticks": ""
           }
          },
          "scene": {
           "xaxis": {
            "backgroundcolor": "#E5ECF6",
            "gridcolor": "white",
            "gridwidth": 2,
            "linecolor": "white",
            "showbackground": true,
            "ticks": "",
            "zerolinecolor": "white"
           },
           "yaxis": {
            "backgroundcolor": "#E5ECF6",
            "gridcolor": "white",
            "gridwidth": 2,
            "linecolor": "white",
            "showbackground": true,
            "ticks": "",
            "zerolinecolor": "white"
           },
           "zaxis": {
            "backgroundcolor": "#E5ECF6",
            "gridcolor": "white",
            "gridwidth": 2,
            "linecolor": "white",
            "showbackground": true,
            "ticks": "",
            "zerolinecolor": "white"
           }
          },
          "shapedefaults": {
           "line": {
            "color": "#2a3f5f"
           }
          },
          "ternary": {
           "aaxis": {
            "gridcolor": "white",
            "linecolor": "white",
            "ticks": ""
           },
           "baxis": {
            "gridcolor": "white",
            "linecolor": "white",
            "ticks": ""
           },
           "bgcolor": "#E5ECF6",
           "caxis": {
            "gridcolor": "white",
            "linecolor": "white",
            "ticks": ""
           }
          },
          "title": {
           "x": 0.05
          },
          "xaxis": {
           "automargin": true,
           "gridcolor": "white",
           "linecolor": "white",
           "ticks": "",
           "title": {
            "standoff": 15
           },
           "zerolinecolor": "white",
           "zerolinewidth": 2
          },
          "yaxis": {
           "automargin": true,
           "gridcolor": "white",
           "linecolor": "white",
           "ticks": "",
           "title": {
            "standoff": 15
           },
           "zerolinecolor": "white",
           "zerolinewidth": 2
          }
         }
        },
        "xaxis": {
         "anchor": "y",
         "domain": [
          0,
          1
         ],
         "title": {
          "text": "happiness2021"
         }
        },
        "yaxis": {
         "anchor": "x",
         "domain": [
          0,
          1
         ],
         "title": {
          "text": "country"
         }
        }
       }
      }
     },
     "metadata": {},
     "output_type": "display_data"
    }
   ],
   "source": [
    "fig = px.scatter(data, x=\"happiness2021\", y=\"country\", color=\"Continent\", hover_data=['happiness2021'])\n",
    "fig.show()\n",
    "\n"
   ]
  },
  {
   "cell_type": "markdown",
   "metadata": {},
   "source": [
    "Happiness is an interesting metric because it is a medley of many factors. As expected contries in Europe are generally more pleased. The top three being there. The most unhappy countries are Afghanistan, Zimbabwe, and Rwanda. Clustering is somewhat shown here. However this is due to the overlapping due to the data cleaning. This may skew out output and create very obvious clusters, which is not out goal."
   ]
  },
  {
   "cell_type": "code",
   "execution_count": 38,
   "metadata": {},
   "outputs": [
    {
     "data": {
      "text/plain": [
       "<matplotlib.legend.Legend at 0x21bdb7d7460>"
      ]
     },
     "execution_count": 38,
     "metadata": {},
     "output_type": "execute_result"
    },
    {
     "data": {
      "image/png": "[encoded data removed]",
      "text/plain": [
       "<Figure size 432x288 with 1 Axes>"
      ]
     },
     "metadata": {
      "needs_background": "light"
     },
     "output_type": "display_data"
    }
   ],
   "source": [
    "df = pd.melt(data, id_vars='Continent', value_vars=['fem_life_expectancy', 'male_life_expectancy'])\n",
    "\n",
    "sns.boxplot(data=df, x=\"value\", y=\"Continent\", hue=\"variable\")\n",
    "plt.legend(bbox_to_anchor=(1.02, 1), loc='upper left', borderaxespad=0)"
   ]
  },
  {
   "cell_type": "markdown",
   "metadata": {},
   "source": [
    "Generally females in their respective countries tend to outlive their male counterparts. People in Europe tend to live more longer.Individuals in Africa unfortunately live the lowest across both sexes across the continents."
   ]
  },
  {
   "cell_type": "markdown",
   "metadata": {},
   "source": [
    "## Machine Learning and Clustering Analysis"
   ]
  },
  {
   "cell_type": "markdown",
   "metadata": {},
   "source": [
    "The first step in the process is scaling the data using the MinMax transformer. This converts the data to fall within the range of [0,1]. This preserves the shape of the data but it scales the data so that it in measured on the same scale."
   ]
  },
  {
   "cell_type": "code",
   "execution_count": 105,
   "metadata": {},
   "outputs": [],
   "source": [
    "from sklearn import preprocessing\n",
    "\n",
    "info = data.drop(['Continent', 'country'], axis=1)\n",
    "scaler = preprocessing.MinMaxScaler()\n",
    "data_transform = scaler.fit_transform(info)\n",
    "data_transform = pd.DataFrame(data_transform)\n",
    "data_transform.columns = info.columns"
   ]
  },
  {
   "cell_type": "markdown",
   "metadata": {},
   "source": [
    "At this stage, I want to know which variables in the dataset is the most importance. To do this I will use the random forest classifier to then rank the level of importance."
   ]
  },
  {
   "cell_type": "code",
   "execution_count": 117,
   "metadata": {},
   "outputs": [
    {
     "data": {
      "text/html": [
       "<style>#sk-container-id-1 {color: black;background-color: white;}#sk-container-id-1 pre{padding: 0;}#sk-container-id-1 div.sk-toggleable {background-color: white;}#sk-container-id-1 label.sk-toggleable__label {cursor: pointer;display: block;width: 100%;margin-bottom: 0;padding: 0.3em;box-sizing: border-box;text-align: center;}#sk-container-id-1 label.sk-toggleable__label-arrow:before {content: \"▸\";float: left;margin-right: 0.25em;color: #696969;}#sk-container-id-1 label.sk-toggleable__label-arrow:hover:before {color: black;}#sk-container-id-1 div.sk-estimator:hover label.sk-toggleable__label-arrow:before {color: black;}#sk-container-id-1 div.sk-toggleable__content {max-height: 0;max-width: 0;overflow: hidden;text-align: left;background-color: #f0f8ff;}#sk-container-id-1 div.sk-toggleable__content pre {margin: 0.2em;color: black;border-radius: 0.25em;background-color: #f0f8ff;}#sk-container-id-1 input.sk-toggleable__control:checked~div.sk-toggleable__content {max-height: 200px;max-width: 100%;overflow: auto;}#sk-container-id-1 input.sk-toggleable__control:checked~label.sk-toggleable__label-arrow:before {content: \"▾\";}#sk-container-id-1 div.sk-estimator input.sk-toggleable__control:checked~label.sk-toggleable__label {background-color: #d4ebff;}#sk-container-id-1 div.sk-label input.sk-toggleable__control:checked~label.sk-toggleable__label {background-color: #d4ebff;}#sk-container-id-1 input.sk-hidden--visually {border: 0;clip: rect(1px 1px 1px 1px);clip: rect(1px, 1px, 1px, 1px);height: 1px;margin: -1px;overflow: hidden;padding: 0;position: absolute;width: 1px;}#sk-container-id-1 div.sk-estimator {font-family: monospace;background-color: #f0f8ff;border: 1px dotted black;border-radius: 0.25em;box-sizing: border-box;margin-bottom: 0.5em;}#sk-container-id-1 div.sk-estimator:hover {background-color: #d4ebff;}#sk-container-id-1 div.sk-parallel-item::after {content: \"\";width: 100%;border-bottom: 1px solid gray;flex-grow: 1;}#sk-container-id-1 div.sk-label:hover label.sk-toggleable__label {background-color: #d4ebff;}#sk-container-id-1 div.sk-serial::before {content: \"\";position: absolute;border-left: 1px solid gray;box-sizing: border-box;top: 0;bottom: 0;left: 50%;z-index: 0;}#sk-container-id-1 div.sk-serial {display: flex;flex-direction: column;align-items: center;background-color: white;padding-right: 0.2em;padding-left: 0.2em;position: relative;}#sk-container-id-1 div.sk-item {position: relative;z-index: 1;}#sk-container-id-1 div.sk-parallel {display: flex;align-items: stretch;justify-content: center;background-color: white;position: relative;}#sk-container-id-1 div.sk-item::before, #sk-container-id-1 div.sk-parallel-item::before {content: \"\";position: absolute;border-left: 1px solid gray;box-sizing: border-box;top: 0;bottom: 0;left: 50%;z-index: -1;}#sk-container-id-1 div.sk-parallel-item {display: flex;flex-direction: column;z-index: 1;position: relative;background-color: white;}#sk-container-id-1 div.sk-parallel-item:first-child::after {align-self: flex-end;width: 50%;}#sk-container-id-1 div.sk-parallel-item:last-child::after {align-self: flex-start;width: 50%;}#sk-container-id-1 div.sk-parallel-item:only-child::after {width: 0;}#sk-container-id-1 div.sk-dashed-wrapped {border: 1px dashed gray;margin: 0 0.4em 0.5em 0.4em;box-sizing: border-box;padding-bottom: 0.4em;background-color: white;}#sk-container-id-1 div.sk-label label {font-family: monospace;font-weight: bold;display: inline-block;line-height: 1.2em;}#sk-container-id-1 div.sk-label-container {text-align: center;}#sk-container-id-1 div.sk-container {/* jupyter's `normalize.less` sets `[hidden] { display: none; }` but bootstrap.min.css set `[hidden] { display: none !important; }` so we also need the `!important` here to be able to override the default hidden behavior on the sphinx rendered scikit-learn.org. See: https://github.com/scikit-learn/scikit-learn/issues/21755 */display: inline-block !important;position: relative;}#sk-container-id-1 div.sk-text-repr-fallback {display: none;}</style><div id=\"sk-container-id-1\" class=\"sk-top-container\"><div class=\"sk-text-repr-fallback\"><pre>RandomForestRegressor()</pre><b>In a Jupyter environment, please rerun this cell to show the HTML representation or trust the notebook. <br />On GitHub, the HTML representation is unable to render, please try loading this page with nbviewer.org.</b></div><div class=\"sk-container\" hidden><div class=\"sk-item\"><div class=\"sk-estimator sk-toggleable\"><input class=\"sk-toggleable__control sk-hidden--visually\" id=\"sk-estimator-id-1\" type=\"checkbox\" checked><label for=\"sk-estimator-id-1\" class=\"sk-toggleable__label sk-toggleable__label-arrow\">RandomForestRegressor</label><div class=\"sk-toggleable__content\"><pre>RandomForestRegressor()</pre></div></div></div></div></div>"
      ],
      "text/plain": [
       "RandomForestRegressor()"
      ]
     },
     "execution_count": 117,
     "metadata": {},
     "output_type": "execute_result"
    }
   ],
   "source": [
    "rf = RandomForestRegressor(n_estimators=100)\n",
    "rf.fit(data_transform,pd.get_dummies(data['Continent']))"
   ]
  },
  {
   "cell_type": "code",
   "execution_count": 121,
   "metadata": {},
   "outputs": [
    {
     "data": {
      "text/plain": [
       "<BarContainer object of 14 artists>"
      ]
     },
     "execution_count": 121,
     "metadata": {},
     "output_type": "execute_result"
    },
    {
     "data": {
      "image/png": "[encoded data removed]",
      "text/plain": [
       "<Figure size 432x288 with 1 Axes>"
      ]
     },
     "metadata": {
      "needs_background": "light"
     },
     "output_type": "display_data"
    }
   ],
   "source": [
    "sorted_idx = rf.feature_importances_.argsort()\n",
    "plt.barh(info.columns[sorted_idx], rf.feature_importances_[sorted_idx])\n"
   ]
  },
  {
   "cell_type": "code",
   "execution_count": 131,
   "metadata": {},
   "outputs": [
    {
     "data": {
      "application/vnd.plotly.v1+json": {
       "config": {
        "plotlyServerURL": "https://plot.ly"
       },
       "data": [
        {
         "hovertemplate": "Continent=Africa<br>happiness2021=%{x}<br>country=%{y}<extra></extra>",
         "legendgroup": "Africa",
         "marker": {
          "color": "#636efa",
          "symbol": "circle"
         },
         "mode": "markers",
         "name": "Africa",
         "orientation": "h",
         "showlegend": true,
         "type": "scatter",
         "x": [
          4.887,
          4.532128205128205,
          5.045,
          3.467,
          4.532128205128205,
          3.775,
          5.142,
          4.532128205128205,
          4.532128205128205,
          4.355,
          4.289,
          5.342,
          4.532128205128205,
          4.532128205128205,
          4.283,
          4.283,
          4.532128205128205,
          4.532128205128205,
          4.275,
          4.852,
          5.051,
          5.088,
          4.984,
          4.532128205128205,
          5.306,
          4.607,
          3.512,
          4.625,
          5.41,
          4.208,
          3.6,
          4.723,
          4.227,
          6.049,
          4.918,
          4.794,
          4.574,
          5.074,
          4.759,
          3.415,
          4.532128205128205,
          5.132,
          4.532128205128205,
          3.849,
          4.532128205128205,
          4.956,
          4.532128205128205,
          4.532128205128205,
          4.532128205128205,
          3.623,
          4.107,
          4.596,
          4.636,
          4.073,
          3.145
         ],
         "xaxis": "x",
         "y": [
          "Algeria",
          "Angola",
          "Benin",
          "Botswana",
          "Burkina",
          "Burundi",
          "Cameroon",
          "Cape Verde",
          "Central African Republic",
          "Chad",
          "Comoros",
          "Congo",
          "Congo, Democratic Republic of",
          "Djibouti",
          "Egypt",
          "Egypt",
          "Equatorial Guinea",
          "Eritrea",
          "Ethiopia",
          "Gabon",
          "Gambia",
          "Ghana",
          "Guinea",
          "Guinea-Bissau",
          "Ivory Coast",
          "Kenya",
          "Lesotho",
          "Liberia",
          "Libya",
          "Madagascar",
          "Malawi",
          "Mali",
          "Mauritania",
          "Mauritius",
          "Morocco",
          "Mozambique",
          "Namibia",
          "Niger",
          "Nigeria",
          "Rwanda",
          "Sao Tome and Principe",
          "Senegal",
          "Seychelles",
          "Sierra Leone",
          "Somalia",
          "South Africa",
          "South Sudan",
          "Sudan",
          "Swaziland",
          "Tanzania",
          "Togo",
          "Tunisia",
          "Uganda",
          "Zambia",
          "Zimbabwe"
         ],
         "yaxis": "y"
        },
        {
         "hovertemplate": "Continent=Asia<br>happiness2021=%{x}<br>country=%{y}<extra></extra>",
         "legendgroup": "Asia",
         "marker": {
          "color": "#EF553B",
          "symbol": "circle"
         },
         "mode": "markers",
         "name": "Asia",
         "orientation": "h",
         "showlegend": true,
         "type": "scatter",
         "x": [
          2.523,
          6.647,
          5.025,
          5.3429166666666665,
          5.3429166666666665,
          5.3429166666666665,
          4.83,
          5.339,
          5.3429166666666665,
          3.819,
          5.345,
          4.721,
          4.854,
          7.157,
          5.94,
          4.395,
          6.152,
          6.152,
          6.152,
          6.152,
          5.3429166666666665,
          5.845,
          6.106,
          5.744,
          5.03,
          4.584,
          5.384,
          5.198,
          5.677,
          5.269,
          5.3429166666666665,
          4.934,
          5.88,
          5.3429166666666665,
          5.477,
          5.477,
          5.477,
          6.494,
          6.377,
          4.325,
          5.3429166666666665,
          5.466,
          5.985,
          4.948,
          4.948,
          4.948,
          4.948,
          5.066,
          6.561,
          6.179,
          5.411,
          3.658
         ],
         "xaxis": "x",
         "y": [
          "Afghanistan",
          "Bahrain",
          "Bangladesh",
          "Bhutan",
          "Brunei",
          "Burma (Myanmar)",
          "Cambodia",
          "China",
          "East Timor",
          "India",
          "Indonesia",
          "Iran",
          "Iraq",
          "Israel",
          "Japan",
          "Jordan",
          "Kazakhstan",
          "Kazakhstan",
          "Kazakhstan",
          "Kazakhstan",
          "North Korea",
          "South Korea",
          "Kuwait",
          "Kyrgyzstan",
          "Laos",
          "Lebanon",
          "Malaysia",
          "Maldives",
          "Mongolia",
          "Nepal",
          "Oman",
          "Pakistan",
          "Philippines",
          "Qatar",
          "Russia",
          "Russia",
          "Russia",
          "Saudi Arabia",
          "Singapore",
          "Sri Lanka",
          "Syria",
          "Tajikistan",
          "Thailand",
          "Turkey",
          "Turkey",
          "Turkey",
          "Turkey",
          "Turkmenistan",
          "United Arab Emirates",
          "Uzbekistan",
          "Vietnam",
          "Yemen"
         ],
         "yaxis": "y"
        },
        {
         "hovertemplate": "Continent=Europe<br>happiness2021=%{x}<br>country=%{y}<extra></extra>",
         "legendgroup": "Europe",
         "marker": {
          "color": "#00cc96",
          "symbol": "circle"
         },
         "mode": "markers",
         "name": "Europe",
         "orientation": "h",
         "showlegend": true,
         "type": "scatter",
         "x": [
          5.117,
          6.377195121951219,
          5.283,
          5.283,
          5.283,
          5.283,
          7.268,
          5.171,
          5.171,
          5.171,
          5.171,
          5.534,
          6.834,
          5.813,
          5.266,
          5.882,
          6.223,
          6.223,
          6.223,
          6.223,
          6.965,
          7.62,
          6.189,
          7.842,
          6.69,
          4.891,
          4.891,
          4.891,
          4.891,
          7.155,
          5.723,
          5.992,
          7.554,
          7.085,
          6.483,
          6.032,
          6.377195121951219,
          6.255,
          7.324,
          6.377195121951219,
          6.602,
          5.766,
          6.377195121951219,
          5.581,
          7.464,
          7.392,
          6.166,
          5.929,
          6.14,
          6.377195121951219,
          6.078,
          6.331,
          6.461,
          6.491,
          7.363,
          7.571,
          4.875,
          7.064,
          6.377195121951219
         ],
         "xaxis": "x",
         "y": [
          "Albania",
          "Andorra",
          "Armenia",
          "Armenia",
          "Armenia",
          "Armenia",
          "Austria",
          "Azerbaijan",
          "Azerbaijan",
          "Azerbaijan",
          "Azerbaijan",
          "Belarus",
          "Belgium",
          "Bosnia and Herzegovina",
          "Bulgaria",
          "Croatia",
          "Cyprus",
          "Cyprus",
          "Cyprus",
          "Cyprus",
          "Czech Republic",
          "Denmark",
          "Estonia",
          "Finland",
          "France",
          "Georgia",
          "Georgia",
          "Georgia",
          "Georgia",
          "Germany",
          "Greece",
          "Hungary",
          "Iceland",
          "Ireland",
          "Italy",
          "Latvia",
          "Liechtenstein",
          "Lithuania",
          "Luxembourg",
          "Macedonia",
          "Malta",
          "Moldova",
          "Monaco",
          "Montenegro",
          "Netherlands",
          "Norway",
          "Poland",
          "Portugal",
          "Romania",
          "San Marino",
          "Serbia",
          "Slovakia",
          "Slovenia",
          "Spain",
          "Sweden",
          "Switzerland",
          "Ukraine",
          "United Kingdom",
          "Vatican City"
         ],
         "yaxis": "y"
        },
        {
         "hovertemplate": "Continent=North America<br>happiness2021=%{x}<br>country=%{y}<extra></extra>",
         "legendgroup": "North America",
         "marker": {
          "color": "#ab63fa",
          "symbol": "circle"
         },
         "mode": "markers",
         "name": "North America",
         "orientation": "h",
         "showlegend": true,
         "type": "scatter",
         "x": [
          6.123,
          6.123,
          6.123,
          6.123,
          7.103,
          7.069,
          6.123,
          6.123,
          5.545,
          6.061,
          6.123,
          6.435,
          3.615,
          5.919,
          6.309,
          6.317,
          5.972,
          6.18,
          6.123,
          6.123,
          6.123,
          6.123,
          6.951
         ],
         "xaxis": "x",
         "y": [
          "Antigua and Barbuda",
          "Bahamas",
          "Barbados",
          "Belize",
          "Canada",
          "Costa Rica",
          "Cuba",
          "Dominica",
          "Dominican Republic",
          "El Salvador",
          "Grenada",
          "Guatemala",
          "Haiti",
          "Honduras",
          "Jamaica",
          "Mexico",
          "Nicaragua",
          "Panama",
          "Saint Kitts and Nevis",
          "Saint Lucia",
          "Saint Vincent and the Grenadines",
          "Trinidad and Tobago",
          "United States"
         ],
         "yaxis": "y"
        },
        {
         "hovertemplate": "Continent=Oceania<br>happiness2021=%{x}<br>country=%{y}<extra></extra>",
         "legendgroup": "Oceania",
         "marker": {
          "color": "#FFA15A",
          "symbol": "circle"
         },
         "mode": "markers",
         "name": "Oceania",
         "orientation": "h",
         "showlegend": true,
         "type": "scatter",
         "x": [
          7.183,
          7.23,
          7.23,
          7.23,
          7.23,
          7.23,
          7.23,
          7.277,
          7.23,
          7.23,
          7.23,
          7.23,
          7.23,
          7.23,
          7.23
         ],
         "xaxis": "x",
         "y": [
          "Australia",
          "Fiji",
          "Kiribati",
          "Marshall Islands",
          "Micronesia",
          "Micronesia",
          "Nauru",
          "New Zealand",
          "Palau",
          "Papua New Guinea",
          "Samoa",
          "Solomon Islands",
          "Tonga",
          "Tuvalu",
          "Vanuatu"
         ],
         "yaxis": "y"
        },
        {
         "hovertemplate": "Continent=South America<br>happiness2021=%{x}<br>country=%{y}<extra></extra>",
         "legendgroup": "South America",
         "marker": {
          "color": "#19d3f3",
          "symbol": "circle"
         },
         "mode": "markers",
         "name": "South America",
         "orientation": "h",
         "showlegend": true,
         "type": "scatter",
         "x": [
          5.929,
          5.716,
          6.33,
          6.172,
          6.012,
          5.764,
          5.8739,
          5.653,
          5.84,
          5.8739,
          6.431,
          4.892
         ],
         "xaxis": "x",
         "y": [
          "Argentina",
          "Bolivia",
          "Brazil",
          "Chile",
          "Colombia",
          "Ecuador",
          "Guyana",
          "Paraguay",
          "Peru",
          "Suriname",
          "Uruguay",
          "Venezuela"
         ],
         "yaxis": "y"
        }
       ],
       "layout": {
        "legend": {
         "title": {
          "text": "Continent"
         },
         "tracegroupgap": 0
        },
        "margin": {
         "t": 60
        },
        "template": {
         "data": {
          "bar": [
           {
            "error_x": {
             "color": "#2a3f5f"
            },
            "error_y": {
             "color": "#2a3f5f"
            },
            "marker": {
             "line": {
              "color": "#E5ECF6",
              "width": 0.5
             },
             "pattern": {
              "fillmode": "overlay",
              "size": 10,
              "solidity": 0.2
             }
            },
            "type": "bar"
           }
          ],
          "barpolar": [
           {
            "marker": {
             "line": {
              "color": "#E5ECF6",
              "width": 0.5
             },
             "pattern": {
              "fillmode": "overlay",
              "size": 10,
              "solidity": 0.2
             }
            },
            "type": "barpolar"
           }
          ],
          "carpet": [
           {
            "aaxis": {
             "endlinecolor": "#2a3f5f",
             "gridcolor": "white",
             "linecolor": "white",
             "minorgridcolor": "white",
             "startlinecolor": "#2a3f5f"
            },
            "baxis": {
             "endlinecolor": "#2a3f5f",
             "gridcolor": "white",
             "linecolor": "white",
             "minorgridcolor": "white",
             "startlinecolor": "#2a3f5f"
            },
            "type": "carpet"
           }
          ],
          "choropleth": [
           {
            "colorbar": {
             "outlinewidth": 0,
             "ticks": ""
            },
            "type": "choropleth"
           }
          ],
          "contour": [
           {
            "colorbar": {
             "outlinewidth": 0,
             "ticks": ""
            },
            "colorscale": [
             [
              0,
              "#0d0887"
             ],
             [
              0.1111111111111111,
              "#46039f"
             ],
             [
              0.2222222222222222,
              "#7201a8"
             ],
             [
              0.3333333333333333,
              "#9c179e"
             ],
             [
              0.4444444444444444,
              "#bd3786"
             ],
             [
              0.5555555555555556,
              "#d8576b"
             ],
             [
              0.6666666666666666,
              "#ed7953"
             ],
             [
              0.7777777777777778,
              "#fb9f3a"
             ],
             [
              0.8888888888888888,
              "#fdca26"
             ],
             [
              1,
              "#f0f921"
             ]
            ],
            "type": "contour"
           }
          ],
          "contourcarpet": [
           {
            "colorbar": {
             "outlinewidth": 0,
             "ticks": ""
            },
            "type": "contourcarpet"
           }
          ],
          "heatmap": [
           {
            "colorbar": {
             "outlinewidth": 0,
             "ticks": ""
            },
            "colorscale": [
             [
              0,
              "#0d0887"
             ],
             [
              0.1111111111111111,
              "#46039f"
             ],
             [
              0.2222222222222222,
              "#7201a8"
             ],
             [
              0.3333333333333333,
              "#9c179e"
             ],
             [
              0.4444444444444444,
              "#bd3786"
             ],
             [
              0.5555555555555556,
              "#d8576b"
             ],
             [
              0.6666666666666666,
              "#ed7953"
             ],
             [
              0.7777777777777778,
              "#fb9f3a"
             ],
             [
              0.8888888888888888,
              "#fdca26"
             ],
             [
              1,
              "#f0f921"
             ]
            ],
            "type": "heatmap"
           }
          ],
          "heatmapgl": [
           {
            "colorbar": {
             "outlinewidth": 0,
             "ticks": ""
            },
            "colorscale": [
             [
              0,
              "#0d0887"
             ],
             [
              0.1111111111111111,
              "#46039f"
             ],
             [
              0.2222222222222222,
              "#7201a8"
             ],
             [
              0.3333333333333333,
              "#9c179e"
             ],
             [
              0.4444444444444444,
              "#bd3786"
             ],
             [
              0.5555555555555556,
              "#d8576b"
             ],
             [
              0.6666666666666666,
              "#ed7953"
             ],
             [
              0.7777777777777778,
              "#fb9f3a"
             ],
             [
              0.8888888888888888,
              "#fdca26"
             ],
             [
              1,
              "#f0f921"
             ]
            ],
            "type": "heatmapgl"
           }
          ],
          "histogram": [
           {
            "marker": {
             "pattern": {
              "fillmode": "overlay",
              "size": 10,
              "solidity": 0.2
             }
            },
            "type": "histogram"
           }
          ],
          "histogram2d": [
           {
            "colorbar": {
             "outlinewidth": 0,
             "ticks": ""
            },
            "colorscale": [
             [
              0,
              "#0d0887"
             ],
             [
              0.1111111111111111,
              "#46039f"
             ],
             [
              0.2222222222222222,
              "#7201a8"
             ],
             [
              0.3333333333333333,
              "#9c179e"
             ],
             [
              0.4444444444444444,
              "#bd3786"
             ],
             [
              0.5555555555555556,
              "#d8576b"
             ],
             [
              0.6666666666666666,
              "#ed7953"
             ],
             [
              0.7777777777777778,
              "#fb9f3a"
             ],
             [
              0.8888888888888888,
              "#fdca26"
             ],
             [
              1,
              "#f0f921"
             ]
            ],
            "type": "histogram2d"
           }
          ],
          "histogram2dcontour": [
           {
            "colorbar": {
             "outlinewidth": 0,
             "ticks": ""
            },
            "colorscale": [
             [
              0,
              "#0d0887"
             ],
             [
              0.1111111111111111,
              "#46039f"
             ],
             [
              0.2222222222222222,
              "#7201a8"
             ],
             [
              0.3333333333333333,
              "#9c179e"
             ],
             [
              0.4444444444444444,
              "#bd3786"
             ],
             [
              0.5555555555555556,
              "#d8576b"
             ],
             [
              0.6666666666666666,
              "#ed7953"
             ],
             [
              0.7777777777777778,
              "#fb9f3a"
             ],
             [
              0.8888888888888888,
              "#fdca26"
             ],
             [
              1,
              "#f0f921"
             ]
            ],
            "type": "histogram2dcontour"
           }
          ],
          "mesh3d": [
           {
            "colorbar": {
             "outlinewidth": 0,
             "ticks": ""
            },
            "type": "mesh3d"
           }
          ],
          "parcoords": [
           {
            "line": {
             "colorbar": {
              "outlinewidth": 0,
              "ticks": ""
             }
            },
            "type": "parcoords"
           }
          ],
          "pie": [
           {
            "automargin": true,
            "type": "pie"
           }
          ],
          "scatter": [
           {
            "fillpattern": {
             "fillmode": "overlay",
             "size": 10,
             "solidity": 0.2
            },
            "type": "scatter"
           }
          ],
          "scatter3d": [
           {
            "line": {
             "colorbar": {
              "outlinewidth": 0,
              "ticks": ""
             }
            },
            "marker": {
             "colorbar": {
              "outlinewidth": 0,
              "ticks": ""
             }
            },
            "type": "scatter3d"
           }
          ],
          "scattercarpet": [
           {
            "marker": {
             "colorbar": {
              "outlinewidth": 0,
              "ticks": ""
             }
            },
            "type": "scattercarpet"
           }
          ],
          "scattergeo": [
           {
            "marker": {
             "colorbar": {
              "outlinewidth": 0,
              "ticks": ""
             }
            },
            "type": "scattergeo"
           }
          ],
          "scattergl": [
           {
            "marker": {
             "colorbar": {
              "outlinewidth": 0,
              "ticks": ""
             }
            },
            "type": "scattergl"
           }
          ],
          "scattermapbox": [
           {
            "marker": {
             "colorbar": {
              "outlinewidth": 0,
              "ticks": ""
             }
            },
            "type": "scattermapbox"
           }
          ],
          "scatterpolar": [
           {
            "marker": {
             "colorbar": {
              "outlinewidth": 0,
              "ticks": ""
             }
            },
            "type": "scatterpolar"
           }
          ],
          "scatterpolargl": [
           {
            "marker": {
             "colorbar": {
              "outlinewidth": 0,
              "ticks": ""
             }
            },
            "type": "scatterpolargl"
           }
          ],
          "scatterternary": [
           {
            "marker": {
             "colorbar": {
              "outlinewidth": 0,
              "ticks": ""
             }
            },
            "type": "scatterternary"
           }
          ],
          "surface": [
           {
            "colorbar": {
             "outlinewidth": 0,
             "ticks": ""
            },
            "colorscale": [
             [
              0,
              "#0d0887"
             ],
             [
              0.1111111111111111,
              "#46039f"
             ],
             [
              0.2222222222222222,
              "#7201a8"
             ],
             [
              0.3333333333333333,
              "#9c179e"
             ],
             [
              0.4444444444444444,
              "#bd3786"
             ],
             [
              0.5555555555555556,
              "#d8576b"
             ],
             [
              0.6666666666666666,
              "#ed7953"
             ],
             [
              0.7777777777777778,
              "#fb9f3a"
             ],
             [
              0.8888888888888888,
              "#fdca26"
             ],
             [
              1,
              "#f0f921"
             ]
            ],
            "type": "surface"
           }
          ],
          "table": [
           {
            "cells": {
             "fill": {
              "color": "#EBF0F8"
             },
             "line": {
              "color": "white"
             }
            },
            "header": {
             "fill": {
              "color": "#C8D4E3"
             },
             "line": {
              "color": "white"
             }
            },
            "type": "table"
           }
          ]
         },
         "layout": {
          "annotationdefaults": {
           "arrowcolor": "#2a3f5f",
           "arrowhead": 0,
           "arrowwidth": 1
          },
          "autotypenumbers": "strict",
          "coloraxis": {
           "colorbar": {
            "outlinewidth": 0,
            "ticks": ""
           }
          },
          "colorscale": {
           "diverging": [
            [
             0,
             "#8e0152"
            ],
            [
             0.1,
             "#c51b7d"
            ],
            [
             0.2,
             "#de77ae"
            ],
            [
             0.3,
             "#f1b6da"
            ],
            [
             0.4,
             "#fde0ef"
            ],
            [
             0.5,
             "#f7f7f7"
            ],
            [
             0.6,
             "#e6f5d0"
            ],
            [
             0.7,
             "#b8e186"
            ],
            [
             0.8,
             "#7fbc41"
            ],
            [
             0.9,
             "#4d9221"
            ],
            [
             1,
             "#276419"
            ]
           ],
           "sequential": [
            [
             0,
             "#0d0887"
            ],
            [
             0.1111111111111111,
             "#46039f"
            ],
            [
             0.2222222222222222,
             "#7201a8"
            ],
            [
             0.3333333333333333,
             "#9c179e"
            ],
            [
             0.4444444444444444,
             "#bd3786"
            ],
            [
             0.5555555555555556,
             "#d8576b"
            ],
            [
             0.6666666666666666,
             "#ed7953"
            ],
            [
             0.7777777777777778,
             "#fb9f3a"
            ],
            [
             0.8888888888888888,
             "#fdca26"
            ],
            [
             1,
             "#f0f921"
            ]
           ],
           "sequentialminus": [
            [
             0,
             "#0d0887"
            ],
            [
             0.1111111111111111,
             "#46039f"
            ],
            [
             0.2222222222222222,
             "#7201a8"
            ],
            [
             0.3333333333333333,
             "#9c179e"
            ],
            [
             0.4444444444444444,
             "#bd3786"
            ],
            [
             0.5555555555555556,
             "#d8576b"
            ],
            [
             0.6666666666666666,
             "#ed7953"
            ],
            [
             0.7777777777777778,
             "#fb9f3a"
            ],
            [
             0.8888888888888888,
             "#fdca26"
            ],
            [
             1,
             "#f0f921"
            ]
           ]
          },
          "colorway": [
           "#636efa",
           "#EF553B",
           "#00cc96",
           "#ab63fa",
           "#FFA15A",
           "#19d3f3",
           "#FF6692",
           "#B6E880",
           "#FF97FF",
           "#FECB52"
          ],
          "font": {
           "color": "#2a3f5f"
          },
          "geo": {
           "bgcolor": "white",
           "lakecolor": "white",
           "landcolor": "#E5ECF6",
           "showlakes": true,
           "showland": true,
           "subunitcolor": "white"
          },
          "hoverlabel": {
           "align": "left"
          },
          "hovermode": "closest",
          "mapbox": {
           "style": "light"
          },
          "paper_bgcolor": "white",
          "plot_bgcolor": "#E5ECF6",
          "polar": {
           "angularaxis": {
            "gridcolor": "white",
            "linecolor": "white",
            "ticks": ""
           },
           "bgcolor": "#E5ECF6",
           "radialaxis": {
            "gridcolor": "white",
            "linecolor": "white",
            "ticks": ""
           }
          },
          "scene": {
           "xaxis": {
            "backgroundcolor": "#E5ECF6",
            "gridcolor": "white",
            "gridwidth": 2,
            "linecolor": "white",
            "showbackground": true,
            "ticks": "",
            "zerolinecolor": "white"
           },
           "yaxis": {
            "backgroundcolor": "#E5ECF6",
            "gridcolor": "white",
            "gridwidth": 2,
            "linecolor": "white",
            "showbackground": true,
            "ticks": "",
            "zerolinecolor": "white"
           },
           "zaxis": {
            "backgroundcolor": "#E5ECF6",
            "gridcolor": "white",
            "gridwidth": 2,
            "linecolor": "white",
            "showbackground": true,
            "ticks": "",
            "zerolinecolor": "white"
           }
          },
          "shapedefaults": {
           "line": {
            "color": "#2a3f5f"
           }
          },
          "ternary": {
           "aaxis": {
            "gridcolor": "white",
            "linecolor": "white",
            "ticks": ""
           },
           "baxis": {
            "gridcolor": "white",
            "linecolor": "white",
            "ticks": ""
           },
           "bgcolor": "#E5ECF6",
           "caxis": {
            "gridcolor": "white",
            "linecolor": "white",
            "ticks": ""
           }
          },
          "title": {
           "x": 0.05
          },
          "xaxis": {
           "automargin": true,
           "gridcolor": "white",
           "linecolor": "white",
           "ticks": "",
           "title": {
            "standoff": 15
           },
           "zerolinecolor": "white",
           "zerolinewidth": 2
          },
          "yaxis": {
           "automargin": true,
           "gridcolor": "white",
           "linecolor": "white",
           "ticks": "",
           "title": {
            "standoff": 15
           },
           "zerolinecolor": "white",
           "zerolinewidth": 2
          }
         }
        },
        "xaxis": {
         "anchor": "y",
         "domain": [
          0,
          1
         ],
         "title": {
          "text": "happiness2021"
         }
        },
        "yaxis": {
         "anchor": "x",
         "domain": [
          0,
          1
         ],
         "title": {
          "text": "country"
         }
        }
       }
      }
     },
     "metadata": {},
     "output_type": "display_data"
    }
   ],
   "source": [
    "fig = px.scatter(data, x=\"happiness2021\", y=\"country\", color=\"Continent\", hover_data=['happiness2021'])\n",
    "fig.show()\n"
   ]
  },
  {
   "cell_type": "markdown",
   "metadata": {},
   "source": [
    "As expected from the previous assumption of happiness potenially being a clear determiner for prediction due to its distinctive overlapping in specific areas different to one another. For this reason, and for the sake of an more robust analysis this should be remove, otherwise identifying countries within their cluster would prove too much of an easy task."
   ]
  },
  {
   "cell_type": "code",
   "execution_count": 134,
   "metadata": {},
   "outputs": [
    {
     "data": {
      "application/vnd.plotly.v1+json": {
       "config": {
        "plotlyServerURL": "https://plot.ly"
       },
       "data": [
        {
         "hovertemplate": "Continent=Africa<br>crimeIndex=%{x}<br>country=%{y}<extra></extra>",
         "legendgroup": "Africa",
         "marker": {
          "color": "#636efa",
          "symbol": "circle"
         },
         "mode": "markers",
         "name": "Africa",
         "orientation": "h",
         "showlegend": true,
         "type": "scatter",
         "x": [
          52.03,
          66.48,
          53.97409090909091,
          52.98,
          53.97409090909091,
          53.97409090909091,
          65.24,
          53.97409090909091,
          53.97409090909091,
          53.97409090909091,
          53.97409090909091,
          53.97409090909091,
          53.97409090909091,
          53.97409090909091,
          46.83,
          46.83,
          53.97409090909091,
          53.97409090909091,
          49.3,
          53.97409090909091,
          53.97409090909091,
          46.98,
          53.97409090909091,
          53.97409090909091,
          53.97409090909091,
          60.14,
          53.97409090909091,
          53.97409090909091,
          61.78,
          53.97409090909091,
          53.97409090909091,
          53.97409090909091,
          53.97409090909091,
          48.88,
          48.66,
          53.97409090909091,
          65.21,
          53.97409090909091,
          64.06,
          24.89,
          53.97409090909091,
          53.97409090909091,
          53.97409090909091,
          53.97409090909091,
          56.04,
          76.86,
          53.97409090909091,
          42.34,
          53.97409090909091,
          56,
          53.97409090909091,
          43.69,
          56.12,
          43.62,
          59.3
         ],
         "xaxis": "x",
         "y": [
          "Algeria",
          "Angola",
          "Benin",
          "Botswana",
          "Burkina",
          "Burundi",
          "Cameroon",
          "Cape Verde",
          "Central African Republic",
          "Chad",
          "Comoros",
          "Congo",
          "Congo, Democratic Republic of",
          "Djibouti",
          "Egypt",
          "Egypt",
          "Equatorial Guinea",
          "Eritrea",
          "Ethiopia",
          "Gabon",
          "Gambia",
          "Ghana",
          "Guinea",
          "Guinea-Bissau",
          "Ivory Coast",
          "Kenya",
          "Lesotho",
          "Liberia",
          "Libya",
          "Madagascar",
          "Malawi",
          "Mali",
          "Mauritania",
          "Mauritius",
          "Morocco",
          "Mozambique",
          "Namibia",
          "Niger",
          "Nigeria",
          "Rwanda",
          "Sao Tome and Principe",
          "Senegal",
          "Seychelles",
          "Sierra Leone",
          "Somalia",
          "South Africa",
          "South Sudan",
          "Sudan",
          "Swaziland",
          "Tanzania",
          "Togo",
          "Tunisia",
          "Uganda",
          "Zambia",
          "Zimbabwe"
         ],
         "yaxis": "y"
        },
        {
         "hovertemplate": "Continent=Asia<br>crimeIndex=%{x}<br>country=%{y}<extra></extra>",
         "legendgroup": "Asia",
         "marker": {
          "color": "#EF553B",
          "symbol": "circle"
         },
         "mode": "markers",
         "name": "Asia",
         "orientation": "h",
         "showlegend": true,
         "type": "scatter",
         "x": [
          76.31,
          25.64,
          63.9,
          40.91833333333333,
          29,
          40.91833333333333,
          51.13,
          30.14,
          40.91833333333333,
          44.43,
          45.93,
          49.38,
          48.42,
          31.47,
          22.19,
          39.96,
          53.77,
          53.77,
          53.77,
          53.77,
          40.91833333333333,
          26.68,
          33.42,
          56.87,
          40.91833333333333,
          46.77,
          57.29,
          55.34,
          56.01,
          36.01,
          20.34,
          42.51,
          42.46,
          12.13,
          39.99,
          39.99,
          39.99,
          25.23,
          27.96,
          41.39,
          67.18,
          40.91833333333333,
          39.35,
          39.62,
          39.62,
          39.62,
          39.62,
          40.91833333333333,
          15.23,
          33.42,
          46.19,
          40.91833333333333
         ],
         "xaxis": "x",
         "y": [
          "Afghanistan",
          "Bahrain",
          "Bangladesh",
          "Bhutan",
          "Brunei",
          "Burma (Myanmar)",
          "Cambodia",
          "China",
          "East Timor",
          "India",
          "Indonesia",
          "Iran",
          "Iraq",
          "Israel",
          "Japan",
          "Jordan",
          "Kazakhstan",
          "Kazakhstan",
          "Kazakhstan",
          "Kazakhstan",
          "North Korea",
          "South Korea",
          "Kuwait",
          "Kyrgyzstan",
          "Laos",
          "Lebanon",
          "Malaysia",
          "Maldives",
          "Mongolia",
          "Nepal",
          "Oman",
          "Pakistan",
          "Philippines",
          "Qatar",
          "Russia",
          "Russia",
          "Russia",
          "Saudi Arabia",
          "Singapore",
          "Sri Lanka",
          "Syria",
          "Tajikistan",
          "Thailand",
          "Turkey",
          "Turkey",
          "Turkey",
          "Turkey",
          "Turkmenistan",
          "United Arab Emirates",
          "Uzbekistan",
          "Vietnam",
          "Yemen"
         ],
         "yaxis": "y"
        },
        {
         "hovertemplate": "Continent=Europe<br>crimeIndex=%{x}<br>country=%{y}<extra></extra>",
         "legendgroup": "Europe",
         "marker": {
          "color": "#00cc96",
          "symbol": "circle"
         },
         "mode": "markers",
         "name": "Europe",
         "orientation": "h",
         "showlegend": true,
         "type": "scatter",
         "x": [
          42.53,
          35.21073170731707,
          22.79,
          22.79,
          22.79,
          22.79,
          25.54,
          32.02,
          32.02,
          32.02,
          32.02,
          59.58,
          44.58,
          42.99,
          38.21,
          24.59,
          31.28,
          31.28,
          31.28,
          31.28,
          25.52,
          26.22,
          23.71,
          27.59,
          51.99,
          23.38,
          23.38,
          23.38,
          23.38,
          35.79,
          45.85,
          34.36,
          23.75,
          45.51,
          44.85,
          38.77,
          35.21073170731707,
          33.42,
          34.13,
          35.21073170731707,
          40.39,
          46.35,
          35.21073170731707,
          41.18,
          27.16,
          33.72,
          30.5,
          29.91,
          28.3,
          35.21073170731707,
          38.1,
          30.37,
          22.28,
          33.32,
          48,
          21.62,
          47.42,
          46.07,
          35.21073170731707
         ],
         "xaxis": "x",
         "y": [
          "Albania",
          "Andorra",
          "Armenia",
          "Armenia",
          "Armenia",
          "Armenia",
          "Austria",
          "Azerbaijan",
          "Azerbaijan",
          "Azerbaijan",
          "Azerbaijan",
          "Belarus",
          "Belgium",
          "Bosnia and Herzegovina",
          "Bulgaria",
          "Croatia",
          "Cyprus",
          "Cyprus",
          "Cyprus",
          "Cyprus",
          "Czech Republic",
          "Denmark",
          "Estonia",
          "Finland",
          "France",
          "Georgia",
          "Georgia",
          "Georgia",
          "Georgia",
          "Germany",
          "Greece",
          "Hungary",
          "Iceland",
          "Ireland",
          "Italy",
          "Latvia",
          "Liechtenstein",
          "Lithuania",
          "Luxembourg",
          "Macedonia",
          "Malta",
          "Moldova",
          "Monaco",
          "Montenegro",
          "Netherlands",
          "Norway",
          "Poland",
          "Portugal",
          "Romania",
          "San Marino",
          "Serbia",
          "Slovakia",
          "Slovenia",
          "Spain",
          "Sweden",
          "Switzerland",
          "Ukraine",
          "United Kingdom",
          "Vatican City"
         ],
         "yaxis": "y"
        },
        {
         "hovertemplate": "Continent=North America<br>crimeIndex=%{x}<br>country=%{y}<extra></extra>",
         "legendgroup": "North America",
         "marker": {
          "color": "#ab63fa",
          "symbol": "circle"
         },
         "mode": "markers",
         "name": "North America",
         "orientation": "h",
         "showlegend": true,
         "type": "scatter",
         "x": [
          55.53333333333333,
          62.06,
          55.53333333333333,
          50.39,
          41.89,
          54.22,
          28.33,
          55.53333333333333,
          61.02,
          67.79,
          55.53333333333333,
          58.67,
          55.53333333333333,
          74.54,
          67.42,
          54.19,
          47.89,
          45.15,
          55.53333333333333,
          55.53333333333333,
          55.53333333333333,
          71.63,
          47.81
         ],
         "xaxis": "x",
         "y": [
          "Antigua and Barbuda",
          "Bahamas",
          "Barbados",
          "Belize",
          "Canada",
          "Costa Rica",
          "Cuba",
          "Dominica",
          "Dominican Republic",
          "El Salvador",
          "Grenada",
          "Guatemala",
          "Haiti",
          "Honduras",
          "Jamaica",
          "Mexico",
          "Nicaragua",
          "Panama",
          "Saint Kitts and Nevis",
          "Saint Lucia",
          "Saint Vincent and the Grenadines",
          "Trinidad and Tobago",
          "United States"
         ],
         "yaxis": "y"
        },
        {
         "hovertemplate": "Continent=Oceania<br>crimeIndex=%{x}<br>country=%{y}<extra></extra>",
         "legendgroup": "Oceania",
         "marker": {
          "color": "#FFA15A",
          "symbol": "circle"
         },
         "mode": "markers",
         "name": "Oceania",
         "orientation": "h",
         "showlegend": true,
         "type": "scatter",
         "x": [
          43.03,
          57.62,
          56.08,
          56.08,
          56.08,
          56.08,
          56.08,
          42.88,
          56.08,
          80.79,
          56.08,
          56.08,
          56.08,
          56.08,
          56.08
         ],
         "xaxis": "x",
         "y": [
          "Australia",
          "Fiji",
          "Kiribati",
          "Marshall Islands",
          "Micronesia",
          "Micronesia",
          "Nauru",
          "New Zealand",
          "Palau",
          "Papua New Guinea",
          "Samoa",
          "Solomon Islands",
          "Tonga",
          "Tuvalu",
          "Vanuatu"
         ],
         "yaxis": "y"
        },
        {
         "hovertemplate": "Continent=South America<br>crimeIndex=%{x}<br>country=%{y}<extra></extra>",
         "legendgroup": "South America",
         "marker": {
          "color": "#19d3f3",
          "symbol": "circle"
         },
         "mode": "markers",
         "name": "South America",
         "orientation": "h",
         "showlegend": true,
         "type": "scatter",
         "x": [
          63.82,
          57.77,
          67.49,
          53.42,
          56.87,
          55.23,
          68.74,
          49.37,
          66.72,
          61.35636363636363,
          51.73,
          83.76
         ],
         "xaxis": "x",
         "y": [
          "Argentina",
          "Bolivia",
          "Brazil",
          "Chile",
          "Colombia",
          "Ecuador",
          "Guyana",
          "Paraguay",
          "Peru",
          "Suriname",
          "Uruguay",
          "Venezuela"
         ],
         "yaxis": "y"
        }
       ],
       "layout": {
        "legend": {
         "title": {
          "text": "Continent"
         },
         "tracegroupgap": 0
        },
        "margin": {
         "t": 60
        },
        "template": {
         "data": {
          "bar": [
           {
            "error_x": {
             "color": "#2a3f5f"
            },
            "error_y": {
             "color": "#2a3f5f"
            },
            "marker": {
             "line": {
              "color": "#E5ECF6",
              "width": 0.5
             },
             "pattern": {
              "fillmode": "overlay",
              "size": 10,
              "solidity": 0.2
             }
            },
            "type": "bar"
           }
          ],
          "barpolar": [
           {
            "marker": {
             "line": {
              "color": "#E5ECF6",
              "width": 0.5
             },
             "pattern": {
              "fillmode": "overlay",
              "size": 10,
              "solidity": 0.2
             }
            },
            "type": "barpolar"
           }
          ],
          "carpet": [
           {
            "aaxis": {
             "endlinecolor": "#2a3f5f",
             "gridcolor": "white",
             "linecolor": "white",
             "minorgridcolor": "white",
             "startlinecolor": "#2a3f5f"
            },
            "baxis": {
             "endlinecolor": "#2a3f5f",
             "gridcolor": "white",
             "linecolor": "white",
             "minorgridcolor": "white",
             "startlinecolor": "#2a3f5f"
            },
            "type": "carpet"
           }
          ],
          "choropleth": [
           {
            "colorbar": {
             "outlinewidth": 0,
             "ticks": ""
            },
            "type": "choropleth"
           }
          ],
          "contour": [
           {
            "colorbar": {
             "outlinewidth": 0,
             "ticks": ""
            },
            "colorscale": [
             [
              0,
              "#0d0887"
             ],
             [
              0.1111111111111111,
              "#46039f"
             ],
             [
              0.2222222222222222,
              "#7201a8"
             ],
             [
              0.3333333333333333,
              "#9c179e"
             ],
             [
              0.4444444444444444,
              "#bd3786"
             ],
             [
              0.5555555555555556,
              "#d8576b"
             ],
             [
              0.6666666666666666,
              "#ed7953"
             ],
             [
              0.7777777777777778,
              "#fb9f3a"
             ],
             [
              0.8888888888888888,
              "#fdca26"
             ],
             [
              1,
              "#f0f921"
             ]
            ],
            "type": "contour"
           }
          ],
          "contourcarpet": [
           {
            "colorbar": {
             "outlinewidth": 0,
             "ticks": ""
            },
            "type": "contourcarpet"
           }
          ],
          "heatmap": [
           {
            "colorbar": {
             "outlinewidth": 0,
             "ticks": ""
            },
            "colorscale": [
             [
              0,
              "#0d0887"
             ],
             [
              0.1111111111111111,
              "#46039f"
             ],
             [
              0.2222222222222222,
              "#7201a8"
             ],
             [
              0.3333333333333333,
              "#9c179e"
             ],
             [
              0.4444444444444444,
              "#bd3786"
             ],
             [
              0.5555555555555556,
              "#d8576b"
             ],
             [
              0.6666666666666666,
              "#ed7953"
             ],
             [
              0.7777777777777778,
              "#fb9f3a"
             ],
             [
              0.8888888888888888,
              "#fdca26"
             ],
             [
              1,
              "#f0f921"
             ]
            ],
            "type": "heatmap"
           }
          ],
          "heatmapgl": [
           {
            "colorbar": {
             "outlinewidth": 0,
             "ticks": ""
            },
            "colorscale": [
             [
              0,
              "#0d0887"
             ],
             [
              0.1111111111111111,
              "#46039f"
             ],
             [
              0.2222222222222222,
              "#7201a8"
             ],
             [
              0.3333333333333333,
              "#9c179e"
             ],
             [
              0.4444444444444444,
              "#bd3786"
             ],
             [
              0.5555555555555556,
              "#d8576b"
             ],
             [
              0.6666666666666666,
              "#ed7953"
             ],
             [
              0.7777777777777778,
              "#fb9f3a"
             ],
             [
              0.8888888888888888,
              "#fdca26"
             ],
             [
              1,
              "#f0f921"
             ]
            ],
            "type": "heatmapgl"
           }
          ],
          "histogram": [
           {
            "marker": {
             "pattern": {
              "fillmode": "overlay",
              "size": 10,
              "solidity": 0.2
             }
            },
            "type": "histogram"
           }
          ],
          "histogram2d": [
           {
            "colorbar": {
             "outlinewidth": 0,
             "ticks": ""
            },
            "colorscale": [
             [
              0,
              "#0d0887"
             ],
             [
              0.1111111111111111,
              "#46039f"
             ],
             [
              0.2222222222222222,
              "#7201a8"
             ],
             [
              0.3333333333333333,
              "#9c179e"
             ],
             [
              0.4444444444444444,
              "#bd3786"
             ],
             [
              0.5555555555555556,
              "#d8576b"
             ],
             [
              0.6666666666666666,
              "#ed7953"
             ],
             [
              0.7777777777777778,
              "#fb9f3a"
             ],
             [
              0.8888888888888888,
              "#fdca26"
             ],
             [
              1,
              "#f0f921"
             ]
            ],
            "type": "histogram2d"
           }
          ],
          "histogram2dcontour": [
           {
            "colorbar": {
             "outlinewidth": 0,
             "ticks": ""
            },
            "colorscale": [
             [
              0,
              "#0d0887"
             ],
             [
              0.1111111111111111,
              "#46039f"
             ],
             [
              0.2222222222222222,
              "#7201a8"
             ],
             [
              0.3333333333333333,
              "#9c179e"
             ],
             [
              0.4444444444444444,
              "#bd3786"
             ],
             [
              0.5555555555555556,
              "#d8576b"
             ],
             [
              0.6666666666666666,
              "#ed7953"
             ],
             [
              0.7777777777777778,
              "#fb9f3a"
             ],
             [
              0.8888888888888888,
              "#fdca26"
             ],
             [
              1,
              "#f0f921"
             ]
            ],
            "type": "histogram2dcontour"
           }
          ],
          "mesh3d": [
           {
            "colorbar": {
             "outlinewidth": 0,
             "ticks": ""
            },
            "type": "mesh3d"
           }
          ],
          "parcoords": [
           {
            "line": {
             "colorbar": {
              "outlinewidth": 0,
              "ticks": ""
             }
            },
            "type": "parcoords"
           }
          ],
          "pie": [
           {
            "automargin": true,
            "type": "pie"
           }
          ],
          "scatter": [
           {
            "fillpattern": {
             "fillmode": "overlay",
             "size": 10,
             "solidity": 0.2
            },
            "type": "scatter"
           }
          ],
          "scatter3d": [
           {
            "line": {
             "colorbar": {
              "outlinewidth": 0,
              "ticks": ""
             }
            },
            "marker": {
             "colorbar": {
              "outlinewidth": 0,
              "ticks": ""
             }
            },
            "type": "scatter3d"
           }
          ],
          "scattercarpet": [
           {
            "marker": {
             "colorbar": {
              "outlinewidth": 0,
              "ticks": ""
             }
            },
            "type": "scattercarpet"
           }
          ],
          "scattergeo": [
           {
            "marker": {
             "colorbar": {
              "outlinewidth": 0,
              "ticks": ""
             }
            },
            "type": "scattergeo"
           }
          ],
          "scattergl": [
           {
            "marker": {
             "colorbar": {
              "outlinewidth": 0,
              "ticks": ""
             }
            },
            "type": "scattergl"
           }
          ],
          "scattermapbox": [
           {
            "marker": {
             "colorbar": {
              "outlinewidth": 0,
              "ticks": ""
             }
            },
            "type": "scattermapbox"
           }
          ],
          "scatterpolar": [
           {
            "marker": {
             "colorbar": {
              "outlinewidth": 0,
              "ticks": ""
             }
            },
            "type": "scatterpolar"
           }
          ],
          "scatterpolargl": [
           {
            "marker": {
             "colorbar": {
              "outlinewidth": 0,
              "ticks": ""
             }
            },
            "type": "scatterpolargl"
           }
          ],
          "scatterternary": [
           {
            "marker": {
             "colorbar": {
              "outlinewidth": 0,
              "ticks": ""
             }
            },
            "type": "scatterternary"
           }
          ],
          "surface": [
           {
            "colorbar": {
             "outlinewidth": 0,
             "ticks": ""
            },
            "colorscale": [
             [
              0,
              "#0d0887"
             ],
             [
              0.1111111111111111,
              "#46039f"
             ],
             [
              0.2222222222222222,
              "#7201a8"
             ],
             [
              0.3333333333333333,
              "#9c179e"
             ],
             [
              0.4444444444444444,
              "#bd3786"
             ],
             [
              0.5555555555555556,
              "#d8576b"
             ],
             [
              0.6666666666666666,
              "#ed7953"
             ],
             [
              0.7777777777777778,
              "#fb9f3a"
             ],
             [
              0.8888888888888888,
              "#fdca26"
             ],
             [
              1,
              "#f0f921"
             ]
            ],
            "type": "surface"
           }
          ],
          "table": [
           {
            "cells": {
             "fill": {
              "color": "#EBF0F8"
             },
             "line": {
              "color": "white"
             }
            },
            "header": {
             "fill": {
              "color": "#C8D4E3"
             },
             "line": {
              "color": "white"
             }
            },
            "type": "table"
           }
          ]
         },
         "layout": {
          "annotationdefaults": {
           "arrowcolor": "#2a3f5f",
           "arrowhead": 0,
           "arrowwidth": 1
          },
          "autotypenumbers": "strict",
          "coloraxis": {
           "colorbar": {
            "outlinewidth": 0,
            "ticks": ""
           }
          },
          "colorscale": {
           "diverging": [
            [
             0,
             "#8e0152"
            ],
            [
             0.1,
             "#c51b7d"
            ],
            [
             0.2,
             "#de77ae"
            ],
            [
             0.3,
             "#f1b6da"
            ],
            [
             0.4,
             "#fde0ef"
            ],
            [
             0.5,
             "#f7f7f7"
            ],
            [
             0.6,
             "#e6f5d0"
            ],
            [
             0.7,
             "#b8e186"
            ],
            [
             0.8,
             "#7fbc41"
            ],
            [
             0.9,
             "#4d9221"
            ],
            [
             1,
             "#276419"
            ]
           ],
           "sequential": [
            [
             0,
             "#0d0887"
            ],
            [
             0.1111111111111111,
             "#46039f"
            ],
            [
             0.2222222222222222,
             "#7201a8"
            ],
            [
             0.3333333333333333,
             "#9c179e"
            ],
            [
             0.4444444444444444,
             "#bd3786"
            ],
            [
             0.5555555555555556,
             "#d8576b"
            ],
            [
             0.6666666666666666,
             "#ed7953"
            ],
            [
             0.7777777777777778,
             "#fb9f3a"
            ],
            [
             0.8888888888888888,
             "#fdca26"
            ],
            [
             1,
             "#f0f921"
            ]
           ],
           "sequentialminus": [
            [
             0,
             "#0d0887"
            ],
            [
             0.1111111111111111,
             "#46039f"
            ],
            [
             0.2222222222222222,
             "#7201a8"
            ],
            [
             0.3333333333333333,
             "#9c179e"
            ],
            [
             0.4444444444444444,
             "#bd3786"
            ],
            [
             0.5555555555555556,
             "#d8576b"
            ],
            [
             0.6666666666666666,
             "#ed7953"
            ],
            [
             0.7777777777777778,
             "#fb9f3a"
            ],
            [
             0.8888888888888888,
             "#fdca26"
            ],
            [
             1,
             "#f0f921"
            ]
           ]
          },
          "colorway": [
           "#636efa",
           "#EF553B",
           "#00cc96",
           "#ab63fa",
           "#FFA15A",
           "#19d3f3",
           "#FF6692",
           "#B6E880",
           "#FF97FF",
           "#FECB52"
          ],
          "font": {
           "color": "#2a3f5f"
          },
          "geo": {
           "bgcolor": "white",
           "lakecolor": "white",
           "landcolor": "#E5ECF6",
           "showlakes": true,
           "showland": true,
           "subunitcolor": "white"
          },
          "hoverlabel": {
           "align": "left"
          },
          "hovermode": "closest",
          "mapbox": {
           "style": "light"
          },
          "paper_bgcolor": "white",
          "plot_bgcolor": "#E5ECF6",
          "polar": {
           "angularaxis": {
            "gridcolor": "white",
            "linecolor": "white",
            "ticks": ""
           },
           "bgcolor": "#E5ECF6",
           "radialaxis": {
            "gridcolor": "white",
            "linecolor": "white",
            "ticks": ""
           }
          },
          "scene": {
           "xaxis": {
            "backgroundcolor": "#E5ECF6",
            "gridcolor": "white",
            "gridwidth": 2,
            "linecolor": "white",
            "showbackground": true,
            "ticks": "",
            "zerolinecolor": "white"
           },
           "yaxis": {
            "backgroundcolor": "#E5ECF6",
            "gridcolor": "white",
            "gridwidth": 2,
            "linecolor": "white",
            "showbackground": true,
            "ticks": "",
            "zerolinecolor": "white"
           },
           "zaxis": {
            "backgroundcolor": "#E5ECF6",
            "gridcolor": "white",
            "gridwidth": 2,
            "linecolor": "white",
            "showbackground": true,
            "ticks": "",
            "zerolinecolor": "white"
           }
          },
          "shapedefaults": {
           "line": {
            "color": "#2a3f5f"
           }
          },
          "ternary": {
           "aaxis": {
            "gridcolor": "white",
            "linecolor": "white",
            "ticks": ""
           },
           "baxis": {
            "gridcolor": "white",
            "linecolor": "white",
            "ticks": ""
           },
           "bgcolor": "#E5ECF6",
           "caxis": {
            "gridcolor": "white",
            "linecolor": "white",
            "ticks": ""
           }
          },
          "title": {
           "x": 0.05
          },
          "xaxis": {
           "automargin": true,
           "gridcolor": "white",
           "linecolor": "white",
           "ticks": "",
           "title": {
            "standoff": 15
           },
           "zerolinecolor": "white",
           "zerolinewidth": 2
          },
          "yaxis": {
           "automargin": true,
           "gridcolor": "white",
           "linecolor": "white",
           "ticks": "",
           "title": {
            "standoff": 15
           },
           "zerolinecolor": "white",
           "zerolinewidth": 2
          }
         }
        },
        "xaxis": {
         "anchor": "y",
         "domain": [
          0,
          1
         ],
         "title": {
          "text": "crimeIndex"
         }
        },
        "yaxis": {
         "anchor": "x",
         "domain": [
          0,
          1
         ],
         "title": {
          "text": "country"
         }
        }
       }
      }
     },
     "metadata": {},
     "output_type": "display_data"
    }
   ],
   "source": [
    "fig = px.scatter(data, x=\"crimeIndex\", y=\"country\", color=\"Continent\", hover_data=['crimeIndex'])\n",
    "fig.show()"
   ]
  },
  {
   "cell_type": "markdown",
   "metadata": {},
   "source": [
    "The same issue happens for crime. This is quite clear in Africa having one big overlapping entry. This shows the original source was insufficeint, at least for Africa, in terms of data collecting. The same rationale for happiness will be used for crime index."
   ]
  },
  {
   "cell_type": "code",
   "execution_count": 133,
   "metadata": {},
   "outputs": [
    {
     "data": {
      "application/vnd.plotly.v1+json": {
       "config": {
        "plotlyServerURL": "https://plot.ly"
       },
       "data": [
        {
         "hovertemplate": "Continent=Africa<br>epi_score2022=%{x}<br>country=%{y}<extra></extra>",
         "legendgroup": "Africa",
         "marker": {
          "color": "#636efa",
          "symbol": "circle"
         },
         "mode": "markers",
         "name": "Africa",
         "orientation": "h",
         "showlegend": true,
         "type": "scatter",
         "x": [
          53.2,
          12.8,
          13.4,
          20.8,
          19.325000000000003,
          5.3,
          7.7,
          19.325000000000003,
          19.325000000000003,
          19.325000000000003,
          15.2,
          13.5,
          19.325000000000003,
          18.3,
          36.6,
          36.6,
          33.1,
          6.3,
          10.9,
          27.6,
          19.1,
          20.8,
          11.2,
          6.7,
          19.325000000000003,
          13.6,
          7.2,
          9.8,
          19.325000000000003,
          5.9,
          12,
          8.2,
          13.6,
          65.5,
          40.8,
          16.4,
          19.6,
          1.4,
          4.9,
          16.9,
          35.2,
          13.1,
          51.4,
          11.5,
          19.325000000000003,
          24.6,
          19.325000000000003,
          22.3,
          19.325000000000003,
          18.4,
          5.1,
          52.6,
          17.6,
          13.4,
          16.8
         ],
         "xaxis": "x",
         "y": [
          "Algeria",
          "Angola",
          "Benin",
          "Botswana",
          "Burkina",
          "Burundi",
          "Cameroon",
          "Cape Verde",
          "Central African Republic",
          "Chad",
          "Comoros",
          "Congo",
          "Congo, Democratic Republic of",
          "Djibouti",
          "Egypt",
          "Egypt",
          "Equatorial Guinea",
          "Eritrea",
          "Ethiopia",
          "Gabon",
          "Gambia",
          "Ghana",
          "Guinea",
          "Guinea-Bissau",
          "Ivory Coast",
          "Kenya",
          "Lesotho",
          "Liberia",
          "Libya",
          "Madagascar",
          "Malawi",
          "Mali",
          "Mauritania",
          "Mauritius",
          "Morocco",
          "Mozambique",
          "Namibia",
          "Niger",
          "Nigeria",
          "Rwanda",
          "Sao Tome and Principe",
          "Senegal",
          "Seychelles",
          "Sierra Leone",
          "Somalia",
          "South Africa",
          "South Sudan",
          "Sudan",
          "Swaziland",
          "Tanzania",
          "Togo",
          "Tunisia",
          "Uganda",
          "Zambia",
          "Zimbabwe"
         ],
         "yaxis": "y"
        },
        {
         "hovertemplate": "Continent=Asia<br>epi_score2022=%{x}<br>country=%{y}<extra></extra>",
         "legendgroup": "Asia",
         "marker": {
          "color": "#EF553B",
          "symbol": "circle"
         },
         "mode": "markers",
         "name": "Asia",
         "orientation": "h",
         "showlegend": true,
         "type": "scatter",
         "x": [
          28,
          56.6,
          27.3,
          31.2,
          51.43421052631579,
          51.43421052631579,
          34.2,
          59.4,
          51.43421052631579,
          19.4,
          28.4,
          53.6,
          49.6,
          92.8,
          95,
          62.6,
          55.1,
          55.1,
          55.1,
          55.1,
          51.43421052631579,
          90.7,
          67.4,
          45.5,
          26.5,
          59.7,
          57.6,
          47.8,
          43.1,
          27,
          58.3,
          17.4,
          39,
          66.5,
          55.4,
          55.4,
          55.4,
          59.3,
          93.2,
          48.4,
          51.43421052631579,
          30.9,
          55.8,
          52.6,
          52.6,
          52.6,
          52.6,
          47.3,
          67.2,
          52,
          52.7,
          51.43421052631579
         ],
         "xaxis": "x",
         "y": [
          "Afghanistan",
          "Bahrain",
          "Bangladesh",
          "Bhutan",
          "Brunei",
          "Burma (Myanmar)",
          "Cambodia",
          "China",
          "East Timor",
          "India",
          "Indonesia",
          "Iran",
          "Iraq",
          "Israel",
          "Japan",
          "Jordan",
          "Kazakhstan",
          "Kazakhstan",
          "Kazakhstan",
          "Kazakhstan",
          "North Korea",
          "South Korea",
          "Kuwait",
          "Kyrgyzstan",
          "Laos",
          "Lebanon",
          "Malaysia",
          "Maldives",
          "Mongolia",
          "Nepal",
          "Oman",
          "Pakistan",
          "Philippines",
          "Qatar",
          "Russia",
          "Russia",
          "Russia",
          "Saudi Arabia",
          "Singapore",
          "Sri Lanka",
          "Syria",
          "Tajikistan",
          "Thailand",
          "Turkey",
          "Turkey",
          "Turkey",
          "Turkey",
          "Turkmenistan",
          "United Arab Emirates",
          "Uzbekistan",
          "Vietnam",
          "Yemen"
         ],
         "yaxis": "y"
        },
        {
         "hovertemplate": "Continent=Europe<br>epi_score2022=%{x}<br>country=%{y}<extra></extra>",
         "legendgroup": "Europe",
         "marker": {
          "color": "#00cc96",
          "symbol": "circle"
         },
         "mode": "markers",
         "name": "Europe",
         "orientation": "h",
         "showlegend": true,
         "type": "scatter",
         "x": [
          54,
          79.08536585365853,
          57.2,
          57.2,
          57.2,
          57.2,
          94.7,
          45.5,
          45.5,
          45.5,
          45.5,
          60.5,
          93.6,
          61.4,
          68.3,
          70.2,
          93.9,
          93.9,
          93.9,
          93.9,
          76.4,
          97.4,
          61.9,
          100,
          96.2,
          51.6,
          51.6,
          51.6,
          51.6,
          99,
          98.2,
          62.2,
          100,
          97.4,
          98.2,
          59,
          79.08536585365853,
          58.3,
          98.6,
          79.08536585365853,
          99.8,
          50,
          79.08536585365853,
          65.6,
          100,
          100,
          71.7,
          83.4,
          55.9,
          79.08536585365853,
          65.5,
          71.8,
          74.7,
          96.8,
          98.5,
          100,
          55.1,
          100,
          79.08536585365853
         ],
         "xaxis": "x",
         "y": [
          "Albania",
          "Andorra",
          "Armenia",
          "Armenia",
          "Armenia",
          "Armenia",
          "Austria",
          "Azerbaijan",
          "Azerbaijan",
          "Azerbaijan",
          "Azerbaijan",
          "Belarus",
          "Belgium",
          "Bosnia and Herzegovina",
          "Bulgaria",
          "Croatia",
          "Cyprus",
          "Cyprus",
          "Cyprus",
          "Cyprus",
          "Czech Republic",
          "Denmark",
          "Estonia",
          "Finland",
          "France",
          "Georgia",
          "Georgia",
          "Georgia",
          "Georgia",
          "Germany",
          "Greece",
          "Hungary",
          "Iceland",
          "Ireland",
          "Italy",
          "Latvia",
          "Liechtenstein",
          "Lithuania",
          "Luxembourg",
          "Macedonia",
          "Malta",
          "Moldova",
          "Monaco",
          "Montenegro",
          "Netherlands",
          "Norway",
          "Poland",
          "Portugal",
          "Romania",
          "San Marino",
          "Serbia",
          "Slovakia",
          "Slovenia",
          "Spain",
          "Sweden",
          "Switzerland",
          "Ukraine",
          "United Kingdom",
          "Vatican City"
         ],
         "yaxis": "y"
        },
        {
         "hovertemplate": "Continent=North America<br>epi_score2022=%{x}<br>country=%{y}<extra></extra>",
         "legendgroup": "North America",
         "marker": {
          "color": "#ab63fa",
          "symbol": "circle"
         },
         "mode": "markers",
         "name": "North America",
         "orientation": "h",
         "showlegend": true,
         "type": "scatter",
         "x": [
          50,
          55,
          51.9,
          42.6,
          88,
          66.1,
          49.6,
          47.5,
          38.9,
          41.6,
          47,
          28.2,
          14,
          31.8,
          49.3,
          52.8,
          42.8,
          43.5,
          48.59090909090909,
          45.4,
          43.5,
          53.4,
          86.1
         ],
         "xaxis": "x",
         "y": [
          "Antigua and Barbuda",
          "Bahamas",
          "Barbados",
          "Belize",
          "Canada",
          "Costa Rica",
          "Cuba",
          "Dominica",
          "Dominican Republic",
          "El Salvador",
          "Grenada",
          "Guatemala",
          "Haiti",
          "Honduras",
          "Jamaica",
          "Mexico",
          "Nicaragua",
          "Panama",
          "Saint Kitts and Nevis",
          "Saint Lucia",
          "Saint Vincent and the Grenadines",
          "Trinidad and Tobago",
          "United States"
         ],
         "yaxis": "y"
        },
        {
         "hovertemplate": "Continent=Oceania<br>epi_score2022=%{x}<br>country=%{y}<extra></extra>",
         "legendgroup": "Oceania",
         "marker": {
          "color": "#FFA15A",
          "symbol": "circle"
         },
         "mode": "markers",
         "name": "Oceania",
         "orientation": "h",
         "showlegend": true,
         "type": "scatter",
         "x": [
          87,
          34.6,
          16.3,
          32.2,
          35.5,
          35.5,
          39.32727272727273,
          80.4,
          39.32727272727273,
          15.5,
          49.2,
          14,
          46.4,
          39.32727272727273,
          21.5
         ],
         "xaxis": "x",
         "y": [
          "Australia",
          "Fiji",
          "Kiribati",
          "Marshall Islands",
          "Micronesia",
          "Micronesia",
          "Nauru",
          "New Zealand",
          "Palau",
          "Papua New Guinea",
          "Samoa",
          "Solomon Islands",
          "Tonga",
          "Tuvalu",
          "Vanuatu"
         ],
         "yaxis": "y"
        },
        {
         "hovertemplate": "Continent=South America<br>epi_score2022=%{x}<br>country=%{y}<extra></extra>",
         "legendgroup": "South America",
         "marker": {
          "color": "#19d3f3",
          "symbol": "circle"
         },
         "mode": "markers",
         "name": "South America",
         "orientation": "h",
         "showlegend": true,
         "type": "scatter",
         "x": [
          64.7,
          40,
          46.1,
          68.1,
          55.8,
          50.2,
          35.3,
          47.5,
          43,
          39.3,
          70.8,
          46.8
         ],
         "xaxis": "x",
         "y": [
          "Argentina",
          "Bolivia",
          "Brazil",
          "Chile",
          "Colombia",
          "Ecuador",
          "Guyana",
          "Paraguay",
          "Peru",
          "Suriname",
          "Uruguay",
          "Venezuela"
         ],
         "yaxis": "y"
        }
       ],
       "layout": {
        "legend": {
         "title": {
          "text": "Continent"
         },
         "tracegroupgap": 0
        },
        "margin": {
         "t": 60
        },
        "template": {
         "data": {
          "bar": [
           {
            "error_x": {
             "color": "#2a3f5f"
            },
            "error_y": {
             "color": "#2a3f5f"
            },
            "marker": {
             "line": {
              "color": "#E5ECF6",
              "width": 0.5
             },
             "pattern": {
              "fillmode": "overlay",
              "size": 10,
              "solidity": 0.2
             }
            },
            "type": "bar"
           }
          ],
          "barpolar": [
           {
            "marker": {
             "line": {
              "color": "#E5ECF6",
              "width": 0.5
             },
             "pattern": {
              "fillmode": "overlay",
              "size": 10,
              "solidity": 0.2
             }
            },
            "type": "barpolar"
           }
          ],
          "carpet": [
           {
            "aaxis": {
             "endlinecolor": "#2a3f5f",
             "gridcolor": "white",
             "linecolor": "white",
             "minorgridcolor": "white",
             "startlinecolor": "#2a3f5f"
            },
            "baxis": {
             "endlinecolor": "#2a3f5f",
             "gridcolor": "white",
             "linecolor": "white",
             "minorgridcolor": "white",
             "startlinecolor": "#2a3f5f"
            },
            "type": "carpet"
           }
          ],
          "choropleth": [
           {
            "colorbar": {
             "outlinewidth": 0,
             "ticks": ""
            },
            "type": "choropleth"
           }
          ],
          "contour": [
           {
            "colorbar": {
             "outlinewidth": 0,
             "ticks": ""
            },
            "colorscale": [
             [
              0,
              "#0d0887"
             ],
             [
              0.1111111111111111,
              "#46039f"
             ],
             [
              0.2222222222222222,
              "#7201a8"
             ],
             [
              0.3333333333333333,
              "#9c179e"
             ],
             [
              0.4444444444444444,
              "#bd3786"
             ],
             [
              0.5555555555555556,
              "#d8576b"
             ],
             [
              0.6666666666666666,
              "#ed7953"
             ],
             [
              0.7777777777777778,
              "#fb9f3a"
             ],
             [
              0.8888888888888888,
              "#fdca26"
             ],
             [
              1,
              "#f0f921"
             ]
            ],
            "type": "contour"
           }
          ],
          "contourcarpet": [
           {
            "colorbar": {
             "outlinewidth": 0,
             "ticks": ""
            },
            "type": "contourcarpet"
           }
          ],
          "heatmap": [
           {
            "colorbar": {
             "outlinewidth": 0,
             "ticks": ""
            },
            "colorscale": [
             [
              0,
              "#0d0887"
             ],
             [
              0.1111111111111111,
              "#46039f"
             ],
             [
              0.2222222222222222,
              "#7201a8"
             ],
             [
              0.3333333333333333,
              "#9c179e"
             ],
             [
              0.4444444444444444,
              "#bd3786"
             ],
             [
              0.5555555555555556,
              "#d8576b"
             ],
             [
              0.6666666666666666,
              "#ed7953"
             ],
             [
              0.7777777777777778,
              "#fb9f3a"
             ],
             [
              0.8888888888888888,
              "#fdca26"
             ],
             [
              1,
              "#f0f921"
             ]
            ],
            "type": "heatmap"
           }
          ],
          "heatmapgl": [
           {
            "colorbar": {
             "outlinewidth": 0,
             "ticks": ""
            },
            "colorscale": [
             [
              0,
              "#0d0887"
             ],
             [
              0.1111111111111111,
              "#46039f"
             ],
             [
              0.2222222222222222,
              "#7201a8"
             ],
             [
              0.3333333333333333,
              "#9c179e"
             ],
             [
              0.4444444444444444,
              "#bd3786"
             ],
             [
              0.5555555555555556,
              "#d8576b"
             ],
             [
              0.6666666666666666,
              "#ed7953"
             ],
             [
              0.7777777777777778,
              "#fb9f3a"
             ],
             [
              0.8888888888888888,
              "#fdca26"
             ],
             [
              1,
              "#f0f921"
             ]
            ],
            "type": "heatmapgl"
           }
          ],
          "histogram": [
           {
            "marker": {
             "pattern": {
              "fillmode": "overlay",
              "size": 10,
              "solidity": 0.2
             }
            },
            "type": "histogram"
           }
          ],
          "histogram2d": [
           {
            "colorbar": {
             "outlinewidth": 0,
             "ticks": ""
            },
            "colorscale": [
             [
              0,
              "#0d0887"
             ],
             [
              0.1111111111111111,
              "#46039f"
             ],
             [
              0.2222222222222222,
              "#7201a8"
             ],
             [
              0.3333333333333333,
              "#9c179e"
             ],
             [
              0.4444444444444444,
              "#bd3786"
             ],
             [
              0.5555555555555556,
              "#d8576b"
             ],
             [
              0.6666666666666666,
              "#ed7953"
             ],
             [
              0.7777777777777778,
              "#fb9f3a"
             ],
             [
              0.8888888888888888,
              "#fdca26"
             ],
             [
              1,
              "#f0f921"
             ]
            ],
            "type": "histogram2d"
           }
          ],
          "histogram2dcontour": [
           {
            "colorbar": {
             "outlinewidth": 0,
             "ticks": ""
            },
            "colorscale": [
             [
              0,
              "#0d0887"
             ],
             [
              0.1111111111111111,
              "#46039f"
             ],
             [
              0.2222222222222222,
              "#7201a8"
             ],
             [
              0.3333333333333333,
              "#9c179e"
             ],
             [
              0.4444444444444444,
              "#bd3786"
             ],
             [
              0.5555555555555556,
              "#d8576b"
             ],
             [
              0.6666666666666666,
              "#ed7953"
             ],
             [
              0.7777777777777778,
              "#fb9f3a"
             ],
             [
              0.8888888888888888,
              "#fdca26"
             ],
             [
              1,
              "#f0f921"
             ]
            ],
            "type": "histogram2dcontour"
           }
          ],
          "mesh3d": [
           {
            "colorbar": {
             "outlinewidth": 0,
             "ticks": ""
            },
            "type": "mesh3d"
           }
          ],
          "parcoords": [
           {
            "line": {
             "colorbar": {
              "outlinewidth": 0,
              "ticks": ""
             }
            },
            "type": "parcoords"
           }
          ],
          "pie": [
           {
            "automargin": true,
            "type": "pie"
           }
          ],
          "scatter": [
           {
            "fillpattern": {
             "fillmode": "overlay",
             "size": 10,
             "solidity": 0.2
            },
            "type": "scatter"
           }
          ],
          "scatter3d": [
           {
            "line": {
             "colorbar": {
              "outlinewidth": 0,
              "ticks": ""
             }
            },
            "marker": {
             "colorbar": {
              "outlinewidth": 0,
              "ticks": ""
             }
            },
            "type": "scatter3d"
           }
          ],
          "scattercarpet": [
           {
            "marker": {
             "colorbar": {
              "outlinewidth": 0,
              "ticks": ""
             }
            },
            "type": "scattercarpet"
           }
          ],
          "scattergeo": [
           {
            "marker": {
             "colorbar": {
              "outlinewidth": 0,
              "ticks": ""
             }
            },
            "type": "scattergeo"
           }
          ],
          "scattergl": [
           {
            "marker": {
             "colorbar": {
              "outlinewidth": 0,
              "ticks": ""
             }
            },
            "type": "scattergl"
           }
          ],
          "scattermapbox": [
           {
            "marker": {
             "colorbar": {
              "outlinewidth": 0,
              "ticks": ""
             }
            },
            "type": "scattermapbox"
           }
          ],
          "scatterpolar": [
           {
            "marker": {
             "colorbar": {
              "outlinewidth": 0,
              "ticks": ""
             }
            },
            "type": "scatterpolar"
           }
          ],
          "scatterpolargl": [
           {
            "marker": {
             "colorbar": {
              "outlinewidth": 0,
              "ticks": ""
             }
            },
            "type": "scatterpolargl"
           }
          ],
          "scatterternary": [
           {
            "marker": {
             "colorbar": {
              "outlinewidth": 0,
              "ticks": ""
             }
            },
            "type": "scatterternary"
           }
          ],
          "surface": [
           {
            "colorbar": {
             "outlinewidth": 0,
             "ticks": ""
            },
            "colorscale": [
             [
              0,
              "#0d0887"
             ],
             [
              0.1111111111111111,
              "#46039f"
             ],
             [
              0.2222222222222222,
              "#7201a8"
             ],
             [
              0.3333333333333333,
              "#9c179e"
             ],
             [
              0.4444444444444444,
              "#bd3786"
             ],
             [
              0.5555555555555556,
              "#d8576b"
             ],
             [
              0.6666666666666666,
              "#ed7953"
             ],
             [
              0.7777777777777778,
              "#fb9f3a"
             ],
             [
              0.8888888888888888,
              "#fdca26"
             ],
             [
              1,
              "#f0f921"
             ]
            ],
            "type": "surface"
           }
          ],
          "table": [
           {
            "cells": {
             "fill": {
              "color": "#EBF0F8"
             },
             "line": {
              "color": "white"
             }
            },
            "header": {
             "fill": {
              "color": "#C8D4E3"
             },
             "line": {
              "color": "white"
             }
            },
            "type": "table"
           }
          ]
         },
         "layout": {
          "annotationdefaults": {
           "arrowcolor": "#2a3f5f",
           "arrowhead": 0,
           "arrowwidth": 1
          },
          "autotypenumbers": "strict",
          "coloraxis": {
           "colorbar": {
            "outlinewidth": 0,
            "ticks": ""
           }
          },
          "colorscale": {
           "diverging": [
            [
             0,
             "#8e0152"
            ],
            [
             0.1,
             "#c51b7d"
            ],
            [
             0.2,
             "#de77ae"
            ],
            [
             0.3,
             "#f1b6da"
            ],
            [
             0.4,
             "#fde0ef"
            ],
            [
             0.5,
             "#f7f7f7"
            ],
            [
             0.6,
             "#e6f5d0"
            ],
            [
             0.7,
             "#b8e186"
            ],
            [
             0.8,
             "#7fbc41"
            ],
            [
             0.9,
             "#4d9221"
            ],
            [
             1,
             "#276419"
            ]
           ],
           "sequential": [
            [
             0,
             "#0d0887"
            ],
            [
             0.1111111111111111,
             "#46039f"
            ],
            [
             0.2222222222222222,
             "#7201a8"
            ],
            [
             0.3333333333333333,
             "#9c179e"
            ],
            [
             0.4444444444444444,
             "#bd3786"
            ],
            [
             0.5555555555555556,
             "#d8576b"
            ],
            [
             0.6666666666666666,
             "#ed7953"
            ],
            [
             0.7777777777777778,
             "#fb9f3a"
            ],
            [
             0.8888888888888888,
             "#fdca26"
            ],
            [
             1,
             "#f0f921"
            ]
           ],
           "sequentialminus": [
            [
             0,
             "#0d0887"
            ],
            [
             0.1111111111111111,
             "#46039f"
            ],
            [
             0.2222222222222222,
             "#7201a8"
            ],
            [
             0.3333333333333333,
             "#9c179e"
            ],
            [
             0.4444444444444444,
             "#bd3786"
            ],
            [
             0.5555555555555556,
             "#d8576b"
            ],
            [
             0.6666666666666666,
             "#ed7953"
            ],
            [
             0.7777777777777778,
             "#fb9f3a"
            ],
            [
             0.8888888888888888,
             "#fdca26"
            ],
            [
             1,
             "#f0f921"
            ]
           ]
          },
          "colorway": [
           "#636efa",
           "#EF553B",
           "#00cc96",
           "#ab63fa",
           "#FFA15A",
           "#19d3f3",
           "#FF6692",
           "#B6E880",
           "#FF97FF",
           "#FECB52"
          ],
          "font": {
           "color": "#2a3f5f"
          },
          "geo": {
           "bgcolor": "white",
           "lakecolor": "white",
           "landcolor": "#E5ECF6",
           "showlakes": true,
           "showland": true,
           "subunitcolor": "white"
          },
          "hoverlabel": {
           "align": "left"
          },
          "hovermode": "closest",
          "mapbox": {
           "style": "light"
          },
          "paper_bgcolor": "white",
          "plot_bgcolor": "#E5ECF6",
          "polar": {
           "angularaxis": {
            "gridcolor": "white",
            "linecolor": "white",
            "ticks": ""
           },
           "bgcolor": "#E5ECF6",
           "radialaxis": {
            "gridcolor": "white",
            "linecolor": "white",
            "ticks": ""
           }
          },
          "scene": {
           "xaxis": {
            "backgroundcolor": "#E5ECF6",
            "gridcolor": "white",
            "gridwidth": 2,
            "linecolor": "white",
            "showbackground": true,
            "ticks": "",
            "zerolinecolor": "white"
           },
           "yaxis": {
            "backgroundcolor": "#E5ECF6",
            "gridcolor": "white",
            "gridwidth": 2,
            "linecolor": "white",
            "showbackground": true,
            "ticks": "",
            "zerolinecolor": "white"
           },
           "zaxis": {
            "backgroundcolor": "#E5ECF6",
            "gridcolor": "white",
            "gridwidth": 2,
            "linecolor": "white",
            "showbackground": true,
            "ticks": "",
            "zerolinecolor": "white"
           }
          },
          "shapedefaults": {
           "line": {
            "color": "#2a3f5f"
           }
          },
          "ternary": {
           "aaxis": {
            "gridcolor": "white",
            "linecolor": "white",
            "ticks": ""
           },
           "baxis": {
            "gridcolor": "white",
            "linecolor": "white",
            "ticks": ""
           },
           "bgcolor": "#E5ECF6",
           "caxis": {
            "gridcolor": "white",
            "linecolor": "white",
            "ticks": ""
           }
          },
          "title": {
           "x": 0.05
          },
          "xaxis": {
           "automargin": true,
           "gridcolor": "white",
           "linecolor": "white",
           "ticks": "",
           "title": {
            "standoff": 15
           },
           "zerolinecolor": "white",
           "zerolinewidth": 2
          },
          "yaxis": {
           "automargin": true,
           "gridcolor": "white",
           "linecolor": "white",
           "ticks": "",
           "title": {
            "standoff": 15
           },
           "zerolinecolor": "white",
           "zerolinewidth": 2
          }
         }
        },
        "xaxis": {
         "anchor": "y",
         "domain": [
          0,
          1
         ],
         "title": {
          "text": "epi_score2022"
         }
        },
        "yaxis": {
         "anchor": "x",
         "domain": [
          0,
          1
         ],
         "title": {
          "text": "country"
         }
        }
       }
      }
     },
     "metadata": {},
     "output_type": "display_data"
    }
   ],
   "source": [
    "fig = px.scatter(data, x=\"epi_score2022\", y=\"country\", color=\"Continent\", hover_data=['epi_score2022'])\n",
    "fig.show()"
   ]
  },
  {
   "cell_type": "markdown",
   "metadata": {},
   "source": [
    "This is an example of a more healthy data spread."
   ]
  },
  {
   "cell_type": "markdown",
   "metadata": {},
   "source": [
    "Religion will also be removed beacause it shows no variety as many countries represent Christianity, and therefore accomplishes nothing.\n",
    "\n",
    "To withold the intergrity of the study, these variables are best removed."
   ]
  },
  {
   "cell_type": "code",
   "execution_count": 4,
   "metadata": {},
   "outputs": [],
   "source": [
    "from sklearn import preprocessing\n",
    "\n",
    "info = data.drop(['Continent', 'country','crimeIndex','happiness2021','food_insecurity_2017','religion'], axis=1)\n",
    "scaler = preprocessing.MinMaxScaler()\n",
    "data_transform = scaler.fit_transform(info)\n",
    "data_transform = pd.DataFrame(data_transform)\n",
    "data_transform.columns = info.columns"
   ]
  },
  {
   "cell_type": "code",
   "execution_count": 5,
   "metadata": {},
   "outputs": [
    {
     "data": {
      "text/plain": [
       "<BarContainer object of 10 artists>"
      ]
     },
     "execution_count": 5,
     "metadata": {},
     "output_type": "execute_result"
    },
    {
     "data": {
      "image/png": "[encoded data removed]",
      "text/plain": [
       "<Figure size 432x288 with 1 Axes>"
      ]
     },
     "metadata": {
      "needs_background": "light"
     },
     "output_type": "display_data"
    }
   ],
   "source": [
    "rf = RandomForestRegressor(n_estimators=100)\n",
    "rf.fit(data_transform,pd.get_dummies(data['Continent']))\n",
    "\n",
    "sorted_idx = rf.feature_importances_.argsort()\n",
    "plt.barh(info.columns[sorted_idx], rf.feature_importances_[sorted_idx])"
   ]
  },
  {
   "cell_type": "markdown",
   "metadata": {},
   "source": [
    "These are the final variables I will be progressing with the analysis.\n",
    "\n",
    "Because we are handling with many variables, it is desirable to do a PCA. This reduces to the dimensionality of the data and makes explaining the data a lot of manageable while also tolerating outliers."
   ]
  },
  {
   "cell_type": "markdown",
   "metadata": {},
   "source": [
    "## PCA graph with two components"
   ]
  },
  {
   "cell_type": "code",
   "execution_count": 6,
   "metadata": {},
   "outputs": [],
   "source": [
    "from sklearn.decomposition import PCA\n",
    "pca = PCA(n_components=2)\n",
    "x_pca = pca.fit_transform(data_transform)"
   ]
  },
  {
   "cell_type": "code",
   "execution_count": 7,
   "metadata": {},
   "outputs": [
    {
     "data": {
      "application/vnd.plotly.v1+json": {
       "config": {
        "plotlyServerURL": "https://plot.ly"
       },
       "data": [
        {
         "hovertemplate": "color=Africa<br>0=%{x}<br>1=%{y}<extra></extra>",
         "legendgroup": "Africa",
         "marker": {
          "color": "#636efa",
          "symbol": "circle"
         },
         "mode": "markers",
         "name": "Africa",
         "orientation": "v",
         "showlegend": true,
         "type": "scatter",
         "x": [
          0.0684134072952089,
          0.7285881106815038,
          0.7635952443483627,
          0.25385280557938683,
          0.7520367302445702,
          0.9835218108133621,
          0.8630981121223407,
          0.6060720254702667,
          1.2722330614867665,
          1.1268465269065708,
          0.807903921499595,
          0.8378520665505198,
          0.7520367302445701,
          0.5988458406795355,
          0.2894896706606903,
          0.2894896706606903,
          0.740948420717702,
          0.7907488692157825,
          0.8456403616242424,
          0.4253055582751003,
          0.7662990284413074,
          0.5688301065595364,
          0.9162595441821035,
          1.030568519241804,
          0.7033818286531356,
          0.7111865774719731,
          0.9676383543756787,
          0.964205147993367,
          0.49586956032052715,
          0.8751549144131916,
          0.7630971870426402,
          0.9244810851552125,
          0.692203626676272,
          -0.16748859387870835,
          0.1488686917523799,
          0.7577355324042427,
          0.5460425880963643,
          0.9072790499817553,
          1.01792617000774,
          0.7357264678923061,
          0.5006932758208961,
          0.6967489297251002,
          0.1730814474356012,
          1.0676859923587643,
          1.010975698327185,
          -0.07329771707211089,
          0.9736134437483517,
          0.7607399917273088,
          0.7520367302445701,
          0.7029841891419252,
          0.9572070874411417,
          0.0721863102971236,
          0.7720882370086146,
          0.825045878701982,
          0.6806852763178967
         ],
         "xaxis": "x",
         "y": [
          0.36455045614258313,
          -0.3318271046012851,
          -0.12888551386090982,
          -0.057472065088845614,
          -0.028472406080979135,
          -0.16077165741347302,
          -0.05001205461219793,
          -0.27198879720388563,
          -0.47443524555512184,
          -0.28281148215726465,
          -0.07341995822054743,
          -0.08306252874557851,
          -0.02847240608097948,
          -0.042044151358437365,
          0.28115176771432415,
          0.28115176771432415,
          -0.16818891108978087,
          -0.06032294761219951,
          -0.10239801672602096,
          0.04421006162934622,
          -0.04357413235648301,
          -0.026663829342300462,
          -0.1283636143947781,
          -0.2803655846220265,
          -0.10964453645528151,
          -0.13613008001341548,
          -0.22924881535754474,
          -0.16325418437552983,
          0.23311457043756365,
          -0.24445049875368796,
          -0.05483908675866401,
          -0.2082102816761223,
          0.021265272287648348,
          0.06849220241931271,
          0.31476649350902147,
          -0.3726688943054935,
          -0.11512906866329954,
          -0.21721304072284295,
          -0.13224041151120194,
          -0.18961908926409768,
          0.08443805096647806,
          0.003773538365036628,
          -0.08030301258445906,
          -0.3178390368478079,
          -0.17941021393014656,
          -0.5501219217830109,
          -0.14275666632282696,
          -0.03574101356756642,
          -0.02847240608097948,
          -0.004129403424430236,
          -0.13174091517803804,
          0.34758046681633775,
          -0.06706027352766712,
          -0.09935374437281298,
          -0.0712251058116731
         ],
         "yaxis": "y"
        },
        {
         "hovertemplate": "color=Asia<br>0=%{x}<br>1=%{y}<extra></extra>",
         "legendgroup": "Asia",
         "marker": {
          "color": "#EF553B",
          "symbol": "circle"
         },
         "mode": "markers",
         "name": "Asia",
         "orientation": "v",
         "showlegend": true,
         "type": "scatter",
         "x": [
          0.9046859225855904,
          -0.12900475561335303,
          0.47656323073315227,
          0.34599850369303004,
          0.10024847502748985,
          0.042113488071661244,
          0.325077429336198,
          -0.29277724222366663,
          -0.006541413519773268,
          0.29414005026267587,
          0.20309460063212909,
          0.02464395314241154,
          0.3807646795624334,
          -0.9754456766274328,
          -0.7341673850307202,
          -0.061311278242705776,
          -0.1944890057771508,
          -0.1944890057771508,
          -0.1944890057771508,
          -0.1944890057771508,
          0.44379775701316765,
          -0.5233737327409589,
          -0.16579586168144048,
          0.08605676054357628,
          0.4792393092079086,
          -0.025308478076233248,
          -0.0008031966478988002,
          0.03649537054473433,
          -0.05218410956453952,
          0.2383735674430182,
          -0.11927172481257112,
          0.6010349696748105,
          0.1819540377724771,
          -0.2980140380060409,
          -0.10703619067787168,
          -0.10703619067787168,
          -0.10703619067787168,
          -0.04495539141321223,
          -0.6571067485893034,
          0.03567931153303331,
          0.08400787490913517,
          0.2313628130153892,
          -0.0687071088701518,
          -0.00020112545380950578,
          -0.00020112545380950578,
          -0.00020112545380950578,
          -0.00020112545380950578,
          0.14417731577638668,
          -0.2578428800791355,
          0.011038342648027447,
          -0.07311661452575807,
          0.763671978210766
         ],
         "xaxis": "x",
         "y": [
          -0.16052626372728165,
          0.32635933453797367,
          -0.031526936619730495,
          0.03836403765506928,
          0.380700301942493,
          0.13918787304967545,
          -0.28090200119510134,
          0.07209810816968323,
          0.05801574267537337,
          -0.4461991960115774,
          -0.17608669450530964,
          0.2543107449081146,
          0.1062570323859441,
          -0.2140089479322246,
          0.12224067948674089,
          0.23113671155390134,
          0.20742932730641675,
          0.20742932730641675,
          0.20742932730641675,
          0.20742932730641675,
          -0.08288878606207051,
          0.1264131986729923,
          0.5051807229449732,
          0.10249050911694173,
          0.017466769542587756,
          0.20891231178928218,
          0.3786074578144318,
          0.2996372422501557,
          -0.0022022365545279208,
          -0.32667631091068194,
          0.5296357766395348,
          -0.2703764704096538,
          -0.18761055114140654,
          0.73550796354154,
          0.26824781475088133,
          0.26824781475088133,
          0.26824781475088133,
          0.5135841360323807,
          0.07359336032356807,
          0.19069724255004858,
          0.19556785086266418,
          0.03650498101845857,
          -0.168834275441961,
          0.14079100280004098,
          0.14079100280004098,
          0.14079100280004098,
          0.14079100280004098,
          0.2523180109905083,
          0.6345199251833655,
          0.2514762835939405,
          -0.21198408934486426,
          -0.10692536512587313
         ],
         "yaxis": "y"
        },
        {
         "hovertemplate": "color=Europe<br>0=%{x}<br>1=%{y}<extra></extra>",
         "legendgroup": "Europe",
         "marker": {
          "color": "#00cc96",
          "symbol": "circle"
         },
         "mode": "markers",
         "name": "Europe",
         "orientation": "v",
         "showlegend": true,
         "type": "scatter",
         "x": [
          -0.29565735229614565,
          -0.7769153518556009,
          -0.14267781897802256,
          -0.14267781897802256,
          -0.14267781897802256,
          -0.14267781897802256,
          -0.9846022803278494,
          0.06469958755022093,
          0.06469958755022093,
          0.06469958755022093,
          0.06469958755022093,
          -0.18110799277732217,
          -0.9198257846535517,
          -0.30998555958978546,
          -0.44349931231672474,
          -0.5918811823147352,
          -0.7203412532126896,
          -0.7203412532126896,
          -0.7203412532126896,
          -0.7203412532126896,
          -0.6809796603401232,
          -0.9965567732525681,
          -0.6869026525429709,
          -1.053105024802293,
          -0.9497030499614705,
          -0.1297454837405598,
          -0.1297454837405598,
          -0.1297454837405598,
          -0.1297454837405598,
          -1.0192538035234373,
          -0.7741308873567643,
          -0.511639703255261,
          -1.1203904337425592,
          -1.0466996327934912,
          -0.7676340886626255,
          -0.4889166215166845,
          -0.5559208459424679,
          -0.591024159318733,
          -1.0498137365294808,
          -0.5559208459424679,
          -0.9953953772962425,
          -0.2233854886918928,
          -0.5559208459424679,
          -0.5822429523504093,
          -0.9916530597554086,
          -1.0683936570175772,
          -0.6545341237138721,
          -0.8406253801599607,
          -0.4611081236910527,
          -0.5559208459424679,
          -0.3018158399297239,
          -0.4652819482703881,
          -0.8530740660721873,
          -0.9220918977829733,
          -1.02028357190844,
          -1.0312822744030956,
          -0.13421678896969785,
          -0.9806036689949473,
          -0.31264633798529556
         ],
         "xaxis": "x",
         "y": [
          0.08113119551211417,
          -0.19372355350021733,
          0.11046832531854846,
          0.11046832531854846,
          0.11046832531854846,
          0.11046832531854846,
          -0.2310837752983092,
          0.24899658891700213,
          0.24899658891700213,
          0.24899658891700213,
          0.24899658891700213,
          0.1760576944583694,
          -0.25297962684402536,
          -0.002875471369106959,
          -0.12715298287631158,
          -0.17843628776318202,
          -0.04872532360014317,
          -0.04872532360014317,
          -0.04872532360014317,
          -0.04872532360014317,
          0.007561621817481804,
          -0.24392177251364355,
          -0.06066816072909234,
          -0.19612994621420238,
          -0.2654196578467297,
          0.02078961809265509,
          0.02078961809265509,
          0.02078961809265509,
          0.02078961809265509,
          -0.20162634102605298,
          -0.021846799982370112,
          -0.08474429127805817,
          -0.05445963608612831,
          -0.18634839708679796,
          -0.0505777926765112,
          -0.10953074666691304,
          0.0006084961982742951,
          -0.05286868412928538,
          -0.14927913932851652,
          0.0006084961982742951,
          -0.22440218531095,
          -0.03732635289159816,
          0.0006084961982742951,
          0.03404888861243653,
          -0.23040594063259592,
          -0.18918040404656536,
          -0.03082464125709824,
          -0.3159790832095679,
          -0.13288377100789348,
          0.0006084961982742951,
          -0.010539267540118354,
          -0.13883290299110967,
          -0.26548090899336646,
          -0.27579639928784927,
          -0.23778664342668152,
          -0.2347362855087743,
          -0.06110725975185379,
          -0.22456990625634105,
          0.4064691480697847
         ],
         "yaxis": "y"
        },
        {
         "hovertemplate": "color=North America<br>0=%{x}<br>1=%{y}<extra></extra>",
         "legendgroup": "North America",
         "marker": {
          "color": "#ab63fa",
          "symbol": "circle"
         },
         "mode": "markers",
         "name": "North America",
         "orientation": "v",
         "showlegend": true,
         "type": "scatter",
         "x": [
          -0.006704976650458625,
          -0.05540403412437104,
          -0.28104636654450743,
          0.006262894814122094,
          -1.0368471849714855,
          -0.5796472483121303,
          -0.28409561344941264,
          0.023820219690233468,
          0.17699527621296945,
          0.08046363648812098,
          0.10091652111915769,
          0.24559941637426605,
          0.8998767366515776,
          0.21805174705706815,
          0.0623492597409872,
          -0.33433711058836835,
          0.20074148797386765,
          -0.1809323865934495,
          0.018203261640254,
          -0.060863736996404384,
          0.038611511778878185,
          -0.06559206570028853,
          -0.9103501102859086
         ],
         "xaxis": "x",
         "y": [
          0.26304755533347923,
          0.2625722952909057,
          0.10880301000268504,
          0.07891257452056091,
          -0.0990408883651911,
          -0.29732786138211686,
          0.004553006241926078,
          0.3884788418526691,
          0.22114099945243215,
          -0.0835764428967384,
          0.2248266508644765,
          -0.0623290673384753,
          -0.20588153432532286,
          -0.044811684293933236,
          0.25123441217865927,
          -0.38275500841367954,
          -0.055545123175592105,
          0.05898732827293841,
          0.2735114621905314,
          0.083160799322881,
          0.38415833963687035,
          0.4080755992823987,
          -0.1509068463876004
         ],
         "yaxis": "y"
        },
        {
         "hovertemplate": "color=Oceania<br>0=%{x}<br>1=%{y}<extra></extra>",
         "legendgroup": "Oceania",
         "marker": {
          "color": "#FFA15A",
          "symbol": "circle"
         },
         "mode": "markers",
         "name": "Oceania",
         "orientation": "v",
         "showlegend": true,
         "type": "scatter",
         "x": [
          -1.0416639643753545,
          0.13704316843109987,
          0.13552584221759675,
          -0.003426624865097201,
          -0.0310348475469262,
          0.10071558476405726,
          0.02596852195206545,
          -0.9584174865715089,
          0.045429561970587055,
          0.7430313877862537,
          -0.1593177736127421,
          0.39131921101432326,
          0.056967193521721894,
          -0.06238485452478745,
          0.19026041793899456
         ],
         "xaxis": "x",
         "y": [
          -0.105085430670539,
          0.04729458318843614,
          0.14090206607238617,
          0.21616315561509536,
          0.17225797660281852,
          0.10521623386798547,
          0.43280150070418966,
          -0.17910799661524762,
          0.39398345365424,
          -0.09784953427230199,
          0.23260840013320389,
          0.2186520061969296,
          0.34767305317063635,
          0.22745856909631376,
          0.006389269467774257
         ],
         "yaxis": "y"
        },
        {
         "hovertemplate": "color=South America<br>0=%{x}<br>1=%{y}<extra></extra>",
         "legendgroup": "South America",
         "marker": {
          "color": "#19d3f3",
          "symbol": "circle"
         },
         "mode": "markers",
         "name": "South America",
         "orientation": "v",
         "showlegend": true,
         "type": "scatter",
         "x": [
          -0.6359675955961731,
          -0.020029734965562474,
          -0.38297996602836865,
          -0.6964467991019683,
          -0.3927577383666937,
          -0.23541449563600678,
          0.24028521851931284,
          0.09276011259709846,
          -0.1605526027816533,
          0.10792795374889676,
          -0.6236240627570467,
          0.03263398375977547
         ],
         "xaxis": "x",
         "y": [
          -0.34893861121115993,
          -0.1257948852513103,
          -0.48564464147869335,
          -0.319480352838861,
          -0.4934700483535093,
          -0.3638972462685039,
          0.17166368295149292,
          0.1051985590411356,
          -0.07687815482281186,
          0.04671548691965154,
          -0.3800413083165439,
          0.06982595418588099
         ],
         "yaxis": "y"
        }
       ],
       "layout": {
        "legend": {
         "title": {
          "text": "color"
         },
         "tracegroupgap": 0
        },
        "margin": {
         "t": 60
        },
        "template": {
         "data": {
          "bar": [
           {
            "error_x": {
             "color": "#2a3f5f"
            },
            "error_y": {
             "color": "#2a3f5f"
            },
            "marker": {
             "line": {
              "color": "#E5ECF6",
              "width": 0.5
             },
             "pattern": {
              "fillmode": "overlay",
              "size": 10,
              "solidity": 0.2
             }
            },
            "type": "bar"
           }
          ],
          "barpolar": [
           {
            "marker": {
             "line": {
              "color": "#E5ECF6",
              "width": 0.5
             },
             "pattern": {
              "fillmode": "overlay",
              "size": 10,
              "solidity": 0.2
             }
            },
            "type": "barpolar"
           }
          ],
          "carpet": [
           {
            "aaxis": {
             "endlinecolor": "#2a3f5f",
             "gridcolor": "white",
             "linecolor": "white",
             "minorgridcolor": "white",
             "startlinecolor": "#2a3f5f"
            },
            "baxis": {
             "endlinecolor": "#2a3f5f",
             "gridcolor": "white",
             "linecolor": "white",
             "minorgridcolor": "white",
             "startlinecolor": "#2a3f5f"
            },
            "type": "carpet"
           }
          ],
          "choropleth": [
           {
            "colorbar": {
             "outlinewidth": 0,
             "ticks": ""
            },
            "type": "choropleth"
           }
          ],
          "contour": [
           {
            "colorbar": {
             "outlinewidth": 0,
             "ticks": ""
            },
            "colorscale": [
             [
              0,
              "#0d0887"
             ],
             [
              0.1111111111111111,
              "#46039f"
             ],
             [
              0.2222222222222222,
              "#7201a8"
             ],
             [
              0.3333333333333333,
              "#9c179e"
             ],
             [
              0.4444444444444444,
              "#bd3786"
             ],
             [
              0.5555555555555556,
              "#d8576b"
             ],
             [
              0.6666666666666666,
              "#ed7953"
             ],
             [
              0.7777777777777778,
              "#fb9f3a"
             ],
             [
              0.8888888888888888,
              "#fdca26"
             ],
             [
              1,
              "#f0f921"
             ]
            ],
            "type": "contour"
           }
          ],
          "contourcarpet": [
           {
            "colorbar": {
             "outlinewidth": 0,
             "ticks": ""
            },
            "type": "contourcarpet"
           }
          ],
          "heatmap": [
           {
            "colorbar": {
             "outlinewidth": 0,
             "ticks": ""
            },
            "colorscale": [
             [
              0,
              "#0d0887"
             ],
             [
              0.1111111111111111,
              "#46039f"
             ],
             [
              0.2222222222222222,
              "#7201a8"
             ],
             [
              0.3333333333333333,
              "#9c179e"
             ],
             [
              0.4444444444444444,
              "#bd3786"
             ],
             [
              0.5555555555555556,
              "#d8576b"
             ],
             [
              0.6666666666666666,
              "#ed7953"
             ],
             [
              0.7777777777777778,
              "#fb9f3a"
             ],
             [
              0.8888888888888888,
              "#fdca26"
             ],
             [
              1,
              "#f0f921"
             ]
            ],
            "type": "heatmap"
           }
          ],
          "heatmapgl": [
           {
            "colorbar": {
             "outlinewidth": 0,
             "ticks": ""
            },
            "colorscale": [
             [
              0,
              "#0d0887"
             ],
             [
              0.1111111111111111,
              "#46039f"
             ],
             [
              0.2222222222222222,
              "#7201a8"
             ],
             [
              0.3333333333333333,
              "#9c179e"
             ],
             [
              0.4444444444444444,
              "#bd3786"
             ],
             [
              0.5555555555555556,
              "#d8576b"
             ],
             [
              0.6666666666666666,
              "#ed7953"
             ],
             [
              0.7777777777777778,
              "#fb9f3a"
             ],
             [
              0.8888888888888888,
              "#fdca26"
             ],
             [
              1,
              "#f0f921"
             ]
            ],
            "type": "heatmapgl"
           }
          ],
          "histogram": [
           {
            "marker": {
             "pattern": {
              "fillmode": "overlay",
              "size": 10,
              "solidity": 0.2
             }
            },
            "type": "histogram"
           }
          ],
          "histogram2d": [
           {
            "colorbar": {
             "outlinewidth": 0,
             "ticks": ""
            },
            "colorscale": [
             [
              0,
              "#0d0887"
             ],
             [
              0.1111111111111111,
              "#46039f"
             ],
             [
              0.2222222222222222,
              "#7201a8"
             ],
             [
              0.3333333333333333,
              "#9c179e"
             ],
             [
              0.4444444444444444,
              "#bd3786"
             ],
             [
              0.5555555555555556,
              "#d8576b"
             ],
             [
              0.6666666666666666,
              "#ed7953"
             ],
             [
              0.7777777777777778,
              "#fb9f3a"
             ],
             [
              0.8888888888888888,
              "#fdca26"
             ],
             [
              1,
              "#f0f921"
             ]
            ],
            "type": "histogram2d"
           }
          ],
          "histogram2dcontour": [
           {
            "colorbar": {
             "outlinewidth": 0,
             "ticks": ""
            },
            "colorscale": [
             [
              0,
              "#0d0887"
             ],
             [
              0.1111111111111111,
              "#46039f"
             ],
             [
              0.2222222222222222,
              "#7201a8"
             ],
             [
              0.3333333333333333,
              "#9c179e"
             ],
             [
              0.4444444444444444,
              "#bd3786"
             ],
             [
              0.5555555555555556,
              "#d8576b"
             ],
             [
              0.6666666666666666,
              "#ed7953"
             ],
             [
              0.7777777777777778,
              "#fb9f3a"
             ],
             [
              0.8888888888888888,
              "#fdca26"
             ],
             [
              1,
              "#f0f921"
             ]
            ],
            "type": "histogram2dcontour"
           }
          ],
          "mesh3d": [
           {
            "colorbar": {
             "outlinewidth": 0,
             "ticks": ""
            },
            "type": "mesh3d"
           }
          ],
          "parcoords": [
           {
            "line": {
             "colorbar": {
              "outlinewidth": 0,
              "ticks": ""
             }
            },
            "type": "parcoords"
           }
          ],
          "pie": [
           {
            "automargin": true,
            "type": "pie"
           }
          ],
          "scatter": [
           {
            "fillpattern": {
             "fillmode": "overlay",
             "size": 10,
             "solidity": 0.2
            },
            "type": "scatter"
           }
          ],
          "scatter3d": [
           {
            "line": {
             "colorbar": {
              "outlinewidth": 0,
              "ticks": ""
             }
            },
            "marker": {
             "colorbar": {
              "outlinewidth": 0,
              "ticks": ""
             }
            },
            "type": "scatter3d"
           }
          ],
          "scattercarpet": [
           {
            "marker": {
             "colorbar": {
              "outlinewidth": 0,
              "ticks": ""
             }
            },
            "type": "scattercarpet"
           }
          ],
          "scattergeo": [
           {
            "marker": {
             "colorbar": {
              "outlinewidth": 0,
              "ticks": ""
             }
            },
            "type": "scattergeo"
           }
          ],
          "scattergl": [
           {
            "marker": {
             "colorbar": {
              "outlinewidth": 0,
              "ticks": ""
             }
            },
            "type": "scattergl"
           }
          ],
          "scattermapbox": [
           {
            "marker": {
             "colorbar": {
              "outlinewidth": 0,
              "ticks": ""
             }
            },
            "type": "scattermapbox"
           }
          ],
          "scatterpolar": [
           {
            "marker": {
             "colorbar": {
              "outlinewidth": 0,
              "ticks": ""
             }
            },
            "type": "scatterpolar"
           }
          ],
          "scatterpolargl": [
           {
            "marker": {
             "colorbar": {
              "outlinewidth": 0,
              "ticks": ""
             }
            },
            "type": "scatterpolargl"
           }
          ],
          "scatterternary": [
           {
            "marker": {
             "colorbar": {
              "outlinewidth": 0,
              "ticks": ""
             }
            },
            "type": "scatterternary"
           }
          ],
          "surface": [
           {
            "colorbar": {
             "outlinewidth": 0,
             "ticks": ""
            },
            "colorscale": [
             [
              0,
              "#0d0887"
             ],
             [
              0.1111111111111111,
              "#46039f"
             ],
             [
              0.2222222222222222,
              "#7201a8"
             ],
             [
              0.3333333333333333,
              "#9c179e"
             ],
             [
              0.4444444444444444,
              "#bd3786"
             ],
             [
              0.5555555555555556,
              "#d8576b"
             ],
             [
              0.6666666666666666,
              "#ed7953"
             ],
             [
              0.7777777777777778,
              "#fb9f3a"
             ],
             [
              0.8888888888888888,
              "#fdca26"
             ],
             [
              1,
              "#f0f921"
             ]
            ],
            "type": "surface"
           }
          ],
          "table": [
           {
            "cells": {
             "fill": {
              "color": "#EBF0F8"
             },
             "line": {
              "color": "white"
             }
            },
            "header": {
             "fill": {
              "color": "#C8D4E3"
             },
             "line": {
              "color": "white"
             }
            },
            "type": "table"
           }
          ]
         },
         "layout": {
          "annotationdefaults": {
           "arrowcolor": "#2a3f5f",
           "arrowhead": 0,
           "arrowwidth": 1
          },
          "autotypenumbers": "strict",
          "coloraxis": {
           "colorbar": {
            "outlinewidth": 0,
            "ticks": ""
           }
          },
          "colorscale": {
           "diverging": [
            [
             0,
             "#8e0152"
            ],
            [
             0.1,
             "#c51b7d"
            ],
            [
             0.2,
             "#de77ae"
            ],
            [
             0.3,
             "#f1b6da"
            ],
            [
             0.4,
             "#fde0ef"
            ],
            [
             0.5,
             "#f7f7f7"
            ],
            [
             0.6,
             "#e6f5d0"
            ],
            [
             0.7,
             "#b8e186"
            ],
            [
             0.8,
             "#7fbc41"
            ],
            [
             0.9,
             "#4d9221"
            ],
            [
             1,
             "#276419"
            ]
           ],
           "sequential": [
            [
             0,
             "#0d0887"
            ],
            [
             0.1111111111111111,
             "#46039f"
            ],
            [
             0.2222222222222222,
             "#7201a8"
            ],
            [
             0.3333333333333333,
             "#9c179e"
            ],
            [
             0.4444444444444444,
             "#bd3786"
            ],
            [
             0.5555555555555556,
             "#d8576b"
            ],
            [
             0.6666666666666666,
             "#ed7953"
            ],
            [
             0.7777777777777778,
             "#fb9f3a"
            ],
            [
             0.8888888888888888,
             "#fdca26"
            ],
            [
             1,
             "#f0f921"
            ]
           ],
           "sequentialminus": [
            [
             0,
             "#0d0887"
            ],
            [
             0.1111111111111111,
             "#46039f"
            ],
            [
             0.2222222222222222,
             "#7201a8"
            ],
            [
             0.3333333333333333,
             "#9c179e"
            ],
            [
             0.4444444444444444,
             "#bd3786"
            ],
            [
             0.5555555555555556,
             "#d8576b"
            ],
            [
             0.6666666666666666,
             "#ed7953"
            ],
            [
             0.7777777777777778,
             "#fb9f3a"
            ],
            [
             0.8888888888888888,
             "#fdca26"
            ],
            [
             1,
             "#f0f921"
            ]
           ]
          },
          "colorway": [
           "#636efa",
           "#EF553B",
           "#00cc96",
           "#ab63fa",
           "#FFA15A",
           "#19d3f3",
           "#FF6692",
           "#B6E880",
           "#FF97FF",
           "#FECB52"
          ],
          "font": {
           "color": "#2a3f5f"
          },
          "geo": {
           "bgcolor": "white",
           "lakecolor": "white",
           "landcolor": "#E5ECF6",
           "showlakes": true,
           "showland": true,
           "subunitcolor": "white"
          },
          "hoverlabel": {
           "align": "left"
          },
          "hovermode": "closest",
          "mapbox": {
           "style": "light"
          },
          "paper_bgcolor": "white",
          "plot_bgcolor": "#E5ECF6",
          "polar": {
           "angularaxis": {
            "gridcolor": "white",
            "linecolor": "white",
            "ticks": ""
           },
           "bgcolor": "#E5ECF6",
           "radialaxis": {
            "gridcolor": "white",
            "linecolor": "white",
            "ticks": ""
           }
          },
          "scene": {
           "xaxis": {
            "backgroundcolor": "#E5ECF6",
            "gridcolor": "white",
            "gridwidth": 2,
            "linecolor": "white",
            "showbackground": true,
            "ticks": "",
            "zerolinecolor": "white"
           },
           "yaxis": {
            "backgroundcolor": "#E5ECF6",
            "gridcolor": "white",
            "gridwidth": 2,
            "linecolor": "white",
            "showbackground": true,
            "ticks": "",
            "zerolinecolor": "white"
           },
           "zaxis": {
            "backgroundcolor": "#E5ECF6",
            "gridcolor": "white",
            "gridwidth": 2,
            "linecolor": "white",
            "showbackground": true,
            "ticks": "",
            "zerolinecolor": "white"
           }
          },
          "shapedefaults": {
           "line": {
            "color": "#2a3f5f"
           }
          },
          "ternary": {
           "aaxis": {
            "gridcolor": "white",
            "linecolor": "white",
            "ticks": ""
           },
           "baxis": {
            "gridcolor": "white",
            "linecolor": "white",
            "ticks": ""
           },
           "bgcolor": "#E5ECF6",
           "caxis": {
            "gridcolor": "white",
            "linecolor": "white",
            "ticks": ""
           }
          },
          "title": {
           "x": 0.05
          },
          "xaxis": {
           "automargin": true,
           "gridcolor": "white",
           "linecolor": "white",
           "ticks": "",
           "title": {
            "standoff": 15
           },
           "zerolinecolor": "white",
           "zerolinewidth": 2
          },
          "yaxis": {
           "automargin": true,
           "gridcolor": "white",
           "linecolor": "white",
           "ticks": "",
           "title": {
            "standoff": 15
           },
           "zerolinecolor": "white",
           "zerolinewidth": 2
          }
         }
        },
        "xaxis": {
         "anchor": "y",
         "domain": [
          0,
          1
         ],
         "title": {
          "text": "0"
         }
        },
        "yaxis": {
         "anchor": "x",
         "domain": [
          0,
          1
         ],
         "title": {
          "text": "1"
         }
        }
       }
      }
     },
     "metadata": {},
     "output_type": "display_data"
    }
   ],
   "source": [
    "fig = px.scatter(x_pca, x = 0,y=1, color = data['Continent'])\n",
    "fig.show()"
   ]
  },
  {
   "cell_type": "markdown",
   "metadata": {},
   "source": [
    "Looking at the clusters at the PCA there is some hint of pattern. Although appearing like a mess, there is are a couple of interesting observations. To point out the pressing clusters, Europe and Africa show distinctive clusters being on the polar opposites of the scale. The rest however are observably messed together. But, Asia for example, shows a downward incline from about -0.6 to 0.4. South America is somewhat perpendicular to this intercepting at about 0. Reguardless, how would a clustering classifier visualise this.\n",
    "\n",
    "\n",
    "The Clustering method I will use is K-means. This is a process which uses a centroid to categorise data based on distance. I will first use baseline inputs with 5 clusters and 2 components as a simple visualisation, but for optimization these inputs will be analysed and further tests will be deployed to maxmise the clustering compactness and variance explanation. Idealliy we are looking for the clusters to explained 95% of the varience."
   ]
  },
  {
   "cell_type": "code",
   "execution_count": 7,
   "metadata": {},
   "outputs": [
    {
     "name": "stdout",
     "output_type": "stream",
     "text": [
      " Explained variance ratio for first two compoentns: [0.66547859 0.09848589]\n"
     ]
    },
    {
     "data": {
      "text/plain": [
       "<Figure size 432x288 with 0 Axes>"
      ]
     },
     "metadata": {},
     "output_type": "display_data"
    },
    {
     "data": {
      "image/png": "[encoded data removed]",
      "text/plain": [
       "<Figure size 864x576 with 1 Axes>"
      ]
     },
     "metadata": {
      "needs_background": "light"
     },
     "output_type": "display_data"
    }
   ],
   "source": [
    "from sklearn.cluster import KMeans\n",
    "from sklearn.discriminant_analysis import LinearDiscriminantAnalysis\n",
    "\n",
    "kmeans = KMeans(n_clusters = 5)\n",
    "kmeans = kmeans.fit(data_transform)\n",
    "\n",
    "predictions = kmeans.predict(data_transform)\n",
    "\n",
    "pca = PCA(n_components=2)\n",
    "x_pca = pca.fit(data_transform).transform(data_transform)\n",
    "\n",
    "print(\" Explained variance ratio for first two compoentns: \" + str(pca.explained_variance_ratio_))\n",
    "\n",
    "plt.figure()\n",
    "plt.figure(figsize = (12,8))\n",
    "lw = 2\n",
    "\n",
    "target_names = ['cluster 0','cluster 1', 'cluster 2','cluster 3','cluster 4']\n",
    "\n",
    "for i, targetname in zip([0,1,2,3,4],target_names):\n",
    "    plt.scatter(x_pca[predictions == i,0],x_pca[predictions == i,1], alpha = .8, lw = lw, label = targetname)\n",
    "\n",
    "plt.show()\n",
    "\n"
   ]
  },
  {
   "cell_type": "markdown",
   "metadata": {},
   "source": [
    "Looking at the PCA there are two pairs of clusters with very similar behavior. The explained variance ratio is about 70%. This means the clusters explains 70% of the variance. "
   ]
  },
  {
   "cell_type": "markdown",
   "metadata": {},
   "source": [
    "# Optimizing Clustering Methods\n",
    "\n",
    "One of the ways to improve the clustering is through looking at a measure called inertia. This is a method to find the best centroid that is the most compact based on distance between the points within a cluster and the centroid. "
   ]
  },
  {
   "cell_type": "code",
   "execution_count": 8,
   "metadata": {},
   "outputs": [
    {
     "name": "stdout",
     "output_type": "stream",
     "text": [
      "The inertia for 2 clusters is: 61.604981962659416\n",
      "The inertia for 3 clusters is: 38.877568314969416\n",
      "The inertia for 4 clusters is: 35.600466874865134\n",
      "The inertia for 5 clusters is: 32.83633627265643\n",
      "The inertia for 6 clusters is: 30.33463161013936\n",
      "The inertia for 7 clusters is: 28.256182136650352\n",
      "The inertia for 8 clusters is: 25.903836940105144\n",
      "The inertia for 9 clusters is: 24.04608972141442\n",
      "The inertia for 10 clusters is: 22.822697905046834\n"
     ]
    }
   ],
   "source": [
    "no_clusters = range(2,11)\n",
    "inertia = []\n",
    "\n",
    "for item in no_clusters:\n",
    "    kmeans = KMeans(n_clusters = item)\n",
    "    kmeans = kmeans.fit(data_transform)\n",
    "    kmeans_inertia = kmeans.inertia_\n",
    "    inertia.append(kmeans_inertia)\n",
    "    print('The inertia for', str(item),'clusters is:', str(kmeans_inertia))"
   ]
  },
  {
   "cell_type": "code",
   "execution_count": 14,
   "metadata": {},
   "outputs": [
    {
     "data": {
      "text/plain": [
       "[Text(2, 0, '2'),\n",
       " Text(3, 0, '3'),\n",
       " Text(4, 0, '4'),\n",
       " Text(5, 0, '5'),\n",
       " Text(6, 0, '6'),\n",
       " Text(7, 0, '7'),\n",
       " Text(8, 0, '8'),\n",
       " Text(9, 0, '9'),\n",
       " Text(10, 0, '10')]"
      ]
     },
     "execution_count": 14,
     "metadata": {},
     "output_type": "execute_result"
    },
    {
     "data": {
      "image/png": "[encoded data removed]",
      "text/plain": [
       "<Figure size 1152x432 with 1 Axes>"
      ]
     },
     "metadata": {
      "needs_background": "light"
     },
     "output_type": "display_data"
    }
   ],
   "source": [
    "fig, (ax1) = plt.subplots(1, figsize = (16,6))\n",
    "xx = [2,3,4,5,6,7,8,9,10]\n",
    "ax1.plot(xx, inertia)\n",
    "ax1.set_xticks(xx)\n",
    "ax1.set_xticklabels(xx)"
   ]
  },
  {
   "cell_type": "markdown",
   "metadata": {},
   "source": [
    "It appears looking at the inertia and considering the slowing incline in the inertia the best amount of clusters is 4,5,6. Because there is six continents, it is appropriate to choose six clusters. Now we need to find the best number components for our PCA."
   ]
  },
  {
   "cell_type": "code",
   "execution_count": 9,
   "metadata": {},
   "outputs": [
    {
     "name": "stdout",
     "output_type": "stream",
     "text": [
      "Total Variance in our dataset is: 0.5055948075703631\n",
      "The 95% variance we want to have is 0.48031506719184497 \n",
      "\n",
      "Variance explained with 8 components 0.4988718219735519\n",
      "Variance explained with 6 components 0.4767031050401784\n",
      "Variance explained with 5 components 0.4612590998129493\n",
      "Variance explained with 4 components 0.4398367500947494\n",
      "Variance explained with 3 components 0.4147777298391776\n",
      "Variance explained with 2 components 0.38625647234979676\n"
     ]
    }
   ],
   "source": [
    "full_dimension = data_transform.shape[1]\n",
    "\n",
    "pca = PCA( n_components=full_dimension)\n",
    "x_pca  = pca.fit(data_transform).transform(data_transform)\n",
    "\n",
    "total_variance = sum(pca.explained_variance_)\n",
    "print('Total Variance in our dataset is:' , total_variance)\n",
    "con_95 = total_variance * 0.95\n",
    "print('The 95% variance we want to have is' , str(con_95), '\\n')\n",
    "\n",
    "df = zip(range(0,full_dimension),pca.explained_variance_)\n",
    "df = pd.DataFrame(df, columns = ['PCA','Explained Variance'])\n",
    "\n",
    "print('Variance explained with 8 components', sum(df['Explained Variance'][0:8]) )\n",
    "print('Variance explained with 6 components', sum(df['Explained Variance'][0:6]) )\n",
    "print('Variance explained with 5 components', sum(df['Explained Variance'][0:5]) )\n",
    "print('Variance explained with 4 components', sum(df['Explained Variance'][0:4]) )\n",
    "print('Variance explained with 3 components', sum(df['Explained Variance'][0:3]) )\n",
    "print('Variance explained with 2 components', sum(df['Explained Variance'][0:2]) )"
   ]
  },
  {
   "cell_type": "markdown",
   "metadata": {},
   "source": [
    "Because we are looking for the pca with a variance explanation of 95% the variance explained by n_components should be 0.48. Looking at our output the closes is six components explaing 0.48.\n",
    "\n",
    "With these optimizations in mind we can finally do and develop out clusters."
   ]
  },
  {
   "cell_type": "code",
   "execution_count": null,
   "metadata": {},
   "outputs": [],
   "source": [
    "pca = PCA(n_components= 6)\n",
    "x_pca = pca.fit_transform(data_transform)\n",
    "\n",
    "inertia = []\n",
    "\n",
    "\n",
    "for item in no_clusters:\n",
    "    kmeans = KMeans(n_clusters = item)\n",
    "    kmeans = kmeans.fit(x_pca)\n",
    "    kmeans_inertia = kmeans.inertia_\n",
    "    inertia.append(kmeans_inertia)\n",
    "    print('The inertia for', str(item),'clusters is:', str(kmeans_inertia))\n"
   ]
  },
  {
   "cell_type": "markdown",
   "metadata": {},
   "source": [
    "The inertia results are much better on all scales. In the previous rendition six clusters had an inertia of 33 while here it is 26. We will continue with six clusters because the rate of change is similar and six clusters is appropriate for our analysis.\n",
    "\n",
    "* 6 components for PCA\n",
    "\n",
    "* 6 Clusters"
   ]
  },
  {
   "cell_type": "code",
   "execution_count": 18,
   "metadata": {},
   "outputs": [],
   "source": [
    "pca = PCA(n_components= 6)\n",
    "x_pca = pca.fit_transform(data_transform)\n",
    "\n",
    "kmeans = KMeans(n_clusters = 6)\n",
    "kmeans = kmeans.fit(x_pca)\n",
    "clusters = kmeans.labels_\n",
    "data['clusters'] = clusters"
   ]
  },
  {
   "cell_type": "code",
   "execution_count": 24,
   "metadata": {},
   "outputs": [
    {
     "data": {
      "text/plain": [
       "0    54\n",
       "4    49\n",
       "5    43\n",
       "2    33\n",
       "1    24\n",
       "3    13\n",
       "Name: clusters, dtype: int64"
      ]
     },
     "metadata": {},
     "output_type": "display_data"
    },
    {
     "data": {
      "text/plain": [
       "Europe           59\n",
       "Africa           55\n",
       "Asia             52\n",
       "North America    23\n",
       "Oceania          15\n",
       "South America    12\n",
       "Name: Continent, dtype: int64"
      ]
     },
     "metadata": {},
     "output_type": "display_data"
    }
   ],
   "source": [
    "display(data['clusters'].value_counts())\n",
    "display(data['Continent'].value_counts())"
   ]
  },
  {
   "cell_type": "markdown",
   "metadata": {},
   "source": [
    "## Final Visualisations"
   ]
  },
  {
   "cell_type": "code",
   "execution_count": 21,
   "metadata": {},
   "outputs": [
    {
     "data": {
      "text/plain": [
       "<AxesSubplot:xlabel='political_stability_2020', ylabel='obesity_2016'>"
      ]
     },
     "execution_count": 21,
     "metadata": {},
     "output_type": "execute_result"
    },
    {
     "data": {
      "image/png": "[encoded data removed]",
      "text/plain": [
       "<Figure size 432x288 with 1 Axes>"
      ]
     },
     "metadata": {
      "needs_background": "light"
     },
     "output_type": "display_data"
    }
   ],
   "source": [
    "sns.scatterplot(x = 'political_stability_2020', y = 'obesity_2016', hue = 'clusters', data = data)"
   ]
  },
  {
   "cell_type": "code",
   "execution_count": 22,
   "metadata": {},
   "outputs": [
    {
     "data": {
      "text/plain": [
       "<AxesSubplot:xlabel='political_stability_2020', ylabel='obesity_2016'>"
      ]
     },
     "execution_count": 22,
     "metadata": {},
     "output_type": "execute_result"
    },
    {
     "data": {
      "image/png": "[encoded data removed]",
      "text/plain": [
       "<Figure size 432x288 with 1 Axes>"
      ]
     },
     "metadata": {
      "needs_background": "light"
     },
     "output_type": "display_data"
    }
   ],
   "source": [
    "sns.scatterplot(x = 'political_stability_2020', y = 'obesity_2016', hue = 'Continent', data = data)"
   ]
  },
  {
   "cell_type": "code",
   "execution_count": 34,
   "metadata": {},
   "outputs": [
    {
     "data": {
      "text/plain": [
       "Continent\n",
       "Africa           2.275918\n",
       "Asia             2.619524\n",
       "Europe           3.311132\n",
       "North America    3.365217\n",
       "Oceania          3.826923\n",
       "South America    2.971000\n",
       "Name: political_stability_2020, dtype: float64"
      ]
     },
     "execution_count": 34,
     "metadata": {},
     "output_type": "execute_result"
    }
   ],
   "source": [
    "data.groupby('Continent').political_stability_2020.mean()"
   ]
  },
  {
   "cell_type": "code",
   "execution_count": 29,
   "metadata": {},
   "outputs": [
    {
     "data": {
      "image/png": "[encoded data removed]",
      "text/plain": [
       "<Figure size 432x288 with 1 Axes>"
      ]
     },
     "metadata": {},
     "output_type": "display_data"
    },
    {
     "data": {
      "image/png": "[encoded data removed]",
      "text/plain": [
       "<Figure size 432x288 with 1 Axes>"
      ]
     },
     "metadata": {},
     "output_type": "display_data"
    },
    {
     "data": {
      "image/png": "[encoded data removed]",
      "text/plain": [
       "<Figure size 432x288 with 1 Axes>"
      ]
     },
     "metadata": {},
     "output_type": "display_data"
    },
    {
     "data": {
      "image/png": "[encoded data removed]",
      "text/plain": [
       "<Figure size 432x288 with 1 Axes>"
      ]
     },
     "metadata": {},
     "output_type": "display_data"
    },
    {
     "data": {
      "image/png": "[encoded data removed]",
      "text/plain": [
       "<Figure size 432x288 with 1 Axes>"
      ]
     },
     "metadata": {},
     "output_type": "display_data"
    },
    {
     "data": {
      "image/png": "[encoded data removed]",
      "text/plain": [
       "<Figure size 432x288 with 1 Axes>"
      ]
     },
     "metadata": {},
     "output_type": "display_data"
    },
    {
     "data": {
      "image/png": "[encoded data removed]",
      "text/plain": [
       "<Figure size 432x288 with 1 Axes>"
      ]
     },
     "metadata": {},
     "output_type": "display_data"
    },
    {
     "data": {
      "image/png": "[encoded data removed]",
      "text/plain": [
       "<Figure size 432x288 with 1 Axes>"
      ]
     },
     "metadata": {},
     "output_type": "display_data"
    },
    {
     "data": {
      "image/png": "[encoded data removed]",
      "text/plain": [
       "<Figure size 432x288 with 1 Axes>"
      ]
     },
     "metadata": {},
     "output_type": "display_data"
    },
    {
     "data": {
      "image/png": "[encoded data removed]",
      "text/plain": [
       "<Figure size 432x288 with 1 Axes>"
      ]
     },
     "metadata": {},
     "output_type": "display_data"
    }
   ],
   "source": [
    "sns.set(style='white')\n",
    "\n",
    "cols = ['CO2_per_capita_2016', 'epi_score2022', 'fem_life_expectancy',\n",
    "       'male_life_expectancy', 'homosexuality_score', 'avg_schooling',\n",
    "       'malnourishment_2016_18', 'protein_supply_2017',\n",
    "       'political_stability_2020', 'obesity_2016']\n",
    "\n",
    "for item in cols:\n",
    "    plt.figure()\n",
    "    sns.barplot(x='Continent', y=item, hue='clusters', data=data) \n",
    "    plt.xticks(rotation=45)\n",
    "    plt.show"
   ]
  },
  {
   "cell_type": "markdown",
   "metadata": {},
   "source": [
    "## Insights about the clusters\n",
    "\n",
    "### Cluster 0:\n",
    "* Lacks obesity\n",
    "* Poltically stable\n",
    "* Good protein supply\n",
    "* High avg schooling\n",
    "* Strong LGBT tolerant\n",
    "* High life span in both sexes compared \n",
    "* High emissions\n",
    "\n",
    "### Cluster 1:\n",
    "* Somewhat obease\n",
    "* Politically unstable\n",
    "* Low protein supply\n",
    "* Low emissions\n",
    "* Lacks any representation in Europe\n",
    "* Moderately malnourished\n",
    "\n",
    "### Cluster 2:\n",
    "* Not Oceania\n",
    "* Very high emissions\n",
    "* Not LGBT tolerant\n",
    "* High protein supply\n",
    "* A little obease\n",
    "* Malnourished\n",
    "\n",
    "### Cluster 3:\n",
    "* Very malnourished\n",
    "* Not Tolerant of LGBT \n",
    "* Low emissions\n",
    "* No representation in Europe\n",
    "* No representation in South America\n",
    "* No representation in Africa\n",
    "* Middle ground political stability\n",
    "\n",
    "### Cluster 4:\n",
    "* Not representation in Oceania\n",
    "* Low emissions\n",
    "* High obesity\n",
    "* Politically stable\n",
    "* High protein supply\n",
    "* Malnourished\n",
    "* Tolerant of LGBT\n",
    "* High water score\n",
    "\n",
    "### Cluster 5:\n",
    "* Not Europe or South America\n",
    "* Somewhat malnourished\n",
    "* Not LGBT tolerant\n",
    "* Low water score\n",
    "* Low emissions\n",
    "* Low avergae schooling\n",
    "* Low protein supply"
   ]
  }
 ],
 "metadata": {
  "kernelspec": {
   "display_name": "Python 3.10.2 64-bit",
   "language": "python",
   "name": "python3"
  },
  "language_info": {
   "codemirror_mode": {
    "name": "ipython",
    "version": 3
   },
   "file_extension": ".py",
   "mimetype": "text/x-python",
   "name": "python",
   "nbconvert_exporter": "python",
   "pygments_lexer": "ipython3",
   "version": "3.10.2"
  },
  "orig_nbformat": 4,
  "vscode": {
   "interpreter": {
    "hash": "d945ed2a52083c4a5b72234668779b0e7ade9860b23e6b7df5d4937d091dd521"
   }
  }
 },
 "nbformat": 4,
 "nbformat_minor": 2
}
