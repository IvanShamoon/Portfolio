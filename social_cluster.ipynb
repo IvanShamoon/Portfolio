{
 "cells": [
  {
   "cell_type": "markdown",
   "metadata": {},
   "source": [
    "# Social factors by countries Clustering Analysis - Clustering analysis and visualisations \n",
    "\n",
    "This is a personal project to developing my clustering techniques and interpretation using python. The data is sourced from a variety of websites, and so merging and cleaning will be a pivital step in excavating a sound analysis.\n",
    "\n",
    "The purpose of this project is to deployed data I have scraped off the internet onto a usesable dashboard in PowerBi so that one can survey the factors of each countries. In addition, investigating whether these factors are distinctive enough between the countires to generate accurate clusters, and how within these clusters one can gather useful information. This can be used for personal enjoyment, or to predict the qualities of future countires and determining within which cluster they fit.\n",
    "\n",
    "The focus on social factors is due to a potential dominating force in other factors such as economic data as these are quite distinctive in their fields and so clustering would be meaningful as it should appear obvious. This is the reason why I choose to harp on the more subtle form of data in social factors"
   ]
  },
  {
   "cell_type": "code",
   "execution_count": 1,
   "metadata": {},
   "outputs": [],
   "source": [
    "import pandas as pd\n",
    "import numpy as np\n",
    "import seaborn as sns\n",
    "import matplotlib.pyplot as plt\n",
    "import plotly.express as px\n",
    "from sklearn.model_selection import train_test_split\n",
    "from sklearn.ensemble import RandomForestRegressor\n",
    "from sklearn import preprocessing"
   ]
  },
  {
   "cell_type": "code",
   "execution_count": 2,
   "metadata": {},
   "outputs": [],
   "source": [
    "data = pd.read_csv('social_factors.csv')\n",
    "data = pd.DataFrame(data)\n",
    "del data['Unnamed: 0']"
   ]
  },
  {
   "cell_type": "markdown",
   "metadata": {},
   "source": [
    "Because religion is non-quantitative, it needs to be converted to a numerical factor.\n",
    "\n",
    "Political stability needs to be positive. This is why every value in the column had its three added to its value."
   ]
  },
  {
   "cell_type": "code",
   "execution_count": 3,
   "metadata": {},
   "outputs": [],
   "source": [
    "data['political_stability_2020'] = [item + 3 for item in data['political_stability_2020']]\n",
    "data['religion'] = data['religion'].map({'christians':1,'muslims':2,'buddhists':3,'unaffiliated':4,'hindus':5,'jews':6,'folkReligions':7})"
   ]
  },
  {
   "cell_type": "markdown",
   "metadata": {},
   "source": [
    "Perhaps the most interesting and not known metric I have included is the homosexuality score. I believe on which continent or country is most pregressive is not known. For this reason, I will do some elementary analysis for us to survey."
   ]
  },
  {
   "cell_type": "code",
   "execution_count": 7,
   "metadata": {},
   "outputs": [
    {
     "data": {
      "text/plain": [
       "Continent\n",
       "Europe           6.661017\n",
       "South America    6.416667\n",
       "North America    3.434783\n",
       "Oceania          3.200000\n",
       "Asia             2.307692\n",
       "Africa           0.836364\n",
       "Name: homosexuality_score, dtype: float64"
      ]
     },
     "execution_count": 7,
     "metadata": {},
     "output_type": "execute_result"
    }
   ],
   "source": [
    "data.groupby('Continent')['homosexuality_score'].mean().sort_values(ascending=False)"
   ]
  },
  {
   "cell_type": "code",
   "execution_count": 18,
   "metadata": {},
   "outputs": [
    {
     "data": {
      "text/html": [
       "<div>\n",
       "<style scoped>\n",
       "    .dataframe tbody tr th:only-of-type {\n",
       "        vertical-align: middle;\n",
       "    }\n",
       "\n",
       "    .dataframe tbody tr th {\n",
       "        vertical-align: top;\n",
       "    }\n",
       "\n",
       "    .dataframe thead th {\n",
       "        text-align: right;\n",
       "    }\n",
       "</style>\n",
       "<table border=\"1\" class=\"dataframe\">\n",
       "  <thead>\n",
       "    <tr style=\"text-align: right;\">\n",
       "      <th></th>\n",
       "      <th>Continent</th>\n",
       "      <th>country</th>\n",
       "      <th>homosexuality_score</th>\n",
       "    </tr>\n",
       "  </thead>\n",
       "  <tbody>\n",
       "    <tr>\n",
       "      <th>136</th>\n",
       "      <td>Europe</td>\n",
       "      <td>Germany</td>\n",
       "      <td>10</td>\n",
       "    </tr>\n",
       "    <tr>\n",
       "      <th>189</th>\n",
       "      <td>Oceania</td>\n",
       "      <td>Australia</td>\n",
       "      <td>10</td>\n",
       "    </tr>\n",
       "    <tr>\n",
       "      <th>130</th>\n",
       "      <td>Europe</td>\n",
       "      <td>Finland</td>\n",
       "      <td>10</td>\n",
       "    </tr>\n",
       "    <tr>\n",
       "      <th>131</th>\n",
       "      <td>Europe</td>\n",
       "      <td>France</td>\n",
       "      <td>10</td>\n",
       "    </tr>\n",
       "    <tr>\n",
       "      <th>68</th>\n",
       "      <td>Asia</td>\n",
       "      <td>Israel</td>\n",
       "      <td>10</td>\n",
       "    </tr>\n",
       "    <tr>\n",
       "      <th>170</th>\n",
       "      <td>North America</td>\n",
       "      <td>Canada</td>\n",
       "      <td>10</td>\n",
       "    </tr>\n",
       "    <tr>\n",
       "      <th>140</th>\n",
       "      <td>Europe</td>\n",
       "      <td>Ireland</td>\n",
       "      <td>10</td>\n",
       "    </tr>\n",
       "    <tr>\n",
       "      <th>164</th>\n",
       "      <td>Europe</td>\n",
       "      <td>United Kingdom</td>\n",
       "      <td>10</td>\n",
       "    </tr>\n",
       "    <tr>\n",
       "      <th>162</th>\n",
       "      <td>Europe</td>\n",
       "      <td>Switzerland</td>\n",
       "      <td>10</td>\n",
       "    </tr>\n",
       "    <tr>\n",
       "      <th>161</th>\n",
       "      <td>Europe</td>\n",
       "      <td>Sweden</td>\n",
       "      <td>10</td>\n",
       "    </tr>\n",
       "  </tbody>\n",
       "</table>\n",
       "</div>"
      ],
      "text/plain": [
       "         Continent         country  homosexuality_score\n",
       "136         Europe         Germany                   10\n",
       "189        Oceania       Australia                   10\n",
       "130         Europe         Finland                   10\n",
       "131         Europe          France                   10\n",
       "68            Asia          Israel                   10\n",
       "170  North America          Canada                   10\n",
       "140         Europe         Ireland                   10\n",
       "164         Europe  United Kingdom                   10\n",
       "162         Europe     Switzerland                   10\n",
       "161         Europe          Sweden                   10"
      ]
     },
     "execution_count": 18,
     "metadata": {},
     "output_type": "execute_result"
    }
   ],
   "source": [
    "data[['Continent','country','homosexuality_score']].sort_values(by = 'homosexuality_score', ascending = False).iloc[0:10]"
   ]
  },
  {
   "cell_type": "code",
   "execution_count": 19,
   "metadata": {},
   "outputs": [
    {
     "data": {
      "text/html": [
       "<div>\n",
       "<style scoped>\n",
       "    .dataframe tbody tr th:only-of-type {\n",
       "        vertical-align: middle;\n",
       "    }\n",
       "\n",
       "    .dataframe tbody tr th {\n",
       "        vertical-align: top;\n",
       "    }\n",
       "\n",
       "    .dataframe thead th {\n",
       "        text-align: right;\n",
       "    }\n",
       "</style>\n",
       "<table border=\"1\" class=\"dataframe\">\n",
       "  <thead>\n",
       "    <tr style=\"text-align: right;\">\n",
       "      <th></th>\n",
       "      <th>Continent</th>\n",
       "      <th>country</th>\n",
       "      <th>homosexuality_score</th>\n",
       "    </tr>\n",
       "  </thead>\n",
       "  <tbody>\n",
       "    <tr>\n",
       "      <th>0</th>\n",
       "      <td>Africa</td>\n",
       "      <td>Algeria</td>\n",
       "      <td>0</td>\n",
       "    </tr>\n",
       "    <tr>\n",
       "      <th>30</th>\n",
       "      <td>Africa</td>\n",
       "      <td>Malawi</td>\n",
       "      <td>0</td>\n",
       "    </tr>\n",
       "    <tr>\n",
       "      <th>32</th>\n",
       "      <td>Africa</td>\n",
       "      <td>Mauritania</td>\n",
       "      <td>0</td>\n",
       "    </tr>\n",
       "    <tr>\n",
       "      <th>88</th>\n",
       "      <td>Asia</td>\n",
       "      <td>Qatar</td>\n",
       "      <td>0</td>\n",
       "    </tr>\n",
       "    <tr>\n",
       "      <th>34</th>\n",
       "      <td>Africa</td>\n",
       "      <td>Morocco</td>\n",
       "      <td>0</td>\n",
       "    </tr>\n",
       "    <tr>\n",
       "      <th>85</th>\n",
       "      <td>Asia</td>\n",
       "      <td>Oman</td>\n",
       "      <td>0</td>\n",
       "    </tr>\n",
       "    <tr>\n",
       "      <th>38</th>\n",
       "      <td>Africa</td>\n",
       "      <td>Nigeria</td>\n",
       "      <td>0</td>\n",
       "    </tr>\n",
       "    <tr>\n",
       "      <th>82</th>\n",
       "      <td>Asia</td>\n",
       "      <td>Maldives</td>\n",
       "      <td>0</td>\n",
       "    </tr>\n",
       "    <tr>\n",
       "      <th>40</th>\n",
       "      <td>Africa</td>\n",
       "      <td>Sao Tome and Principe</td>\n",
       "      <td>0</td>\n",
       "    </tr>\n",
       "    <tr>\n",
       "      <th>41</th>\n",
       "      <td>Africa</td>\n",
       "      <td>Senegal</td>\n",
       "      <td>0</td>\n",
       "    </tr>\n",
       "  </tbody>\n",
       "</table>\n",
       "</div>"
      ],
      "text/plain": [
       "   Continent                country  homosexuality_score\n",
       "0     Africa                Algeria                    0\n",
       "30    Africa                 Malawi                    0\n",
       "32    Africa             Mauritania                    0\n",
       "88      Asia                  Qatar                    0\n",
       "34    Africa                Morocco                    0\n",
       "85      Asia                   Oman                    0\n",
       "38    Africa                Nigeria                    0\n",
       "82      Asia               Maldives                    0\n",
       "40    Africa  Sao Tome and Principe                    0\n",
       "41    Africa                Senegal                    0"
      ]
     },
     "execution_count": 19,
     "metadata": {},
     "output_type": "execute_result"
    }
   ],
   "source": [
    "data[['Continent','country','homosexuality_score']].sort_values(by = 'homosexuality_score', ascending = True).iloc[0:10]"
   ]
  },
  {
   "cell_type": "markdown",
   "metadata": {},
   "source": [
    "There is no basis to judge, but evidence is clear that people identifying with LGBT identity have different lives across the globe. Those living in Africa are likely not as open as say Europe where higher homosexuality is ubiquitdous. Australia scores 10. How about visualisations."
   ]
  },
  {
   "cell_type": "code",
   "execution_count": 25,
   "metadata": {},
   "outputs": [
    {
     "data": {
      "application/vnd.plotly.v1+json": {
       "config": {
        "plotlyServerURL": "https://plot.ly"
       },
       "data": [
        {
         "hovertemplate": "Continent=Africa<br>homosexuality_score=%{x}<br>country=%{y}<br>political_stability_2020=%{marker.size}<extra></extra>",
         "legendgroup": "Africa",
         "marker": {
          "color": "#636efa",
          "size": [
           2.14,
           2.48,
           2.56,
           4.09,
           2.2759183673469385,
           1.59,
           1.47,
           2.2759183673469385,
           0.8199999999999998,
           1.74,
           2.71,
           2.1,
           2.2759183673469385,
           2.6799999999999997,
           1.79,
           1.79,
           2.81,
           2.02,
           1.26,
           2.92,
           3.25,
           3.13,
           2.36,
           2.4,
           2.2759183673469385,
           2,
           2.67,
           2.63,
           0.52,
           2.54,
           2.76,
           0.8500000000000001,
           2.25,
           3.89,
           2.67,
           1.84,
           3.65,
           1.26,
           1.14,
           3.03,
           3.48,
           2.98,
           3.7199999999999998,
           2.76,
           0.48,
           2.76,
           0.8300000000000001,
           1.24,
           2.2759183673469385,
           2.2759183673469385,
           2.08,
           2.37,
           2.2199999999999998,
           2.87,
           1.92
          ],
          "sizemode": "area",
          "sizeref": 0.01155,
          "symbol": "circle"
         },
         "mode": "markers",
         "name": "Africa",
         "orientation": "h",
         "showlegend": true,
         "type": "scatter",
         "x": [
          0,
          3,
          1,
          3,
          0,
          0,
          0,
          3,
          1,
          0,
          0,
          0,
          0,
          1,
          0,
          0,
          1,
          0,
          0,
          1,
          0,
          1,
          0,
          1,
          1,
          1,
          1,
          0,
          0,
          1,
          0,
          1,
          0,
          3,
          0,
          3,
          2,
          1,
          0,
          1,
          0,
          0,
          3,
          1,
          0,
          10,
          0,
          0,
          0,
          0,
          0,
          0,
          0,
          0,
          1
         ],
         "xaxis": "x",
         "y": [
          "Algeria",
          "Angola",
          "Benin",
          "Botswana",
          "Burkina",
          "Burundi",
          "Cameroon",
          "Cape Verde",
          "Central African Republic",
          "Chad",
          "Comoros",
          "Congo",
          "Congo, Democratic Republic of",
          "Djibouti",
          "Egypt",
          "Egypt",
          "Equatorial Guinea",
          "Eritrea",
          "Ethiopia",
          "Gabon",
          "Gambia",
          "Ghana",
          "Guinea",
          "Guinea-Bissau",
          "Ivory Coast",
          "Kenya",
          "Lesotho",
          "Liberia",
          "Libya",
          "Madagascar",
          "Malawi",
          "Mali",
          "Mauritania",
          "Mauritius",
          "Morocco",
          "Mozambique",
          "Namibia",
          "Niger",
          "Nigeria",
          "Rwanda",
          "Sao Tome and Principe",
          "Senegal",
          "Seychelles",
          "Sierra Leone",
          "Somalia",
          "South Africa",
          "South Sudan",
          "Sudan",
          "Swaziland",
          "Tanzania",
          "Togo",
          "Tunisia",
          "Uganda",
          "Zambia",
          "Zimbabwe"
         ],
         "yaxis": "y"
        },
        {
         "hovertemplate": "Continent=Asia<br>homosexuality_score=%{x}<br>country=%{y}<br>political_stability_2020=%{marker.size}<extra></extra>",
         "legendgroup": "Asia",
         "marker": {
          "color": "#EF553B",
          "size": [
           0.27,
           2.41,
           2.08,
           4.02,
           2.61952380952381,
           2.61952380952381,
           2.76,
           3.09,
           2.61952380952381,
           2.14,
           2.5,
           2.61952380952381,
           0.4700000000000002,
           2.17,
           4.04,
           2.6799999999999997,
           2.74,
           2.74,
           2.74,
           2.74,
           2.6,
           3.56,
           3.24,
           2.5700000000000003,
           2.61952380952381,
           1.35,
           3.12,
           3.41,
           3.79,
           2.8,
           3.37,
           1.15,
           2.21,
           3.67,
           2.27,
           2.27,
           2.27,
           2.34,
           4.47,
           2.95,
           2.61952380952381,
           2.48,
           2.38,
           2.61952380952381,
           2.61952380952381,
           2.61952380952381,
           2.61952380952381,
           2.71,
           3.63,
           2.56,
           2.9299999999999997,
           0.33000000000000007
          ],
          "sizemode": "area",
          "sizeref": 0.01155,
          "symbol": "circle"
         },
         "mode": "markers",
         "name": "Asia",
         "orientation": "h",
         "showlegend": true,
         "type": "scatter",
         "x": [
          0,
          2,
          1,
          1,
          0,
          2,
          4,
          4,
          3,
          6,
          4,
          1,
          1,
          10,
          5,
          2,
          3,
          3,
          3,
          3,
          1,
          4,
          1,
          2,
          1,
          2,
          0,
          0,
          4,
          5,
          0,
          3,
          4,
          0,
          2,
          2,
          2,
          0,
          5,
          1,
          1,
          2,
          5,
          2,
          2,
          2,
          2,
          1,
          0,
          1,
          5,
          0
         ],
         "xaxis": "x",
         "y": [
          "Afghanistan",
          "Bahrain",
          "Bangladesh",
          "Bhutan",
          "Brunei",
          "Burma (Myanmar)",
          "Cambodia",
          "China",
          "East Timor",
          "India",
          "Indonesia",
          "Iran",
          "Iraq",
          "Israel",
          "Japan",
          "Jordan",
          "Kazakhstan",
          "Kazakhstan",
          "Kazakhstan",
          "Kazakhstan",
          "North Korea",
          "South Korea",
          "Kuwait",
          "Kyrgyzstan",
          "Laos",
          "Lebanon",
          "Malaysia",
          "Maldives",
          "Mongolia",
          "Nepal",
          "Oman",
          "Pakistan",
          "Philippines",
          "Qatar",
          "Russia",
          "Russia",
          "Russia",
          "Saudi Arabia",
          "Singapore",
          "Sri Lanka",
          "Syria",
          "Tajikistan",
          "Thailand",
          "Turkey",
          "Turkey",
          "Turkey",
          "Turkey",
          "Turkmenistan",
          "United Arab Emirates",
          "Uzbekistan",
          "Vietnam",
          "Yemen"
         ],
         "yaxis": "y"
        },
        {
         "hovertemplate": "Continent=Europe<br>homosexuality_score=%{x}<br>country=%{y}<br>political_stability_2020=%{marker.size}<extra></extra>",
         "legendgroup": "Europe",
         "marker": {
          "color": "#00cc96",
          "size": [
           3.08,
           4.62,
           2.43,
           2.43,
           2.43,
           2.43,
           3.85,
           2.27,
           2.27,
           2.27,
           2.27,
           2.27,
           3.59,
           2.49,
           3.4699999999999998,
           3.61,
           3.29,
           3.29,
           3.29,
           3.29,
           3.92,
           3.94,
           3.71,
           3.94,
           3.31,
           2.5700000000000003,
           2.5700000000000003,
           2.5700000000000003,
           2.5700000000000003,
           3.67,
           3.13,
           3.86,
           4.39,
           3.98,
           3.44,
           3.46,
           3.311132075471698,
           3.87,
           4.23,
           3.311132075471698,
           3.95,
           3.311132075471698,
           3.311132075471698,
           3,
           3.85,
           4.25,
           3.57,
           4.03,
           3.59,
           3.311132075471698,
           2.91,
           3.64,
           3.71,
           3.4,
           4.02,
           4.1899999999999995,
           1.84,
           3.4699999999999998,
           3.311132075471698
          ],
          "sizemode": "area",
          "sizeref": 0.01155,
          "symbol": "circle"
         },
         "mode": "markers",
         "name": "Europe",
         "orientation": "h",
         "showlegend": true,
         "type": "scatter",
         "x": [
          4,
          9,
          3,
          3,
          3,
          3,
          10,
          1,
          1,
          1,
          1,
          3,
          10,
          5,
          7,
          8,
          7,
          7,
          7,
          7,
          7,
          10,
          8,
          10,
          10,
          4,
          4,
          4,
          4,
          10,
          7,
          7,
          9,
          10,
          7,
          7,
          6,
          7,
          10,
          6,
          10,
          5,
          6,
          7,
          10,
          10,
          7,
          10,
          7,
          6,
          5,
          7,
          10,
          10,
          10,
          10,
          5,
          10,
          1
         ],
         "xaxis": "x",
         "y": [
          "Albania",
          "Andorra",
          "Armenia",
          "Armenia",
          "Armenia",
          "Armenia",
          "Austria",
          "Azerbaijan",
          "Azerbaijan",
          "Azerbaijan",
          "Azerbaijan",
          "Belarus",
          "Belgium",
          "Bosnia and Herzegovina",
          "Bulgaria",
          "Croatia",
          "Cyprus",
          "Cyprus",
          "Cyprus",
          "Cyprus",
          "Czech Republic",
          "Denmark",
          "Estonia",
          "Finland",
          "France",
          "Georgia",
          "Georgia",
          "Georgia",
          "Georgia",
          "Germany",
          "Greece",
          "Hungary",
          "Iceland",
          "Ireland",
          "Italy",
          "Latvia",
          "Liechtenstein",
          "Lithuania",
          "Luxembourg",
          "Macedonia",
          "Malta",
          "Moldova",
          "Monaco",
          "Montenegro",
          "Netherlands",
          "Norway",
          "Poland",
          "Portugal",
          "Romania",
          "San Marino",
          "Serbia",
          "Slovakia",
          "Slovenia",
          "Spain",
          "Sweden",
          "Switzerland",
          "Ukraine",
          "United Kingdom",
          "Vatican City"
         ],
         "yaxis": "y"
        },
        {
         "hovertemplate": "Continent=North America<br>homosexuality_score=%{x}<br>country=%{y}<br>political_stability_2020=%{marker.size}<extra></extra>",
         "legendgroup": "North America",
         "marker": {
          "color": "#ab63fa",
          "size": [
           3.93,
           3.85,
           4.13,
           3.51,
           4.11,
           3.76,
           3.6,
           4.35,
           3.17,
           2.98,
           4.03,
           2.5700000000000003,
           1.96,
           2.46,
           3.27,
           2.15,
           2.35,
           3.23,
           3.93,
           3.87,
           4.03,
           3.18,
           2.98
          ],
          "sizemode": "area",
          "sizeref": 0.01155,
          "symbol": "circle"
         },
         "mode": "markers",
         "name": "North America",
         "orientation": "h",
         "showlegend": true,
         "type": "scatter",
         "x": [
          1,
          2,
          4,
          3,
          10,
          9,
          5,
          0,
          1,
          4,
          1,
          3,
          1,
          3,
          1,
          9,
          3,
          4,
          1,
          3,
          0,
          1,
          10
         ],
         "xaxis": "x",
         "y": [
          "Antigua and Barbuda",
          "Bahamas",
          "Barbados",
          "Belize",
          "Canada",
          "Costa Rica",
          "Cuba",
          "Dominica",
          "Dominican Republic",
          "El Salvador",
          "Grenada",
          "Guatemala",
          "Haiti",
          "Honduras",
          "Jamaica",
          "Mexico",
          "Nicaragua",
          "Panama",
          "Saint Kitts and Nevis",
          "Saint Lucia",
          "Saint Vincent and the Grenadines",
          "Trinidad and Tobago",
          "United States"
         ],
         "yaxis": "y"
        },
        {
         "hovertemplate": "Continent=Oceania<br>homosexuality_score=%{x}<br>country=%{y}<br>political_stability_2020=%{marker.size}<extra></extra>",
         "legendgroup": "Oceania",
         "marker": {
          "color": "#FFA15A",
          "size": [
           3.85,
           3.75,
           4.08,
           3.59,
           3.8269230769230766,
           3.8269230769230766,
           3.94,
           4.49,
           3.89,
           2.26,
           4.16,
           3.64,
           4.02,
           4.18,
           3.9
          ],
          "sizemode": "area",
          "sizeref": 0.01155,
          "symbol": "circle"
         },
         "mode": "markers",
         "name": "Oceania",
         "orientation": "h",
         "showlegend": true,
         "type": "scatter",
         "x": [
          10,
          3,
          3,
          3,
          3,
          3,
          1,
          10,
          1,
          1,
          3,
          0,
          1,
          3,
          3
         ],
         "xaxis": "x",
         "y": [
          "Australia",
          "Fiji",
          "Kiribati",
          "Marshall Islands",
          "Micronesia",
          "Micronesia",
          "Nauru",
          "New Zealand",
          "Palau",
          "Papua New Guinea",
          "Samoa",
          "Solomon Islands",
          "Tonga",
          "Tuvalu",
          "Vanuatu"
         ],
         "yaxis": "y"
        },
        {
         "hovertemplate": "Continent=South America<br>homosexuality_score=%{x}<br>country=%{y}<br>political_stability_2020=%{marker.size}<extra></extra>",
         "legendgroup": "South America",
         "marker": {
          "color": "#19d3f3",
          "size": [
           3.04,
           2.971,
           2.58,
           3.07,
           2.33,
           2.64,
           2.85,
           3.02,
           2.71,
           3.42,
           4.05,
           2.971
          ],
          "sizemode": "area",
          "sizeref": 0.01155,
          "symbol": "circle"
         },
         "mode": "markers",
         "name": "South America",
         "orientation": "h",
         "showlegend": true,
         "type": "scatter",
         "x": [
          10,
          5,
          10,
          10,
          10,
          8,
          1,
          2,
          5,
          3,
          10,
          3
         ],
         "xaxis": "x",
         "y": [
          "Argentina",
          "Bolivia",
          "Brazil",
          "Chile",
          "Colombia",
          "Ecuador",
          "Guyana",
          "Paraguay",
          "Peru",
          "Suriname",
          "Uruguay",
          "Venezuela"
         ],
         "yaxis": "y"
        }
       ],
       "layout": {
        "legend": {
         "itemsizing": "constant",
         "title": {
          "text": "Continent"
         },
         "tracegroupgap": 0
        },
        "margin": {
         "t": 60
        },
        "template": {
         "data": {
          "bar": [
           {
            "error_x": {
             "color": "#2a3f5f"
            },
            "error_y": {
             "color": "#2a3f5f"
            },
            "marker": {
             "line": {
              "color": "#E5ECF6",
              "width": 0.5
             },
             "pattern": {
              "fillmode": "overlay",
              "size": 10,
              "solidity": 0.2
             }
            },
            "type": "bar"
           }
          ],
          "barpolar": [
           {
            "marker": {
             "line": {
              "color": "#E5ECF6",
              "width": 0.5
             },
             "pattern": {
              "fillmode": "overlay",
              "size": 10,
              "solidity": 0.2
             }
            },
            "type": "barpolar"
           }
          ],
          "carpet": [
           {
            "aaxis": {
             "endlinecolor": "#2a3f5f",
             "gridcolor": "white",
             "linecolor": "white",
             "minorgridcolor": "white",
             "startlinecolor": "#2a3f5f"
            },
            "baxis": {
             "endlinecolor": "#2a3f5f",
             "gridcolor": "white",
             "linecolor": "white",
             "minorgridcolor": "white",
             "startlinecolor": "#2a3f5f"
            },
            "type": "carpet"
           }
          ],
          "choropleth": [
           {
            "colorbar": {
             "outlinewidth": 0,
             "ticks": ""
            },
            "type": "choropleth"
           }
          ],
          "contour": [
           {
            "colorbar": {
             "outlinewidth": 0,
             "ticks": ""
            },
            "colorscale": [
             [
              0,
              "#0d0887"
             ],
             [
              0.1111111111111111,
              "#46039f"
             ],
             [
              0.2222222222222222,
              "#7201a8"
             ],
             [
              0.3333333333333333,
              "#9c179e"
             ],
             [
              0.4444444444444444,
              "#bd3786"
             ],
             [
              0.5555555555555556,
              "#d8576b"
             ],
             [
              0.6666666666666666,
              "#ed7953"
             ],
             [
              0.7777777777777778,
              "#fb9f3a"
             ],
             [
              0.8888888888888888,
              "#fdca26"
             ],
             [
              1,
              "#f0f921"
             ]
            ],
            "type": "contour"
           }
          ],
          "contourcarpet": [
           {
            "colorbar": {
             "outlinewidth": 0,
             "ticks": ""
            },
            "type": "contourcarpet"
           }
          ],
          "heatmap": [
           {
            "colorbar": {
             "outlinewidth": 0,
             "ticks": ""
            },
            "colorscale": [
             [
              0,
              "#0d0887"
             ],
             [
              0.1111111111111111,
              "#46039f"
             ],
             [
              0.2222222222222222,
              "#7201a8"
             ],
             [
              0.3333333333333333,
              "#9c179e"
             ],
             [
              0.4444444444444444,
              "#bd3786"
             ],
             [
              0.5555555555555556,
              "#d8576b"
             ],
             [
              0.6666666666666666,
              "#ed7953"
             ],
             [
              0.7777777777777778,
              "#fb9f3a"
             ],
             [
              0.8888888888888888,
              "#fdca26"
             ],
             [
              1,
              "#f0f921"
             ]
            ],
            "type": "heatmap"
           }
          ],
          "heatmapgl": [
           {
            "colorbar": {
             "outlinewidth": 0,
             "ticks": ""
            },
            "colorscale": [
             [
              0,
              "#0d0887"
             ],
             [
              0.1111111111111111,
              "#46039f"
             ],
             [
              0.2222222222222222,
              "#7201a8"
             ],
             [
              0.3333333333333333,
              "#9c179e"
             ],
             [
              0.4444444444444444,
              "#bd3786"
             ],
             [
              0.5555555555555556,
              "#d8576b"
             ],
             [
              0.6666666666666666,
              "#ed7953"
             ],
             [
              0.7777777777777778,
              "#fb9f3a"
             ],
             [
              0.8888888888888888,
              "#fdca26"
             ],
             [
              1,
              "#f0f921"
             ]
            ],
            "type": "heatmapgl"
           }
          ],
          "histogram": [
           {
            "marker": {
             "pattern": {
              "fillmode": "overlay",
              "size": 10,
              "solidity": 0.2
             }
            },
            "type": "histogram"
           }
          ],
          "histogram2d": [
           {
            "colorbar": {
             "outlinewidth": 0,
             "ticks": ""
            },
            "colorscale": [
             [
              0,
              "#0d0887"
             ],
             [
              0.1111111111111111,
              "#46039f"
             ],
             [
              0.2222222222222222,
              "#7201a8"
             ],
             [
              0.3333333333333333,
              "#9c179e"
             ],
             [
              0.4444444444444444,
              "#bd3786"
             ],
             [
              0.5555555555555556,
              "#d8576b"
             ],
             [
              0.6666666666666666,
              "#ed7953"
             ],
             [
              0.7777777777777778,
              "#fb9f3a"
             ],
             [
              0.8888888888888888,
              "#fdca26"
             ],
             [
              1,
              "#f0f921"
             ]
            ],
            "type": "histogram2d"
           }
          ],
          "histogram2dcontour": [
           {
            "colorbar": {
             "outlinewidth": 0,
             "ticks": ""
            },
            "colorscale": [
             [
              0,
              "#0d0887"
             ],
             [
              0.1111111111111111,
              "#46039f"
             ],
             [
              0.2222222222222222,
              "#7201a8"
             ],
             [
              0.3333333333333333,
              "#9c179e"
             ],
             [
              0.4444444444444444,
              "#bd3786"
             ],
             [
              0.5555555555555556,
              "#d8576b"
             ],
             [
              0.6666666666666666,
              "#ed7953"
             ],
             [
              0.7777777777777778,
              "#fb9f3a"
             ],
             [
              0.8888888888888888,
              "#fdca26"
             ],
             [
              1,
              "#f0f921"
             ]
            ],
            "type": "histogram2dcontour"
           }
          ],
          "mesh3d": [
           {
            "colorbar": {
             "outlinewidth": 0,
             "ticks": ""
            },
            "type": "mesh3d"
           }
          ],
          "parcoords": [
           {
            "line": {
             "colorbar": {
              "outlinewidth": 0,
              "ticks": ""
             }
            },
            "type": "parcoords"
           }
          ],
          "pie": [
           {
            "automargin": true,
            "type": "pie"
           }
          ],
          "scatter": [
           {
            "fillpattern": {
             "fillmode": "overlay",
             "size": 10,
             "solidity": 0.2
            },
            "type": "scatter"
           }
          ],
          "scatter3d": [
           {
            "line": {
             "colorbar": {
              "outlinewidth": 0,
              "ticks": ""
             }
            },
            "marker": {
             "colorbar": {
              "outlinewidth": 0,
              "ticks": ""
             }
            },
            "type": "scatter3d"
           }
          ],
          "scattercarpet": [
           {
            "marker": {
             "colorbar": {
              "outlinewidth": 0,
              "ticks": ""
             }
            },
            "type": "scattercarpet"
           }
          ],
          "scattergeo": [
           {
            "marker": {
             "colorbar": {
              "outlinewidth": 0,
              "ticks": ""
             }
            },
            "type": "scattergeo"
           }
          ],
          "scattergl": [
           {
            "marker": {
             "colorbar": {
              "outlinewidth": 0,
              "ticks": ""
             }
            },
            "type": "scattergl"
           }
          ],
          "scattermapbox": [
           {
            "marker": {
             "colorbar": {
              "outlinewidth": 0,
              "ticks": ""
             }
            },
            "type": "scattermapbox"
           }
          ],
          "scatterpolar": [
           {
            "marker": {
             "colorbar": {
              "outlinewidth": 0,
              "ticks": ""
             }
            },
            "type": "scatterpolar"
           }
          ],
          "scatterpolargl": [
           {
            "marker": {
             "colorbar": {
              "outlinewidth": 0,
              "ticks": ""
             }
            },
            "type": "scatterpolargl"
           }
          ],
          "scatterternary": [
           {
            "marker": {
             "colorbar": {
              "outlinewidth": 0,
              "ticks": ""
             }
            },
            "type": "scatterternary"
           }
          ],
          "surface": [
           {
            "colorbar": {
             "outlinewidth": 0,
             "ticks": ""
            },
            "colorscale": [
             [
              0,
              "#0d0887"
             ],
             [
              0.1111111111111111,
              "#46039f"
             ],
             [
              0.2222222222222222,
              "#7201a8"
             ],
             [
              0.3333333333333333,
              "#9c179e"
             ],
             [
              0.4444444444444444,
              "#bd3786"
             ],
             [
              0.5555555555555556,
              "#d8576b"
             ],
             [
              0.6666666666666666,
              "#ed7953"
             ],
             [
              0.7777777777777778,
              "#fb9f3a"
             ],
             [
              0.8888888888888888,
              "#fdca26"
             ],
             [
              1,
              "#f0f921"
             ]
            ],
            "type": "surface"
           }
          ],
          "table": [
           {
            "cells": {
             "fill": {
              "color": "#EBF0F8"
             },
             "line": {
              "color": "white"
             }
            },
            "header": {
             "fill": {
              "color": "#C8D4E3"
             },
             "line": {
              "color": "white"
             }
            },
            "type": "table"
           }
          ]
         },
         "layout": {
          "annotationdefaults": {
           "arrowcolor": "#2a3f5f",
           "arrowhead": 0,
           "arrowwidth": 1
          },
          "autotypenumbers": "strict",
          "coloraxis": {
           "colorbar": {
            "outlinewidth": 0,
            "ticks": ""
           }
          },
          "colorscale": {
           "diverging": [
            [
             0,
             "#8e0152"
            ],
            [
             0.1,
             "#c51b7d"
            ],
            [
             0.2,
             "#de77ae"
            ],
            [
             0.3,
             "#f1b6da"
            ],
            [
             0.4,
             "#fde0ef"
            ],
            [
             0.5,
             "#f7f7f7"
            ],
            [
             0.6,
             "#e6f5d0"
            ],
            [
             0.7,
             "#b8e186"
            ],
            [
             0.8,
             "#7fbc41"
            ],
            [
             0.9,
             "#4d9221"
            ],
            [
             1,
             "#276419"
            ]
           ],
           "sequential": [
            [
             0,
             "#0d0887"
            ],
            [
             0.1111111111111111,
             "#46039f"
            ],
            [
             0.2222222222222222,
             "#7201a8"
            ],
            [
             0.3333333333333333,
             "#9c179e"
            ],
            [
             0.4444444444444444,
             "#bd3786"
            ],
            [
             0.5555555555555556,
             "#d8576b"
            ],
            [
             0.6666666666666666,
             "#ed7953"
            ],
            [
             0.7777777777777778,
             "#fb9f3a"
            ],
            [
             0.8888888888888888,
             "#fdca26"
            ],
            [
             1,
             "#f0f921"
            ]
           ],
           "sequentialminus": [
            [
             0,
             "#0d0887"
            ],
            [
             0.1111111111111111,
             "#46039f"
            ],
            [
             0.2222222222222222,
             "#7201a8"
            ],
            [
             0.3333333333333333,
             "#9c179e"
            ],
            [
             0.4444444444444444,
             "#bd3786"
            ],
            [
             0.5555555555555556,
             "#d8576b"
            ],
            [
             0.6666666666666666,
             "#ed7953"
            ],
            [
             0.7777777777777778,
             "#fb9f3a"
            ],
            [
             0.8888888888888888,
             "#fdca26"
            ],
            [
             1,
             "#f0f921"
            ]
           ]
          },
          "colorway": [
           "#636efa",
           "#EF553B",
           "#00cc96",
           "#ab63fa",
           "#FFA15A",
           "#19d3f3",
           "#FF6692",
           "#B6E880",
           "#FF97FF",
           "#FECB52"
          ],
          "font": {
           "color": "#2a3f5f"
          },
          "geo": {
           "bgcolor": "white",
           "lakecolor": "white",
           "landcolor": "#E5ECF6",
           "showlakes": true,
           "showland": true,
           "subunitcolor": "white"
          },
          "hoverlabel": {
           "align": "left"
          },
          "hovermode": "closest",
          "mapbox": {
           "style": "light"
          },
          "paper_bgcolor": "white",
          "plot_bgcolor": "#E5ECF6",
          "polar": {
           "angularaxis": {
            "gridcolor": "white",
            "linecolor": "white",
            "ticks": ""
           },
           "bgcolor": "#E5ECF6",
           "radialaxis": {
            "gridcolor": "white",
            "linecolor": "white",
            "ticks": ""
           }
          },
          "scene": {
           "xaxis": {
            "backgroundcolor": "#E5ECF6",
            "gridcolor": "white",
            "gridwidth": 2,
            "linecolor": "white",
            "showbackground": true,
            "ticks": "",
            "zerolinecolor": "white"
           },
           "yaxis": {
            "backgroundcolor": "#E5ECF6",
            "gridcolor": "white",
            "gridwidth": 2,
            "linecolor": "white",
            "showbackground": true,
            "ticks": "",
            "zerolinecolor": "white"
           },
           "zaxis": {
            "backgroundcolor": "#E5ECF6",
            "gridcolor": "white",
            "gridwidth": 2,
            "linecolor": "white",
            "showbackground": true,
            "ticks": "",
            "zerolinecolor": "white"
           }
          },
          "shapedefaults": {
           "line": {
            "color": "#2a3f5f"
           }
          },
          "ternary": {
           "aaxis": {
            "gridcolor": "white",
            "linecolor": "white",
            "ticks": ""
           },
           "baxis": {
            "gridcolor": "white",
            "linecolor": "white",
            "ticks": ""
           },
           "bgcolor": "#E5ECF6",
           "caxis": {
            "gridcolor": "white",
            "linecolor": "white",
            "ticks": ""
           }
          },
          "title": {
           "x": 0.05
          },
          "xaxis": {
           "automargin": true,
           "gridcolor": "white",
           "linecolor": "white",
           "ticks": "",
           "title": {
            "standoff": 15
           },
           "zerolinecolor": "white",
           "zerolinewidth": 2
          },
          "yaxis": {
           "automargin": true,
           "gridcolor": "white",
           "linecolor": "white",
           "ticks": "",
           "title": {
            "standoff": 15
           },
           "zerolinecolor": "white",
           "zerolinewidth": 2
          }
         }
        },
        "xaxis": {
         "anchor": "y",
         "domain": [
          0,
          1
         ],
         "title": {
          "text": "homosexuality_score"
         }
        },
        "yaxis": {
         "anchor": "x",
         "domain": [
          0,
          1
         ],
         "title": {
          "text": "country"
         }
        }
       }
      }
     },
     "metadata": {},
     "output_type": "display_data"
    }
   ],
   "source": [
    "fig = px.scatter(data, x=\"homosexuality_score\", y=\"country\", color=\"Continent\",\n",
    "                 size='political_stability_2020', hover_data=['homosexuality_score'])\n",
    "fig.show()\n"
   ]
  },
  {
   "cell_type": "markdown",
   "metadata": {},
   "source": [
    "Already there appears to show some hint of clustering in the data. However, not massive, there is a clear distinctive, for example, between the countires in Europe and Asia. They population around certain areas in the scale, and therefore, a countries within that area could be, in theory, be identify. Yet, there is clear overlap, as our table above already show. North America and Oceania are nearly identify. \n",
    "\n",
    "One thing I found interesting was the low score for North America. I think many people including myself think of NA as the United States and Canada who are universally progressive. Yet it is not. Countries such as Dominca and the Bahamas are included as well. For this reason, the score may seem different from expectation, at least at my end.\n",
    "\n",
    "It is also interesting to look the outliers for the data. For example, overperforming coutry in Isreal for Asia, and South Africa for Africa. The best performing for North America is the US, and for Oceania is Australia and New Zealand."
   ]
  },
  {
   "cell_type": "code",
   "execution_count": 24,
   "metadata": {},
   "outputs": [
    {
     "data": {
      "application/vnd.plotly.v1+json": {
       "config": {
        "plotlyServerURL": "https://plot.ly"
       },
       "data": [
        {
         "hovertemplate": "Continent=Africa<br>crimeIndex=%{x}<br>country=%{y}<br>political_stability_2020=%{marker.size}<extra></extra>",
         "legendgroup": "Africa",
         "marker": {
          "color": "#636efa",
          "size": [
           2.14,
           2.48,
           2.56,
           4.09,
           2.2759183673469385,
           1.59,
           1.47,
           2.2759183673469385,
           0.8199999999999998,
           1.74,
           2.71,
           2.1,
           2.2759183673469385,
           2.6799999999999997,
           1.79,
           1.79,
           2.81,
           2.02,
           1.26,
           2.92,
           3.25,
           3.13,
           2.36,
           2.4,
           2.2759183673469385,
           2,
           2.67,
           2.63,
           0.52,
           2.54,
           2.76,
           0.8500000000000001,
           2.25,
           3.89,
           2.67,
           1.84,
           3.65,
           1.26,
           1.14,
           3.03,
           3.48,
           2.98,
           3.7199999999999998,
           2.76,
           0.48,
           2.76,
           0.8300000000000001,
           1.24,
           2.2759183673469385,
           2.2759183673469385,
           2.08,
           2.37,
           2.2199999999999998,
           2.87,
           1.92
          ],
          "sizemode": "area",
          "sizeref": 0.01155,
          "symbol": "circle"
         },
         "mode": "markers",
         "name": "Africa",
         "orientation": "h",
         "showlegend": true,
         "type": "scatter",
         "x": [
          52.03,
          66.48,
          53.97409090909091,
          52.98,
          53.97409090909091,
          53.97409090909091,
          65.24,
          53.97409090909091,
          53.97409090909091,
          53.97409090909091,
          53.97409090909091,
          53.97409090909091,
          53.97409090909091,
          53.97409090909091,
          46.83,
          46.83,
          53.97409090909091,
          53.97409090909091,
          49.3,
          53.97409090909091,
          53.97409090909091,
          46.98,
          53.97409090909091,
          53.97409090909091,
          53.97409090909091,
          60.14,
          53.97409090909091,
          53.97409090909091,
          61.78,
          53.97409090909091,
          53.97409090909091,
          53.97409090909091,
          53.97409090909091,
          48.88,
          48.66,
          53.97409090909091,
          65.21,
          53.97409090909091,
          64.06,
          24.89,
          53.97409090909091,
          53.97409090909091,
          53.97409090909091,
          53.97409090909091,
          56.04,
          76.86,
          53.97409090909091,
          42.34,
          53.97409090909091,
          56,
          53.97409090909091,
          43.69,
          56.12,
          43.62,
          59.3
         ],
         "xaxis": "x",
         "y": [
          "Algeria",
          "Angola",
          "Benin",
          "Botswana",
          "Burkina",
          "Burundi",
          "Cameroon",
          "Cape Verde",
          "Central African Republic",
          "Chad",
          "Comoros",
          "Congo",
          "Congo, Democratic Republic of",
          "Djibouti",
          "Egypt",
          "Egypt",
          "Equatorial Guinea",
          "Eritrea",
          "Ethiopia",
          "Gabon",
          "Gambia",
          "Ghana",
          "Guinea",
          "Guinea-Bissau",
          "Ivory Coast",
          "Kenya",
          "Lesotho",
          "Liberia",
          "Libya",
          "Madagascar",
          "Malawi",
          "Mali",
          "Mauritania",
          "Mauritius",
          "Morocco",
          "Mozambique",
          "Namibia",
          "Niger",
          "Nigeria",
          "Rwanda",
          "Sao Tome and Principe",
          "Senegal",
          "Seychelles",
          "Sierra Leone",
          "Somalia",
          "South Africa",
          "South Sudan",
          "Sudan",
          "Swaziland",
          "Tanzania",
          "Togo",
          "Tunisia",
          "Uganda",
          "Zambia",
          "Zimbabwe"
         ],
         "yaxis": "y"
        },
        {
         "hovertemplate": "Continent=Asia<br>crimeIndex=%{x}<br>country=%{y}<br>political_stability_2020=%{marker.size}<extra></extra>",
         "legendgroup": "Asia",
         "marker": {
          "color": "#EF553B",
          "size": [
           0.27,
           2.41,
           2.08,
           4.02,
           2.61952380952381,
           2.61952380952381,
           2.76,
           3.09,
           2.61952380952381,
           2.14,
           2.5,
           2.61952380952381,
           0.4700000000000002,
           2.17,
           4.04,
           2.6799999999999997,
           2.74,
           2.74,
           2.74,
           2.74,
           2.6,
           3.56,
           3.24,
           2.5700000000000003,
           2.61952380952381,
           1.35,
           3.12,
           3.41,
           3.79,
           2.8,
           3.37,
           1.15,
           2.21,
           3.67,
           2.27,
           2.27,
           2.27,
           2.34,
           4.47,
           2.95,
           2.61952380952381,
           2.48,
           2.38,
           2.61952380952381,
           2.61952380952381,
           2.61952380952381,
           2.61952380952381,
           2.71,
           3.63,
           2.56,
           2.9299999999999997,
           0.33000000000000007
          ],
          "sizemode": "area",
          "sizeref": 0.01155,
          "symbol": "circle"
         },
         "mode": "markers",
         "name": "Asia",
         "orientation": "h",
         "showlegend": true,
         "type": "scatter",
         "x": [
          76.31,
          25.64,
          63.9,
          40.91833333333333,
          29,
          40.91833333333333,
          51.13,
          30.14,
          40.91833333333333,
          44.43,
          45.93,
          49.38,
          48.42,
          31.47,
          22.19,
          39.96,
          53.77,
          53.77,
          53.77,
          53.77,
          40.91833333333333,
          26.68,
          33.42,
          56.87,
          40.91833333333333,
          46.77,
          57.29,
          55.34,
          56.01,
          36.01,
          20.34,
          42.51,
          42.46,
          12.13,
          39.99,
          39.99,
          39.99,
          25.23,
          27.96,
          41.39,
          67.18,
          40.91833333333333,
          39.35,
          39.62,
          39.62,
          39.62,
          39.62,
          40.91833333333333,
          15.23,
          33.42,
          46.19,
          40.91833333333333
         ],
         "xaxis": "x",
         "y": [
          "Afghanistan",
          "Bahrain",
          "Bangladesh",
          "Bhutan",
          "Brunei",
          "Burma (Myanmar)",
          "Cambodia",
          "China",
          "East Timor",
          "India",
          "Indonesia",
          "Iran",
          "Iraq",
          "Israel",
          "Japan",
          "Jordan",
          "Kazakhstan",
          "Kazakhstan",
          "Kazakhstan",
          "Kazakhstan",
          "North Korea",
          "South Korea",
          "Kuwait",
          "Kyrgyzstan",
          "Laos",
          "Lebanon",
          "Malaysia",
          "Maldives",
          "Mongolia",
          "Nepal",
          "Oman",
          "Pakistan",
          "Philippines",
          "Qatar",
          "Russia",
          "Russia",
          "Russia",
          "Saudi Arabia",
          "Singapore",
          "Sri Lanka",
          "Syria",
          "Tajikistan",
          "Thailand",
          "Turkey",
          "Turkey",
          "Turkey",
          "Turkey",
          "Turkmenistan",
          "United Arab Emirates",
          "Uzbekistan",
          "Vietnam",
          "Yemen"
         ],
         "yaxis": "y"
        },
        {
         "hovertemplate": "Continent=Europe<br>crimeIndex=%{x}<br>country=%{y}<br>political_stability_2020=%{marker.size}<extra></extra>",
         "legendgroup": "Europe",
         "marker": {
          "color": "#00cc96",
          "size": [
           3.08,
           4.62,
           2.43,
           2.43,
           2.43,
           2.43,
           3.85,
           2.27,
           2.27,
           2.27,
           2.27,
           2.27,
           3.59,
           2.49,
           3.4699999999999998,
           3.61,
           3.29,
           3.29,
           3.29,
           3.29,
           3.92,
           3.94,
           3.71,
           3.94,
           3.31,
           2.5700000000000003,
           2.5700000000000003,
           2.5700000000000003,
           2.5700000000000003,
           3.67,
           3.13,
           3.86,
           4.39,
           3.98,
           3.44,
           3.46,
           3.311132075471698,
           3.87,
           4.23,
           3.311132075471698,
           3.95,
           3.311132075471698,
           3.311132075471698,
           3,
           3.85,
           4.25,
           3.57,
           4.03,
           3.59,
           3.311132075471698,
           2.91,
           3.64,
           3.71,
           3.4,
           4.02,
           4.1899999999999995,
           1.84,
           3.4699999999999998,
           3.311132075471698
          ],
          "sizemode": "area",
          "sizeref": 0.01155,
          "symbol": "circle"
         },
         "mode": "markers",
         "name": "Europe",
         "orientation": "h",
         "showlegend": true,
         "type": "scatter",
         "x": [
          42.53,
          35.21073170731707,
          22.79,
          22.79,
          22.79,
          22.79,
          25.54,
          32.02,
          32.02,
          32.02,
          32.02,
          59.58,
          44.58,
          42.99,
          38.21,
          24.59,
          31.28,
          31.28,
          31.28,
          31.28,
          25.52,
          26.22,
          23.71,
          27.59,
          51.99,
          23.38,
          23.38,
          23.38,
          23.38,
          35.79,
          45.85,
          34.36,
          23.75,
          45.51,
          44.85,
          38.77,
          35.21073170731707,
          33.42,
          34.13,
          35.21073170731707,
          40.39,
          46.35,
          35.21073170731707,
          41.18,
          27.16,
          33.72,
          30.5,
          29.91,
          28.3,
          35.21073170731707,
          38.1,
          30.37,
          22.28,
          33.32,
          48,
          21.62,
          47.42,
          46.07,
          35.21073170731707
         ],
         "xaxis": "x",
         "y": [
          "Albania",
          "Andorra",
          "Armenia",
          "Armenia",
          "Armenia",
          "Armenia",
          "Austria",
          "Azerbaijan",
          "Azerbaijan",
          "Azerbaijan",
          "Azerbaijan",
          "Belarus",
          "Belgium",
          "Bosnia and Herzegovina",
          "Bulgaria",
          "Croatia",
          "Cyprus",
          "Cyprus",
          "Cyprus",
          "Cyprus",
          "Czech Republic",
          "Denmark",
          "Estonia",
          "Finland",
          "France",
          "Georgia",
          "Georgia",
          "Georgia",
          "Georgia",
          "Germany",
          "Greece",
          "Hungary",
          "Iceland",
          "Ireland",
          "Italy",
          "Latvia",
          "Liechtenstein",
          "Lithuania",
          "Luxembourg",
          "Macedonia",
          "Malta",
          "Moldova",
          "Monaco",
          "Montenegro",
          "Netherlands",
          "Norway",
          "Poland",
          "Portugal",
          "Romania",
          "San Marino",
          "Serbia",
          "Slovakia",
          "Slovenia",
          "Spain",
          "Sweden",
          "Switzerland",
          "Ukraine",
          "United Kingdom",
          "Vatican City"
         ],
         "yaxis": "y"
        },
        {
         "hovertemplate": "Continent=North America<br>crimeIndex=%{x}<br>country=%{y}<br>political_stability_2020=%{marker.size}<extra></extra>",
         "legendgroup": "North America",
         "marker": {
          "color": "#ab63fa",
          "size": [
           3.93,
           3.85,
           4.13,
           3.51,
           4.11,
           3.76,
           3.6,
           4.35,
           3.17,
           2.98,
           4.03,
           2.5700000000000003,
           1.96,
           2.46,
           3.27,
           2.15,
           2.35,
           3.23,
           3.93,
           3.87,
           4.03,
           3.18,
           2.98
          ],
          "sizemode": "area",
          "sizeref": 0.01155,
          "symbol": "circle"
         },
         "mode": "markers",
         "name": "North America",
         "orientation": "h",
         "showlegend": true,
         "type": "scatter",
         "x": [
          55.53333333333333,
          62.06,
          55.53333333333333,
          50.39,
          41.89,
          54.22,
          28.33,
          55.53333333333333,
          61.02,
          67.79,
          55.53333333333333,
          58.67,
          55.53333333333333,
          74.54,
          67.42,
          54.19,
          47.89,
          45.15,
          55.53333333333333,
          55.53333333333333,
          55.53333333333333,
          71.63,
          47.81
         ],
         "xaxis": "x",
         "y": [
          "Antigua and Barbuda",
          "Bahamas",
          "Barbados",
          "Belize",
          "Canada",
          "Costa Rica",
          "Cuba",
          "Dominica",
          "Dominican Republic",
          "El Salvador",
          "Grenada",
          "Guatemala",
          "Haiti",
          "Honduras",
          "Jamaica",
          "Mexico",
          "Nicaragua",
          "Panama",
          "Saint Kitts and Nevis",
          "Saint Lucia",
          "Saint Vincent and the Grenadines",
          "Trinidad and Tobago",
          "United States"
         ],
         "yaxis": "y"
        },
        {
         "hovertemplate": "Continent=Oceania<br>crimeIndex=%{x}<br>country=%{y}<br>political_stability_2020=%{marker.size}<extra></extra>",
         "legendgroup": "Oceania",
         "marker": {
          "color": "#FFA15A",
          "size": [
           3.85,
           3.75,
           4.08,
           3.59,
           3.8269230769230766,
           3.8269230769230766,
           3.94,
           4.49,
           3.89,
           2.26,
           4.16,
           3.64,
           4.02,
           4.18,
           3.9
          ],
          "sizemode": "area",
          "sizeref": 0.01155,
          "symbol": "circle"
         },
         "mode": "markers",
         "name": "Oceania",
         "orientation": "h",
         "showlegend": true,
         "type": "scatter",
         "x": [
          43.03,
          57.62,
          56.08,
          56.08,
          56.08,
          56.08,
          56.08,
          42.88,
          56.08,
          80.79,
          56.08,
          56.08,
          56.08,
          56.08,
          56.08
         ],
         "xaxis": "x",
         "y": [
          "Australia",
          "Fiji",
          "Kiribati",
          "Marshall Islands",
          "Micronesia",
          "Micronesia",
          "Nauru",
          "New Zealand",
          "Palau",
          "Papua New Guinea",
          "Samoa",
          "Solomon Islands",
          "Tonga",
          "Tuvalu",
          "Vanuatu"
         ],
         "yaxis": "y"
        },
        {
         "hovertemplate": "Continent=South America<br>crimeIndex=%{x}<br>country=%{y}<br>political_stability_2020=%{marker.size}<extra></extra>",
         "legendgroup": "South America",
         "marker": {
          "color": "#19d3f3",
          "size": [
           3.04,
           2.971,
           2.58,
           3.07,
           2.33,
           2.64,
           2.85,
           3.02,
           2.71,
           3.42,
           4.05,
           2.971
          ],
          "sizemode": "area",
          "sizeref": 0.01155,
          "symbol": "circle"
         },
         "mode": "markers",
         "name": "South America",
         "orientation": "h",
         "showlegend": true,
         "type": "scatter",
         "x": [
          63.82,
          57.77,
          67.49,
          53.42,
          56.87,
          55.23,
          68.74,
          49.37,
          66.72,
          61.35636363636363,
          51.73,
          83.76
         ],
         "xaxis": "x",
         "y": [
          "Argentina",
          "Bolivia",
          "Brazil",
          "Chile",
          "Colombia",
          "Ecuador",
          "Guyana",
          "Paraguay",
          "Peru",
          "Suriname",
          "Uruguay",
          "Venezuela"
         ],
         "yaxis": "y"
        }
       ],
       "layout": {
        "legend": {
         "itemsizing": "constant",
         "title": {
          "text": "Continent"
         },
         "tracegroupgap": 0
        },
        "margin": {
         "t": 60
        },
        "template": {
         "data": {
          "bar": [
           {
            "error_x": {
             "color": "#2a3f5f"
            },
            "error_y": {
             "color": "#2a3f5f"
            },
            "marker": {
             "line": {
              "color": "#E5ECF6",
              "width": 0.5
             },
             "pattern": {
              "fillmode": "overlay",
              "size": 10,
              "solidity": 0.2
             }
            },
            "type": "bar"
           }
          ],
          "barpolar": [
           {
            "marker": {
             "line": {
              "color": "#E5ECF6",
              "width": 0.5
             },
             "pattern": {
              "fillmode": "overlay",
              "size": 10,
              "solidity": 0.2
             }
            },
            "type": "barpolar"
           }
          ],
          "carpet": [
           {
            "aaxis": {
             "endlinecolor": "#2a3f5f",
             "gridcolor": "white",
             "linecolor": "white",
             "minorgridcolor": "white",
             "startlinecolor": "#2a3f5f"
            },
            "baxis": {
             "endlinecolor": "#2a3f5f",
             "gridcolor": "white",
             "linecolor": "white",
             "minorgridcolor": "white",
             "startlinecolor": "#2a3f5f"
            },
            "type": "carpet"
           }
          ],
          "choropleth": [
           {
            "colorbar": {
             "outlinewidth": 0,
             "ticks": ""
            },
            "type": "choropleth"
           }
          ],
          "contour": [
           {
            "colorbar": {
             "outlinewidth": 0,
             "ticks": ""
            },
            "colorscale": [
             [
              0,
              "#0d0887"
             ],
             [
              0.1111111111111111,
              "#46039f"
             ],
             [
              0.2222222222222222,
              "#7201a8"
             ],
             [
              0.3333333333333333,
              "#9c179e"
             ],
             [
              0.4444444444444444,
              "#bd3786"
             ],
             [
              0.5555555555555556,
              "#d8576b"
             ],
             [
              0.6666666666666666,
              "#ed7953"
             ],
             [
              0.7777777777777778,
              "#fb9f3a"
             ],
             [
              0.8888888888888888,
              "#fdca26"
             ],
             [
              1,
              "#f0f921"
             ]
            ],
            "type": "contour"
           }
          ],
          "contourcarpet": [
           {
            "colorbar": {
             "outlinewidth": 0,
             "ticks": ""
            },
            "type": "contourcarpet"
           }
          ],
          "heatmap": [
           {
            "colorbar": {
             "outlinewidth": 0,
             "ticks": ""
            },
            "colorscale": [
             [
              0,
              "#0d0887"
             ],
             [
              0.1111111111111111,
              "#46039f"
             ],
             [
              0.2222222222222222,
              "#7201a8"
             ],
             [
              0.3333333333333333,
              "#9c179e"
             ],
             [
              0.4444444444444444,
              "#bd3786"
             ],
             [
              0.5555555555555556,
              "#d8576b"
             ],
             [
              0.6666666666666666,
              "#ed7953"
             ],
             [
              0.7777777777777778,
              "#fb9f3a"
             ],
             [
              0.8888888888888888,
              "#fdca26"
             ],
             [
              1,
              "#f0f921"
             ]
            ],
            "type": "heatmap"
           }
          ],
          "heatmapgl": [
           {
            "colorbar": {
             "outlinewidth": 0,
             "ticks": ""
            },
            "colorscale": [
             [
              0,
              "#0d0887"
             ],
             [
              0.1111111111111111,
              "#46039f"
             ],
             [
              0.2222222222222222,
              "#7201a8"
             ],
             [
              0.3333333333333333,
              "#9c179e"
             ],
             [
              0.4444444444444444,
              "#bd3786"
             ],
             [
              0.5555555555555556,
              "#d8576b"
             ],
             [
              0.6666666666666666,
              "#ed7953"
             ],
             [
              0.7777777777777778,
              "#fb9f3a"
             ],
             [
              0.8888888888888888,
              "#fdca26"
             ],
             [
              1,
              "#f0f921"
             ]
            ],
            "type": "heatmapgl"
           }
          ],
          "histogram": [
           {
            "marker": {
             "pattern": {
              "fillmode": "overlay",
              "size": 10,
              "solidity": 0.2
             }
            },
            "type": "histogram"
           }
          ],
          "histogram2d": [
           {
            "colorbar": {
             "outlinewidth": 0,
             "ticks": ""
            },
            "colorscale": [
             [
              0,
              "#0d0887"
             ],
             [
              0.1111111111111111,
              "#46039f"
             ],
             [
              0.2222222222222222,
              "#7201a8"
             ],
             [
              0.3333333333333333,
              "#9c179e"
             ],
             [
              0.4444444444444444,
              "#bd3786"
             ],
             [
              0.5555555555555556,
              "#d8576b"
             ],
             [
              0.6666666666666666,
              "#ed7953"
             ],
             [
              0.7777777777777778,
              "#fb9f3a"
             ],
             [
              0.8888888888888888,
              "#fdca26"
             ],
             [
              1,
              "#f0f921"
             ]
            ],
            "type": "histogram2d"
           }
          ],
          "histogram2dcontour": [
           {
            "colorbar": {
             "outlinewidth": 0,
             "ticks": ""
            },
            "colorscale": [
             [
              0,
              "#0d0887"
             ],
             [
              0.1111111111111111,
              "#46039f"
             ],
             [
              0.2222222222222222,
              "#7201a8"
             ],
             [
              0.3333333333333333,
              "#9c179e"
             ],
             [
              0.4444444444444444,
              "#bd3786"
             ],
             [
              0.5555555555555556,
              "#d8576b"
             ],
             [
              0.6666666666666666,
              "#ed7953"
             ],
             [
              0.7777777777777778,
              "#fb9f3a"
             ],
             [
              0.8888888888888888,
              "#fdca26"
             ],
             [
              1,
              "#f0f921"
             ]
            ],
            "type": "histogram2dcontour"
           }
          ],
          "mesh3d": [
           {
            "colorbar": {
             "outlinewidth": 0,
             "ticks": ""
            },
            "type": "mesh3d"
           }
          ],
          "parcoords": [
           {
            "line": {
             "colorbar": {
              "outlinewidth": 0,
              "ticks": ""
             }
            },
            "type": "parcoords"
           }
          ],
          "pie": [
           {
            "automargin": true,
            "type": "pie"
           }
          ],
          "scatter": [
           {
            "fillpattern": {
             "fillmode": "overlay",
             "size": 10,
             "solidity": 0.2
            },
            "type": "scatter"
           }
          ],
          "scatter3d": [
           {
            "line": {
             "colorbar": {
              "outlinewidth": 0,
              "ticks": ""
             }
            },
            "marker": {
             "colorbar": {
              "outlinewidth": 0,
              "ticks": ""
             }
            },
            "type": "scatter3d"
           }
          ],
          "scattercarpet": [
           {
            "marker": {
             "colorbar": {
              "outlinewidth": 0,
              "ticks": ""
             }
            },
            "type": "scattercarpet"
           }
          ],
          "scattergeo": [
           {
            "marker": {
             "colorbar": {
              "outlinewidth": 0,
              "ticks": ""
             }
            },
            "type": "scattergeo"
           }
          ],
          "scattergl": [
           {
            "marker": {
             "colorbar": {
              "outlinewidth": 0,
              "ticks": ""
             }
            },
            "type": "scattergl"
           }
          ],
          "scattermapbox": [
           {
            "marker": {
             "colorbar": {
              "outlinewidth": 0,
              "ticks": ""
             }
            },
            "type": "scattermapbox"
           }
          ],
          "scatterpolar": [
           {
            "marker": {
             "colorbar": {
              "outlinewidth": 0,
              "ticks": ""
             }
            },
            "type": "scatterpolar"
           }
          ],
          "scatterpolargl": [
           {
            "marker": {
             "colorbar": {
              "outlinewidth": 0,
              "ticks": ""
             }
            },
            "type": "scatterpolargl"
           }
          ],
          "scatterternary": [
           {
            "marker": {
             "colorbar": {
              "outlinewidth": 0,
              "ticks": ""
             }
            },
            "type": "scatterternary"
           }
          ],
          "surface": [
           {
            "colorbar": {
             "outlinewidth": 0,
             "ticks": ""
            },
            "colorscale": [
             [
              0,
              "#0d0887"
             ],
             [
              0.1111111111111111,
              "#46039f"
             ],
             [
              0.2222222222222222,
              "#7201a8"
             ],
             [
              0.3333333333333333,
              "#9c179e"
             ],
             [
              0.4444444444444444,
              "#bd3786"
             ],
             [
              0.5555555555555556,
              "#d8576b"
             ],
             [
              0.6666666666666666,
              "#ed7953"
             ],
             [
              0.7777777777777778,
              "#fb9f3a"
             ],
             [
              0.8888888888888888,
              "#fdca26"
             ],
             [
              1,
              "#f0f921"
             ]
            ],
            "type": "surface"
           }
          ],
          "table": [
           {
            "cells": {
             "fill": {
              "color": "#EBF0F8"
             },
             "line": {
              "color": "white"
             }
            },
            "header": {
             "fill": {
              "color": "#C8D4E3"
             },
             "line": {
              "color": "white"
             }
            },
            "type": "table"
           }
          ]
         },
         "layout": {
          "annotationdefaults": {
           "arrowcolor": "#2a3f5f",
           "arrowhead": 0,
           "arrowwidth": 1
          },
          "autotypenumbers": "strict",
          "coloraxis": {
           "colorbar": {
            "outlinewidth": 0,
            "ticks": ""
           }
          },
          "colorscale": {
           "diverging": [
            [
             0,
             "#8e0152"
            ],
            [
             0.1,
             "#c51b7d"
            ],
            [
             0.2,
             "#de77ae"
            ],
            [
             0.3,
             "#f1b6da"
            ],
            [
             0.4,
             "#fde0ef"
            ],
            [
             0.5,
             "#f7f7f7"
            ],
            [
             0.6,
             "#e6f5d0"
            ],
            [
             0.7,
             "#b8e186"
            ],
            [
             0.8,
             "#7fbc41"
            ],
            [
             0.9,
             "#4d9221"
            ],
            [
             1,
             "#276419"
            ]
           ],
           "sequential": [
            [
             0,
             "#0d0887"
            ],
            [
             0.1111111111111111,
             "#46039f"
            ],
            [
             0.2222222222222222,
             "#7201a8"
            ],
            [
             0.3333333333333333,
             "#9c179e"
            ],
            [
             0.4444444444444444,
             "#bd3786"
            ],
            [
             0.5555555555555556,
             "#d8576b"
            ],
            [
             0.6666666666666666,
             "#ed7953"
            ],
            [
             0.7777777777777778,
             "#fb9f3a"
            ],
            [
             0.8888888888888888,
             "#fdca26"
            ],
            [
             1,
             "#f0f921"
            ]
           ],
           "sequentialminus": [
            [
             0,
             "#0d0887"
            ],
            [
             0.1111111111111111,
             "#46039f"
            ],
            [
             0.2222222222222222,
             "#7201a8"
            ],
            [
             0.3333333333333333,
             "#9c179e"
            ],
            [
             0.4444444444444444,
             "#bd3786"
            ],
            [
             0.5555555555555556,
             "#d8576b"
            ],
            [
             0.6666666666666666,
             "#ed7953"
            ],
            [
             0.7777777777777778,
             "#fb9f3a"
            ],
            [
             0.8888888888888888,
             "#fdca26"
            ],
            [
             1,
             "#f0f921"
            ]
           ]
          },
          "colorway": [
           "#636efa",
           "#EF553B",
           "#00cc96",
           "#ab63fa",
           "#FFA15A",
           "#19d3f3",
           "#FF6692",
           "#B6E880",
           "#FF97FF",
           "#FECB52"
          ],
          "font": {
           "color": "#2a3f5f"
          },
          "geo": {
           "bgcolor": "white",
           "lakecolor": "white",
           "landcolor": "#E5ECF6",
           "showlakes": true,
           "showland": true,
           "subunitcolor": "white"
          },
          "hoverlabel": {
           "align": "left"
          },
          "hovermode": "closest",
          "mapbox": {
           "style": "light"
          },
          "paper_bgcolor": "white",
          "plot_bgcolor": "#E5ECF6",
          "polar": {
           "angularaxis": {
            "gridcolor": "white",
            "linecolor": "white",
            "ticks": ""
           },
           "bgcolor": "#E5ECF6",
           "radialaxis": {
            "gridcolor": "white",
            "linecolor": "white",
            "ticks": ""
           }
          },
          "scene": {
           "xaxis": {
            "backgroundcolor": "#E5ECF6",
            "gridcolor": "white",
            "gridwidth": 2,
            "linecolor": "white",
            "showbackground": true,
            "ticks": "",
            "zerolinecolor": "white"
           },
           "yaxis": {
            "backgroundcolor": "#E5ECF6",
            "gridcolor": "white",
            "gridwidth": 2,
            "linecolor": "white",
            "showbackground": true,
            "ticks": "",
            "zerolinecolor": "white"
           },
           "zaxis": {
            "backgroundcolor": "#E5ECF6",
            "gridcolor": "white",
            "gridwidth": 2,
            "linecolor": "white",
            "showbackground": true,
            "ticks": "",
            "zerolinecolor": "white"
           }
          },
          "shapedefaults": {
           "line": {
            "color": "#2a3f5f"
           }
          },
          "ternary": {
           "aaxis": {
            "gridcolor": "white",
            "linecolor": "white",
            "ticks": ""
           },
           "baxis": {
            "gridcolor": "white",
            "linecolor": "white",
            "ticks": ""
           },
           "bgcolor": "#E5ECF6",
           "caxis": {
            "gridcolor": "white",
            "linecolor": "white",
            "ticks": ""
           }
          },
          "title": {
           "x": 0.05
          },
          "xaxis": {
           "automargin": true,
           "gridcolor": "white",
           "linecolor": "white",
           "ticks": "",
           "title": {
            "standoff": 15
           },
           "zerolinecolor": "white",
           "zerolinewidth": 2
          },
          "yaxis": {
           "automargin": true,
           "gridcolor": "white",
           "linecolor": "white",
           "ticks": "",
           "title": {
            "standoff": 15
           },
           "zerolinecolor": "white",
           "zerolinewidth": 2
          }
         }
        },
        "xaxis": {
         "anchor": "y",
         "domain": [
          0,
          1
         ],
         "title": {
          "text": "crimeIndex"
         }
        },
        "yaxis": {
         "anchor": "x",
         "domain": [
          0,
          1
         ],
         "title": {
          "text": "country"
         }
        }
       }
      }
     },
     "metadata": {},
     "output_type": "display_data"
    }
   ],
   "source": [
    "fig = px.scatter(data, x=\"crimeIndex\", y=\"country\", color=\"Continent\",\n",
    "                 size='political_stability_2020', hover_data=['crimeIndex'])\n",
    "fig.show()"
   ]
  },
  {
   "cell_type": "markdown",
   "metadata": {},
   "source": [
    "In the case of crime index, clustering is needed forming. Europe for example shows overall a low score (good). Interesting the most dangerous in terms of this metric are Belarus and France.\n",
    "\n",
    "The three most \"safe\" coutries are Qatar, United Arah Emirates, and Oman. Interesting situation in Asia yet universally identify as Middle Eastern countries. Which are perspective by people or media outlets as 'hostile and volitile' environment due to the perception of perpetual war. \n",
    "\n",
    "However, one thing to note, and could be a point of concern it is abundance of countries overlapping each other. This is due to the lack of data from the original source, and therefore the transformation I applied in the cleaning process. This could affect the clustering and cause dishonesty. But we will see."
   ]
  },
  {
   "cell_type": "code",
   "execution_count": 50,
   "metadata": {},
   "outputs": [
    {
     "data": {
      "application/vnd.plotly.v1+json": {
       "config": {
        "plotlyServerURL": "https://plot.ly"
       },
       "data": [
        {
         "hovertemplate": "Continent=Africa<br>protein_supply_2017=%{x}<br>country=%{y}<br>food_insecurity_2017=%{marker.size}<extra></extra>",
         "legendgroup": "Africa",
         "marker": {
          "color": "#636efa",
          "size": [
           19.7,
           52.490909090909085,
           66.3,
           53.4,
           52.490909090909085,
           52.490909090909085,
           58,
           52.490909090909085,
           52.490909090909085,
           52.490909090909085,
           52.490909090909085,
           87.9,
           52.490909090909085,
           52.490909090909085,
           33.1,
           33.1,
           52.490909090909085,
           52.490909090909085,
           59.4,
           52.490909090909085,
           52.7,
           43.8,
           74.1,
           61.7,
           52.490909090909085,
           60.9,
           52.490909090909085,
           81,
           33.2,
           52.490909090909085,
           80.3,
           52.490909090909085,
           32.3,
           18.5,
           26.1,
           68.4,
           55.3,
           50,
           42.8,
           52.490909090909085,
           52.490909090909085,
           35.8,
           14.3,
           83,
           52.490909090909085,
           52.490909090909085,
           85.1,
           46.4,
           52.490909090909085,
           52.490909090909085,
           61.8,
           20,
           74.8,
           52,
           67
          ],
          "sizemode": "area",
          "sizeref": 0.21975,
          "symbol": "circle"
         },
         "mode": "markers",
         "name": "Africa",
         "orientation": "h",
         "showlegend": true,
         "type": "scatter",
         "x": [
          89.3,
          52.4,
          64.3,
          71,
          68.21315789473685,
          68.21315789473685,
          71.6,
          68.21315789473685,
          50.7,
          77.7,
          55,
          51.7,
          68.21315789473685,
          68.7,
          97,
          97,
          68.21315789473685,
          68.21315789473685,
          72.3,
          81,
          64.3,
          60,
          68.21315789473685,
          43,
          68.21315789473685,
          61,
          63.3,
          41.3,
          68.21315789473685,
          42.7,
          69.7,
          80,
          81.3,
          86,
          99.7,
          68.21315789473685,
          64.7,
          83,
          60,
          60,
          52.7,
          63,
          68.21315789473685,
          48.7,
          68.21315789473685,
          79.7,
          68.21315789473685,
          74,
          68.21315789473685,
          68.21315789473685,
          56.3,
          99.7,
          68.21315789473685,
          58.3,
          68.21315789473685
         ],
         "xaxis": "x",
         "y": [
          "Algeria",
          "Angola",
          "Benin",
          "Botswana",
          "Burkina",
          "Burundi",
          "Cameroon",
          "Cape Verde",
          "Central African Republic",
          "Chad",
          "Comoros",
          "Congo",
          "Congo, Democratic Republic of",
          "Djibouti",
          "Egypt",
          "Egypt",
          "Equatorial Guinea",
          "Eritrea",
          "Ethiopia",
          "Gabon",
          "Gambia",
          "Ghana",
          "Guinea",
          "Guinea-Bissau",
          "Ivory Coast",
          "Kenya",
          "Lesotho",
          "Liberia",
          "Libya",
          "Madagascar",
          "Malawi",
          "Mali",
          "Mauritania",
          "Mauritius",
          "Morocco",
          "Mozambique",
          "Namibia",
          "Niger",
          "Nigeria",
          "Rwanda",
          "Sao Tome and Principe",
          "Senegal",
          "Seychelles",
          "Sierra Leone",
          "Somalia",
          "South Africa",
          "South Sudan",
          "Sudan",
          "Swaziland",
          "Tanzania",
          "Togo",
          "Tunisia",
          "Uganda",
          "Zambia",
          "Zimbabwe"
         ],
         "yaxis": "y"
        },
        {
         "hovertemplate": "Continent=Asia<br>protein_supply_2017=%{x}<br>country=%{y}<br>food_insecurity_2017=%{marker.size}<extra></extra>",
         "legendgroup": "Asia",
         "marker": {
          "color": "#EF553B",
          "size": [
           54.3,
           14.823076923076922,
           31.5,
           14.823076923076922,
           14.823076923076922,
           14.823076923076922,
           44.9,
           14.823076923076922,
           14.823076923076922,
           14.823076923076922,
           7.6,
           14.823076923076922,
           14.823076923076922,
           12.3,
           3.2,
           32.4,
           2.1,
           2.1,
           2.1,
           2.1,
           14.823076923076922,
           5.4,
           12.3,
           6.3,
           14.823076923076922,
           14.823076923076922,
           15.1,
           14.823076923076922,
           27.1,
           31.6,
           14.823076923076922,
           12.8,
           14.823076923076922,
           14.823076923076922,
           7.9,
           7.9,
           7.9,
           14.823076923076922,
           4.1,
           6.5,
           14.823076923076922,
           14.823076923076922,
           24.8,
           14.823076923076922,
           14.823076923076922,
           14.823076923076922,
           14.823076923076922,
           14.823076923076922,
           14.823076923076922,
           14.9,
           6.2,
           14.823076923076922
          ],
          "sizemode": "area",
          "sizeref": 0.21975,
          "symbol": "circle"
         },
         "mode": "markers",
         "name": "Asia",
         "orientation": "h",
         "showlegend": true,
         "type": "scatter",
         "x": [
          58,
          82.4108108108108,
          59,
          82.4108108108108,
          82.4108108108108,
          82.4108108108108,
          65.3,
          131,
          82.4108108108108,
          64,
          68,
          82.4108108108108,
          63.7,
          125.7,
          86,
          69.3,
          100,
          100,
          100,
          100,
          54.3,
          96.7,
          99.7,
          83.7,
          82.4108108108108,
          69.7,
          77,
          82.4108108108108,
          93.7,
          73.7,
          84.4,
          65.7,
          62.3,
          82.4108108108108,
          102,
          102,
          102,
          88.3,
          82.4108108108108,
          67,
          82.4108108108108,
          69.7,
          61.3,
          82.4108108108108,
          82.4108108108108,
          82.4108108108108,
          82.4108108108108,
          90,
          82,
          99,
          84.3,
          50.7
         ],
         "xaxis": "x",
         "y": [
          "Afghanistan",
          "Bahrain",
          "Bangladesh",
          "Bhutan",
          "Brunei",
          "Burma (Myanmar)",
          "Cambodia",
          "China",
          "East Timor",
          "India",
          "Indonesia",
          "Iran",
          "Iraq",
          "Israel",
          "Japan",
          "Jordan",
          "Kazakhstan",
          "Kazakhstan",
          "Kazakhstan",
          "Kazakhstan",
          "North Korea",
          "South Korea",
          "Kuwait",
          "Kyrgyzstan",
          "Laos",
          "Lebanon",
          "Malaysia",
          "Maldives",
          "Mongolia",
          "Nepal",
          "Oman",
          "Pakistan",
          "Philippines",
          "Qatar",
          "Russia",
          "Russia",
          "Russia",
          "Saudi Arabia",
          "Singapore",
          "Sri Lanka",
          "Syria",
          "Tajikistan",
          "Thailand",
          "Turkey",
          "Turkey",
          "Turkey",
          "Turkey",
          "Turkmenistan",
          "United Arab Emirates",
          "Uzbekistan",
          "Vietnam",
          "Yemen"
         ],
         "yaxis": "y"
        },
        {
         "hovertemplate": "Continent=Europe<br>protein_supply_2017=%{x}<br>country=%{y}<br>food_insecurity_2017=%{marker.size}<extra></extra>",
         "legendgroup": "Europe",
         "marker": {
          "color": "#00cc96",
          "size": [
           38.6,
           12.036956521739132,
           17.1,
           17.1,
           17.1,
           17.1,
           4.4,
           8.6,
           8.6,
           8.6,
           8.6,
           12.036956521739132,
           12.036956521739132,
           8.7,
           12,
           7.8,
           12.036956521739132,
           12.036956521739132,
           12.036956521739132,
           12.036956521739132,
           3.9,
           5.4,
           8.2,
           8.3,
           6.3,
           35.5,
           35.5,
           35.5,
           35.5,
           3.6,
           16.6,
           8.8,
           6.8,
           6.6,
           7.5,
           9.4,
           12.036956521739132,
           12.3,
           3.3,
           12.036956521739132,
           5.1,
           12.036956521739132,
           12.036956521739132,
           12,
           5.1,
           4.8,
           5.3,
           11.6,
           14.7,
           12.036956521739132,
           12.5,
           5,
           11.2,
           7.5,
           5.4,
           3.1,
           21.5,
           5.6,
           12.036956521739132
          ],
          "sizemode": "area",
          "sizeref": 0.21975,
          "symbol": "circle"
         },
         "mode": "markers",
         "name": "Europe",
         "orientation": "h",
         "showlegend": true,
         "type": "scatter",
         "x": [
          113.3,
          99.12692307692308,
          97,
          97,
          97,
          97,
          108.3,
          92,
          92,
          92,
          92,
          89,
          98.3,
          98,
          84.3,
          90.3,
          92,
          92,
          92,
          92,
          86.7,
          115.3,
          102.7,
          117.7,
          108.7,
          75.3,
          75.3,
          75.3,
          75.3,
          104.3,
          106.3,
          88,
          143,
          114.4,
          104,
          100.4,
          99.12692307692308,
          125,
          109.3,
          99.12692307692308,
          113,
          99.12692307692308,
          99.12692307692308,
          112.3,
          104.7,
          113.7,
          104.3,
          114.3,
          108.7,
          99.12692307692308,
          83.7,
          68.7,
          97,
          107.7,
          105.7,
          96.3,
          87.3,
          104.7,
          99.12692307692308
         ],
         "xaxis": "x",
         "y": [
          "Albania",
          "Andorra",
          "Armenia",
          "Armenia",
          "Armenia",
          "Armenia",
          "Austria",
          "Azerbaijan",
          "Azerbaijan",
          "Azerbaijan",
          "Azerbaijan",
          "Belarus",
          "Belgium",
          "Bosnia and Herzegovina",
          "Bulgaria",
          "Croatia",
          "Cyprus",
          "Cyprus",
          "Cyprus",
          "Cyprus",
          "Czech Republic",
          "Denmark",
          "Estonia",
          "Finland",
          "France",
          "Georgia",
          "Georgia",
          "Georgia",
          "Georgia",
          "Germany",
          "Greece",
          "Hungary",
          "Iceland",
          "Ireland",
          "Italy",
          "Latvia",
          "Liechtenstein",
          "Lithuania",
          "Luxembourg",
          "Macedonia",
          "Malta",
          "Moldova",
          "Monaco",
          "Montenegro",
          "Netherlands",
          "Norway",
          "Poland",
          "Portugal",
          "Romania",
          "San Marino",
          "Serbia",
          "Slovakia",
          "Slovenia",
          "Spain",
          "Sweden",
          "Switzerland",
          "Ukraine",
          "United Kingdom",
          "Vatican City"
         ],
         "yaxis": "y"
        },
        {
         "hovertemplate": "Continent=North America<br>protein_supply_2017=%{x}<br>country=%{y}<br>food_insecurity_2017=%{marker.size}<extra></extra>",
         "legendgroup": "North America",
         "marker": {
          "color": "#ab63fa",
          "size": [
           26.991666666666664,
           26.991666666666664,
           26.991666666666664,
           26.991666666666664,
           5,
           13.7,
           26.991666666666664,
           26.991666666666664,
           26.991666666666664,
           41.6,
           23.6,
           43.5,
           26.991666666666664,
           41.1,
           46.9,
           23,
           26.991666666666664,
           26.991666666666664,
           21.1,
           22.2,
           33.3,
           26.991666666666664,
           8.9
          ],
          "sizemode": "area",
          "sizeref": 0.21975,
          "symbol": "circle"
         },
         "mode": "markers",
         "name": "North America",
         "orientation": "h",
         "showlegend": true,
         "type": "scatter",
         "x": [
          79.10555555555555,
          79.10555555555555,
          87.3,
          68.7,
          104.3,
          80,
          86.3,
          81,
          64.7,
          75.3,
          79.10555555555555,
          69.3,
          49,
          61.3,
          73.3,
          90,
          64.3,
          82.1,
          79.10555555555555,
          79.10555555555555,
          88.7,
          85,
          113.3
         ],
         "xaxis": "x",
         "y": [
          "Antigua and Barbuda",
          "Bahamas",
          "Barbados",
          "Belize",
          "Canada",
          "Costa Rica",
          "Cuba",
          "Dominica",
          "Dominican Republic",
          "El Salvador",
          "Grenada",
          "Guatemala",
          "Haiti",
          "Honduras",
          "Jamaica",
          "Mexico",
          "Nicaragua",
          "Panama",
          "Saint Kitts and Nevis",
          "Saint Lucia",
          "Saint Vincent and the Grenadines",
          "Trinidad and Tobago",
          "United States"
         ],
         "yaxis": "y"
        },
        {
         "hovertemplate": "Continent=Oceania<br>protein_supply_2017=%{x}<br>country=%{y}<br>food_insecurity_2017=%{marker.size}<extra></extra>",
         "legendgroup": "Oceania",
         "marker": {
          "color": "#FFA15A",
          "size": [
           12.7,
           16.533333333333335,
           16.533333333333335,
           16.533333333333335,
           16.533333333333335,
           16.533333333333335,
           16.533333333333335,
           13.3,
           16.533333333333335,
           16.533333333333335,
           23.6,
           16.533333333333335,
           16.533333333333335,
           16.533333333333335,
           16.533333333333335
          ],
          "sizemode": "area",
          "sizeref": 0.21975,
          "symbol": "circle"
         },
         "mode": "markers",
         "name": "Oceania",
         "orientation": "h",
         "showlegend": true,
         "type": "scatter",
         "x": [
          107,
          73,
          71,
          76.875,
          76.875,
          76.875,
          76.875,
          94.7,
          76.875,
          64.3,
          87.7,
          53.3,
          76.875,
          76.875,
          64
         ],
         "xaxis": "x",
         "y": [
          "Australia",
          "Fiji",
          "Kiribati",
          "Marshall Islands",
          "Micronesia",
          "Micronesia",
          "Nauru",
          "New Zealand",
          "Palau",
          "Papua New Guinea",
          "Samoa",
          "Solomon Islands",
          "Tonga",
          "Tuvalu",
          "Vanuatu"
         ],
         "yaxis": "y"
        },
        {
         "hovertemplate": "Continent=South America<br>protein_supply_2017=%{x}<br>country=%{y}<br>food_insecurity_2017=%{marker.size}<extra></extra>",
         "legendgroup": "South America",
         "marker": {
          "color": "#19d3f3",
          "size": [
           32.3,
           25.37142857142857,
           21.8,
           13.7,
           25.37142857142857,
           26.2,
           25.37142857142857,
           15.6,
           42.9,
           25.37142857142857,
           25.1,
           25.37142857142857
          ],
          "sizemode": "area",
          "sizeref": 0.21975,
          "symbol": "circle"
         },
         "mode": "markers",
         "name": "South America",
         "orientation": "h",
         "showlegend": true,
         "type": "scatter",
         "x": [
          105.7,
          80.89999999999999,
          94.3,
          90.7,
          70.3,
          62.3,
          84.3,
          68,
          87.4,
          62,
          84,
          80.89999999999999
         ],
         "xaxis": "x",
         "y": [
          "Argentina",
          "Bolivia",
          "Brazil",
          "Chile",
          "Colombia",
          "Ecuador",
          "Guyana",
          "Paraguay",
          "Peru",
          "Suriname",
          "Uruguay",
          "Venezuela"
         ],
         "yaxis": "y"
        }
       ],
       "layout": {
        "legend": {
         "itemsizing": "constant",
         "title": {
          "text": "Continent"
         },
         "tracegroupgap": 0
        },
        "margin": {
         "t": 60
        },
        "template": {
         "data": {
          "bar": [
           {
            "error_x": {
             "color": "#2a3f5f"
            },
            "error_y": {
             "color": "#2a3f5f"
            },
            "marker": {
             "line": {
              "color": "#E5ECF6",
              "width": 0.5
             },
             "pattern": {
              "fillmode": "overlay",
              "size": 10,
              "solidity": 0.2
             }
            },
            "type": "bar"
           }
          ],
          "barpolar": [
           {
            "marker": {
             "line": {
              "color": "#E5ECF6",
              "width": 0.5
             },
             "pattern": {
              "fillmode": "overlay",
              "size": 10,
              "solidity": 0.2
             }
            },
            "type": "barpolar"
           }
          ],
          "carpet": [
           {
            "aaxis": {
             "endlinecolor": "#2a3f5f",
             "gridcolor": "white",
             "linecolor": "white",
             "minorgridcolor": "white",
             "startlinecolor": "#2a3f5f"
            },
            "baxis": {
             "endlinecolor": "#2a3f5f",
             "gridcolor": "white",
             "linecolor": "white",
             "minorgridcolor": "white",
             "startlinecolor": "#2a3f5f"
            },
            "type": "carpet"
           }
          ],
          "choropleth": [
           {
            "colorbar": {
             "outlinewidth": 0,
             "ticks": ""
            },
            "type": "choropleth"
           }
          ],
          "contour": [
           {
            "colorbar": {
             "outlinewidth": 0,
             "ticks": ""
            },
            "colorscale": [
             [
              0,
              "#0d0887"
             ],
             [
              0.1111111111111111,
              "#46039f"
             ],
             [
              0.2222222222222222,
              "#7201a8"
             ],
             [
              0.3333333333333333,
              "#9c179e"
             ],
             [
              0.4444444444444444,
              "#bd3786"
             ],
             [
              0.5555555555555556,
              "#d8576b"
             ],
             [
              0.6666666666666666,
              "#ed7953"
             ],
             [
              0.7777777777777778,
              "#fb9f3a"
             ],
             [
              0.8888888888888888,
              "#fdca26"
             ],
             [
              1,
              "#f0f921"
             ]
            ],
            "type": "contour"
           }
          ],
          "contourcarpet": [
           {
            "colorbar": {
             "outlinewidth": 0,
             "ticks": ""
            },
            "type": "contourcarpet"
           }
          ],
          "heatmap": [
           {
            "colorbar": {
             "outlinewidth": 0,
             "ticks": ""
            },
            "colorscale": [
             [
              0,
              "#0d0887"
             ],
             [
              0.1111111111111111,
              "#46039f"
             ],
             [
              0.2222222222222222,
              "#7201a8"
             ],
             [
              0.3333333333333333,
              "#9c179e"
             ],
             [
              0.4444444444444444,
              "#bd3786"
             ],
             [
              0.5555555555555556,
              "#d8576b"
             ],
             [
              0.6666666666666666,
              "#ed7953"
             ],
             [
              0.7777777777777778,
              "#fb9f3a"
             ],
             [
              0.8888888888888888,
              "#fdca26"
             ],
             [
              1,
              "#f0f921"
             ]
            ],
            "type": "heatmap"
           }
          ],
          "heatmapgl": [
           {
            "colorbar": {
             "outlinewidth": 0,
             "ticks": ""
            },
            "colorscale": [
             [
              0,
              "#0d0887"
             ],
             [
              0.1111111111111111,
              "#46039f"
             ],
             [
              0.2222222222222222,
              "#7201a8"
             ],
             [
              0.3333333333333333,
              "#9c179e"
             ],
             [
              0.4444444444444444,
              "#bd3786"
             ],
             [
              0.5555555555555556,
              "#d8576b"
             ],
             [
              0.6666666666666666,
              "#ed7953"
             ],
             [
              0.7777777777777778,
              "#fb9f3a"
             ],
             [
              0.8888888888888888,
              "#fdca26"
             ],
             [
              1,
              "#f0f921"
             ]
            ],
            "type": "heatmapgl"
           }
          ],
          "histogram": [
           {
            "marker": {
             "pattern": {
              "fillmode": "overlay",
              "size": 10,
              "solidity": 0.2
             }
            },
            "type": "histogram"
           }
          ],
          "histogram2d": [
           {
            "colorbar": {
             "outlinewidth": 0,
             "ticks": ""
            },
            "colorscale": [
             [
              0,
              "#0d0887"
             ],
             [
              0.1111111111111111,
              "#46039f"
             ],
             [
              0.2222222222222222,
              "#7201a8"
             ],
             [
              0.3333333333333333,
              "#9c179e"
             ],
             [
              0.4444444444444444,
              "#bd3786"
             ],
             [
              0.5555555555555556,
              "#d8576b"
             ],
             [
              0.6666666666666666,
              "#ed7953"
             ],
             [
              0.7777777777777778,
              "#fb9f3a"
             ],
             [
              0.8888888888888888,
              "#fdca26"
             ],
             [
              1,
              "#f0f921"
             ]
            ],
            "type": "histogram2d"
           }
          ],
          "histogram2dcontour": [
           {
            "colorbar": {
             "outlinewidth": 0,
             "ticks": ""
            },
            "colorscale": [
             [
              0,
              "#0d0887"
             ],
             [
              0.1111111111111111,
              "#46039f"
             ],
             [
              0.2222222222222222,
              "#7201a8"
             ],
             [
              0.3333333333333333,
              "#9c179e"
             ],
             [
              0.4444444444444444,
              "#bd3786"
             ],
             [
              0.5555555555555556,
              "#d8576b"
             ],
             [
              0.6666666666666666,
              "#ed7953"
             ],
             [
              0.7777777777777778,
              "#fb9f3a"
             ],
             [
              0.8888888888888888,
              "#fdca26"
             ],
             [
              1,
              "#f0f921"
             ]
            ],
            "type": "histogram2dcontour"
           }
          ],
          "mesh3d": [
           {
            "colorbar": {
             "outlinewidth": 0,
             "ticks": ""
            },
            "type": "mesh3d"
           }
          ],
          "parcoords": [
           {
            "line": {
             "colorbar": {
              "outlinewidth": 0,
              "ticks": ""
             }
            },
            "type": "parcoords"
           }
          ],
          "pie": [
           {
            "automargin": true,
            "type": "pie"
           }
          ],
          "scatter": [
           {
            "fillpattern": {
             "fillmode": "overlay",
             "size": 10,
             "solidity": 0.2
            },
            "type": "scatter"
           }
          ],
          "scatter3d": [
           {
            "line": {
             "colorbar": {
              "outlinewidth": 0,
              "ticks": ""
             }
            },
            "marker": {
             "colorbar": {
              "outlinewidth": 0,
              "ticks": ""
             }
            },
            "type": "scatter3d"
           }
          ],
          "scattercarpet": [
           {
            "marker": {
             "colorbar": {
              "outlinewidth": 0,
              "ticks": ""
             }
            },
            "type": "scattercarpet"
           }
          ],
          "scattergeo": [
           {
            "marker": {
             "colorbar": {
              "outlinewidth": 0,
              "ticks": ""
             }
            },
            "type": "scattergeo"
           }
          ],
          "scattergl": [
           {
            "marker": {
             "colorbar": {
              "outlinewidth": 0,
              "ticks": ""
             }
            },
            "type": "scattergl"
           }
          ],
          "scattermapbox": [
           {
            "marker": {
             "colorbar": {
              "outlinewidth": 0,
              "ticks": ""
             }
            },
            "type": "scattermapbox"
           }
          ],
          "scatterpolar": [
           {
            "marker": {
             "colorbar": {
              "outlinewidth": 0,
              "ticks": ""
             }
            },
            "type": "scatterpolar"
           }
          ],
          "scatterpolargl": [
           {
            "marker": {
             "colorbar": {
              "outlinewidth": 0,
              "ticks": ""
             }
            },
            "type": "scatterpolargl"
           }
          ],
          "scatterternary": [
           {
            "marker": {
             "colorbar": {
              "outlinewidth": 0,
              "ticks": ""
             }
            },
            "type": "scatterternary"
           }
          ],
          "surface": [
           {
            "colorbar": {
             "outlinewidth": 0,
             "ticks": ""
            },
            "colorscale": [
             [
              0,
              "#0d0887"
             ],
             [
              0.1111111111111111,
              "#46039f"
             ],
             [
              0.2222222222222222,
              "#7201a8"
             ],
             [
              0.3333333333333333,
              "#9c179e"
             ],
             [
              0.4444444444444444,
              "#bd3786"
             ],
             [
              0.5555555555555556,
              "#d8576b"
             ],
             [
              0.6666666666666666,
              "#ed7953"
             ],
             [
              0.7777777777777778,
              "#fb9f3a"
             ],
             [
              0.8888888888888888,
              "#fdca26"
             ],
             [
              1,
              "#f0f921"
             ]
            ],
            "type": "surface"
           }
          ],
          "table": [
           {
            "cells": {
             "fill": {
              "color": "#EBF0F8"
             },
             "line": {
              "color": "white"
             }
            },
            "header": {
             "fill": {
              "color": "#C8D4E3"
             },
             "line": {
              "color": "white"
             }
            },
            "type": "table"
           }
          ]
         },
         "layout": {
          "annotationdefaults": {
           "arrowcolor": "#2a3f5f",
           "arrowhead": 0,
           "arrowwidth": 1
          },
          "autotypenumbers": "strict",
          "coloraxis": {
           "colorbar": {
            "outlinewidth": 0,
            "ticks": ""
           }
          },
          "colorscale": {
           "diverging": [
            [
             0,
             "#8e0152"
            ],
            [
             0.1,
             "#c51b7d"
            ],
            [
             0.2,
             "#de77ae"
            ],
            [
             0.3,
             "#f1b6da"
            ],
            [
             0.4,
             "#fde0ef"
            ],
            [
             0.5,
             "#f7f7f7"
            ],
            [
             0.6,
             "#e6f5d0"
            ],
            [
             0.7,
             "#b8e186"
            ],
            [
             0.8,
             "#7fbc41"
            ],
            [
             0.9,
             "#4d9221"
            ],
            [
             1,
             "#276419"
            ]
           ],
           "sequential": [
            [
             0,
             "#0d0887"
            ],
            [
             0.1111111111111111,
             "#46039f"
            ],
            [
             0.2222222222222222,
             "#7201a8"
            ],
            [
             0.3333333333333333,
             "#9c179e"
            ],
            [
             0.4444444444444444,
             "#bd3786"
            ],
            [
             0.5555555555555556,
             "#d8576b"
            ],
            [
             0.6666666666666666,
             "#ed7953"
            ],
            [
             0.7777777777777778,
             "#fb9f3a"
            ],
            [
             0.8888888888888888,
             "#fdca26"
            ],
            [
             1,
             "#f0f921"
            ]
           ],
           "sequentialminus": [
            [
             0,
             "#0d0887"
            ],
            [
             0.1111111111111111,
             "#46039f"
            ],
            [
             0.2222222222222222,
             "#7201a8"
            ],
            [
             0.3333333333333333,
             "#9c179e"
            ],
            [
             0.4444444444444444,
             "#bd3786"
            ],
            [
             0.5555555555555556,
             "#d8576b"
            ],
            [
             0.6666666666666666,
             "#ed7953"
            ],
            [
             0.7777777777777778,
             "#fb9f3a"
            ],
            [
             0.8888888888888888,
             "#fdca26"
            ],
            [
             1,
             "#f0f921"
            ]
           ]
          },
          "colorway": [
           "#636efa",
           "#EF553B",
           "#00cc96",
           "#ab63fa",
           "#FFA15A",
           "#19d3f3",
           "#FF6692",
           "#B6E880",
           "#FF97FF",
           "#FECB52"
          ],
          "font": {
           "color": "#2a3f5f"
          },
          "geo": {
           "bgcolor": "white",
           "lakecolor": "white",
           "landcolor": "#E5ECF6",
           "showlakes": true,
           "showland": true,
           "subunitcolor": "white"
          },
          "hoverlabel": {
           "align": "left"
          },
          "hovermode": "closest",
          "mapbox": {
           "style": "light"
          },
          "paper_bgcolor": "white",
          "plot_bgcolor": "#E5ECF6",
          "polar": {
           "angularaxis": {
            "gridcolor": "white",
            "linecolor": "white",
            "ticks": ""
           },
           "bgcolor": "#E5ECF6",
           "radialaxis": {
            "gridcolor": "white",
            "linecolor": "white",
            "ticks": ""
           }
          },
          "scene": {
           "xaxis": {
            "backgroundcolor": "#E5ECF6",
            "gridcolor": "white",
            "gridwidth": 2,
            "linecolor": "white",
            "showbackground": true,
            "ticks": "",
            "zerolinecolor": "white"
           },
           "yaxis": {
            "backgroundcolor": "#E5ECF6",
            "gridcolor": "white",
            "gridwidth": 2,
            "linecolor": "white",
            "showbackground": true,
            "ticks": "",
            "zerolinecolor": "white"
           },
           "zaxis": {
            "backgroundcolor": "#E5ECF6",
            "gridcolor": "white",
            "gridwidth": 2,
            "linecolor": "white",
            "showbackground": true,
            "ticks": "",
            "zerolinecolor": "white"
           }
          },
          "shapedefaults": {
           "line": {
            "color": "#2a3f5f"
           }
          },
          "ternary": {
           "aaxis": {
            "gridcolor": "white",
            "linecolor": "white",
            "ticks": ""
           },
           "baxis": {
            "gridcolor": "white",
            "linecolor": "white",
            "ticks": ""
           },
           "bgcolor": "#E5ECF6",
           "caxis": {
            "gridcolor": "white",
            "linecolor": "white",
            "ticks": ""
           }
          },
          "title": {
           "x": 0.05
          },
          "xaxis": {
           "automargin": true,
           "gridcolor": "white",
           "linecolor": "white",
           "ticks": "",
           "title": {
            "standoff": 15
           },
           "zerolinecolor": "white",
           "zerolinewidth": 2
          },
          "yaxis": {
           "automargin": true,
           "gridcolor": "white",
           "linecolor": "white",
           "ticks": "",
           "title": {
            "standoff": 15
           },
           "zerolinecolor": "white",
           "zerolinewidth": 2
          }
         }
        },
        "xaxis": {
         "anchor": "y",
         "domain": [
          0,
          1
         ],
         "title": {
          "text": "protein_supply_2017"
         }
        },
        "yaxis": {
         "anchor": "x",
         "domain": [
          0,
          1
         ],
         "title": {
          "text": "country"
         }
        }
       }
      }
     },
     "metadata": {},
     "output_type": "display_data"
    }
   ],
   "source": [
    "fig = px.scatter(data, x=\"protein_supply_2017\", y=\"country\", color=\"Continent\",\n",
    "                 size='food_insecurity_2017', hover_data=['protein_supply_2017'])\n",
    "fig.show()\n"
   ]
  },
  {
   "cell_type": "markdown",
   "metadata": {},
   "source": [
    "This problem is showing up again. This is obvious in the continents of Africa and Asia. Reguardless it is interesting. This data relates to the supply of animal protein. \n",
    "\n",
    "The countires with the most supply are Iceland, China, and Isreal. It would be interesting to know the ratio of domestic produce and imports. Iceland, for example, is not the first thing to come to mind when you think of globalisation, but China is. Iceland being a far outlier is interesting to say the least. Unfortunetaly the countries in Africa are both high in protein supply and high in food insecurity. The reasons are beyond the scope of this project, and unfortunately as expected outcome for many."
   ]
  },
  {
   "cell_type": "code",
   "execution_count": 21,
   "metadata": {},
   "outputs": [
    {
     "data": {
      "application/vnd.plotly.v1+json": {
       "config": {
        "plotlyServerURL": "https://plot.ly"
       },
       "data": [
        {
         "customdata": [
          [
           89.3
          ],
          [
           52.4
          ],
          [
           64.3
          ],
          [
           71
          ],
          [
           68.21315789473685
          ],
          [
           68.21315789473685
          ],
          [
           71.6
          ],
          [
           68.21315789473685
          ],
          [
           50.7
          ],
          [
           77.7
          ],
          [
           55
          ],
          [
           51.7
          ],
          [
           68.21315789473685
          ],
          [
           68.7
          ],
          [
           97
          ],
          [
           97
          ],
          [
           68.21315789473685
          ],
          [
           68.21315789473685
          ],
          [
           72.3
          ],
          [
           81
          ],
          [
           64.3
          ],
          [
           60
          ],
          [
           68.21315789473685
          ],
          [
           43
          ],
          [
           68.21315789473685
          ],
          [
           61
          ],
          [
           63.3
          ],
          [
           41.3
          ],
          [
           68.21315789473685
          ],
          [
           42.7
          ],
          [
           69.7
          ],
          [
           80
          ],
          [
           81.3
          ],
          [
           86
          ],
          [
           99.7
          ],
          [
           68.21315789473685
          ],
          [
           64.7
          ],
          [
           83
          ],
          [
           60
          ],
          [
           60
          ],
          [
           52.7
          ],
          [
           63
          ],
          [
           68.21315789473685
          ],
          [
           48.7
          ],
          [
           68.21315789473685
          ],
          [
           79.7
          ],
          [
           68.21315789473685
          ],
          [
           74
          ],
          [
           68.21315789473685
          ],
          [
           68.21315789473685
          ],
          [
           56.3
          ],
          [
           99.7
          ],
          [
           68.21315789473685
          ],
          [
           58.3
          ],
          [
           68.21315789473685
          ]
         ],
         "hovertemplate": "Continent=Africa<br>obesity_2016=%{x}<br>country=%{y}<br>protein_supply_2017=%{customdata[0]}<extra></extra>",
         "legendgroup": "Africa",
         "marker": {
          "color": "#636efa",
          "symbol": "circle"
         },
         "mode": "markers",
         "name": "Africa",
         "orientation": "h",
         "showlegend": true,
         "type": "scatter",
         "x": [
          27.4,
          8.2,
          9.6,
          18.9,
          12.446808510638297,
          5.4,
          11.4,
          12.446808510638297,
          7.5,
          6.1,
          7.8,
          9.6,
          12.446808510638297,
          13.5,
          32,
          32,
          8,
          5,
          4.5,
          15,
          10.3,
          10.9,
          7.7,
          9.5,
          12.446808510638297,
          7.1,
          16.6,
          9.9,
          32.5,
          5.3,
          5.8,
          8.6,
          12.7,
          10.8,
          26.1,
          7.2,
          17.2,
          5.5,
          8.9,
          5.8,
          12.4,
          8.8,
          14,
          8.7,
          8.3,
          28.3,
          12.446808510638297,
          12.446808510638297,
          12.446808510638297,
          12.446808510638297,
          8.4,
          26.9,
          5.3,
          8.1,
          15.5
         ],
         "xaxis": "x",
         "y": [
          "Algeria",
          "Angola",
          "Benin",
          "Botswana",
          "Burkina",
          "Burundi",
          "Cameroon",
          "Cape Verde",
          "Central African Republic",
          "Chad",
          "Comoros",
          "Congo",
          "Congo, Democratic Republic of",
          "Djibouti",
          "Egypt",
          "Egypt",
          "Equatorial Guinea",
          "Eritrea",
          "Ethiopia",
          "Gabon",
          "Gambia",
          "Ghana",
          "Guinea",
          "Guinea-Bissau",
          "Ivory Coast",
          "Kenya",
          "Lesotho",
          "Liberia",
          "Libya",
          "Madagascar",
          "Malawi",
          "Mali",
          "Mauritania",
          "Mauritius",
          "Morocco",
          "Mozambique",
          "Namibia",
          "Niger",
          "Nigeria",
          "Rwanda",
          "Sao Tome and Principe",
          "Senegal",
          "Seychelles",
          "Sierra Leone",
          "Somalia",
          "South Africa",
          "South Sudan",
          "Sudan",
          "Swaziland",
          "Tanzania",
          "Togo",
          "Tunisia",
          "Uganda",
          "Zambia",
          "Zimbabwe"
         ],
         "yaxis": "y"
        },
        {
         "customdata": [
          [
           58
          ],
          [
           82.4108108108108
          ],
          [
           59
          ],
          [
           82.4108108108108
          ],
          [
           82.4108108108108
          ],
          [
           82.4108108108108
          ],
          [
           65.3
          ],
          [
           131
          ],
          [
           82.4108108108108
          ],
          [
           64
          ],
          [
           68
          ],
          [
           82.4108108108108
          ],
          [
           63.7
          ],
          [
           125.7
          ],
          [
           86
          ],
          [
           69.3
          ],
          [
           100
          ],
          [
           100
          ],
          [
           100
          ],
          [
           100
          ],
          [
           54.3
          ],
          [
           96.7
          ],
          [
           99.7
          ],
          [
           83.7
          ],
          [
           82.4108108108108
          ],
          [
           69.7
          ],
          [
           77
          ],
          [
           82.4108108108108
          ],
          [
           93.7
          ],
          [
           73.7
          ],
          [
           84.4
          ],
          [
           65.7
          ],
          [
           62.3
          ],
          [
           82.4108108108108
          ],
          [
           102
          ],
          [
           102
          ],
          [
           102
          ],
          [
           88.3
          ],
          [
           82.4108108108108
          ],
          [
           67
          ],
          [
           82.4108108108108
          ],
          [
           69.7
          ],
          [
           61.3
          ],
          [
           82.4108108108108
          ],
          [
           82.4108108108108
          ],
          [
           82.4108108108108
          ],
          [
           82.4108108108108
          ],
          [
           90
          ],
          [
           82
          ],
          [
           99
          ],
          [
           84.3
          ],
          [
           50.7
          ]
         ],
         "hovertemplate": "Continent=Asia<br>obesity_2016=%{x}<br>country=%{y}<br>protein_supply_2017=%{customdata[0]}<extra></extra>",
         "legendgroup": "Asia",
         "marker": {
          "color": "#EF553B",
          "symbol": "circle"
         },
         "mode": "markers",
         "name": "Asia",
         "orientation": "h",
         "showlegend": true,
         "type": "scatter",
         "x": [
          5.5,
          29.8,
          3.6,
          6.4,
          16.843902439024394,
          16.843902439024394,
          3.9,
          16.843902439024394,
          16.843902439024394,
          3.9,
          6.9,
          16.843902439024394,
          30.4,
          26.1,
          4.3,
          35.5,
          21,
          21,
          21,
          21,
          6.8,
          4.7,
          37.9,
          16.6,
          16.843902439024394,
          32,
          15.6,
          8.6,
          20.6,
          4.1,
          27,
          8.6,
          6.4,
          35.1,
          23.1,
          23.1,
          23.1,
          35.4,
          6.1,
          5.2,
          16.843902439024394,
          14.2,
          10,
          16.843902439024394,
          16.843902439024394,
          16.843902439024394,
          16.843902439024394,
          18.6,
          31.7,
          16.6,
          2.1,
          17.1
         ],
         "xaxis": "x",
         "y": [
          "Afghanistan",
          "Bahrain",
          "Bangladesh",
          "Bhutan",
          "Brunei",
          "Burma (Myanmar)",
          "Cambodia",
          "China",
          "East Timor",
          "India",
          "Indonesia",
          "Iran",
          "Iraq",
          "Israel",
          "Japan",
          "Jordan",
          "Kazakhstan",
          "Kazakhstan",
          "Kazakhstan",
          "Kazakhstan",
          "North Korea",
          "South Korea",
          "Kuwait",
          "Kyrgyzstan",
          "Laos",
          "Lebanon",
          "Malaysia",
          "Maldives",
          "Mongolia",
          "Nepal",
          "Oman",
          "Pakistan",
          "Philippines",
          "Qatar",
          "Russia",
          "Russia",
          "Russia",
          "Saudi Arabia",
          "Singapore",
          "Sri Lanka",
          "Syria",
          "Tajikistan",
          "Thailand",
          "Turkey",
          "Turkey",
          "Turkey",
          "Turkey",
          "Turkmenistan",
          "United Arab Emirates",
          "Uzbekistan",
          "Vietnam",
          "Yemen"
         ],
         "yaxis": "y"
        },
        {
         "customdata": [
          [
           113.3
          ],
          [
           99.12692307692308
          ],
          [
           97
          ],
          [
           97
          ],
          [
           97
          ],
          [
           97
          ],
          [
           108.3
          ],
          [
           92
          ],
          [
           92
          ],
          [
           92
          ],
          [
           92
          ],
          [
           89
          ],
          [
           98.3
          ],
          [
           98
          ],
          [
           84.3
          ],
          [
           90.3
          ],
          [
           92
          ],
          [
           92
          ],
          [
           92
          ],
          [
           92
          ],
          [
           86.7
          ],
          [
           115.3
          ],
          [
           102.7
          ],
          [
           117.7
          ],
          [
           108.7
          ],
          [
           75.3
          ],
          [
           75.3
          ],
          [
           75.3
          ],
          [
           75.3
          ],
          [
           104.3
          ],
          [
           106.3
          ],
          [
           88
          ],
          [
           143
          ],
          [
           114.4
          ],
          [
           104
          ],
          [
           100.4
          ],
          [
           99.12692307692308
          ],
          [
           125
          ],
          [
           109.3
          ],
          [
           99.12692307692308
          ],
          [
           113
          ],
          [
           99.12692307692308
          ],
          [
           99.12692307692308
          ],
          [
           112.3
          ],
          [
           104.7
          ],
          [
           113.7
          ],
          [
           104.3
          ],
          [
           114.3
          ],
          [
           108.7
          ],
          [
           99.12692307692308
          ],
          [
           83.7
          ],
          [
           68.7
          ],
          [
           97
          ],
          [
           107.7
          ],
          [
           105.7
          ],
          [
           96.3
          ],
          [
           87.3
          ],
          [
           104.7
          ],
          [
           99.12692307692308
          ]
         ],
         "hovertemplate": "Continent=Europe<br>obesity_2016=%{x}<br>country=%{y}<br>protein_supply_2017=%{customdata[0]}<extra></extra>",
         "legendgroup": "Europe",
         "marker": {
          "color": "#00cc96",
          "symbol": "circle"
         },
         "mode": "markers",
         "name": "Europe",
         "orientation": "h",
         "showlegend": true,
         "type": "scatter",
         "x": [
          21.7,
          25.6,
          20.2,
          20.2,
          20.2,
          20.2,
          20.1,
          19.9,
          19.9,
          19.9,
          19.9,
          24.5,
          22.1,
          17.9,
          25,
          24.4,
          21.8,
          21.8,
          21.8,
          21.8,
          26,
          19.7,
          21.2,
          22.2,
          21.6,
          21.7,
          21.7,
          21.7,
          21.7,
          22.3,
          24.9,
          26.4,
          21.9,
          25.3,
          19.9,
          23.6,
          22.25849056603773,
          26.3,
          22.6,
          22.25849056603773,
          28.9,
          22.25849056603773,
          22.25849056603773,
          23.3,
          20.4,
          23.1,
          23.1,
          20.8,
          22.5,
          22.25849056603773,
          21.5,
          20.5,
          20.2,
          23.8,
          20.6,
          19.5,
          24.1,
          27.8,
          22.25849056603773
         ],
         "xaxis": "x",
         "y": [
          "Albania",
          "Andorra",
          "Armenia",
          "Armenia",
          "Armenia",
          "Armenia",
          "Austria",
          "Azerbaijan",
          "Azerbaijan",
          "Azerbaijan",
          "Azerbaijan",
          "Belarus",
          "Belgium",
          "Bosnia and Herzegovina",
          "Bulgaria",
          "Croatia",
          "Cyprus",
          "Cyprus",
          "Cyprus",
          "Cyprus",
          "Czech Republic",
          "Denmark",
          "Estonia",
          "Finland",
          "France",
          "Georgia",
          "Georgia",
          "Georgia",
          "Georgia",
          "Germany",
          "Greece",
          "Hungary",
          "Iceland",
          "Ireland",
          "Italy",
          "Latvia",
          "Liechtenstein",
          "Lithuania",
          "Luxembourg",
          "Macedonia",
          "Malta",
          "Moldova",
          "Monaco",
          "Montenegro",
          "Netherlands",
          "Norway",
          "Poland",
          "Portugal",
          "Romania",
          "San Marino",
          "Serbia",
          "Slovakia",
          "Slovenia",
          "Spain",
          "Sweden",
          "Switzerland",
          "Ukraine",
          "United Kingdom",
          "Vatican City"
         ],
         "yaxis": "y"
        },
        {
         "customdata": [
          [
           79.10555555555555
          ],
          [
           79.10555555555555
          ],
          [
           87.3
          ],
          [
           68.7
          ],
          [
           104.3
          ],
          [
           80
          ],
          [
           86.3
          ],
          [
           81
          ],
          [
           64.7
          ],
          [
           75.3
          ],
          [
           79.10555555555555
          ],
          [
           69.3
          ],
          [
           49
          ],
          [
           61.3
          ],
          [
           73.3
          ],
          [
           90
          ],
          [
           64.3
          ],
          [
           82.1
          ],
          [
           79.10555555555555
          ],
          [
           79.10555555555555
          ],
          [
           88.7
          ],
          [
           85
          ],
          [
           113.3
          ]
         ],
         "hovertemplate": "Continent=North America<br>obesity_2016=%{x}<br>country=%{y}<br>protein_supply_2017=%{customdata[0]}<extra></extra>",
         "legendgroup": "North America",
         "marker": {
          "color": "#ab63fa",
          "symbol": "circle"
         },
         "mode": "markers",
         "name": "North America",
         "orientation": "h",
         "showlegend": true,
         "type": "scatter",
         "x": [
          18.9,
          31.6,
          23.1,
          24.1,
          29.4,
          25.7,
          24.6,
          27.9,
          27.6,
          24.6,
          21.3,
          21.2,
          22.7,
          21.4,
          24.7,
          28.9,
          23.7,
          22.7,
          22.9,
          19.7,
          23.7,
          18.6,
          36.2
         ],
         "xaxis": "x",
         "y": [
          "Antigua and Barbuda",
          "Bahamas",
          "Barbados",
          "Belize",
          "Canada",
          "Costa Rica",
          "Cuba",
          "Dominica",
          "Dominican Republic",
          "El Salvador",
          "Grenada",
          "Guatemala",
          "Haiti",
          "Honduras",
          "Jamaica",
          "Mexico",
          "Nicaragua",
          "Panama",
          "Saint Kitts and Nevis",
          "Saint Lucia",
          "Saint Vincent and the Grenadines",
          "Trinidad and Tobago",
          "United States"
         ],
         "yaxis": "y"
        },
        {
         "customdata": [
          [
           107
          ],
          [
           73
          ],
          [
           71
          ],
          [
           76.875
          ],
          [
           76.875
          ],
          [
           76.875
          ],
          [
           76.875
          ],
          [
           94.7
          ],
          [
           76.875
          ],
          [
           64.3
          ],
          [
           87.7
          ],
          [
           53.3
          ],
          [
           76.875
          ],
          [
           76.875
          ],
          [
           64
          ]
         ],
         "hovertemplate": "Continent=Oceania<br>obesity_2016=%{x}<br>country=%{y}<br>protein_supply_2017=%{customdata[0]}<extra></extra>",
         "legendgroup": "Oceania",
         "marker": {
          "color": "#FFA15A",
          "symbol": "circle"
         },
         "mode": "markers",
         "name": "Oceania",
         "orientation": "h",
         "showlegend": true,
         "type": "scatter",
         "x": [
          29,
          30.2,
          46,
          52.9,
          40.10000000000001,
          40.10000000000001,
          61,
          30.8,
          55.3,
          21.3,
          47.3,
          22.5,
          48.2,
          51.6,
          25.2
         ],
         "xaxis": "x",
         "y": [
          "Australia",
          "Fiji",
          "Kiribati",
          "Marshall Islands",
          "Micronesia",
          "Micronesia",
          "Nauru",
          "New Zealand",
          "Palau",
          "Papua New Guinea",
          "Samoa",
          "Solomon Islands",
          "Tonga",
          "Tuvalu",
          "Vanuatu"
         ],
         "yaxis": "y"
        },
        {
         "customdata": [
          [
           105.7
          ],
          [
           80.89999999999999
          ],
          [
           94.3
          ],
          [
           90.7
          ],
          [
           70.3
          ],
          [
           62.3
          ],
          [
           84.3
          ],
          [
           68
          ],
          [
           87.4
          ],
          [
           62
          ],
          [
           84
          ],
          [
           80.89999999999999
          ]
         ],
         "hovertemplate": "Continent=South America<br>obesity_2016=%{x}<br>country=%{y}<br>protein_supply_2017=%{customdata[0]}<extra></extra>",
         "legendgroup": "South America",
         "marker": {
          "color": "#19d3f3",
          "symbol": "circle"
         },
         "mode": "markers",
         "name": "South America",
         "orientation": "h",
         "showlegend": true,
         "type": "scatter",
         "x": [
          28.3,
          23.51,
          22.1,
          28,
          22.3,
          19.9,
          20.2,
          20.3,
          19.7,
          26.4,
          27.9,
          23.51
         ],
         "xaxis": "x",
         "y": [
          "Argentina",
          "Bolivia",
          "Brazil",
          "Chile",
          "Colombia",
          "Ecuador",
          "Guyana",
          "Paraguay",
          "Peru",
          "Suriname",
          "Uruguay",
          "Venezuela"
         ],
         "yaxis": "y"
        }
       ],
       "layout": {
        "legend": {
         "title": {
          "text": "Continent"
         },
         "tracegroupgap": 0
        },
        "margin": {
         "t": 60
        },
        "template": {
         "data": {
          "bar": [
           {
            "error_x": {
             "color": "#2a3f5f"
            },
            "error_y": {
             "color": "#2a3f5f"
            },
            "marker": {
             "line": {
              "color": "#E5ECF6",
              "width": 0.5
             },
             "pattern": {
              "fillmode": "overlay",
              "size": 10,
              "solidity": 0.2
             }
            },
            "type": "bar"
           }
          ],
          "barpolar": [
           {
            "marker": {
             "line": {
              "color": "#E5ECF6",
              "width": 0.5
             },
             "pattern": {
              "fillmode": "overlay",
              "size": 10,
              "solidity": 0.2
             }
            },
            "type": "barpolar"
           }
          ],
          "carpet": [
           {
            "aaxis": {
             "endlinecolor": "#2a3f5f",
             "gridcolor": "white",
             "linecolor": "white",
             "minorgridcolor": "white",
             "startlinecolor": "#2a3f5f"
            },
            "baxis": {
             "endlinecolor": "#2a3f5f",
             "gridcolor": "white",
             "linecolor": "white",
             "minorgridcolor": "white",
             "startlinecolor": "#2a3f5f"
            },
            "type": "carpet"
           }
          ],
          "choropleth": [
           {
            "colorbar": {
             "outlinewidth": 0,
             "ticks": ""
            },
            "type": "choropleth"
           }
          ],
          "contour": [
           {
            "colorbar": {
             "outlinewidth": 0,
             "ticks": ""
            },
            "colorscale": [
             [
              0,
              "#0d0887"
             ],
             [
              0.1111111111111111,
              "#46039f"
             ],
             [
              0.2222222222222222,
              "#7201a8"
             ],
             [
              0.3333333333333333,
              "#9c179e"
             ],
             [
              0.4444444444444444,
              "#bd3786"
             ],
             [
              0.5555555555555556,
              "#d8576b"
             ],
             [
              0.6666666666666666,
              "#ed7953"
             ],
             [
              0.7777777777777778,
              "#fb9f3a"
             ],
             [
              0.8888888888888888,
              "#fdca26"
             ],
             [
              1,
              "#f0f921"
             ]
            ],
            "type": "contour"
           }
          ],
          "contourcarpet": [
           {
            "colorbar": {
             "outlinewidth": 0,
             "ticks": ""
            },
            "type": "contourcarpet"
           }
          ],
          "heatmap": [
           {
            "colorbar": {
             "outlinewidth": 0,
             "ticks": ""
            },
            "colorscale": [
             [
              0,
              "#0d0887"
             ],
             [
              0.1111111111111111,
              "#46039f"
             ],
             [
              0.2222222222222222,
              "#7201a8"
             ],
             [
              0.3333333333333333,
              "#9c179e"
             ],
             [
              0.4444444444444444,
              "#bd3786"
             ],
             [
              0.5555555555555556,
              "#d8576b"
             ],
             [
              0.6666666666666666,
              "#ed7953"
             ],
             [
              0.7777777777777778,
              "#fb9f3a"
             ],
             [
              0.8888888888888888,
              "#fdca26"
             ],
             [
              1,
              "#f0f921"
             ]
            ],
            "type": "heatmap"
           }
          ],
          "heatmapgl": [
           {
            "colorbar": {
             "outlinewidth": 0,
             "ticks": ""
            },
            "colorscale": [
             [
              0,
              "#0d0887"
             ],
             [
              0.1111111111111111,
              "#46039f"
             ],
             [
              0.2222222222222222,
              "#7201a8"
             ],
             [
              0.3333333333333333,
              "#9c179e"
             ],
             [
              0.4444444444444444,
              "#bd3786"
             ],
             [
              0.5555555555555556,
              "#d8576b"
             ],
             [
              0.6666666666666666,
              "#ed7953"
             ],
             [
              0.7777777777777778,
              "#fb9f3a"
             ],
             [
              0.8888888888888888,
              "#fdca26"
             ],
             [
              1,
              "#f0f921"
             ]
            ],
            "type": "heatmapgl"
           }
          ],
          "histogram": [
           {
            "marker": {
             "pattern": {
              "fillmode": "overlay",
              "size": 10,
              "solidity": 0.2
             }
            },
            "type": "histogram"
           }
          ],
          "histogram2d": [
           {
            "colorbar": {
             "outlinewidth": 0,
             "ticks": ""
            },
            "colorscale": [
             [
              0,
              "#0d0887"
             ],
             [
              0.1111111111111111,
              "#46039f"
             ],
             [
              0.2222222222222222,
              "#7201a8"
             ],
             [
              0.3333333333333333,
              "#9c179e"
             ],
             [
              0.4444444444444444,
              "#bd3786"
             ],
             [
              0.5555555555555556,
              "#d8576b"
             ],
             [
              0.6666666666666666,
              "#ed7953"
             ],
             [
              0.7777777777777778,
              "#fb9f3a"
             ],
             [
              0.8888888888888888,
              "#fdca26"
             ],
             [
              1,
              "#f0f921"
             ]
            ],
            "type": "histogram2d"
           }
          ],
          "histogram2dcontour": [
           {
            "colorbar": {
             "outlinewidth": 0,
             "ticks": ""
            },
            "colorscale": [
             [
              0,
              "#0d0887"
             ],
             [
              0.1111111111111111,
              "#46039f"
             ],
             [
              0.2222222222222222,
              "#7201a8"
             ],
             [
              0.3333333333333333,
              "#9c179e"
             ],
             [
              0.4444444444444444,
              "#bd3786"
             ],
             [
              0.5555555555555556,
              "#d8576b"
             ],
             [
              0.6666666666666666,
              "#ed7953"
             ],
             [
              0.7777777777777778,
              "#fb9f3a"
             ],
             [
              0.8888888888888888,
              "#fdca26"
             ],
             [
              1,
              "#f0f921"
             ]
            ],
            "type": "histogram2dcontour"
           }
          ],
          "mesh3d": [
           {
            "colorbar": {
             "outlinewidth": 0,
             "ticks": ""
            },
            "type": "mesh3d"
           }
          ],
          "parcoords": [
           {
            "line": {
             "colorbar": {
              "outlinewidth": 0,
              "ticks": ""
             }
            },
            "type": "parcoords"
           }
          ],
          "pie": [
           {
            "automargin": true,
            "type": "pie"
           }
          ],
          "scatter": [
           {
            "fillpattern": {
             "fillmode": "overlay",
             "size": 10,
             "solidity": 0.2
            },
            "type": "scatter"
           }
          ],
          "scatter3d": [
           {
            "line": {
             "colorbar": {
              "outlinewidth": 0,
              "ticks": ""
             }
            },
            "marker": {
             "colorbar": {
              "outlinewidth": 0,
              "ticks": ""
             }
            },
            "type": "scatter3d"
           }
          ],
          "scattercarpet": [
           {
            "marker": {
             "colorbar": {
              "outlinewidth": 0,
              "ticks": ""
             }
            },
            "type": "scattercarpet"
           }
          ],
          "scattergeo": [
           {
            "marker": {
             "colorbar": {
              "outlinewidth": 0,
              "ticks": ""
             }
            },
            "type": "scattergeo"
           }
          ],
          "scattergl": [
           {
            "marker": {
             "colorbar": {
              "outlinewidth": 0,
              "ticks": ""
             }
            },
            "type": "scattergl"
           }
          ],
          "scattermapbox": [
           {
            "marker": {
             "colorbar": {
              "outlinewidth": 0,
              "ticks": ""
             }
            },
            "type": "scattermapbox"
           }
          ],
          "scatterpolar": [
           {
            "marker": {
             "colorbar": {
              "outlinewidth": 0,
              "ticks": ""
             }
            },
            "type": "scatterpolar"
           }
          ],
          "scatterpolargl": [
           {
            "marker": {
             "colorbar": {
              "outlinewidth": 0,
              "ticks": ""
             }
            },
            "type": "scatterpolargl"
           }
          ],
          "scatterternary": [
           {
            "marker": {
             "colorbar": {
              "outlinewidth": 0,
              "ticks": ""
             }
            },
            "type": "scatterternary"
           }
          ],
          "surface": [
           {
            "colorbar": {
             "outlinewidth": 0,
             "ticks": ""
            },
            "colorscale": [
             [
              0,
              "#0d0887"
             ],
             [
              0.1111111111111111,
              "#46039f"
             ],
             [
              0.2222222222222222,
              "#7201a8"
             ],
             [
              0.3333333333333333,
              "#9c179e"
             ],
             [
              0.4444444444444444,
              "#bd3786"
             ],
             [
              0.5555555555555556,
              "#d8576b"
             ],
             [
              0.6666666666666666,
              "#ed7953"
             ],
             [
              0.7777777777777778,
              "#fb9f3a"
             ],
             [
              0.8888888888888888,
              "#fdca26"
             ],
             [
              1,
              "#f0f921"
             ]
            ],
            "type": "surface"
           }
          ],
          "table": [
           {
            "cells": {
             "fill": {
              "color": "#EBF0F8"
             },
             "line": {
              "color": "white"
             }
            },
            "header": {
             "fill": {
              "color": "#C8D4E3"
             },
             "line": {
              "color": "white"
             }
            },
            "type": "table"
           }
          ]
         },
         "layout": {
          "annotationdefaults": {
           "arrowcolor": "#2a3f5f",
           "arrowhead": 0,
           "arrowwidth": 1
          },
          "autotypenumbers": "strict",
          "coloraxis": {
           "colorbar": {
            "outlinewidth": 0,
            "ticks": ""
           }
          },
          "colorscale": {
           "diverging": [
            [
             0,
             "#8e0152"
            ],
            [
             0.1,
             "#c51b7d"
            ],
            [
             0.2,
             "#de77ae"
            ],
            [
             0.3,
             "#f1b6da"
            ],
            [
             0.4,
             "#fde0ef"
            ],
            [
             0.5,
             "#f7f7f7"
            ],
            [
             0.6,
             "#e6f5d0"
            ],
            [
             0.7,
             "#b8e186"
            ],
            [
             0.8,
             "#7fbc41"
            ],
            [
             0.9,
             "#4d9221"
            ],
            [
             1,
             "#276419"
            ]
           ],
           "sequential": [
            [
             0,
             "#0d0887"
            ],
            [
             0.1111111111111111,
             "#46039f"
            ],
            [
             0.2222222222222222,
             "#7201a8"
            ],
            [
             0.3333333333333333,
             "#9c179e"
            ],
            [
             0.4444444444444444,
             "#bd3786"
            ],
            [
             0.5555555555555556,
             "#d8576b"
            ],
            [
             0.6666666666666666,
             "#ed7953"
            ],
            [
             0.7777777777777778,
             "#fb9f3a"
            ],
            [
             0.8888888888888888,
             "#fdca26"
            ],
            [
             1,
             "#f0f921"
            ]
           ],
           "sequentialminus": [
            [
             0,
             "#0d0887"
            ],
            [
             0.1111111111111111,
             "#46039f"
            ],
            [
             0.2222222222222222,
             "#7201a8"
            ],
            [
             0.3333333333333333,
             "#9c179e"
            ],
            [
             0.4444444444444444,
             "#bd3786"
            ],
            [
             0.5555555555555556,
             "#d8576b"
            ],
            [
             0.6666666666666666,
             "#ed7953"
            ],
            [
             0.7777777777777778,
             "#fb9f3a"
            ],
            [
             0.8888888888888888,
             "#fdca26"
            ],
            [
             1,
             "#f0f921"
            ]
           ]
          },
          "colorway": [
           "#636efa",
           "#EF553B",
           "#00cc96",
           "#ab63fa",
           "#FFA15A",
           "#19d3f3",
           "#FF6692",
           "#B6E880",
           "#FF97FF",
           "#FECB52"
          ],
          "font": {
           "color": "#2a3f5f"
          },
          "geo": {
           "bgcolor": "white",
           "lakecolor": "white",
           "landcolor": "#E5ECF6",
           "showlakes": true,
           "showland": true,
           "subunitcolor": "white"
          },
          "hoverlabel": {
           "align": "left"
          },
          "hovermode": "closest",
          "mapbox": {
           "style": "light"
          },
          "paper_bgcolor": "white",
          "plot_bgcolor": "#E5ECF6",
          "polar": {
           "angularaxis": {
            "gridcolor": "white",
            "linecolor": "white",
            "ticks": ""
           },
           "bgcolor": "#E5ECF6",
           "radialaxis": {
            "gridcolor": "white",
            "linecolor": "white",
            "ticks": ""
           }
          },
          "scene": {
           "xaxis": {
            "backgroundcolor": "#E5ECF6",
            "gridcolor": "white",
            "gridwidth": 2,
            "linecolor": "white",
            "showbackground": true,
            "ticks": "",
            "zerolinecolor": "white"
           },
           "yaxis": {
            "backgroundcolor": "#E5ECF6",
            "gridcolor": "white",
            "gridwidth": 2,
            "linecolor": "white",
            "showbackground": true,
            "ticks": "",
            "zerolinecolor": "white"
           },
           "zaxis": {
            "backgroundcolor": "#E5ECF6",
            "gridcolor": "white",
            "gridwidth": 2,
            "linecolor": "white",
            "showbackground": true,
            "ticks": "",
            "zerolinecolor": "white"
           }
          },
          "shapedefaults": {
           "line": {
            "color": "#2a3f5f"
           }
          },
          "ternary": {
           "aaxis": {
            "gridcolor": "white",
            "linecolor": "white",
            "ticks": ""
           },
           "baxis": {
            "gridcolor": "white",
            "linecolor": "white",
            "ticks": ""
           },
           "bgcolor": "#E5ECF6",
           "caxis": {
            "gridcolor": "white",
            "linecolor": "white",
            "ticks": ""
           }
          },
          "title": {
           "x": 0.05
          },
          "xaxis": {
           "automargin": true,
           "gridcolor": "white",
           "linecolor": "white",
           "ticks": "",
           "title": {
            "standoff": 15
           },
           "zerolinecolor": "white",
           "zerolinewidth": 2
          },
          "yaxis": {
           "automargin": true,
           "gridcolor": "white",
           "linecolor": "white",
           "ticks": "",
           "title": {
            "standoff": 15
           },
           "zerolinecolor": "white",
           "zerolinewidth": 2
          }
         }
        },
        "xaxis": {
         "anchor": "y",
         "domain": [
          0,
          1
         ],
         "title": {
          "text": "obesity_2016"
         }
        },
        "yaxis": {
         "anchor": "x",
         "domain": [
          0,
          1
         ],
         "title": {
          "text": "country"
         }
        }
       }
      }
     },
     "metadata": {},
     "output_type": "display_data"
    }
   ],
   "source": [
    "fig = px.scatter(data, x=\"obesity_2016\", y=\"country\", color=\"Continent\", hover_data=['obesity_2016'])\n",
    "fig.show()\n"
   ]
  },
  {
   "cell_type": "markdown",
   "metadata": {},
   "source": [
    "Going off the previous graph and results, it is expected to find countries in Africa showing low obesity percentages across the board. Interestingly the most obese coutries are from Oceania, and more specfically the Polynesian areas such as Palau, Naura, and the Marshall Islands.This is interesting to find when considering they did not show overpeformance in protein supply yet overpopulate the high obesity scale."
   ]
  },
  {
   "cell_type": "code",
   "execution_count": 24,
   "metadata": {},
   "outputs": [
    {
     "data": {
      "application/vnd.plotly.v1+json": {
       "config": {
        "plotlyServerURL": "https://plot.ly"
       },
       "data": [
        {
         "hovertemplate": "Continent=Africa<br>happiness2021=%{x}<br>country=%{y}<extra></extra>",
         "legendgroup": "Africa",
         "marker": {
          "color": "#636efa",
          "symbol": "circle"
         },
         "mode": "markers",
         "name": "Africa",
         "orientation": "h",
         "showlegend": true,
         "type": "scatter",
         "x": [
          4.887,
          4.532128205128205,
          5.045,
          3.467,
          4.532128205128205,
          3.775,
          5.142,
          4.532128205128205,
          4.532128205128205,
          4.355,
          4.289,
          5.342,
          4.532128205128205,
          4.532128205128205,
          4.283,
          4.283,
          4.532128205128205,
          4.532128205128205,
          4.275,
          4.852,
          5.051,
          5.088,
          4.984,
          4.532128205128205,
          5.306,
          4.607,
          3.512,
          4.625,
          5.41,
          4.208,
          3.6,
          4.723,
          4.227,
          6.049,
          4.918,
          4.794,
          4.574,
          5.074,
          4.759,
          3.415,
          4.532128205128205,
          5.132,
          4.532128205128205,
          3.849,
          4.532128205128205,
          4.956,
          4.532128205128205,
          4.532128205128205,
          4.532128205128205,
          3.623,
          4.107,
          4.596,
          4.636,
          4.073,
          3.145
         ],
         "xaxis": "x",
         "y": [
          "Algeria",
          "Angola",
          "Benin",
          "Botswana",
          "Burkina",
          "Burundi",
          "Cameroon",
          "Cape Verde",
          "Central African Republic",
          "Chad",
          "Comoros",
          "Congo",
          "Congo, Democratic Republic of",
          "Djibouti",
          "Egypt",
          "Egypt",
          "Equatorial Guinea",
          "Eritrea",
          "Ethiopia",
          "Gabon",
          "Gambia",
          "Ghana",
          "Guinea",
          "Guinea-Bissau",
          "Ivory Coast",
          "Kenya",
          "Lesotho",
          "Liberia",
          "Libya",
          "Madagascar",
          "Malawi",
          "Mali",
          "Mauritania",
          "Mauritius",
          "Morocco",
          "Mozambique",
          "Namibia",
          "Niger",
          "Nigeria",
          "Rwanda",
          "Sao Tome and Principe",
          "Senegal",
          "Seychelles",
          "Sierra Leone",
          "Somalia",
          "South Africa",
          "South Sudan",
          "Sudan",
          "Swaziland",
          "Tanzania",
          "Togo",
          "Tunisia",
          "Uganda",
          "Zambia",
          "Zimbabwe"
         ],
         "yaxis": "y"
        },
        {
         "hovertemplate": "Continent=Asia<br>happiness2021=%{x}<br>country=%{y}<extra></extra>",
         "legendgroup": "Asia",
         "marker": {
          "color": "#EF553B",
          "symbol": "circle"
         },
         "mode": "markers",
         "name": "Asia",
         "orientation": "h",
         "showlegend": true,
         "type": "scatter",
         "x": [
          2.523,
          6.647,
          5.025,
          5.3429166666666665,
          5.3429166666666665,
          5.3429166666666665,
          4.83,
          5.339,
          5.3429166666666665,
          3.819,
          5.345,
          4.721,
          4.854,
          7.157,
          5.94,
          4.395,
          6.152,
          6.152,
          6.152,
          6.152,
          5.3429166666666665,
          5.845,
          6.106,
          5.744,
          5.03,
          4.584,
          5.384,
          5.198,
          5.677,
          5.269,
          5.3429166666666665,
          4.934,
          5.88,
          5.3429166666666665,
          5.477,
          5.477,
          5.477,
          6.494,
          6.377,
          4.325,
          5.3429166666666665,
          5.466,
          5.985,
          4.948,
          4.948,
          4.948,
          4.948,
          5.066,
          6.561,
          6.179,
          5.411,
          3.658
         ],
         "xaxis": "x",
         "y": [
          "Afghanistan",
          "Bahrain",
          "Bangladesh",
          "Bhutan",
          "Brunei",
          "Burma (Myanmar)",
          "Cambodia",
          "China",
          "East Timor",
          "India",
          "Indonesia",
          "Iran",
          "Iraq",
          "Israel",
          "Japan",
          "Jordan",
          "Kazakhstan",
          "Kazakhstan",
          "Kazakhstan",
          "Kazakhstan",
          "North Korea",
          "South Korea",
          "Kuwait",
          "Kyrgyzstan",
          "Laos",
          "Lebanon",
          "Malaysia",
          "Maldives",
          "Mongolia",
          "Nepal",
          "Oman",
          "Pakistan",
          "Philippines",
          "Qatar",
          "Russia",
          "Russia",
          "Russia",
          "Saudi Arabia",
          "Singapore",
          "Sri Lanka",
          "Syria",
          "Tajikistan",
          "Thailand",
          "Turkey",
          "Turkey",
          "Turkey",
          "Turkey",
          "Turkmenistan",
          "United Arab Emirates",
          "Uzbekistan",
          "Vietnam",
          "Yemen"
         ],
         "yaxis": "y"
        },
        {
         "hovertemplate": "Continent=Europe<br>happiness2021=%{x}<br>country=%{y}<extra></extra>",
         "legendgroup": "Europe",
         "marker": {
          "color": "#00cc96",
          "symbol": "circle"
         },
         "mode": "markers",
         "name": "Europe",
         "orientation": "h",
         "showlegend": true,
         "type": "scatter",
         "x": [
          5.117,
          6.377195121951219,
          5.283,
          5.283,
          5.283,
          5.283,
          7.268,
          5.171,
          5.171,
          5.171,
          5.171,
          5.534,
          6.834,
          5.813,
          5.266,
          5.882,
          6.223,
          6.223,
          6.223,
          6.223,
          6.965,
          7.62,
          6.189,
          7.842,
          6.69,
          4.891,
          4.891,
          4.891,
          4.891,
          7.155,
          5.723,
          5.992,
          7.554,
          7.085,
          6.483,
          6.032,
          6.377195121951219,
          6.255,
          7.324,
          6.377195121951219,
          6.602,
          5.766,
          6.377195121951219,
          5.581,
          7.464,
          7.392,
          6.166,
          5.929,
          6.14,
          6.377195121951219,
          6.078,
          6.331,
          6.461,
          6.491,
          7.363,
          7.571,
          4.875,
          7.064,
          6.377195121951219
         ],
         "xaxis": "x",
         "y": [
          "Albania",
          "Andorra",
          "Armenia",
          "Armenia",
          "Armenia",
          "Armenia",
          "Austria",
          "Azerbaijan",
          "Azerbaijan",
          "Azerbaijan",
          "Azerbaijan",
          "Belarus",
          "Belgium",
          "Bosnia and Herzegovina",
          "Bulgaria",
          "Croatia",
          "Cyprus",
          "Cyprus",
          "Cyprus",
          "Cyprus",
          "Czech Republic",
          "Denmark",
          "Estonia",
          "Finland",
          "France",
          "Georgia",
          "Georgia",
          "Georgia",
          "Georgia",
          "Germany",
          "Greece",
          "Hungary",
          "Iceland",
          "Ireland",
          "Italy",
          "Latvia",
          "Liechtenstein",
          "Lithuania",
          "Luxembourg",
          "Macedonia",
          "Malta",
          "Moldova",
          "Monaco",
          "Montenegro",
          "Netherlands",
          "Norway",
          "Poland",
          "Portugal",
          "Romania",
          "San Marino",
          "Serbia",
          "Slovakia",
          "Slovenia",
          "Spain",
          "Sweden",
          "Switzerland",
          "Ukraine",
          "United Kingdom",
          "Vatican City"
         ],
         "yaxis": "y"
        },
        {
         "hovertemplate": "Continent=North America<br>happiness2021=%{x}<br>country=%{y}<extra></extra>",
         "legendgroup": "North America",
         "marker": {
          "color": "#ab63fa",
          "symbol": "circle"
         },
         "mode": "markers",
         "name": "North America",
         "orientation": "h",
         "showlegend": true,
         "type": "scatter",
         "x": [
          6.123,
          6.123,
          6.123,
          6.123,
          7.103,
          7.069,
          6.123,
          6.123,
          5.545,
          6.061,
          6.123,
          6.435,
          3.615,
          5.919,
          6.309,
          6.317,
          5.972,
          6.18,
          6.123,
          6.123,
          6.123,
          6.123,
          6.951
         ],
         "xaxis": "x",
         "y": [
          "Antigua and Barbuda",
          "Bahamas",
          "Barbados",
          "Belize",
          "Canada",
          "Costa Rica",
          "Cuba",
          "Dominica",
          "Dominican Republic",
          "El Salvador",
          "Grenada",
          "Guatemala",
          "Haiti",
          "Honduras",
          "Jamaica",
          "Mexico",
          "Nicaragua",
          "Panama",
          "Saint Kitts and Nevis",
          "Saint Lucia",
          "Saint Vincent and the Grenadines",
          "Trinidad and Tobago",
          "United States"
         ],
         "yaxis": "y"
        },
        {
         "hovertemplate": "Continent=Oceania<br>happiness2021=%{x}<br>country=%{y}<extra></extra>",
         "legendgroup": "Oceania",
         "marker": {
          "color": "#FFA15A",
          "symbol": "circle"
         },
         "mode": "markers",
         "name": "Oceania",
         "orientation": "h",
         "showlegend": true,
         "type": "scatter",
         "x": [
          7.183,
          7.23,
          7.23,
          7.23,
          7.23,
          7.23,
          7.23,
          7.277,
          7.23,
          7.23,
          7.23,
          7.23,
          7.23,
          7.23,
          7.23
         ],
         "xaxis": "x",
         "y": [
          "Australia",
          "Fiji",
          "Kiribati",
          "Marshall Islands",
          "Micronesia",
          "Micronesia",
          "Nauru",
          "New Zealand",
          "Palau",
          "Papua New Guinea",
          "Samoa",
          "Solomon Islands",
          "Tonga",
          "Tuvalu",
          "Vanuatu"
         ],
         "yaxis": "y"
        },
        {
         "hovertemplate": "Continent=South America<br>happiness2021=%{x}<br>country=%{y}<extra></extra>",
         "legendgroup": "South America",
         "marker": {
          "color": "#19d3f3",
          "symbol": "circle"
         },
         "mode": "markers",
         "name": "South America",
         "orientation": "h",
         "showlegend": true,
         "type": "scatter",
         "x": [
          5.929,
          5.716,
          6.33,
          6.172,
          6.012,
          5.764,
          5.8739,
          5.653,
          5.84,
          5.8739,
          6.431,
          4.892
         ],
         "xaxis": "x",
         "y": [
          "Argentina",
          "Bolivia",
          "Brazil",
          "Chile",
          "Colombia",
          "Ecuador",
          "Guyana",
          "Paraguay",
          "Peru",
          "Suriname",
          "Uruguay",
          "Venezuela"
         ],
         "yaxis": "y"
        }
       ],
       "layout": {
        "legend": {
         "title": {
          "text": "Continent"
         },
         "tracegroupgap": 0
        },
        "margin": {
         "t": 60
        },
        "template": {
         "data": {
          "bar": [
           {
            "error_x": {
             "color": "#2a3f5f"
            },
            "error_y": {
             "color": "#2a3f5f"
            },
            "marker": {
             "line": {
              "color": "#E5ECF6",
              "width": 0.5
             },
             "pattern": {
              "fillmode": "overlay",
              "size": 10,
              "solidity": 0.2
             }
            },
            "type": "bar"
           }
          ],
          "barpolar": [
           {
            "marker": {
             "line": {
              "color": "#E5ECF6",
              "width": 0.5
             },
             "pattern": {
              "fillmode": "overlay",
              "size": 10,
              "solidity": 0.2
             }
            },
            "type": "barpolar"
           }
          ],
          "carpet": [
           {
            "aaxis": {
             "endlinecolor": "#2a3f5f",
             "gridcolor": "white",
             "linecolor": "white",
             "minorgridcolor": "white",
             "startlinecolor": "#2a3f5f"
            },
            "baxis": {
             "endlinecolor": "#2a3f5f",
             "gridcolor": "white",
             "linecolor": "white",
             "minorgridcolor": "white",
             "startlinecolor": "#2a3f5f"
            },
            "type": "carpet"
           }
          ],
          "choropleth": [
           {
            "colorbar": {
             "outlinewidth": 0,
             "ticks": ""
            },
            "type": "choropleth"
           }
          ],
          "contour": [
           {
            "colorbar": {
             "outlinewidth": 0,
             "ticks": ""
            },
            "colorscale": [
             [
              0,
              "#0d0887"
             ],
             [
              0.1111111111111111,
              "#46039f"
             ],
             [
              0.2222222222222222,
              "#7201a8"
             ],
             [
              0.3333333333333333,
              "#9c179e"
             ],
             [
              0.4444444444444444,
              "#bd3786"
             ],
             [
              0.5555555555555556,
              "#d8576b"
             ],
             [
              0.6666666666666666,
              "#ed7953"
             ],
             [
              0.7777777777777778,
              "#fb9f3a"
             ],
             [
              0.8888888888888888,
              "#fdca26"
             ],
             [
              1,
              "#f0f921"
             ]
            ],
            "type": "contour"
           }
          ],
          "contourcarpet": [
           {
            "colorbar": {
             "outlinewidth": 0,
             "ticks": ""
            },
            "type": "contourcarpet"
           }
          ],
          "heatmap": [
           {
            "colorbar": {
             "outlinewidth": 0,
             "ticks": ""
            },
            "colorscale": [
             [
              0,
              "#0d0887"
             ],
             [
              0.1111111111111111,
              "#46039f"
             ],
             [
              0.2222222222222222,
              "#7201a8"
             ],
             [
              0.3333333333333333,
              "#9c179e"
             ],
             [
              0.4444444444444444,
              "#bd3786"
             ],
             [
              0.5555555555555556,
              "#d8576b"
             ],
             [
              0.6666666666666666,
              "#ed7953"
             ],
             [
              0.7777777777777778,
              "#fb9f3a"
             ],
             [
              0.8888888888888888,
              "#fdca26"
             ],
             [
              1,
              "#f0f921"
             ]
            ],
            "type": "heatmap"
           }
          ],
          "heatmapgl": [
           {
            "colorbar": {
             "outlinewidth": 0,
             "ticks": ""
            },
            "colorscale": [
             [
              0,
              "#0d0887"
             ],
             [
              0.1111111111111111,
              "#46039f"
             ],
             [
              0.2222222222222222,
              "#7201a8"
             ],
             [
              0.3333333333333333,
              "#9c179e"
             ],
             [
              0.4444444444444444,
              "#bd3786"
             ],
             [
              0.5555555555555556,
              "#d8576b"
             ],
             [
              0.6666666666666666,
              "#ed7953"
             ],
             [
              0.7777777777777778,
              "#fb9f3a"
             ],
             [
              0.8888888888888888,
              "#fdca26"
             ],
             [
              1,
              "#f0f921"
             ]
            ],
            "type": "heatmapgl"
           }
          ],
          "histogram": [
           {
            "marker": {
             "pattern": {
              "fillmode": "overlay",
              "size": 10,
              "solidity": 0.2
             }
            },
            "type": "histogram"
           }
          ],
          "histogram2d": [
           {
            "colorbar": {
             "outlinewidth": 0,
             "ticks": ""
            },
            "colorscale": [
             [
              0,
              "#0d0887"
             ],
             [
              0.1111111111111111,
              "#46039f"
             ],
             [
              0.2222222222222222,
              "#7201a8"
             ],
             [
              0.3333333333333333,
              "#9c179e"
             ],
             [
              0.4444444444444444,
              "#bd3786"
             ],
             [
              0.5555555555555556,
              "#d8576b"
             ],
             [
              0.6666666666666666,
              "#ed7953"
             ],
             [
              0.7777777777777778,
              "#fb9f3a"
             ],
             [
              0.8888888888888888,
              "#fdca26"
             ],
             [
              1,
              "#f0f921"
             ]
            ],
            "type": "histogram2d"
           }
          ],
          "histogram2dcontour": [
           {
            "colorbar": {
             "outlinewidth": 0,
             "ticks": ""
            },
            "colorscale": [
             [
              0,
              "#0d0887"
             ],
             [
              0.1111111111111111,
              "#46039f"
             ],
             [
              0.2222222222222222,
              "#7201a8"
             ],
             [
              0.3333333333333333,
              "#9c179e"
             ],
             [
              0.4444444444444444,
              "#bd3786"
             ],
             [
              0.5555555555555556,
              "#d8576b"
             ],
             [
              0.6666666666666666,
              "#ed7953"
             ],
             [
              0.7777777777777778,
              "#fb9f3a"
             ],
             [
              0.8888888888888888,
              "#fdca26"
             ],
             [
              1,
              "#f0f921"
             ]
            ],
            "type": "histogram2dcontour"
           }
          ],
          "mesh3d": [
           {
            "colorbar": {
             "outlinewidth": 0,
             "ticks": ""
            },
            "type": "mesh3d"
           }
          ],
          "parcoords": [
           {
            "line": {
             "colorbar": {
              "outlinewidth": 0,
              "ticks": ""
             }
            },
            "type": "parcoords"
           }
          ],
          "pie": [
           {
            "automargin": true,
            "type": "pie"
           }
          ],
          "scatter": [
           {
            "fillpattern": {
             "fillmode": "overlay",
             "size": 10,
             "solidity": 0.2
            },
            "type": "scatter"
           }
          ],
          "scatter3d": [
           {
            "line": {
             "colorbar": {
              "outlinewidth": 0,
              "ticks": ""
             }
            },
            "marker": {
             "colorbar": {
              "outlinewidth": 0,
              "ticks": ""
             }
            },
            "type": "scatter3d"
           }
          ],
          "scattercarpet": [
           {
            "marker": {
             "colorbar": {
              "outlinewidth": 0,
              "ticks": ""
             }
            },
            "type": "scattercarpet"
           }
          ],
          "scattergeo": [
           {
            "marker": {
             "colorbar": {
              "outlinewidth": 0,
              "ticks": ""
             }
            },
            "type": "scattergeo"
           }
          ],
          "scattergl": [
           {
            "marker": {
             "colorbar": {
              "outlinewidth": 0,
              "ticks": ""
             }
            },
            "type": "scattergl"
           }
          ],
          "scattermapbox": [
           {
            "marker": {
             "colorbar": {
              "outlinewidth": 0,
              "ticks": ""
             }
            },
            "type": "scattermapbox"
           }
          ],
          "scatterpolar": [
           {
            "marker": {
             "colorbar": {
              "outlinewidth": 0,
              "ticks": ""
             }
            },
            "type": "scatterpolar"
           }
          ],
          "scatterpolargl": [
           {
            "marker": {
             "colorbar": {
              "outlinewidth": 0,
              "ticks": ""
             }
            },
            "type": "scatterpolargl"
           }
          ],
          "scatterternary": [
           {
            "marker": {
             "colorbar": {
              "outlinewidth": 0,
              "ticks": ""
             }
            },
            "type": "scatterternary"
           }
          ],
          "surface": [
           {
            "colorbar": {
             "outlinewidth": 0,
             "ticks": ""
            },
            "colorscale": [
             [
              0,
              "#0d0887"
             ],
             [
              0.1111111111111111,
              "#46039f"
             ],
             [
              0.2222222222222222,
              "#7201a8"
             ],
             [
              0.3333333333333333,
              "#9c179e"
             ],
             [
              0.4444444444444444,
              "#bd3786"
             ],
             [
              0.5555555555555556,
              "#d8576b"
             ],
             [
              0.6666666666666666,
              "#ed7953"
             ],
             [
              0.7777777777777778,
              "#fb9f3a"
             ],
             [
              0.8888888888888888,
              "#fdca26"
             ],
             [
              1,
              "#f0f921"
             ]
            ],
            "type": "surface"
           }
          ],
          "table": [
           {
            "cells": {
             "fill": {
              "color": "#EBF0F8"
             },
             "line": {
              "color": "white"
             }
            },
            "header": {
             "fill": {
              "color": "#C8D4E3"
             },
             "line": {
              "color": "white"
             }
            },
            "type": "table"
           }
          ]
         },
         "layout": {
          "annotationdefaults": {
           "arrowcolor": "#2a3f5f",
           "arrowhead": 0,
           "arrowwidth": 1
          },
          "autotypenumbers": "strict",
          "coloraxis": {
           "colorbar": {
            "outlinewidth": 0,
            "ticks": ""
           }
          },
          "colorscale": {
           "diverging": [
            [
             0,
             "#8e0152"
            ],
            [
             0.1,
             "#c51b7d"
            ],
            [
             0.2,
             "#de77ae"
            ],
            [
             0.3,
             "#f1b6da"
            ],
            [
             0.4,
             "#fde0ef"
            ],
            [
             0.5,
             "#f7f7f7"
            ],
            [
             0.6,
             "#e6f5d0"
            ],
            [
             0.7,
             "#b8e186"
            ],
            [
             0.8,
             "#7fbc41"
            ],
            [
             0.9,
             "#4d9221"
            ],
            [
             1,
             "#276419"
            ]
           ],
           "sequential": [
            [
             0,
             "#0d0887"
            ],
            [
             0.1111111111111111,
             "#46039f"
            ],
            [
             0.2222222222222222,
             "#7201a8"
            ],
            [
             0.3333333333333333,
             "#9c179e"
            ],
            [
             0.4444444444444444,
             "#bd3786"
            ],
            [
             0.5555555555555556,
             "#d8576b"
            ],
            [
             0.6666666666666666,
             "#ed7953"
            ],
            [
             0.7777777777777778,
             "#fb9f3a"
            ],
            [
             0.8888888888888888,
             "#fdca26"
            ],
            [
             1,
             "#f0f921"
            ]
           ],
           "sequentialminus": [
            [
             0,
             "#0d0887"
            ],
            [
             0.1111111111111111,
             "#46039f"
            ],
            [
             0.2222222222222222,
             "#7201a8"
            ],
            [
             0.3333333333333333,
             "#9c179e"
            ],
            [
             0.4444444444444444,
             "#bd3786"
            ],
            [
             0.5555555555555556,
             "#d8576b"
            ],
            [
             0.6666666666666666,
             "#ed7953"
            ],
            [
             0.7777777777777778,
             "#fb9f3a"
            ],
            [
             0.8888888888888888,
             "#fdca26"
            ],
            [
             1,
             "#f0f921"
            ]
           ]
          },
          "colorway": [
           "#636efa",
           "#EF553B",
           "#00cc96",
           "#ab63fa",
           "#FFA15A",
           "#19d3f3",
           "#FF6692",
           "#B6E880",
           "#FF97FF",
           "#FECB52"
          ],
          "font": {
           "color": "#2a3f5f"
          },
          "geo": {
           "bgcolor": "white",
           "lakecolor": "white",
           "landcolor": "#E5ECF6",
           "showlakes": true,
           "showland": true,
           "subunitcolor": "white"
          },
          "hoverlabel": {
           "align": "left"
          },
          "hovermode": "closest",
          "mapbox": {
           "style": "light"
          },
          "paper_bgcolor": "white",
          "plot_bgcolor": "#E5ECF6",
          "polar": {
           "angularaxis": {
            "gridcolor": "white",
            "linecolor": "white",
            "ticks": ""
           },
           "bgcolor": "#E5ECF6",
           "radialaxis": {
            "gridcolor": "white",
            "linecolor": "white",
            "ticks": ""
           }
          },
          "scene": {
           "xaxis": {
            "backgroundcolor": "#E5ECF6",
            "gridcolor": "white",
            "gridwidth": 2,
            "linecolor": "white",
            "showbackground": true,
            "ticks": "",
            "zerolinecolor": "white"
           },
           "yaxis": {
            "backgroundcolor": "#E5ECF6",
            "gridcolor": "white",
            "gridwidth": 2,
            "linecolor": "white",
            "showbackground": true,
            "ticks": "",
            "zerolinecolor": "white"
           },
           "zaxis": {
            "backgroundcolor": "#E5ECF6",
            "gridcolor": "white",
            "gridwidth": 2,
            "linecolor": "white",
            "showbackground": true,
            "ticks": "",
            "zerolinecolor": "white"
           }
          },
          "shapedefaults": {
           "line": {
            "color": "#2a3f5f"
           }
          },
          "ternary": {
           "aaxis": {
            "gridcolor": "white",
            "linecolor": "white",
            "ticks": ""
           },
           "baxis": {
            "gridcolor": "white",
            "linecolor": "white",
            "ticks": ""
           },
           "bgcolor": "#E5ECF6",
           "caxis": {
            "gridcolor": "white",
            "linecolor": "white",
            "ticks": ""
           }
          },
          "title": {
           "x": 0.05
          },
          "xaxis": {
           "automargin": true,
           "gridcolor": "white",
           "linecolor": "white",
           "ticks": "",
           "title": {
            "standoff": 15
           },
           "zerolinecolor": "white",
           "zerolinewidth": 2
          },
          "yaxis": {
           "automargin": true,
           "gridcolor": "white",
           "linecolor": "white",
           "ticks": "",
           "title": {
            "standoff": 15
           },
           "zerolinecolor": "white",
           "zerolinewidth": 2
          }
         }
        },
        "xaxis": {
         "anchor": "y",
         "domain": [
          0,
          1
         ],
         "title": {
          "text": "happiness2021"
         }
        },
        "yaxis": {
         "anchor": "x",
         "domain": [
          0,
          1
         ],
         "title": {
          "text": "country"
         }
        }
       }
      }
     },
     "metadata": {},
     "output_type": "display_data"
    }
   ],
   "source": [
    "fig = px.scatter(data, x=\"happiness2021\", y=\"country\", color=\"Continent\", hover_data=['happiness2021'])\n",
    "fig.show()\n",
    "\n"
   ]
  },
  {
   "cell_type": "markdown",
   "metadata": {},
   "source": [
    "Happiness is an interesting metric because it is a medley of many factors. As expected contries in Europe are generally more pleased. The top three being there. The most unhappy countries are Afghanistan, Zimbabwe, and Rwanda. Clustering is somewhat shown here. However this is due to the overlapping due to the data cleaning. This may skew out output and create very obvious clusters, which is not out goal."
   ]
  },
  {
   "cell_type": "code",
   "execution_count": 38,
   "metadata": {},
   "outputs": [
    {
     "data": {
      "text/plain": [
       "<matplotlib.legend.Legend at 0x21bdb7d7460>"
      ]
     },
     "execution_count": 38,
     "metadata": {},
     "output_type": "execute_result"
    },
    {
     "data": {
      "image/png": "[encoded data removed]",
      "text/plain": [
       "<Figure size 432x288 with 1 Axes>"
      ]
     },
     "metadata": {
      "needs_background": "light"
     },
     "output_type": "display_data"
    }
   ],
   "source": [
    "df = pd.melt(data, id_vars='Continent', value_vars=['fem_life_expectancy', 'male_life_expectancy'])\n",
    "\n",
    "sns.boxplot(data=df, x=\"value\", y=\"Continent\", hue=\"variable\")\n",
    "plt.legend(bbox_to_anchor=(1.02, 1), loc='upper left', borderaxespad=0)"
   ]
  },
  {
   "cell_type": "markdown",
   "metadata": {},
   "source": [
    "Generally females in their respective countries tend to outlive their male counterparts. People in Europe tend to live more longer.Individuals in Africa unfortunately live the lowest across both sexes across the continents."
   ]
  },
  {
   "cell_type": "markdown",
   "metadata": {},
   "source": [
    "## Machine Learning and Clustering Analysis"
   ]
  },
  {
   "cell_type": "markdown",
   "metadata": {},
   "source": [
    "The first step in the process is scaling the data using the MinMax transformer. This converts the data to fall within the range of [0,1]. This preserves the shape of the data but it scales the data so that it in measured on the same scale."
   ]
  },
  {
   "cell_type": "code",
   "execution_count": 105,
   "metadata": {},
   "outputs": [],
   "source": [
    "from sklearn import preprocessing\n",
    "\n",
    "info = data.drop(['Continent', 'country'], axis=1)\n",
    "scaler = preprocessing.MinMaxScaler()\n",
    "data_transform = scaler.fit_transform(info)\n",
    "data_transform = pd.DataFrame(data_transform)\n",
    "data_transform.columns = info.columns"
   ]
  },
  {
   "cell_type": "markdown",
   "metadata": {},
   "source": [
    "At this stage, I want to know which variables in the dataset is the most importance. To do this I will use the random forest classifier to then rank the level of importance."
   ]
  },
  {
   "cell_type": "code",
   "execution_count": 117,
   "metadata": {},
   "outputs": [
    {
     "data": {
      "text/html": [
       "<style>#sk-container-id-1 {color: black;background-color: white;}#sk-container-id-1 pre{padding: 0;}#sk-container-id-1 div.sk-toggleable {background-color: white;}#sk-container-id-1 label.sk-toggleable__label {cursor: pointer;display: block;width: 100%;margin-bottom: 0;padding: 0.3em;box-sizing: border-box;text-align: center;}#sk-container-id-1 label.sk-toggleable__label-arrow:before {content: \"▸\";float: left;margin-right: 0.25em;color: #696969;}#sk-container-id-1 label.sk-toggleable__label-arrow:hover:before {color: black;}#sk-container-id-1 div.sk-estimator:hover label.sk-toggleable__label-arrow:before {color: black;}#sk-container-id-1 div.sk-toggleable__content {max-height: 0;max-width: 0;overflow: hidden;text-align: left;background-color: #f0f8ff;}#sk-container-id-1 div.sk-toggleable__content pre {margin: 0.2em;color: black;border-radius: 0.25em;background-color: #f0f8ff;}#sk-container-id-1 input.sk-toggleable__control:checked~div.sk-toggleable__content {max-height: 200px;max-width: 100%;overflow: auto;}#sk-container-id-1 input.sk-toggleable__control:checked~label.sk-toggleable__label-arrow:before {content: \"▾\";}#sk-container-id-1 div.sk-estimator input.sk-toggleable__control:checked~label.sk-toggleable__label {background-color: #d4ebff;}#sk-container-id-1 div.sk-label input.sk-toggleable__control:checked~label.sk-toggleable__label {background-color: #d4ebff;}#sk-container-id-1 input.sk-hidden--visually {border: 0;clip: rect(1px 1px 1px 1px);clip: rect(1px, 1px, 1px, 1px);height: 1px;margin: -1px;overflow: hidden;padding: 0;position: absolute;width: 1px;}#sk-container-id-1 div.sk-estimator {font-family: monospace;background-color: #f0f8ff;border: 1px dotted black;border-radius: 0.25em;box-sizing: border-box;margin-bottom: 0.5em;}#sk-container-id-1 div.sk-estimator:hover {background-color: #d4ebff;}#sk-container-id-1 div.sk-parallel-item::after {content: \"\";width: 100%;border-bottom: 1px solid gray;flex-grow: 1;}#sk-container-id-1 div.sk-label:hover label.sk-toggleable__label {background-color: #d4ebff;}#sk-container-id-1 div.sk-serial::before {content: \"\";position: absolute;border-left: 1px solid gray;box-sizing: border-box;top: 0;bottom: 0;left: 50%;z-index: 0;}#sk-container-id-1 div.sk-serial {display: flex;flex-direction: column;align-items: center;background-color: white;padding-right: 0.2em;padding-left: 0.2em;position: relative;}#sk-container-id-1 div.sk-item {position: relative;z-index: 1;}#sk-container-id-1 div.sk-parallel {display: flex;align-items: stretch;justify-content: center;background-color: white;position: relative;}#sk-container-id-1 div.sk-item::before, #sk-container-id-1 div.sk-parallel-item::before {content: \"\";position: absolute;border-left: 1px solid gray;box-sizing: border-box;top: 0;bottom: 0;left: 50%;z-index: -1;}#sk-container-id-1 div.sk-parallel-item {display: flex;flex-direction: column;z-index: 1;position: relative;background-color: white;}#sk-container-id-1 div.sk-parallel-item:first-child::after {align-self: flex-end;width: 50%;}#sk-container-id-1 div.sk-parallel-item:last-child::after {align-self: flex-start;width: 50%;}#sk-container-id-1 div.sk-parallel-item:only-child::after {width: 0;}#sk-container-id-1 div.sk-dashed-wrapped {border: 1px dashed gray;margin: 0 0.4em 0.5em 0.4em;box-sizing: border-box;padding-bottom: 0.4em;background-color: white;}#sk-container-id-1 div.sk-label label {font-family: monospace;font-weight: bold;display: inline-block;line-height: 1.2em;}#sk-container-id-1 div.sk-label-container {text-align: center;}#sk-container-id-1 div.sk-container {/* jupyter's `normalize.less` sets `[hidden] { display: none; }` but bootstrap.min.css set `[hidden] { display: none !important; }` so we also need the `!important` here to be able to override the default hidden behavior on the sphinx rendered scikit-learn.org. See: https://github.com/scikit-learn/scikit-learn/issues/21755 */display: inline-block !important;position: relative;}#sk-container-id-1 div.sk-text-repr-fallback {display: none;}</style><div id=\"sk-container-id-1\" class=\"sk-top-container\"><div class=\"sk-text-repr-fallback\"><pre>RandomForestRegressor()</pre><b>In a Jupyter environment, please rerun this cell to show the HTML representation or trust the notebook. <br />On GitHub, the HTML representation is unable to render, please try loading this page with nbviewer.org.</b></div><div class=\"sk-container\" hidden><div class=\"sk-item\"><div class=\"sk-estimator sk-toggleable\"><input class=\"sk-toggleable__control sk-hidden--visually\" id=\"sk-estimator-id-1\" type=\"checkbox\" checked><label for=\"sk-estimator-id-1\" class=\"sk-toggleable__label sk-toggleable__label-arrow\">RandomForestRegressor</label><div class=\"sk-toggleable__content\"><pre>RandomForestRegressor()</pre></div></div></div></div></div>"
      ],
      "text/plain": [
       "RandomForestRegressor()"
      ]
     },
     "execution_count": 117,
     "metadata": {},
     "output_type": "execute_result"
    }
   ],
   "source": [
    "rf = RandomForestRegressor(n_estimators=100)\n",
    "rf.fit(data_transform,pd.get_dummies(data['Continent']))"
   ]
  },
  {
   "cell_type": "code",
   "execution_count": 121,
   "metadata": {},
   "outputs": [
    {
     "data": {
      "text/plain": [
       "<BarContainer object of 14 artists>"
      ]
     },
     "execution_count": 121,
     "metadata": {},
     "output_type": "execute_result"
    },
    {
     "data": {
      "image/png": "[encoded data removed]",
      "text/plain": [
       "<Figure size 432x288 with 1 Axes>"
      ]
     },
     "metadata": {
      "needs_background": "light"
     },
     "output_type": "display_data"
    }
   ],
   "source": [
    "sorted_idx = rf.feature_importances_.argsort()\n",
    "plt.barh(info.columns[sorted_idx], rf.feature_importances_[sorted_idx])\n"
   ]
  },
  {
   "cell_type": "code",
   "execution_count": 131,
   "metadata": {},
   "outputs": [
    {
     "data": {
      "application/vnd.plotly.v1+json": {
       "config": {
        "plotlyServerURL": "https://plot.ly"
       },
       "data": [
        {
         "hovertemplate": "Continent=Africa<br>happiness2021=%{x}<br>country=%{y}<extra></extra>",
         "legendgroup": "Africa",
         "marker": {
          "color": "#636efa",
          "symbol": "circle"
         },
         "mode": "markers",
         "name": "Africa",
         "orientation": "h",
         "showlegend": true,
         "type": "scatter",
         "x": [
          4.887,
          4.532128205128205,
          5.045,
          3.467,
          4.532128205128205,
          3.775,
          5.142,
          4.532128205128205,
          4.532128205128205,
          4.355,
          4.289,
          5.342,
          4.532128205128205,
          4.532128205128205,
          4.283,
          4.283,
          4.532128205128205,
          4.532128205128205,
          4.275,
          4.852,
          5.051,
          5.088,
          4.984,
          4.532128205128205,
          5.306,
          4.607,
          3.512,
          4.625,
          5.41,
          4.208,
          3.6,
          4.723,
          4.227,
          6.049,
          4.918,
          4.794,
          4.574,
          5.074,
          4.759,
          3.415,
          4.532128205128205,
          5.132,
          4.532128205128205,
          3.849,
          4.532128205128205,
          4.956,
          4.532128205128205,
          4.532128205128205,
          4.532128205128205,
          3.623,
          4.107,
          4.596,
          4.636,
          4.073,
          3.145
         ],
         "xaxis": "x",
         "y": [
          "Algeria",
          "Angola",
          "Benin",
          "Botswana",
          "Burkina",
          "Burundi",
          "Cameroon",
          "Cape Verde",
          "Central African Republic",
          "Chad",
          "Comoros",
          "Congo",
          "Congo, Democratic Republic of",
          "Djibouti",
          "Egypt",
          "Egypt",
          "Equatorial Guinea",
          "Eritrea",
          "Ethiopia",
          "Gabon",
          "Gambia",
          "Ghana",
          "Guinea",
          "Guinea-Bissau",
          "Ivory Coast",
          "Kenya",
          "Lesotho",
          "Liberia",
          "Libya",
          "Madagascar",
          "Malawi",
          "Mali",
          "Mauritania",
          "Mauritius",
          "Morocco",
          "Mozambique",
          "Namibia",
          "Niger",
          "Nigeria",
          "Rwanda",
          "Sao Tome and Principe",
          "Senegal",
          "Seychelles",
          "Sierra Leone",
          "Somalia",
          "South Africa",
          "South Sudan",
          "Sudan",
          "Swaziland",
          "Tanzania",
          "Togo",
          "Tunisia",
          "Uganda",
          "Zambia",
          "Zimbabwe"
         ],
         "yaxis": "y"
        },
        {
         "hovertemplate": "Continent=Asia<br>happiness2021=%{x}<br>country=%{y}<extra></extra>",
         "legendgroup": "Asia",
         "marker": {
          "color": "#EF553B",
          "symbol": "circle"
         },
         "mode": "markers",
         "name": "Asia",
         "orientation": "h",
         "showlegend": true,
         "type": "scatter",
         "x": [
          2.523,
          6.647,
          5.025,
          5.3429166666666665,
          5.3429166666666665,
          5.3429166666666665,
          4.83,
          5.339,
          5.3429166666666665,
          3.819,
          5.345,
          4.721,
          4.854,
          7.157,
          5.94,
          4.395,
          6.152,
          6.152,
          6.152,
          6.152,
          5.3429166666666665,
          5.845,
          6.106,
          5.744,
          5.03,
          4.584,
          5.384,
          5.198,
          5.677,
          5.269,
          5.3429166666666665,
          4.934,
          5.88,
          5.3429166666666665,
          5.477,
          5.477,
          5.477,
          6.494,
          6.377,
          4.325,
          5.3429166666666665,
          5.466,
          5.985,
          4.948,
          4.948,
          4.948,
          4.948,
          5.066,
          6.561,
          6.179,
          5.411,
          3.658
         ],
         "xaxis": "x",
         "y": [
          "Afghanistan",
          "Bahrain",
          "Bangladesh",
          "Bhutan",
          "Brunei",
          "Burma (Myanmar)",
          "Cambodia",
          "China",
          "East Timor",
          "India",
          "Indonesia",
          "Iran",
          "Iraq",
          "Israel",
          "Japan",
          "Jordan",
          "Kazakhstan",
          "Kazakhstan",
          "Kazakhstan",
          "Kazakhstan",
          "North Korea",
          "South Korea",
          "Kuwait",
          "Kyrgyzstan",
          "Laos",
          "Lebanon",
          "Malaysia",
          "Maldives",
          "Mongolia",
          "Nepal",
          "Oman",
          "Pakistan",
          "Philippines",
          "Qatar",
          "Russia",
          "Russia",
          "Russia",
          "Saudi Arabia",
          "Singapore",
          "Sri Lanka",
          "Syria",
          "Tajikistan",
          "Thailand",
          "Turkey",
          "Turkey",
          "Turkey",
          "Turkey",
          "Turkmenistan",
          "United Arab Emirates",
          "Uzbekistan",
          "Vietnam",
          "Yemen"
         ],
         "yaxis": "y"
        },
        {
         "hovertemplate": "Continent=Europe<br>happiness2021=%{x}<br>country=%{y}<extra></extra>",
         "legendgroup": "Europe",
         "marker": {
          "color": "#00cc96",
          "symbol": "circle"
         },
         "mode": "markers",
         "name": "Europe",
         "orientation": "h",
         "showlegend": true,
         "type": "scatter",
         "x": [
          5.117,
          6.377195121951219,
          5.283,
          5.283,
          5.283,
          5.283,
          7.268,
          5.171,
          5.171,
          5.171,
          5.171,
          5.534,
          6.834,
          5.813,
          5.266,
          5.882,
          6.223,
          6.223,
          6.223,
          6.223,
          6.965,
          7.62,
          6.189,
          7.842,
          6.69,
          4.891,
          4.891,
          4.891,
          4.891,
          7.155,
          5.723,
          5.992,
          7.554,
          7.085,
          6.483,
          6.032,
          6.377195121951219,
          6.255,
          7.324,
          6.377195121951219,
          6.602,
          5.766,
          6.377195121951219,
          5.581,
          7.464,
          7.392,
          6.166,
          5.929,
          6.14,
          6.377195121951219,
          6.078,
          6.331,
          6.461,
          6.491,
          7.363,
          7.571,
          4.875,
          7.064,
          6.377195121951219
         ],
         "xaxis": "x",
         "y": [
          "Albania",
          "Andorra",
          "Armenia",
          "Armenia",
          "Armenia",
          "Armenia",
          "Austria",
          "Azerbaijan",
          "Azerbaijan",
          "Azerbaijan",
          "Azerbaijan",
          "Belarus",
          "Belgium",
          "Bosnia and Herzegovina",
          "Bulgaria",
          "Croatia",
          "Cyprus",
          "Cyprus",
          "Cyprus",
          "Cyprus",
          "Czech Republic",
          "Denmark",
          "Estonia",
          "Finland",
          "France",
          "Georgia",
          "Georgia",
          "Georgia",
          "Georgia",
          "Germany",
          "Greece",
          "Hungary",
          "Iceland",
          "Ireland",
          "Italy",
          "Latvia",
          "Liechtenstein",
          "Lithuania",
          "Luxembourg",
          "Macedonia",
          "Malta",
          "Moldova",
          "Monaco",
          "Montenegro",
          "Netherlands",
          "Norway",
          "Poland",
          "Portugal",
          "Romania",
          "San Marino",
          "Serbia",
          "Slovakia",
          "Slovenia",
          "Spain",
          "Sweden",
          "Switzerland",
          "Ukraine",
          "United Kingdom",
          "Vatican City"
         ],
         "yaxis": "y"
        },
        {
         "hovertemplate": "Continent=North America<br>happiness2021=%{x}<br>country=%{y}<extra></extra>",
         "legendgroup": "North America",
         "marker": {
          "color": "#ab63fa",
          "symbol": "circle"
         },
         "mode": "markers",
         "name": "North America",
         "orientation": "h",
         "showlegend": true,
         "type": "scatter",
         "x": [
          6.123,
          6.123,
          6.123,
          6.123,
          7.103,
          7.069,
          6.123,
          6.123,
          5.545,
          6.061,
          6.123,
          6.435,
          3.615,
          5.919,
          6.309,
          6.317,
          5.972,
          6.18,
          6.123,
          6.123,
          6.123,
          6.123,
          6.951
         ],
         "xaxis": "x",
         "y": [
          "Antigua and Barbuda",
          "Bahamas",
          "Barbados",
          "Belize",
          "Canada",
          "Costa Rica",
          "Cuba",
          "Dominica",
          "Dominican Republic",
          "El Salvador",
          "Grenada",
          "Guatemala",
          "Haiti",
          "Honduras",
          "Jamaica",
          "Mexico",
          "Nicaragua",
          "Panama",
          "Saint Kitts and Nevis",
          "Saint Lucia",
          "Saint Vincent and the Grenadines",
          "Trinidad and Tobago",
          "United States"
         ],
         "yaxis": "y"
        },
        {
         "hovertemplate": "Continent=Oceania<br>happiness2021=%{x}<br>country=%{y}<extra></extra>",
         "legendgroup": "Oceania",
         "marker": {
          "color": "#FFA15A",
          "symbol": "circle"
         },
         "mode": "markers",
         "name": "Oceania",
         "orientation": "h",
         "showlegend": true,
         "type": "scatter",
         "x": [
          7.183,
          7.23,
          7.23,
          7.23,
          7.23,
          7.23,
          7.23,
          7.277,
          7.23,
          7.23,
          7.23,
          7.23,
          7.23,
          7.23,
          7.23
         ],
         "xaxis": "x",
         "y": [
          "Australia",
          "Fiji",
          "Kiribati",
          "Marshall Islands",
          "Micronesia",
          "Micronesia",
          "Nauru",
          "New Zealand",
          "Palau",
          "Papua New Guinea",
          "Samoa",
          "Solomon Islands",
          "Tonga",
          "Tuvalu",
          "Vanuatu"
         ],
         "yaxis": "y"
        },
        {
         "hovertemplate": "Continent=South America<br>happiness2021=%{x}<br>country=%{y}<extra></extra>",
         "legendgroup": "South America",
         "marker": {
          "color": "#19d3f3",
          "symbol": "circle"
         },
         "mode": "markers",
         "name": "South America",
         "orientation": "h",
         "showlegend": true,
         "type": "scatter",
         "x": [
          5.929,
          5.716,
          6.33,
          6.172,
          6.012,
          5.764,
          5.8739,
          5.653,
          5.84,
          5.8739,
          6.431,
          4.892
         ],
         "xaxis": "x",
         "y": [
          "Argentina",
          "Bolivia",
          "Brazil",
          "Chile",
          "Colombia",
          "Ecuador",
          "Guyana",
          "Paraguay",
          "Peru",
          "Suriname",
          "Uruguay",
          "Venezuela"
         ],
         "yaxis": "y"
        }
       ],
       "layout": {
        "legend": {
         "title": {
          "text": "Continent"
         },
         "tracegroupgap": 0
        },
        "margin": {
         "t": 60
        },
        "template": {
         "data": {
          "bar": [
           {
            "error_x": {
             "color": "#2a3f5f"
            },
            "error_y": {
             "color": "#2a3f5f"
            },
            "marker": {
             "line": {
              "color": "#E5ECF6",
              "width": 0.5
             },
             "pattern": {
              "fillmode": "overlay",
              "size": 10,
              "solidity": 0.2
             }
            },
            "type": "bar"
           }
          ],
          "barpolar": [
           {
            "marker": {
             "line": {
              "color": "#E5ECF6",
              "width": 0.5
             },
             "pattern": {
              "fillmode": "overlay",
              "size": 10,
              "solidity": 0.2
             }
            },
            "type": "barpolar"
           }
          ],
          "carpet": [
           {
            "aaxis": {
             "endlinecolor": "#2a3f5f",
             "gridcolor": "white",
             "linecolor": "white",
             "minorgridcolor": "white",
             "startlinecolor": "#2a3f5f"
            },
            "baxis": {
             "endlinecolor": "#2a3f5f",
             "gridcolor": "white",
             "linecolor": "white",
             "minorgridcolor": "white",
             "startlinecolor": "#2a3f5f"
            },
            "type": "carpet"
           }
          ],
          "choropleth": [
           {
            "colorbar": {
             "outlinewidth": 0,
             "ticks": ""
            },
            "type": "choropleth"
           }
          ],
          "contour": [
           {
            "colorbar": {
             "outlinewidth": 0,
             "ticks": ""
            },
            "colorscale": [
             [
              0,
              "#0d0887"
             ],
             [
              0.1111111111111111,
              "#46039f"
             ],
             [
              0.2222222222222222,
              "#7201a8"
             ],
             [
              0.3333333333333333,
              "#9c179e"
             ],
             [
              0.4444444444444444,
              "#bd3786"
             ],
             [
              0.5555555555555556,
              "#d8576b"
             ],
             [
              0.6666666666666666,
              "#ed7953"
             ],
             [
              0.7777777777777778,
              "#fb9f3a"
             ],
             [
              0.8888888888888888,
              "#fdca26"
             ],
             [
              1,
              "#f0f921"
             ]
            ],
            "type": "contour"
           }
          ],
          "contourcarpet": [
           {
            "colorbar": {
             "outlinewidth": 0,
             "ticks": ""
            },
            "type": "contourcarpet"
           }
          ],
          "heatmap": [
           {
            "colorbar": {
             "outlinewidth": 0,
             "ticks": ""
            },
            "colorscale": [
             [
              0,
              "#0d0887"
             ],
             [
              0.1111111111111111,
              "#46039f"
             ],
             [
              0.2222222222222222,
              "#7201a8"
             ],
             [
              0.3333333333333333,
              "#9c179e"
             ],
             [
              0.4444444444444444,
              "#bd3786"
             ],
             [
              0.5555555555555556,
              "#d8576b"
             ],
             [
              0.6666666666666666,
              "#ed7953"
             ],
             [
              0.7777777777777778,
              "#fb9f3a"
             ],
             [
              0.8888888888888888,
              "#fdca26"
             ],
             [
              1,
              "#f0f921"
             ]
            ],
            "type": "heatmap"
           }
          ],
          "heatmapgl": [
           {
            "colorbar": {
             "outlinewidth": 0,
             "ticks": ""
            },
            "colorscale": [
             [
              0,
              "#0d0887"
             ],
             [
              0.1111111111111111,
              "#46039f"
             ],
             [
              0.2222222222222222,
              "#7201a8"
             ],
             [
              0.3333333333333333,
              "#9c179e"
             ],
             [
              0.4444444444444444,
              "#bd3786"
             ],
             [
              0.5555555555555556,
              "#d8576b"
             ],
             [
              0.6666666666666666,
              "#ed7953"
             ],
             [
              0.7777777777777778,
              "#fb9f3a"
             ],
             [
              0.8888888888888888,
              "#fdca26"
             ],
             [
              1,
              "#f0f921"
             ]
            ],
            "type": "heatmapgl"
           }
          ],
          "histogram": [
           {
            "marker": {
             "pattern": {
              "fillmode": "overlay",
              "size": 10,
              "solidity": 0.2
             }
            },
            "type": "histogram"
           }
          ],
          "histogram2d": [
           {
            "colorbar": {
             "outlinewidth": 0,
             "ticks": ""
            },
            "colorscale": [
             [
              0,
              "#0d0887"
             ],
             [
              0.1111111111111111,
              "#46039f"
             ],
             [
              0.2222222222222222,
              "#7201a8"
             ],
             [
              0.3333333333333333,
              "#9c179e"
             ],
             [
              0.4444444444444444,
              "#bd3786"
             ],
             [
              0.5555555555555556,
              "#d8576b"
             ],
             [
              0.6666666666666666,
              "#ed7953"
             ],
             [
              0.7777777777777778,
              "#fb9f3a"
             ],
             [
              0.8888888888888888,
              "#fdca26"
             ],
             [
              1,
              "#f0f921"
             ]
            ],
            "type": "histogram2d"
           }
          ],
          "histogram2dcontour": [
           {
            "colorbar": {
             "outlinewidth": 0,
             "ticks": ""
            },
            "colorscale": [
             [
              0,
              "#0d0887"
             ],
             [
              0.1111111111111111,
              "#46039f"
             ],
             [
              0.2222222222222222,
              "#7201a8"
             ],
             [
              0.3333333333333333,
              "#9c179e"
             ],
             [
              0.4444444444444444,
              "#bd3786"
             ],
             [
              0.5555555555555556,
              "#d8576b"
             ],
             [
              0.6666666666666666,
              "#ed7953"
             ],
             [
              0.7777777777777778,
              "#fb9f3a"
             ],
             [
              0.8888888888888888,
              "#fdca26"
             ],
             [
              1,
              "#f0f921"
             ]
            ],
            "type": "histogram2dcontour"
           }
          ],
          "mesh3d": [
           {
            "colorbar": {
             "outlinewidth": 0,
             "ticks": ""
            },
            "type": "mesh3d"
           }
          ],
          "parcoords": [
           {
            "line": {
             "colorbar": {
              "outlinewidth": 0,
              "ticks": ""
             }
            },
            "type": "parcoords"
           }
          ],
          "pie": [
           {
            "automargin": true,
            "type": "pie"
           }
          ],
          "scatter": [
           {
            "fillpattern": {
             "fillmode": "overlay",
             "size": 10,
             "solidity": 0.2
            },
            "type": "scatter"
           }
          ],
          "scatter3d": [
           {
            "line": {
             "colorbar": {
              "outlinewidth": 0,
              "ticks": ""
             }
            },
            "marker": {
             "colorbar": {
              "outlinewidth": 0,
              "ticks": ""
             }
            },
            "type": "scatter3d"
           }
          ],
          "scattercarpet": [
           {
            "marker": {
             "colorbar": {
              "outlinewidth": 0,
              "ticks": ""
             }
            },
            "type": "scattercarpet"
           }
          ],
          "scattergeo": [
           {
            "marker": {
             "colorbar": {
              "outlinewidth": 0,
              "ticks": ""
             }
            },
            "type": "scattergeo"
           }
          ],
          "scattergl": [
           {
            "marker": {
             "colorbar": {
              "outlinewidth": 0,
              "ticks": ""
             }
            },
            "type": "scattergl"
           }
          ],
          "scattermapbox": [
           {
            "marker": {
             "colorbar": {
              "outlinewidth": 0,
              "ticks": ""
             }
            },
            "type": "scattermapbox"
           }
          ],
          "scatterpolar": [
           {
            "marker": {
             "colorbar": {
              "outlinewidth": 0,
              "ticks": ""
             }
            },
            "type": "scatterpolar"
           }
          ],
          "scatterpolargl": [
           {
            "marker": {
             "colorbar": {
              "outlinewidth": 0,
              "ticks": ""
             }
            },
            "type": "scatterpolargl"
           }
          ],
          "scatterternary": [
           {
            "marker": {
             "colorbar": {
              "outlinewidth": 0,
              "ticks": ""
             }
            },
            "type": "scatterternary"
           }
          ],
          "surface": [
           {
            "colorbar": {
             "outlinewidth": 0,
             "ticks": ""
            },
            "colorscale": [
             [
              0,
              "#0d0887"
             ],
             [
              0.1111111111111111,
              "#46039f"
             ],
             [
              0.2222222222222222,
              "#7201a8"
             ],
             [
              0.3333333333333333,
              "#9c179e"
             ],
             [
              0.4444444444444444,
              "#bd3786"
             ],
             [
              0.5555555555555556,
              "#d8576b"
             ],
             [
              0.6666666666666666,
              "#ed7953"
             ],
             [
              0.7777777777777778,
              "#fb9f3a"
             ],
             [
              0.8888888888888888,
              "#fdca26"
             ],
             [
              1,
              "#f0f921"
             ]
            ],
            "type": "surface"
           }
          ],
          "table": [
           {
            "cells": {
             "fill": {
              "color": "#EBF0F8"
             },
             "line": {
              "color": "white"
             }
            },
            "header": {
             "fill": {
              "color": "#C8D4E3"
             },
             "line": {
              "color": "white"
             }
            },
            "type": "table"
           }
          ]
         },
         "layout": {
          "annotationdefaults": {
           "arrowcolor": "#2a3f5f",
           "arrowhead": 0,
           "arrowwidth": 1
          },
          "autotypenumbers": "strict",
          "coloraxis": {
           "colorbar": {
            "outlinewidth": 0,
            "ticks": ""
           }
          },
          "colorscale": {
           "diverging": [
            [
             0,
             "#8e0152"
            ],
            [
             0.1,
             "#c51b7d"
            ],
            [
             0.2,
             "#de77ae"
            ],
            [
             0.3,
             "#f1b6da"
            ],
            [
             0.4,
             "#fde0ef"
            ],
            [
             0.5,
             "#f7f7f7"
            ],
            [
             0.6,
             "#e6f5d0"
            ],
            [
             0.7,
             "#b8e186"
            ],
            [
             0.8,
             "#7fbc41"
            ],
            [
             0.9,
             "#4d9221"
            ],
            [
             1,
             "#276419"
            ]
           ],
           "sequential": [
            [
             0,
             "#0d0887"
            ],
            [
             0.1111111111111111,
             "#46039f"
            ],
            [
             0.2222222222222222,
             "#7201a8"
            ],
            [
             0.3333333333333333,
             "#9c179e"
            ],
            [
             0.4444444444444444,
             "#bd3786"
            ],
            [
             0.5555555555555556,
             "#d8576b"
            ],
            [
             0.6666666666666666,
             "#ed7953"
            ],
            [
             0.7777777777777778,
             "#fb9f3a"
            ],
            [
             0.8888888888888888,
             "#fdca26"
            ],
            [
             1,
             "#f0f921"
            ]
           ],
           "sequentialminus": [
            [
             0,
             "#0d0887"
            ],
            [
             0.1111111111111111,
             "#46039f"
            ],
            [
             0.2222222222222222,
             "#7201a8"
            ],
            [
             0.3333333333333333,
             "#9c179e"
            ],
            [
             0.4444444444444444,
             "#bd3786"
            ],
            [
             0.5555555555555556,
             "#d8576b"
            ],
            [
             0.6666666666666666,
             "#ed7953"
            ],
            [
             0.7777777777777778,
             "#fb9f3a"
            ],
            [
             0.8888888888888888,
             "#fdca26"
            ],
            [
             1,
             "#f0f921"
            ]
           ]
          },
          "colorway": [
           "#636efa",
           "#EF553B",
           "#00cc96",
           "#ab63fa",
           "#FFA15A",
           "#19d3f3",
           "#FF6692",
           "#B6E880",
           "#FF97FF",
           "#FECB52"
          ],
          "font": {
           "color": "#2a3f5f"
          },
          "geo": {
           "bgcolor": "white",
           "lakecolor": "white",
           "landcolor": "#E5ECF6",
           "showlakes": true,
           "showland": true,
           "subunitcolor": "white"
          },
          "hoverlabel": {
           "align": "left"
          },
          "hovermode": "closest",
          "mapbox": {
           "style": "light"
          },
          "paper_bgcolor": "white",
          "plot_bgcolor": "#E5ECF6",
          "polar": {
           "angularaxis": {
            "gridcolor": "white",
            "linecolor": "white",
            "ticks": ""
           },
           "bgcolor": "#E5ECF6",
           "radialaxis": {
            "gridcolor": "white",
            "linecolor": "white",
            "ticks": ""
           }
          },
          "scene": {
           "xaxis": {
            "backgroundcolor": "#E5ECF6",
            "gridcolor": "white",
            "gridwidth": 2,
            "linecolor": "white",
            "showbackground": true,
            "ticks": "",
            "zerolinecolor": "white"
           },
           "yaxis": {
            "backgroundcolor": "#E5ECF6",
            "gridcolor": "white",
            "gridwidth": 2,
            "linecolor": "white",
            "showbackground": true,
            "ticks": "",
            "zerolinecolor": "white"
           },
           "zaxis": {
            "backgroundcolor": "#E5ECF6",
            "gridcolor": "white",
            "gridwidth": 2,
            "linecolor": "white",
            "showbackground": true,
            "ticks": "",
            "zerolinecolor": "white"
           }
          },
          "shapedefaults": {
           "line": {
            "color": "#2a3f5f"
           }
          },
          "ternary": {
           "aaxis": {
            "gridcolor": "white",
            "linecolor": "white",
            "ticks": ""
           },
           "baxis": {
            "gridcolor": "white",
            "linecolor": "white",
            "ticks": ""
           },
           "bgcolor": "#E5ECF6",
           "caxis": {
            "gridcolor": "white",
            "linecolor": "white",
            "ticks": ""
           }
          },
          "title": {
           "x": 0.05
          },
          "xaxis": {
           "automargin": true,
           "gridcolor": "white",
           "linecolor": "white",
           "ticks": "",
           "title": {
            "standoff": 15
           },
           "zerolinecolor": "white",
           "zerolinewidth": 2
          },
          "yaxis": {
           "automargin": true,
           "gridcolor": "white",
           "linecolor": "white",
           "ticks": "",
           "title": {
            "standoff": 15
           },
           "zerolinecolor": "white",
           "zerolinewidth": 2
          }
         }
        },
        "xaxis": {
         "anchor": "y",
         "domain": [
          0,
          1
         ],
         "title": {
          "text": "happiness2021"
         }
        },
        "yaxis": {
         "anchor": "x",
         "domain": [
          0,
          1
         ],
         "title": {
          "text": "country"
         }
        }
       }
      }
     },
     "metadata": {},
     "output_type": "display_data"
    }
   ],
   "source": [
    "fig = px.scatter(data, x=\"happiness2021\", y=\"country\", color=\"Continent\", hover_data=['happiness2021'])\n",
    "fig.show()\n"
   ]
  },
  {
   "cell_type": "markdown",
   "metadata": {},
   "source": [
    "As expected from the previous assumption of happiness potenially being a clear determiner for prediction due to its distinctive overlapping in specific areas different to one another. For this reason, and for the sake of an more robust analysis this should be remove, otherwise identifying countries within their cluster would prove too much of an easy task."
   ]
  },
  {
   "cell_type": "code",
   "execution_count": 134,
   "metadata": {},
   "outputs": [
    {
     "data": {
      "application/vnd.plotly.v1+json": {
       "config": {
        "plotlyServerURL": "https://plot.ly"
       },
       "data": [
        {
         "hovertemplate": "Continent=Africa<br>crimeIndex=%{x}<br>country=%{y}<extra></extra>",
         "legendgroup": "Africa",
         "marker": {
          "color": "#636efa",
          "symbol": "circle"
         },
         "mode": "markers",
         "name": "Africa",
         "orientation": "h",
         "showlegend": true,
         "type": "scatter",
         "x": [
          52.03,
          66.48,
          53.97409090909091,
          52.98,
          53.97409090909091,
          53.97409090909091,
          65.24,
          53.97409090909091,
          53.97409090909091,
          53.97409090909091,
          53.97409090909091,
          53.97409090909091,
          53.97409090909091,
          53.97409090909091,
          46.83,
          46.83,
          53.97409090909091,
          53.97409090909091,
          49.3,
          53.97409090909091,
          53.97409090909091,
          46.98,
          53.97409090909091,
          53.97409090909091,
          53.97409090909091,
          60.14,
          53.97409090909091,
          53.97409090909091,
          61.78,
          53.97409090909091,
          53.97409090909091,
          53.97409090909091,
          53.97409090909091,
          48.88,
          48.66,
          53.97409090909091,
          65.21,
          53.97409090909091,
          64.06,
          24.89,
          53.97409090909091,
          53.97409090909091,
          53.97409090909091,
          53.97409090909091,
          56.04,
          76.86,
          53.97409090909091,
          42.34,
          53.97409090909091,
          56,
          53.97409090909091,
          43.69,
          56.12,
          43.62,
          59.3
         ],
         "xaxis": "x",
         "y": [
          "Algeria",
          "Angola",
          "Benin",
          "Botswana",
          "Burkina",
          "Burundi",
          "Cameroon",
          "Cape Verde",
          "Central African Republic",
          "Chad",
          "Comoros",
          "Congo",
          "Congo, Democratic Republic of",
          "Djibouti",
          "Egypt",
          "Egypt",
          "Equatorial Guinea",
          "Eritrea",
          "Ethiopia",
          "Gabon",
          "Gambia",
          "Ghana",
          "Guinea",
          "Guinea-Bissau",
          "Ivory Coast",
          "Kenya",
          "Lesotho",
          "Liberia",
          "Libya",
          "Madagascar",
          "Malawi",
          "Mali",
          "Mauritania",
          "Mauritius",
          "Morocco",
          "Mozambique",
          "Namibia",
          "Niger",
          "Nigeria",
          "Rwanda",
          "Sao Tome and Principe",
          "Senegal",
          "Seychelles",
          "Sierra Leone",
          "Somalia",
          "South Africa",
          "South Sudan",
          "Sudan",
          "Swaziland",
          "Tanzania",
          "Togo",
          "Tunisia",
          "Uganda",
          "Zambia",
          "Zimbabwe"
         ],
         "yaxis": "y"
        },
        {
         "hovertemplate": "Continent=Asia<br>crimeIndex=%{x}<br>country=%{y}<extra></extra>",
         "legendgroup": "Asia",
         "marker": {
          "color": "#EF553B",
          "symbol": "circle"
         },
         "mode": "markers",
         "name": "Asia",
         "orientation": "h",
         "showlegend": true,
         "type": "scatter",
         "x": [
          76.31,
          25.64,
          63.9,
          40.91833333333333,
          29,
          40.91833333333333,
          51.13,
          30.14,
          40.91833333333333,
          44.43,
          45.93,
          49.38,
          48.42,
          31.47,
          22.19,
          39.96,
          53.77,
          53.77,
          53.77,
          53.77,
          40.91833333333333,
          26.68,
          33.42,
          56.87,
          40.91833333333333,
          46.77,
          57.29,
          55.34,
          56.01,
          36.01,
          20.34,
          42.51,
          42.46,
          12.13,
          39.99,
          39.99,
          39.99,
          25.23,
          27.96,
          41.39,
          67.18,
          40.91833333333333,
          39.35,
          39.62,
          39.62,
          39.62,
          39.62,
          40.91833333333333,
          15.23,
          33.42,
          46.19,
          40.91833333333333
         ],
         "xaxis": "x",
         "y": [
          "Afghanistan",
          "Bahrain",
          "Bangladesh",
          "Bhutan",
          "Brunei",
          "Burma (Myanmar)",
          "Cambodia",
          "China",
          "East Timor",
          "India",
          "Indonesia",
          "Iran",
          "Iraq",
          "Israel",
          "Japan",
          "Jordan",
          "Kazakhstan",
          "Kazakhstan",
          "Kazakhstan",
          "Kazakhstan",
          "North Korea",
          "South Korea",
          "Kuwait",
          "Kyrgyzstan",
          "Laos",
          "Lebanon",
          "Malaysia",
          "Maldives",
          "Mongolia",
          "Nepal",
          "Oman",
          "Pakistan",
          "Philippines",
          "Qatar",
          "Russia",
          "Russia",
          "Russia",
          "Saudi Arabia",
          "Singapore",
          "Sri Lanka",
          "Syria",
          "Tajikistan",
          "Thailand",
          "Turkey",
          "Turkey",
          "Turkey",
          "Turkey",
          "Turkmenistan",
          "United Arab Emirates",
          "Uzbekistan",
          "Vietnam",
          "Yemen"
         ],
         "yaxis": "y"
        },
        {
         "hovertemplate": "Continent=Europe<br>crimeIndex=%{x}<br>country=%{y}<extra></extra>",
         "legendgroup": "Europe",
         "marker": {
          "color": "#00cc96",
          "symbol": "circle"
         },
         "mode": "markers",
         "name": "Europe",
         "orientation": "h",
         "showlegend": true,
         "type": "scatter",
         "x": [
          42.53,
          35.21073170731707,
          22.79,
          22.79,
          22.79,
          22.79,
          25.54,
          32.02,
          32.02,
          32.02,
          32.02,
          59.58,
          44.58,
          42.99,
          38.21,
          24.59,
          31.28,
          31.28,
          31.28,
          31.28,
          25.52,
          26.22,
          23.71,
          27.59,
          51.99,
          23.38,
          23.38,
          23.38,
          23.38,
          35.79,
          45.85,
          34.36,
          23.75,
          45.51,
          44.85,
          38.77,
          35.21073170731707,
          33.42,
          34.13,
          35.21073170731707,
          40.39,
          46.35,
          35.21073170731707,
          41.18,
          27.16,
          33.72,
          30.5,
          29.91,
          28.3,
          35.21073170731707,
          38.1,
          30.37,
          22.28,
          33.32,
          48,
          21.62,
          47.42,
          46.07,
          35.21073170731707
         ],
         "xaxis": "x",
         "y": [
          "Albania",
          "Andorra",
          "Armenia",
          "Armenia",
          "Armenia",
          "Armenia",
          "Austria",
          "Azerbaijan",
          "Azerbaijan",
          "Azerbaijan",
          "Azerbaijan",
          "Belarus",
          "Belgium",
          "Bosnia and Herzegovina",
          "Bulgaria",
          "Croatia",
          "Cyprus",
          "Cyprus",
          "Cyprus",
          "Cyprus",
          "Czech Republic",
          "Denmark",
          "Estonia",
          "Finland",
          "France",
          "Georgia",
          "Georgia",
          "Georgia",
          "Georgia",
          "Germany",
          "Greece",
          "Hungary",
          "Iceland",
          "Ireland",
          "Italy",
          "Latvia",
          "Liechtenstein",
          "Lithuania",
          "Luxembourg",
          "Macedonia",
          "Malta",
          "Moldova",
          "Monaco",
          "Montenegro",
          "Netherlands",
          "Norway",
          "Poland",
          "Portugal",
          "Romania",
          "San Marino",
          "Serbia",
          "Slovakia",
          "Slovenia",
          "Spain",
          "Sweden",
          "Switzerland",
          "Ukraine",
          "United Kingdom",
          "Vatican City"
         ],
         "yaxis": "y"
        },
        {
         "hovertemplate": "Continent=North America<br>crimeIndex=%{x}<br>country=%{y}<extra></extra>",
         "legendgroup": "North America",
         "marker": {
          "color": "#ab63fa",
          "symbol": "circle"
         },
         "mode": "markers",
         "name": "North America",
         "orientation": "h",
         "showlegend": true,
         "type": "scatter",
         "x": [
          55.53333333333333,
          62.06,
          55.53333333333333,
          50.39,
          41.89,
          54.22,
          28.33,
          55.53333333333333,
          61.02,
          67.79,
          55.53333333333333,
          58.67,
          55.53333333333333,
          74.54,
          67.42,
          54.19,
          47.89,
          45.15,
          55.53333333333333,
          55.53333333333333,
          55.53333333333333,
          71.63,
          47.81
         ],
         "xaxis": "x",
         "y": [
          "Antigua and Barbuda",
          "Bahamas",
          "Barbados",
          "Belize",
          "Canada",
          "Costa Rica",
          "Cuba",
          "Dominica",
          "Dominican Republic",
          "El Salvador",
          "Grenada",
          "Guatemala",
          "Haiti",
          "Honduras",
          "Jamaica",
          "Mexico",
          "Nicaragua",
          "Panama",
          "Saint Kitts and Nevis",
          "Saint Lucia",
          "Saint Vincent and the Grenadines",
          "Trinidad and Tobago",
          "United States"
         ],
         "yaxis": "y"
        },
        {
         "hovertemplate": "Continent=Oceania<br>crimeIndex=%{x}<br>country=%{y}<extra></extra>",
         "legendgroup": "Oceania",
         "marker": {
          "color": "#FFA15A",
          "symbol": "circle"
         },
         "mode": "markers",
         "name": "Oceania",
         "orientation": "h",
         "showlegend": true,
         "type": "scatter",
         "x": [
          43.03,
          57.62,
          56.08,
          56.08,
          56.08,
          56.08,
          56.08,
          42.88,
          56.08,
          80.79,
          56.08,
          56.08,
          56.08,
          56.08,
          56.08
         ],
         "xaxis": "x",
         "y": [
          "Australia",
          "Fiji",
          "Kiribati",
          "Marshall Islands",
          "Micronesia",
          "Micronesia",
          "Nauru",
          "New Zealand",
          "Palau",
          "Papua New Guinea",
          "Samoa",
          "Solomon Islands",
          "Tonga",
          "Tuvalu",
          "Vanuatu"
         ],
         "yaxis": "y"
        },
        {
         "hovertemplate": "Continent=South America<br>crimeIndex=%{x}<br>country=%{y}<extra></extra>",
         "legendgroup": "South America",
         "marker": {
          "color": "#19d3f3",
          "symbol": "circle"
         },
         "mode": "markers",
         "name": "South America",
         "orientation": "h",
         "showlegend": true,
         "type": "scatter",
         "x": [
          63.82,
          57.77,
          67.49,
          53.42,
          56.87,
          55.23,
          68.74,
          49.37,
          66.72,
          61.35636363636363,
          51.73,
          83.76
         ],
         "xaxis": "x",
         "y": [
          "Argentina",
          "Bolivia",
          "Brazil",
          "Chile",
          "Colombia",
          "Ecuador",
          "Guyana",
          "Paraguay",
          "Peru",
          "Suriname",
          "Uruguay",
          "Venezuela"
         ],
         "yaxis": "y"
        }
       ],
       "layout": {
        "legend": {
         "title": {
          "text": "Continent"
         },
         "tracegroupgap": 0
        },
        "margin": {
         "t": 60
        },
        "template": {
         "data": {
          "bar": [
           {
            "error_x": {
             "color": "#2a3f5f"
            },
            "error_y": {
             "color": "#2a3f5f"
            },
            "marker": {
             "line": {
              "color": "#E5ECF6",
              "width": 0.5
             },
             "pattern": {
              "fillmode": "overlay",
              "size": 10,
              "solidity": 0.2
             }
            },
            "type": "bar"
           }
          ],
          "barpolar": [
           {
            "marker": {
             "line": {
              "color": "#E5ECF6",
              "width": 0.5
             },
             "pattern": {
              "fillmode": "overlay",
              "size": 10,
              "solidity": 0.2
             }
            },
            "type": "barpolar"
           }
          ],
          "carpet": [
           {
            "aaxis": {
             "endlinecolor": "#2a3f5f",
             "gridcolor": "white",
             "linecolor": "white",
             "minorgridcolor": "white",
             "startlinecolor": "#2a3f5f"
            },
            "baxis": {
             "endlinecolor": "#2a3f5f",
             "gridcolor": "white",
             "linecolor": "white",
             "minorgridcolor": "white",
             "startlinecolor": "#2a3f5f"
            },
            "type": "carpet"
           }
          ],
          "choropleth": [
           {
            "colorbar": {
             "outlinewidth": 0,
             "ticks": ""
            },
            "type": "choropleth"
           }
          ],
          "contour": [
           {
            "colorbar": {
             "outlinewidth": 0,
             "ticks": ""
            },
            "colorscale": [
             [
              0,
              "#0d0887"
             ],
             [
              0.1111111111111111,
              "#46039f"
             ],
             [
              0.2222222222222222,
              "#7201a8"
             ],
             [
              0.3333333333333333,
              "#9c179e"
             ],
             [
              0.4444444444444444,
              "#bd3786"
             ],
             [
              0.5555555555555556,
              "#d8576b"
             ],
             [
              0.6666666666666666,
              "#ed7953"
             ],
             [
              0.7777777777777778,
              "#fb9f3a"
             ],
             [
              0.8888888888888888,
              "#fdca26"
             ],
             [
              1,
              "#f0f921"
             ]
            ],
            "type": "contour"
           }
          ],
          "contourcarpet": [
           {
            "colorbar": {
             "outlinewidth": 0,
             "ticks": ""
            },
            "type": "contourcarpet"
           }
          ],
          "heatmap": [
           {
            "colorbar": {
             "outlinewidth": 0,
             "ticks": ""
            },
            "colorscale": [
             [
              0,
              "#0d0887"
             ],
             [
              0.1111111111111111,
              "#46039f"
             ],
             [
              0.2222222222222222,
              "#7201a8"
             ],
             [
              0.3333333333333333,
              "#9c179e"
             ],
             [
              0.4444444444444444,
              "#bd3786"
             ],
             [
              0.5555555555555556,
              "#d8576b"
             ],
             [
              0.6666666666666666,
              "#ed7953"
             ],
             [
              0.7777777777777778,
              "#fb9f3a"
             ],
             [
              0.8888888888888888,
              "#fdca26"
             ],
             [
              1,
              "#f0f921"
             ]
            ],
            "type": "heatmap"
           }
          ],
          "heatmapgl": [
           {
            "colorbar": {
             "outlinewidth": 0,
             "ticks": ""
            },
            "colorscale": [
             [
              0,
              "#0d0887"
             ],
             [
              0.1111111111111111,
              "#46039f"
             ],
             [
              0.2222222222222222,
              "#7201a8"
             ],
             [
              0.3333333333333333,
              "#9c179e"
             ],
             [
              0.4444444444444444,
              "#bd3786"
             ],
             [
              0.5555555555555556,
              "#d8576b"
             ],
             [
              0.6666666666666666,
              "#ed7953"
             ],
             [
              0.7777777777777778,
              "#fb9f3a"
             ],
             [
              0.8888888888888888,
              "#fdca26"
             ],
             [
              1,
              "#f0f921"
             ]
            ],
            "type": "heatmapgl"
           }
          ],
          "histogram": [
           {
            "marker": {
             "pattern": {
              "fillmode": "overlay",
              "size": 10,
              "solidity": 0.2
             }
            },
            "type": "histogram"
           }
          ],
          "histogram2d": [
           {
            "colorbar": {
             "outlinewidth": 0,
             "ticks": ""
            },
            "colorscale": [
             [
              0,
              "#0d0887"
             ],
             [
              0.1111111111111111,
              "#46039f"
             ],
             [
              0.2222222222222222,
              "#7201a8"
             ],
             [
              0.3333333333333333,
              "#9c179e"
             ],
             [
              0.4444444444444444,
              "#bd3786"
             ],
             [
              0.5555555555555556,
              "#d8576b"
             ],
             [
              0.6666666666666666,
              "#ed7953"
             ],
             [
              0.7777777777777778,
              "#fb9f3a"
             ],
             [
              0.8888888888888888,
              "#fdca26"
             ],
             [
              1,
              "#f0f921"
             ]
            ],
            "type": "histogram2d"
           }
          ],
          "histogram2dcontour": [
           {
            "colorbar": {
             "outlinewidth": 0,
             "ticks": ""
            },
            "colorscale": [
             [
              0,
              "#0d0887"
             ],
             [
              0.1111111111111111,
              "#46039f"
             ],
             [
              0.2222222222222222,
              "#7201a8"
             ],
             [
              0.3333333333333333,
              "#9c179e"
             ],
             [
              0.4444444444444444,
              "#bd3786"
             ],
             [
              0.5555555555555556,
              "#d8576b"
             ],
             [
              0.6666666666666666,
              "#ed7953"
             ],
             [
              0.7777777777777778,
              "#fb9f3a"
             ],
             [
              0.8888888888888888,
              "#fdca26"
             ],
             [
              1,
              "#f0f921"
             ]
            ],
            "type": "histogram2dcontour"
           }
          ],
          "mesh3d": [
           {
            "colorbar": {
             "outlinewidth": 0,
             "ticks": ""
            },
            "type": "mesh3d"
           }
          ],
          "parcoords": [
           {
            "line": {
             "colorbar": {
              "outlinewidth": 0,
              "ticks": ""
             }
            },
            "type": "parcoords"
           }
          ],
          "pie": [
           {
            "automargin": true,
            "type": "pie"
           }
          ],
          "scatter": [
           {
            "fillpattern": {
             "fillmode": "overlay",
             "size": 10,
             "solidity": 0.2
            },
            "type": "scatter"
           }
          ],
          "scatter3d": [
           {
            "line": {
             "colorbar": {
              "outlinewidth": 0,
              "ticks": ""
             }
            },
            "marker": {
             "colorbar": {
              "outlinewidth": 0,
              "ticks": ""
             }
            },
            "type": "scatter3d"
           }
          ],
          "scattercarpet": [
           {
            "marker": {
             "colorbar": {
              "outlinewidth": 0,
              "ticks": ""
             }
            },
            "type": "scattercarpet"
           }
          ],
          "scattergeo": [
           {
            "marker": {
             "colorbar": {
              "outlinewidth": 0,
              "ticks": ""
             }
            },
            "type": "scattergeo"
           }
          ],
          "scattergl": [
           {
            "marker": {
             "colorbar": {
              "outlinewidth": 0,
              "ticks": ""
             }
            },
            "type": "scattergl"
           }
          ],
          "scattermapbox": [
           {
            "marker": {
             "colorbar": {
              "outlinewidth": 0,
              "ticks": ""
             }
            },
            "type": "scattermapbox"
           }
          ],
          "scatterpolar": [
           {
            "marker": {
             "colorbar": {
              "outlinewidth": 0,
              "ticks": ""
             }
            },
            "type": "scatterpolar"
           }
          ],
          "scatterpolargl": [
           {
            "marker": {
             "colorbar": {
              "outlinewidth": 0,
              "ticks": ""
             }
            },
            "type": "scatterpolargl"
           }
          ],
          "scatterternary": [
           {
            "marker": {
             "colorbar": {
              "outlinewidth": 0,
              "ticks": ""
             }
            },
            "type": "scatterternary"
           }
          ],
          "surface": [
           {
            "colorbar": {
             "outlinewidth": 0,
             "ticks": ""
            },
            "colorscale": [
             [
              0,
              "#0d0887"
             ],
             [
              0.1111111111111111,
              "#46039f"
             ],
             [
              0.2222222222222222,
              "#7201a8"
             ],
             [
              0.3333333333333333,
              "#9c179e"
             ],
             [
              0.4444444444444444,
              "#bd3786"
             ],
             [
              0.5555555555555556,
              "#d8576b"
             ],
             [
              0.6666666666666666,
              "#ed7953"
             ],
             [
              0.7777777777777778,
              "#fb9f3a"
             ],
             [
              0.8888888888888888,
              "#fdca26"
             ],
             [
              1,
              "#f0f921"
             ]
            ],
            "type": "surface"
           }
          ],
          "table": [
           {
            "cells": {
             "fill": {
              "color": "#EBF0F8"
             },
             "line": {
              "color": "white"
             }
            },
            "header": {
             "fill": {
              "color": "#C8D4E3"
             },
             "line": {
              "color": "white"
             }
            },
            "type": "table"
           }
          ]
         },
         "layout": {
          "annotationdefaults": {
           "arrowcolor": "#2a3f5f",
           "arrowhead": 0,
           "arrowwidth": 1
          },
          "autotypenumbers": "strict",
          "coloraxis": {
           "colorbar": {
            "outlinewidth": 0,
            "ticks": ""
           }
          },
          "colorscale": {
           "diverging": [
            [
             0,
             "#8e0152"
            ],
            [
             0.1,
             "#c51b7d"
            ],
            [
             0.2,
             "#de77ae"
            ],
            [
             0.3,
             "#f1b6da"
            ],
            [
             0.4,
             "#fde0ef"
            ],
            [
             0.5,
             "#f7f7f7"
            ],
            [
             0.6,
             "#e6f5d0"
            ],
            [
             0.7,
             "#b8e186"
            ],
            [
             0.8,
             "#7fbc41"
            ],
            [
             0.9,
             "#4d9221"
            ],
            [
             1,
             "#276419"
            ]
           ],
           "sequential": [
            [
             0,
             "#0d0887"
            ],
            [
             0.1111111111111111,
             "#46039f"
            ],
            [
             0.2222222222222222,
             "#7201a8"
            ],
            [
             0.3333333333333333,
             "#9c179e"
            ],
            [
             0.4444444444444444,
             "#bd3786"
            ],
            [
             0.5555555555555556,
             "#d8576b"
            ],
            [
             0.6666666666666666,
             "#ed7953"
            ],
            [
             0.7777777777777778,
             "#fb9f3a"
            ],
            [
             0.8888888888888888,
             "#fdca26"
            ],
            [
             1,
             "#f0f921"
            ]
           ],
           "sequentialminus": [
            [
             0,
             "#0d0887"
            ],
            [
             0.1111111111111111,
             "#46039f"
            ],
            [
             0.2222222222222222,
             "#7201a8"
            ],
            [
             0.3333333333333333,
             "#9c179e"
            ],
            [
             0.4444444444444444,
             "#bd3786"
            ],
            [
             0.5555555555555556,
             "#d8576b"
            ],
            [
             0.6666666666666666,
             "#ed7953"
            ],
            [
             0.7777777777777778,
             "#fb9f3a"
            ],
            [
             0.8888888888888888,
             "#fdca26"
            ],
            [
             1,
             "#f0f921"
            ]
           ]
          },
          "colorway": [
           "#636efa",
           "#EF553B",
           "#00cc96",
           "#ab63fa",
           "#FFA15A",
           "#19d3f3",
           "#FF6692",
           "#B6E880",
           "#FF97FF",
           "#FECB52"
          ],
          "font": {
           "color": "#2a3f5f"
          },
          "geo": {
           "bgcolor": "white",
           "lakecolor": "white",
           "landcolor": "#E5ECF6",
           "showlakes": true,
           "showland": true,
           "subunitcolor": "white"
          },
          "hoverlabel": {
           "align": "left"
          },
          "hovermode": "closest",
          "mapbox": {
           "style": "light"
          },
          "paper_bgcolor": "white",
          "plot_bgcolor": "#E5ECF6",
          "polar": {
           "angularaxis": {
            "gridcolor": "white",
            "linecolor": "white",
            "ticks": ""
           },
           "bgcolor": "#E5ECF6",
           "radialaxis": {
            "gridcolor": "white",
            "linecolor": "white",
            "ticks": ""
           }
          },
          "scene": {
           "xaxis": {
            "backgroundcolor": "#E5ECF6",
            "gridcolor": "white",
            "gridwidth": 2,
            "linecolor": "white",
            "showbackground": true,
            "ticks": "",
            "zerolinecolor": "white"
           },
           "yaxis": {
            "backgroundcolor": "#E5ECF6",
            "gridcolor": "white",
            "gridwidth": 2,
            "linecolor": "white",
            "showbackground": true,
            "ticks": "",
            "zerolinecolor": "white"
           },
           "zaxis": {
            "backgroundcolor": "#E5ECF6",
            "gridcolor": "white",
            "gridwidth": 2,
            "linecolor": "white",
            "showbackground": true,
            "ticks": "",
            "zerolinecolor": "white"
           }
          },
          "shapedefaults": {
           "line": {
            "color": "#2a3f5f"
           }
          },
          "ternary": {
           "aaxis": {
            "gridcolor": "white",
            "linecolor": "white",
            "ticks": ""
           },
           "baxis": {
            "gridcolor": "white",
            "linecolor": "white",
            "ticks": ""
           },
           "bgcolor": "#E5ECF6",
           "caxis": {
            "gridcolor": "white",
            "linecolor": "white",
            "ticks": ""
           }
          },
          "title": {
           "x": 0.05
          },
          "xaxis": {
           "automargin": true,
           "gridcolor": "white",
           "linecolor": "white",
           "ticks": "",
           "title": {
            "standoff": 15
           },
           "zerolinecolor": "white",
           "zerolinewidth": 2
          },
          "yaxis": {
           "automargin": true,
           "gridcolor": "white",
           "linecolor": "white",
           "ticks": "",
           "title": {
            "standoff": 15
           },
           "zerolinecolor": "white",
           "zerolinewidth": 2
          }
         }
        },
        "xaxis": {
         "anchor": "y",
         "domain": [
          0,
          1
         ],
         "title": {
          "text": "crimeIndex"
         }
        },
        "yaxis": {
         "anchor": "x",
         "domain": [
          0,
          1
         ],
         "title": {
          "text": "country"
         }
        }
       }
      }
     },
     "metadata": {},
     "output_type": "display_data"
    }
   ],
   "source": [
    "fig = px.scatter(data, x=\"crimeIndex\", y=\"country\", color=\"Continent\", hover_data=['crimeIndex'])\n",
    "fig.show()"
   ]
  },
  {
   "cell_type": "markdown",
   "metadata": {},
   "source": [
    "The same issue happens for crime. This is quite clear in Africa having one big overlapping entry. This shows the original source was insufficeint, at least for Africa, in terms of data collecting. The same rationale for happiness will be used for crime index."
   ]
  },
  {
   "cell_type": "code",
   "execution_count": 133,
   "metadata": {},
   "outputs": [
    {
     "data": {
      "application/vnd.plotly.v1+json": {
       "config": {
        "plotlyServerURL": "https://plot.ly"
       },
       "data": [
        {
         "hovertemplate": "Continent=Africa<br>epi_score2022=%{x}<br>country=%{y}<extra></extra>",
         "legendgroup": "Africa",
         "marker": {
          "color": "#636efa",
          "symbol": "circle"
         },
         "mode": "markers",
         "name": "Africa",
         "orientation": "h",
         "showlegend": true,
         "type": "scatter",
         "x": [
          53.2,
          12.8,
          13.4,
          20.8,
          19.325000000000003,
          5.3,
          7.7,
          19.325000000000003,
          19.325000000000003,
          19.325000000000003,
          15.2,
          13.5,
          19.325000000000003,
          18.3,
          36.6,
          36.6,
          33.1,
          6.3,
          10.9,
          27.6,
          19.1,
          20.8,
          11.2,
          6.7,
          19.325000000000003,
          13.6,
          7.2,
          9.8,
          19.325000000000003,
          5.9,
          12,
          8.2,
          13.6,
          65.5,
          40.8,
          16.4,
          19.6,
          1.4,
          4.9,
          16.9,
          35.2,
          13.1,
          51.4,
          11.5,
          19.325000000000003,
          24.6,
          19.325000000000003,
          22.3,
          19.325000000000003,
          18.4,
          5.1,
          52.6,
          17.6,
          13.4,
          16.8
         ],
         "xaxis": "x",
         "y": [
          "Algeria",
          "Angola",
          "Benin",
          "Botswana",
          "Burkina",
          "Burundi",
          "Cameroon",
          "Cape Verde",
          "Central African Republic",
          "Chad",
          "Comoros",
          "Congo",
          "Congo, Democratic Republic of",
          "Djibouti",
          "Egypt",
          "Egypt",
          "Equatorial Guinea",
          "Eritrea",
          "Ethiopia",
          "Gabon",
          "Gambia",
          "Ghana",
          "Guinea",
          "Guinea-Bissau",
          "Ivory Coast",
          "Kenya",
          "Lesotho",
          "Liberia",
          "Libya",
          "Madagascar",
          "Malawi",
          "Mali",
          "Mauritania",
          "Mauritius",
          "Morocco",
          "Mozambique",
          "Namibia",
          "Niger",
          "Nigeria",
          "Rwanda",
          "Sao Tome and Principe",
          "Senegal",
          "Seychelles",
          "Sierra Leone",
          "Somalia",
          "South Africa",
          "South Sudan",
          "Sudan",
          "Swaziland",
          "Tanzania",
          "Togo",
          "Tunisia",
          "Uganda",
          "Zambia",
          "Zimbabwe"
         ],
         "yaxis": "y"
        },
        {
         "hovertemplate": "Continent=Asia<br>epi_score2022=%{x}<br>country=%{y}<extra></extra>",
         "legendgroup": "Asia",
         "marker": {
          "color": "#EF553B",
          "symbol": "circle"
         },
         "mode": "markers",
         "name": "Asia",
         "orientation": "h",
         "showlegend": true,
         "type": "scatter",
         "x": [
          28,
          56.6,
          27.3,
          31.2,
          51.43421052631579,
          51.43421052631579,
          34.2,
          59.4,
          51.43421052631579,
          19.4,
          28.4,
          53.6,
          49.6,
          92.8,
          95,
          62.6,
          55.1,
          55.1,
          55.1,
          55.1,
          51.43421052631579,
          90.7,
          67.4,
          45.5,
          26.5,
          59.7,
          57.6,
          47.8,
          43.1,
          27,
          58.3,
          17.4,
          39,
          66.5,
          55.4,
          55.4,
          55.4,
          59.3,
          93.2,
          48.4,
          51.43421052631579,
          30.9,
          55.8,
          52.6,
          52.6,
          52.6,
          52.6,
          47.3,
          67.2,
          52,
          52.7,
          51.43421052631579
         ],
         "xaxis": "x",
         "y": [
          "Afghanistan",
          "Bahrain",
          "Bangladesh",
          "Bhutan",
          "Brunei",
          "Burma (Myanmar)",
          "Cambodia",
          "China",
          "East Timor",
          "India",
          "Indonesia",
          "Iran",
          "Iraq",
          "Israel",
          "Japan",
          "Jordan",
          "Kazakhstan",
          "Kazakhstan",
          "Kazakhstan",
          "Kazakhstan",
          "North Korea",
          "South Korea",
          "Kuwait",
          "Kyrgyzstan",
          "Laos",
          "Lebanon",
          "Malaysia",
          "Maldives",
          "Mongolia",
          "Nepal",
          "Oman",
          "Pakistan",
          "Philippines",
          "Qatar",
          "Russia",
          "Russia",
          "Russia",
          "Saudi Arabia",
          "Singapore",
          "Sri Lanka",
          "Syria",
          "Tajikistan",
          "Thailand",
          "Turkey",
          "Turkey",
          "Turkey",
          "Turkey",
          "Turkmenistan",
          "United Arab Emirates",
          "Uzbekistan",
          "Vietnam",
          "Yemen"
         ],
         "yaxis": "y"
        },
        {
         "hovertemplate": "Continent=Europe<br>epi_score2022=%{x}<br>country=%{y}<extra></extra>",
         "legendgroup": "Europe",
         "marker": {
          "color": "#00cc96",
          "symbol": "circle"
         },
         "mode": "markers",
         "name": "Europe",
         "orientation": "h",
         "showlegend": true,
         "type": "scatter",
         "x": [
          54,
          79.08536585365853,
          57.2,
          57.2,
          57.2,
          57.2,
          94.7,
          45.5,
          45.5,
          45.5,
          45.5,
          60.5,
          93.6,
          61.4,
          68.3,
          70.2,
          93.9,
          93.9,
          93.9,
          93.9,
          76.4,
          97.4,
          61.9,
          100,
          96.2,
          51.6,
          51.6,
          51.6,
          51.6,
          99,
          98.2,
          62.2,
          100,
          97.4,
          98.2,
          59,
          79.08536585365853,
          58.3,
          98.6,
          79.08536585365853,
          99.8,
          50,
          79.08536585365853,
          65.6,
          100,
          100,
          71.7,
          83.4,
          55.9,
          79.08536585365853,
          65.5,
          71.8,
          74.7,
          96.8,
          98.5,
          100,
          55.1,
          100,
          79.08536585365853
         ],
         "xaxis": "x",
         "y": [
          "Albania",
          "Andorra",
          "Armenia",
          "Armenia",
          "Armenia",
          "Armenia",
          "Austria",
          "Azerbaijan",
          "Azerbaijan",
          "Azerbaijan",
          "Azerbaijan",
          "Belarus",
          "Belgium",
          "Bosnia and Herzegovina",
          "Bulgaria",
          "Croatia",
          "Cyprus",
          "Cyprus",
          "Cyprus",
          "Cyprus",
          "Czech Republic",
          "Denmark",
          "Estonia",
          "Finland",
          "France",
          "Georgia",
          "Georgia",
          "Georgia",
          "Georgia",
          "Germany",
          "Greece",
          "Hungary",
          "Iceland",
          "Ireland",
          "Italy",
          "Latvia",
          "Liechtenstein",
          "Lithuania",
          "Luxembourg",
          "Macedonia",
          "Malta",
          "Moldova",
          "Monaco",
          "Montenegro",
          "Netherlands",
          "Norway",
          "Poland",
          "Portugal",
          "Romania",
          "San Marino",
          "Serbia",
          "Slovakia",
          "Slovenia",
          "Spain",
          "Sweden",
          "Switzerland",
          "Ukraine",
          "United Kingdom",
          "Vatican City"
         ],
         "yaxis": "y"
        },
        {
         "hovertemplate": "Continent=North America<br>epi_score2022=%{x}<br>country=%{y}<extra></extra>",
         "legendgroup": "North America",
         "marker": {
          "color": "#ab63fa",
          "symbol": "circle"
         },
         "mode": "markers",
         "name": "North America",
         "orientation": "h",
         "showlegend": true,
         "type": "scatter",
         "x": [
          50,
          55,
          51.9,
          42.6,
          88,
          66.1,
          49.6,
          47.5,
          38.9,
          41.6,
          47,
          28.2,
          14,
          31.8,
          49.3,
          52.8,
          42.8,
          43.5,
          48.59090909090909,
          45.4,
          43.5,
          53.4,
          86.1
         ],
         "xaxis": "x",
         "y": [
          "Antigua and Barbuda",
          "Bahamas",
          "Barbados",
          "Belize",
          "Canada",
          "Costa Rica",
          "Cuba",
          "Dominica",
          "Dominican Republic",
          "El Salvador",
          "Grenada",
          "Guatemala",
          "Haiti",
          "Honduras",
          "Jamaica",
          "Mexico",
          "Nicaragua",
          "Panama",
          "Saint Kitts and Nevis",
          "Saint Lucia",
          "Saint Vincent and the Grenadines",
          "Trinidad and Tobago",
          "United States"
         ],
         "yaxis": "y"
        },
        {
         "hovertemplate": "Continent=Oceania<br>epi_score2022=%{x}<br>country=%{y}<extra></extra>",
         "legendgroup": "Oceania",
         "marker": {
          "color": "#FFA15A",
          "symbol": "circle"
         },
         "mode": "markers",
         "name": "Oceania",
         "orientation": "h",
         "showlegend": true,
         "type": "scatter",
         "x": [
          87,
          34.6,
          16.3,
          32.2,
          35.5,
          35.5,
          39.32727272727273,
          80.4,
          39.32727272727273,
          15.5,
          49.2,
          14,
          46.4,
          39.32727272727273,
          21.5
         ],
         "xaxis": "x",
         "y": [
          "Australia",
          "Fiji",
          "Kiribati",
          "Marshall Islands",
          "Micronesia",
          "Micronesia",
          "Nauru",
          "New Zealand",
          "Palau",
          "Papua New Guinea",
          "Samoa",
          "Solomon Islands",
          "Tonga",
          "Tuvalu",
          "Vanuatu"
         ],
         "yaxis": "y"
        },
        {
         "hovertemplate": "Continent=South America<br>epi_score2022=%{x}<br>country=%{y}<extra></extra>",
         "legendgroup": "South America",
         "marker": {
          "color": "#19d3f3",
          "symbol": "circle"
         },
         "mode": "markers",
         "name": "South America",
         "orientation": "h",
         "showlegend": true,
         "type": "scatter",
         "x": [
          64.7,
          40,
          46.1,
          68.1,
          55.8,
          50.2,
          35.3,
          47.5,
          43,
          39.3,
          70.8,
          46.8
         ],
         "xaxis": "x",
         "y": [
          "Argentina",
          "Bolivia",
          "Brazil",
          "Chile",
          "Colombia",
          "Ecuador",
          "Guyana",
          "Paraguay",
          "Peru",
          "Suriname",
          "Uruguay",
          "Venezuela"
         ],
         "yaxis": "y"
        }
       ],
       "layout": {
        "legend": {
         "title": {
          "text": "Continent"
         },
         "tracegroupgap": 0
        },
        "margin": {
         "t": 60
        },
        "template": {
         "data": {
          "bar": [
           {
            "error_x": {
             "color": "#2a3f5f"
            },
            "error_y": {
             "color": "#2a3f5f"
            },
            "marker": {
             "line": {
              "color": "#E5ECF6",
              "width": 0.5
             },
             "pattern": {
              "fillmode": "overlay",
              "size": 10,
              "solidity": 0.2
             }
            },
            "type": "bar"
           }
          ],
          "barpolar": [
           {
            "marker": {
             "line": {
              "color": "#E5ECF6",
              "width": 0.5
             },
             "pattern": {
              "fillmode": "overlay",
              "size": 10,
              "solidity": 0.2
             }
            },
            "type": "barpolar"
           }
          ],
          "carpet": [
           {
            "aaxis": {
             "endlinecolor": "#2a3f5f",
             "gridcolor": "white",
             "linecolor": "white",
             "minorgridcolor": "white",
             "startlinecolor": "#2a3f5f"
            },
            "baxis": {
             "endlinecolor": "#2a3f5f",
             "gridcolor": "white",
             "linecolor": "white",
             "minorgridcolor": "white",
             "startlinecolor": "#2a3f5f"
            },
            "type": "carpet"
           }
          ],
          "choropleth": [
           {
            "colorbar": {
             "outlinewidth": 0,
             "ticks": ""
            },
            "type": "choropleth"
           }
          ],
          "contour": [
           {
            "colorbar": {
             "outlinewidth": 0,
             "ticks": ""
            },
            "colorscale": [
             [
              0,
              "#0d0887"
             ],
             [
              0.1111111111111111,
              "#46039f"
             ],
             [
              0.2222222222222222,
              "#7201a8"
             ],
             [
              0.3333333333333333,
              "#9c179e"
             ],
             [
              0.4444444444444444,
              "#bd3786"
             ],
             [
              0.5555555555555556,
              "#d8576b"
             ],
             [
              0.6666666666666666,
              "#ed7953"
             ],
             [
              0.7777777777777778,
              "#fb9f3a"
             ],
             [
              0.8888888888888888,
              "#fdca26"
             ],
             [
              1,
              "#f0f921"
             ]
            ],
            "type": "contour"
           }
          ],
          "contourcarpet": [
           {
            "colorbar": {
             "outlinewidth": 0,
             "ticks": ""
            },
            "type": "contourcarpet"
           }
          ],
          "heatmap": [
           {
            "colorbar": {
             "outlinewidth": 0,
             "ticks": ""
            },
            "colorscale": [
             [
              0,
              "#0d0887"
             ],
             [
              0.1111111111111111,
              "#46039f"
             ],
             [
              0.2222222222222222,
              "#7201a8"
             ],
             [
              0.3333333333333333,
              "#9c179e"
             ],
             [
              0.4444444444444444,
              "#bd3786"
             ],
             [
              0.5555555555555556,
              "#d8576b"
             ],
             [
              0.6666666666666666,
              "#ed7953"
             ],
             [
              0.7777777777777778,
              "#fb9f3a"
             ],
             [
              0.8888888888888888,
              "#fdca26"
             ],
             [
              1,
              "#f0f921"
             ]
            ],
            "type": "heatmap"
           }
          ],
          "heatmapgl": [
           {
            "colorbar": {
             "outlinewidth": 0,
             "ticks": ""
            },
            "colorscale": [
             [
              0,
              "#0d0887"
             ],
             [
              0.1111111111111111,
              "#46039f"
             ],
             [
              0.2222222222222222,
              "#7201a8"
             ],
             [
              0.3333333333333333,
              "#9c179e"
             ],
             [
              0.4444444444444444,
              "#bd3786"
             ],
             [
              0.5555555555555556,
              "#d8576b"
             ],
             [
              0.6666666666666666,
              "#ed7953"
             ],
             [
              0.7777777777777778,
              "#fb9f3a"
             ],
             [
              0.8888888888888888,
              "#fdca26"
             ],
             [
              1,
              "#f0f921"
             ]
            ],
            "type": "heatmapgl"
           }
          ],
          "histogram": [
           {
            "marker": {
             "pattern": {
              "fillmode": "overlay",
              "size": 10,
              "solidity": 0.2
             }
            },
            "type": "histogram"
           }
          ],
          "histogram2d": [
           {
            "colorbar": {
             "outlinewidth": 0,
             "ticks": ""
            },
            "colorscale": [
             [
              0,
              "#0d0887"
             ],
             [
              0.1111111111111111,
              "#46039f"
             ],
             [
              0.2222222222222222,
              "#7201a8"
             ],
             [
              0.3333333333333333,
              "#9c179e"
             ],
             [
              0.4444444444444444,
              "#bd3786"
             ],
             [
              0.5555555555555556,
              "#d8576b"
             ],
             [
              0.6666666666666666,
              "#ed7953"
             ],
             [
              0.7777777777777778,
              "#fb9f3a"
             ],
             [
              0.8888888888888888,
              "#fdca26"
             ],
             [
              1,
              "#f0f921"
             ]
            ],
            "type": "histogram2d"
           }
          ],
          "histogram2dcontour": [
           {
            "colorbar": {
             "outlinewidth": 0,
             "ticks": ""
            },
            "colorscale": [
             [
              0,
              "#0d0887"
             ],
             [
              0.1111111111111111,
              "#46039f"
             ],
             [
              0.2222222222222222,
              "#7201a8"
             ],
             [
              0.3333333333333333,
              "#9c179e"
             ],
             [
              0.4444444444444444,
              "#bd3786"
             ],
             [
              0.5555555555555556,
              "#d8576b"
             ],
             [
              0.6666666666666666,
              "#ed7953"
             ],
             [
              0.7777777777777778,
              "#fb9f3a"
             ],
             [
              0.8888888888888888,
              "#fdca26"
             ],
             [
              1,
              "#f0f921"
             ]
            ],
            "type": "histogram2dcontour"
           }
          ],
          "mesh3d": [
           {
            "colorbar": {
             "outlinewidth": 0,
             "ticks": ""
            },
            "type": "mesh3d"
           }
          ],
          "parcoords": [
           {
            "line": {
             "colorbar": {
              "outlinewidth": 0,
              "ticks": ""
             }
            },
            "type": "parcoords"
           }
          ],
          "pie": [
           {
            "automargin": true,
            "type": "pie"
           }
          ],
          "scatter": [
           {
            "fillpattern": {
             "fillmode": "overlay",
             "size": 10,
             "solidity": 0.2
            },
            "type": "scatter"
           }
          ],
          "scatter3d": [
           {
            "line": {
             "colorbar": {
              "outlinewidth": 0,
              "ticks": ""
             }
            },
            "marker": {
             "colorbar": {
              "outlinewidth": 0,
              "ticks": ""
             }
            },
            "type": "scatter3d"
           }
          ],
          "scattercarpet": [
           {
            "marker": {
             "colorbar": {
              "outlinewidth": 0,
              "ticks": ""
             }
            },
            "type": "scattercarpet"
           }
          ],
          "scattergeo": [
           {
            "marker": {
             "colorbar": {
              "outlinewidth": 0,
              "ticks": ""
             }
            },
            "type": "scattergeo"
           }
          ],
          "scattergl": [
           {
            "marker": {
             "colorbar": {
              "outlinewidth": 0,
              "ticks": ""
             }
            },
            "type": "scattergl"
           }
          ],
          "scattermapbox": [
           {
            "marker": {
             "colorbar": {
              "outlinewidth": 0,
              "ticks": ""
             }
            },
            "type": "scattermapbox"
           }
          ],
          "scatterpolar": [
           {
            "marker": {
             "colorbar": {
              "outlinewidth": 0,
              "ticks": ""
             }
            },
            "type": "scatterpolar"
           }
          ],
          "scatterpolargl": [
           {
            "marker": {
             "colorbar": {
              "outlinewidth": 0,
              "ticks": ""
             }
            },
            "type": "scatterpolargl"
           }
          ],
          "scatterternary": [
           {
            "marker": {
             "colorbar": {
              "outlinewidth": 0,
              "ticks": ""
             }
            },
            "type": "scatterternary"
           }
          ],
          "surface": [
           {
            "colorbar": {
             "outlinewidth": 0,
             "ticks": ""
            },
            "colorscale": [
             [
              0,
              "#0d0887"
             ],
             [
              0.1111111111111111,
              "#46039f"
             ],
             [
              0.2222222222222222,
              "#7201a8"
             ],
             [
              0.3333333333333333,
              "#9c179e"
             ],
             [
              0.4444444444444444,
              "#bd3786"
             ],
             [
              0.5555555555555556,
              "#d8576b"
             ],
             [
              0.6666666666666666,
              "#ed7953"
             ],
             [
              0.7777777777777778,
              "#fb9f3a"
             ],
             [
              0.8888888888888888,
              "#fdca26"
             ],
             [
              1,
              "#f0f921"
             ]
            ],
            "type": "surface"
           }
          ],
          "table": [
           {
            "cells": {
             "fill": {
              "color": "#EBF0F8"
             },
             "line": {
              "color": "white"
             }
            },
            "header": {
             "fill": {
              "color": "#C8D4E3"
             },
             "line": {
              "color": "white"
             }
            },
            "type": "table"
           }
          ]
         },
         "layout": {
          "annotationdefaults": {
           "arrowcolor": "#2a3f5f",
           "arrowhead": 0,
           "arrowwidth": 1
          },
          "autotypenumbers": "strict",
          "coloraxis": {
           "colorbar": {
            "outlinewidth": 0,
            "ticks": ""
           }
          },
          "colorscale": {
           "diverging": [
            [
             0,
             "#8e0152"
            ],
            [
             0.1,
             "#c51b7d"
            ],
            [
             0.2,
             "#de77ae"
            ],
            [
             0.3,
             "#f1b6da"
            ],
            [
             0.4,
             "#fde0ef"
            ],
            [
             0.5,
             "#f7f7f7"
            ],
            [
             0.6,
             "#e6f5d0"
            ],
            [
             0.7,
             "#b8e186"
            ],
            [
             0.8,
             "#7fbc41"
            ],
            [
             0.9,
             "#4d9221"
            ],
            [
             1,
             "#276419"
            ]
           ],
           "sequential": [
            [
             0,
             "#0d0887"
            ],
            [
             0.1111111111111111,
             "#46039f"
            ],
            [
             0.2222222222222222,
             "#7201a8"
            ],
            [
             0.3333333333333333,
             "#9c179e"
            ],
            [
             0.4444444444444444,
             "#bd3786"
            ],
            [
             0.5555555555555556,
             "#d8576b"
            ],
            [
             0.6666666666666666,
             "#ed7953"
            ],
            [
             0.7777777777777778,
             "#fb9f3a"
            ],
            [
             0.8888888888888888,
             "#fdca26"
            ],
            [
             1,
             "#f0f921"
            ]
           ],
           "sequentialminus": [
            [
             0,
             "#0d0887"
            ],
            [
             0.1111111111111111,
             "#46039f"
            ],
            [
             0.2222222222222222,
             "#7201a8"
            ],
            [
             0.3333333333333333,
             "#9c179e"
            ],
            [
             0.4444444444444444,
             "#bd3786"
            ],
            [
             0.5555555555555556,
             "#d8576b"
            ],
            [
             0.6666666666666666,
             "#ed7953"
            ],
            [
             0.7777777777777778,
             "#fb9f3a"
            ],
            [
             0.8888888888888888,
             "#fdca26"
            ],
            [
             1,
             "#f0f921"
            ]
           ]
          },
          "colorway": [
           "#636efa",
           "#EF553B",
           "#00cc96",
           "#ab63fa",
           "#FFA15A",
           "#19d3f3",
           "#FF6692",
           "#B6E880",
           "#FF97FF",
           "#FECB52"
          ],
          "font": {
           "color": "#2a3f5f"
          },
          "geo": {
           "bgcolor": "white",
           "lakecolor": "white",
           "landcolor": "#E5ECF6",
           "showlakes": true,
           "showland": true,
           "subunitcolor": "white"
          },
          "hoverlabel": {
           "align": "left"
          },
          "hovermode": "closest",
          "mapbox": {
           "style": "light"
          },
          "paper_bgcolor": "white",
          "plot_bgcolor": "#E5ECF6",
          "polar": {
           "angularaxis": {
            "gridcolor": "white",
            "linecolor": "white",
            "ticks": ""
           },
           "bgcolor": "#E5ECF6",
           "radialaxis": {
            "gridcolor": "white",
            "linecolor": "white",
            "ticks": ""
           }
          },
          "scene": {
           "xaxis": {
            "backgroundcolor": "#E5ECF6",
            "gridcolor": "white",
            "gridwidth": 2,
            "linecolor": "white",
            "showbackground": true,
            "ticks": "",
            "zerolinecolor": "white"
           },
           "yaxis": {
            "backgroundcolor": "#E5ECF6",
            "gridcolor": "white",
            "gridwidth": 2,
            "linecolor": "white",
            "showbackground": true,
            "ticks": "",
            "zerolinecolor": "white"
           },
           "zaxis": {
            "backgroundcolor": "#E5ECF6",
            "gridcolor": "white",
            "gridwidth": 2,
            "linecolor": "white",
            "showbackground": true,
            "ticks": "",
            "zerolinecolor": "white"
           }
          },
          "shapedefaults": {
           "line": {
            "color": "#2a3f5f"
           }
          },
          "ternary": {
           "aaxis": {
            "gridcolor": "white",
            "linecolor": "white",
            "ticks": ""
           },
           "baxis": {
            "gridcolor": "white",
            "linecolor": "white",
            "ticks": ""
           },
           "bgcolor": "#E5ECF6",
           "caxis": {
            "gridcolor": "white",
            "linecolor": "white",
            "ticks": ""
           }
          },
          "title": {
           "x": 0.05
          },
          "xaxis": {
           "automargin": true,
           "gridcolor": "white",
           "linecolor": "white",
           "ticks": "",
           "title": {
            "standoff": 15
           },
           "zerolinecolor": "white",
           "zerolinewidth": 2
          },
          "yaxis": {
           "automargin": true,
           "gridcolor": "white",
           "linecolor": "white",
           "ticks": "",
           "title": {
            "standoff": 15
           },
           "zerolinecolor": "white",
           "zerolinewidth": 2
          }
         }
        },
        "xaxis": {
         "anchor": "y",
         "domain": [
          0,
          1
         ],
         "title": {
          "text": "epi_score2022"
         }
        },
        "yaxis": {
         "anchor": "x",
         "domain": [
          0,
          1
         ],
         "title": {
          "text": "country"
         }
        }
       }
      }
     },
     "metadata": {},
     "output_type": "display_data"
    }
   ],
   "source": [
    "fig = px.scatter(data, x=\"epi_score2022\", y=\"country\", color=\"Continent\", hover_data=['epi_score2022'])\n",
    "fig.show()"
   ]
  },
  {
   "cell_type": "markdown",
   "metadata": {},
   "source": [
    "This is an example of a more healthy data spread."
   ]
  },
  {
   "cell_type": "markdown",
   "metadata": {},
   "source": [
    "Religion will also be removed beacause it shows no variety as many countries represent Christianity, and therefore accomplishes nothing.\n",
    "\n",
    "To withold the intergrity of the study, these variables are best removed."
   ]
  },
  {
   "cell_type": "code",
   "execution_count": 4,
   "metadata": {},
   "outputs": [],
   "source": [
    "from sklearn import preprocessing\n",
    "\n",
    "info = data.drop(['Continent', 'country','crimeIndex','happiness2021','food_insecurity_2017','religion'], axis=1)\n",
    "scaler = preprocessing.MinMaxScaler()\n",
    "data_transform = scaler.fit_transform(info)\n",
    "data_transform = pd.DataFrame(data_transform)\n",
    "data_transform.columns = info.columns"
   ]
  },
  {
   "cell_type": "code",
   "execution_count": 5,
   "metadata": {},
   "outputs": [
    {
     "data": {
      "text/plain": [
       "<BarContainer object of 10 artists>"
      ]
     },
     "execution_count": 5,
     "metadata": {},
     "output_type": "execute_result"
    },
    {
     "data": {
      "image/png": "[encoded data removed]",
      "text/plain": [
       "<Figure size 432x288 with 1 Axes>"
      ]
     },
     "metadata": {
      "needs_background": "light"
     },
     "output_type": "display_data"
    }
   ],
   "source": [
    "rf = RandomForestRegressor(n_estimators=100)\n",
    "rf.fit(data_transform,pd.get_dummies(data['Continent']))\n",
    "\n",
    "sorted_idx = rf.feature_importances_.argsort()\n",
    "plt.barh(info.columns[sorted_idx], rf.feature_importances_[sorted_idx])"
   ]
  },
  {
   "cell_type": "markdown",
   "metadata": {},
   "source": [
    "These are the final variables I will be progressing with the analysis.\n",
    "\n",
    "Because we are handling with many variables, it is desirable to do a PCA. This reduces to the dimensionality of the data and makes explaining the data a lot of manageable while also tolerating outliers."
   ]
  },
  {
   "cell_type": "markdown",
   "metadata": {},
   "source": [
    "## PCA graph with two components"
   ]
  },
  {
   "cell_type": "code",
   "execution_count": 10,
   "metadata": {},
   "outputs": [],
   "source": [
    "from sklearn.decomposition import PCA\n",
    "pca = PCA(n_components=2)\n",
    "x_pca = pca.fit_transform(data_transform)"
   ]
  },
  {
   "cell_type": "code",
   "execution_count": 9,
   "metadata": {},
   "outputs": [
    {
     "data": {
      "application/vnd.plotly.v1+json": {
       "config": {
        "plotlyServerURL": "https://plot.ly"
       },
       "data": [
        {
         "hovertemplate": "color=Africa<br>0=%{x}<br>1=%{y}<extra></extra>",
         "legendgroup": "Africa",
         "marker": {
          "color": "#636efa",
          "symbol": "circle"
         },
         "mode": "markers",
         "name": "Africa",
         "orientation": "v",
         "showlegend": true,
         "type": "scatter",
         "x": [
          0.06841340729520837,
          0.7285881106815053,
          0.7635952443483631,
          0.25385280557938694,
          0.7520367302445704,
          0.9835218108133624,
          0.8630981121223412,
          0.606072025470267,
          1.272233061486767,
          1.1268465269065715,
          0.8079039214995951,
          0.8378520665505204,
          0.7520367302445704,
          0.5988458406795358,
          0.28948967066069037,
          0.28948967066069037,
          0.7409484207177024,
          0.7907488692157827,
          0.8456403616242428,
          0.42530555827510047,
          0.7662990284413079,
          0.5688301065595365,
          0.916259544182104,
          1.0305685192418044,
          0.703381828653136,
          0.711186577471973,
          0.9676383543756795,
          0.9642051479933677,
          0.4958695603205273,
          0.8751549144131922,
          0.7630971870426404,
          0.9244810851552129,
          0.6922036266762723,
          -0.1674885938787086,
          0.14886869175237977,
          0.7577355324042432,
          0.5460425880963647,
          0.9072790499817559,
          1.0179261700077407,
          0.7357264678923066,
          0.5006932758208962,
          0.6967489297251005,
          0.17308144743560133,
          1.0676859923587643,
          1.0109756983271854,
          -0.07329771707211077,
          0.9736134437483521,
          0.760739991727309,
          0.7520367302445704,
          0.7029841891419253,
          0.9572070874411419,
          0.07218631029712345,
          0.772088237008615,
          0.8250458787019822,
          0.680685276317897
         ],
         "xaxis": "x",
         "y": [
          0.36455045614258236,
          -0.33182710460128206,
          -0.12888551386090727,
          -0.05747206508884459,
          -0.028472406080977182,
          -0.16077165741346996,
          -0.050012054612195364,
          -0.2719887972038835,
          -0.47443524555511757,
          -0.28281148215726126,
          -0.0734199582205448,
          -0.08306252874557585,
          -0.028472406080977182,
          -0.04204415135843541,
          0.28115176771432465,
          0.28115176771432465,
          -0.16818891108977851,
          -0.060322947612197045,
          -0.10239801672601836,
          0.044210061629347465,
          -0.043574132356480576,
          -0.026663829342298516,
          -0.1283636143947752,
          -0.2803655846220229,
          -0.10964453645527926,
          -0.13613008001341317,
          -0.2292488153575415,
          -0.1632541843755266,
          0.2331145704375649,
          -0.24445049875368483,
          -0.054839086758661594,
          -0.20821028167611938,
          0.021265272287650388,
          0.06849220241931198,
          0.3147664935090214,
          -0.3726688943054908,
          -0.11512906866329756,
          -0.21721304072284003,
          -0.13224041151119872,
          -0.18961908926409524,
          0.08443805096647955,
          0.00377353836503886,
          -0.08030301258445843,
          -0.3178390368478042,
          -0.17941021393014353,
          -0.5501219217830101,
          -0.14275666632282408,
          -0.035741013567564234,
          -0.028472406080977182,
          -0.004129403424428157,
          -0.1317409151780349,
          0.34758046681633736,
          -0.06706027352766479,
          -0.09935374437281035,
          -0.07122510581167099
         ],
         "yaxis": "y"
        },
        {
         "hovertemplate": "color=Asia<br>0=%{x}<br>1=%{y}<extra></extra>",
         "legendgroup": "Asia",
         "marker": {
          "color": "#EF553B",
          "symbol": "circle"
         },
         "mode": "markers",
         "name": "Asia",
         "orientation": "v",
         "showlegend": true,
         "type": "scatter",
         "x": [
          0.9046859225855908,
          -0.1290047556133528,
          0.4765632307331525,
          0.34599850369303026,
          0.10024847502749039,
          0.04211348807166132,
          0.32507742933619815,
          -0.29277724222366686,
          -0.006541413519773187,
          0.2941400502626761,
          0.20309460063212914,
          0.024643953142411593,
          0.38076467956243354,
          -0.9754456766274332,
          -0.7341673850307208,
          -0.06131127824270611,
          -0.19448900577715064,
          -0.19448900577715064,
          -0.19448900577715064,
          -0.19448900577715064,
          0.4437977570131677,
          -0.5233737327409592,
          -0.16579586168143984,
          0.08605676054357612,
          0.47923930920790864,
          -0.025308478076233373,
          -0.0008031966478987757,
          0.03649537054473422,
          -0.052184109564539484,
          0.23837356744301832,
          -0.11927172481257087,
          0.6010349696748107,
          0.18195403777247704,
          -0.2980140380060401,
          -0.10703619067787162,
          -0.10703619067787162,
          -0.10703619067787162,
          -0.044955391413211955,
          -0.6571067485893037,
          0.03567931153303306,
          0.08400787490913503,
          0.2313628130153892,
          -0.06870710887015191,
          -0.00020112545380958447,
          -0.00020112545380958447,
          -0.00020112545380958447,
          -0.00020112545380958447,
          0.14417731577638707,
          -0.25784288007913486,
          0.011038342648027319,
          -0.07311661452575824,
          0.7636719782107663
         ],
         "xaxis": "x",
         "y": [
          -0.16052626372727907,
          0.32635933453797333,
          -0.031526936619729044,
          0.03836403765507044,
          0.3807003019424932,
          0.13918787304967545,
          -0.2809020011951,
          0.07209810816968214,
          0.05801574267537334,
          -0.4461991960115758,
          -0.1760866945053087,
          0.25431074490811445,
          0.10625703238594496,
          -0.21400894793222766,
          0.12224067948673856,
          0.23113671155390067,
          0.20742932730641608,
          0.20742932730641608,
          0.20742932730641608,
          0.20742932730641608,
          -0.08288878606206923,
          0.12641319867299042,
          0.5051807229449727,
          0.1024905091169417,
          0.017466769542589137,
          0.20891231178928166,
          0.37860745781443134,
          0.2996372422501554,
          -0.002202236554527941,
          -0.32667631091068067,
          0.5296357766395343,
          -0.2703764704096516,
          -0.18761055114140587,
          0.7355079635415394,
          0.26824781475088066,
          0.26824781475088066,
          0.26824781475088066,
          0.5135841360323803,
          0.07359336032356603,
          0.19069724255004836,
          0.19556785086266412,
          0.03650498101845915,
          -0.16883427544196103,
          0.14079100280004078,
          0.14079100280004078,
          0.14079100280004078,
          0.14079100280004078,
          0.25231801099050866,
          0.6345199251833645,
          0.25147628359394,
          -0.2119840893448644,
          -0.10692536512587127
         ],
         "yaxis": "y"
        },
        {
         "hovertemplate": "color=Europe<br>0=%{x}<br>1=%{y}<extra></extra>",
         "legendgroup": "Europe",
         "marker": {
          "color": "#00cc96",
          "symbol": "circle"
         },
         "mode": "markers",
         "name": "Europe",
         "orientation": "v",
         "showlegend": true,
         "type": "scatter",
         "x": [
          -0.295657352296146,
          -0.7769153518556015,
          -0.14267781897802287,
          -0.14267781897802287,
          -0.14267781897802287,
          -0.14267781897802287,
          -0.9846022803278497,
          0.06469958755022087,
          0.06469958755022087,
          0.06469958755022087,
          0.06469958755022087,
          -0.1811079927773223,
          -0.9198257846535519,
          -0.30998555958978563,
          -0.44349931231672485,
          -0.5918811823147355,
          -0.7203412532126902,
          -0.7203412532126902,
          -0.7203412532126902,
          -0.7203412532126902,
          -0.6809796603401232,
          -0.9965567732525685,
          -0.6869026525429708,
          -1.0531050248022933,
          -0.9497030499614711,
          -0.12974548374056002,
          -0.12974548374056002,
          -0.12974548374056002,
          -0.12974548374056002,
          -1.0192538035234375,
          -0.7741308873567646,
          -0.5116397032552611,
          -1.1203904337425592,
          -1.0466996327934917,
          -0.7676340886626261,
          -0.48891662151668475,
          -0.5559208459424684,
          -0.5910241593187333,
          -1.0498137365294808,
          -0.5559208459424684,
          -0.9953953772962432,
          -0.22338548869189304,
          -0.5559208459424684,
          -0.5822429523504089,
          -0.991653059755409,
          -1.0683936570175776,
          -0.6545341237138721,
          -0.8406253801599611,
          -0.46110812369105303,
          -0.5559208459424684,
          -0.3018158399297241,
          -0.4652819482703883,
          -0.8530740660721876,
          -0.9220918977829737,
          -1.0202835719084404,
          -1.0312822744030963,
          -0.134216788969698,
          -0.9806036689949479,
          -0.31264633798529584
         ],
         "xaxis": "x",
         "y": [
          0.081131195512113,
          -0.19372355350021936,
          0.11046832531854758,
          0.11046832531854758,
          0.11046832531854758,
          0.11046832531854758,
          -0.2310837752983119,
          0.24899658891700185,
          0.24899658891700185,
          0.24899658891700185,
          0.24899658891700185,
          0.1760576944583685,
          -0.25297962684402786,
          -0.0028754713691079474,
          -0.12715298287631274,
          -0.1784362877631837,
          -0.048725323600145524,
          -0.048725323600145524,
          -0.048725323600145524,
          -0.048725323600145524,
          0.007561621817479906,
          -0.2439217725136464,
          -0.060668160729093916,
          -0.19612994621420543,
          -0.26541965784673255,
          0.020789618092654512,
          0.020789618092654512,
          0.020789618092654512,
          0.020789618092654512,
          -0.20162634102605587,
          -0.021846799982372753,
          -0.08474429127805956,
          -0.054459636086131705,
          -0.18634839708680093,
          -0.050577792676513786,
          -0.10953074666691442,
          0.000608496198272476,
          -0.052868684129287205,
          -0.1492791393285193,
          0.000608496198272476,
          -0.22440218531095293,
          -0.0373263528915989,
          0.000608496198272476,
          0.0340488886124353,
          -0.2304059406325987,
          -0.1891804040465684,
          -0.030824641257100188,
          -0.3159790832095703,
          -0.13288377100789486,
          0.000608496198272476,
          -0.010539267540119341,
          -0.13883290299111084,
          -0.2654809089933685,
          -0.27579639928785193,
          -0.23778664342668443,
          -0.2347362855087772,
          -0.061107259751854305,
          -0.224569906256344,
          0.40646914806978296
         ],
         "yaxis": "y"
        },
        {
         "hovertemplate": "color=North America<br>0=%{x}<br>1=%{y}<extra></extra>",
         "legendgroup": "North America",
         "marker": {
          "color": "#ab63fa",
          "symbol": "circle"
         },
         "mode": "markers",
         "name": "North America",
         "orientation": "v",
         "showlegend": true,
         "type": "scatter",
         "x": [
          -0.006704976650458682,
          -0.05540403412437095,
          -0.2810463665445075,
          0.006262894814122031,
          -1.0368471849714855,
          -0.5796472483121305,
          -0.28409561344941286,
          0.023820219690233315,
          0.17699527621296948,
          0.08046363648812091,
          0.10091652111915765,
          0.2455994163742661,
          0.8998767366515779,
          0.2180517470570682,
          0.06234925974098708,
          -0.3343371105883684,
          0.2007414879738676,
          -0.18093238659344973,
          0.018203261640253997,
          -0.060863736996404495,
          0.038611511778878206,
          -0.06559206570028787,
          -0.9103501102859087
         ],
         "xaxis": "x",
         "y": [
          0.26304755533347907,
          0.2625722952909055,
          0.10880301000268425,
          0.07891257452056094,
          -0.09904088836519369,
          -0.29732786138211825,
          0.004553006241925337,
          0.38847884185266873,
          0.22114099945243254,
          -0.08357644289673814,
          0.22482665086447667,
          -0.06232906733847445,
          -0.20588153432531983,
          -0.04481168429393247,
          0.25123441217865916,
          -0.3827550084136801,
          -0.055545123175591536,
          0.05898732827293791,
          0.27351146219053124,
          0.08316079932288084,
          0.3841583396368702,
          0.4080755992823986,
          -0.15090684638760282
         ],
         "yaxis": "y"
        },
        {
         "hovertemplate": "color=Oceania<br>0=%{x}<br>1=%{y}<extra></extra>",
         "legendgroup": "Oceania",
         "marker": {
          "color": "#FFA15A",
          "symbol": "circle"
         },
         "mode": "markers",
         "name": "Oceania",
         "orientation": "v",
         "showlegend": true,
         "type": "scatter",
         "x": [
          -1.0416639643753545,
          0.13704316843109993,
          0.13552584221759664,
          -0.0034266248650972734,
          -0.031034847546926266,
          0.10071558476405731,
          0.025968521952065383,
          -0.9584174865715095,
          0.04542956197058694,
          0.7430313877862539,
          -0.1593177736127423,
          0.39131921101432315,
          0.056967193521721964,
          -0.06238485452478753,
          0.1902604179389946
         ],
         "xaxis": "x",
         "y": [
          -0.1050854306705416,
          0.04729458318843666,
          0.14090206607238673,
          0.21616315561509533,
          0.1722579766028185,
          0.10521623386798586,
          0.4328015007041895,
          -0.17910799661525018,
          0.39398345365423987,
          -0.09784953427229956,
          0.23260840013320314,
          0.2186520061969308,
          0.3476730531706362,
          0.2274585690963135,
          0.006389269467775154
         ],
         "yaxis": "y"
        },
        {
         "hovertemplate": "color=South America<br>0=%{x}<br>1=%{y}<extra></extra>",
         "legendgroup": "South America",
         "marker": {
          "color": "#19d3f3",
          "symbol": "circle"
         },
         "mode": "markers",
         "name": "South America",
         "orientation": "v",
         "showlegend": true,
         "type": "scatter",
         "x": [
          -0.6359675955961736,
          -0.020029734965562544,
          -0.3829799660283688,
          -0.6964467991019688,
          -0.392757738366694,
          -0.23541449563600697,
          0.24028521851931292,
          0.09276011259709836,
          -0.16055260278165348,
          0.10792795374889676,
          -0.6236240627570472,
          0.03263398375977547
         ],
         "xaxis": "x",
         "y": [
          -0.3489386112111615,
          -0.12579488525131016,
          -0.485644641478694,
          -0.3194803528388627,
          -0.4934700483535101,
          -0.36389724626850406,
          0.17166368295149348,
          0.1051985590411357,
          -0.07687815482281224,
          0.046715486919651994,
          -0.3800413083165455,
          0.06982595418588107
         ],
         "yaxis": "y"
        }
       ],
       "layout": {
        "legend": {
         "title": {
          "text": "color"
         },
         "tracegroupgap": 0
        },
        "margin": {
         "t": 60
        },
        "template": {
         "data": {
          "bar": [
           {
            "error_x": {
             "color": "#2a3f5f"
            },
            "error_y": {
             "color": "#2a3f5f"
            },
            "marker": {
             "line": {
              "color": "#E5ECF6",
              "width": 0.5
             },
             "pattern": {
              "fillmode": "overlay",
              "size": 10,
              "solidity": 0.2
             }
            },
            "type": "bar"
           }
          ],
          "barpolar": [
           {
            "marker": {
             "line": {
              "color": "#E5ECF6",
              "width": 0.5
             },
             "pattern": {
              "fillmode": "overlay",
              "size": 10,
              "solidity": 0.2
             }
            },
            "type": "barpolar"
           }
          ],
          "carpet": [
           {
            "aaxis": {
             "endlinecolor": "#2a3f5f",
             "gridcolor": "white",
             "linecolor": "white",
             "minorgridcolor": "white",
             "startlinecolor": "#2a3f5f"
            },
            "baxis": {
             "endlinecolor": "#2a3f5f",
             "gridcolor": "white",
             "linecolor": "white",
             "minorgridcolor": "white",
             "startlinecolor": "#2a3f5f"
            },
            "type": "carpet"
           }
          ],
          "choropleth": [
           {
            "colorbar": {
             "outlinewidth": 0,
             "ticks": ""
            },
            "type": "choropleth"
           }
          ],
          "contour": [
           {
            "colorbar": {
             "outlinewidth": 0,
             "ticks": ""
            },
            "colorscale": [
             [
              0,
              "#0d0887"
             ],
             [
              0.1111111111111111,
              "#46039f"
             ],
             [
              0.2222222222222222,
              "#7201a8"
             ],
             [
              0.3333333333333333,
              "#9c179e"
             ],
             [
              0.4444444444444444,
              "#bd3786"
             ],
             [
              0.5555555555555556,
              "#d8576b"
             ],
             [
              0.6666666666666666,
              "#ed7953"
             ],
             [
              0.7777777777777778,
              "#fb9f3a"
             ],
             [
              0.8888888888888888,
              "#fdca26"
             ],
             [
              1,
              "#f0f921"
             ]
            ],
            "type": "contour"
           }
          ],
          "contourcarpet": [
           {
            "colorbar": {
             "outlinewidth": 0,
             "ticks": ""
            },
            "type": "contourcarpet"
           }
          ],
          "heatmap": [
           {
            "colorbar": {
             "outlinewidth": 0,
             "ticks": ""
            },
            "colorscale": [
             [
              0,
              "#0d0887"
             ],
             [
              0.1111111111111111,
              "#46039f"
             ],
             [
              0.2222222222222222,
              "#7201a8"
             ],
             [
              0.3333333333333333,
              "#9c179e"
             ],
             [
              0.4444444444444444,
              "#bd3786"
             ],
             [
              0.5555555555555556,
              "#d8576b"
             ],
             [
              0.6666666666666666,
              "#ed7953"
             ],
             [
              0.7777777777777778,
              "#fb9f3a"
             ],
             [
              0.8888888888888888,
              "#fdca26"
             ],
             [
              1,
              "#f0f921"
             ]
            ],
            "type": "heatmap"
           }
          ],
          "heatmapgl": [
           {
            "colorbar": {
             "outlinewidth": 0,
             "ticks": ""
            },
            "colorscale": [
             [
              0,
              "#0d0887"
             ],
             [
              0.1111111111111111,
              "#46039f"
             ],
             [
              0.2222222222222222,
              "#7201a8"
             ],
             [
              0.3333333333333333,
              "#9c179e"
             ],
             [
              0.4444444444444444,
              "#bd3786"
             ],
             [
              0.5555555555555556,
              "#d8576b"
             ],
             [
              0.6666666666666666,
              "#ed7953"
             ],
             [
              0.7777777777777778,
              "#fb9f3a"
             ],
             [
              0.8888888888888888,
              "#fdca26"
             ],
             [
              1,
              "#f0f921"
             ]
            ],
            "type": "heatmapgl"
           }
          ],
          "histogram": [
           {
            "marker": {
             "pattern": {
              "fillmode": "overlay",
              "size": 10,
              "solidity": 0.2
             }
            },
            "type": "histogram"
           }
          ],
          "histogram2d": [
           {
            "colorbar": {
             "outlinewidth": 0,
             "ticks": ""
            },
            "colorscale": [
             [
              0,
              "#0d0887"
             ],
             [
              0.1111111111111111,
              "#46039f"
             ],
             [
              0.2222222222222222,
              "#7201a8"
             ],
             [
              0.3333333333333333,
              "#9c179e"
             ],
             [
              0.4444444444444444,
              "#bd3786"
             ],
             [
              0.5555555555555556,
              "#d8576b"
             ],
             [
              0.6666666666666666,
              "#ed7953"
             ],
             [
              0.7777777777777778,
              "#fb9f3a"
             ],
             [
              0.8888888888888888,
              "#fdca26"
             ],
             [
              1,
              "#f0f921"
             ]
            ],
            "type": "histogram2d"
           }
          ],
          "histogram2dcontour": [
           {
            "colorbar": {
             "outlinewidth": 0,
             "ticks": ""
            },
            "colorscale": [
             [
              0,
              "#0d0887"
             ],
             [
              0.1111111111111111,
              "#46039f"
             ],
             [
              0.2222222222222222,
              "#7201a8"
             ],
             [
              0.3333333333333333,
              "#9c179e"
             ],
             [
              0.4444444444444444,
              "#bd3786"
             ],
             [
              0.5555555555555556,
              "#d8576b"
             ],
             [
              0.6666666666666666,
              "#ed7953"
             ],
             [
              0.7777777777777778,
              "#fb9f3a"
             ],
             [
              0.8888888888888888,
              "#fdca26"
             ],
             [
              1,
              "#f0f921"
             ]
            ],
            "type": "histogram2dcontour"
           }
          ],
          "mesh3d": [
           {
            "colorbar": {
             "outlinewidth": 0,
             "ticks": ""
            },
            "type": "mesh3d"
           }
          ],
          "parcoords": [
           {
            "line": {
             "colorbar": {
              "outlinewidth": 0,
              "ticks": ""
             }
            },
            "type": "parcoords"
           }
          ],
          "pie": [
           {
            "automargin": true,
            "type": "pie"
           }
          ],
          "scatter": [
           {
            "fillpattern": {
             "fillmode": "overlay",
             "size": 10,
             "solidity": 0.2
            },
            "type": "scatter"
           }
          ],
          "scatter3d": [
           {
            "line": {
             "colorbar": {
              "outlinewidth": 0,
              "ticks": ""
             }
            },
            "marker": {
             "colorbar": {
              "outlinewidth": 0,
              "ticks": ""
             }
            },
            "type": "scatter3d"
           }
          ],
          "scattercarpet": [
           {
            "marker": {
             "colorbar": {
              "outlinewidth": 0,
              "ticks": ""
             }
            },
            "type": "scattercarpet"
           }
          ],
          "scattergeo": [
           {
            "marker": {
             "colorbar": {
              "outlinewidth": 0,
              "ticks": ""
             }
            },
            "type": "scattergeo"
           }
          ],
          "scattergl": [
           {
            "marker": {
             "colorbar": {
              "outlinewidth": 0,
              "ticks": ""
             }
            },
            "type": "scattergl"
           }
          ],
          "scattermapbox": [
           {
            "marker": {
             "colorbar": {
              "outlinewidth": 0,
              "ticks": ""
             }
            },
            "type": "scattermapbox"
           }
          ],
          "scatterpolar": [
           {
            "marker": {
             "colorbar": {
              "outlinewidth": 0,
              "ticks": ""
             }
            },
            "type": "scatterpolar"
           }
          ],
          "scatterpolargl": [
           {
            "marker": {
             "colorbar": {
              "outlinewidth": 0,
              "ticks": ""
             }
            },
            "type": "scatterpolargl"
           }
          ],
          "scatterternary": [
           {
            "marker": {
             "colorbar": {
              "outlinewidth": 0,
              "ticks": ""
             }
            },
            "type": "scatterternary"
           }
          ],
          "surface": [
           {
            "colorbar": {
             "outlinewidth": 0,
             "ticks": ""
            },
            "colorscale": [
             [
              0,
              "#0d0887"
             ],
             [
              0.1111111111111111,
              "#46039f"
             ],
             [
              0.2222222222222222,
              "#7201a8"
             ],
             [
              0.3333333333333333,
              "#9c179e"
             ],
             [
              0.4444444444444444,
              "#bd3786"
             ],
             [
              0.5555555555555556,
              "#d8576b"
             ],
             [
              0.6666666666666666,
              "#ed7953"
             ],
             [
              0.7777777777777778,
              "#fb9f3a"
             ],
             [
              0.8888888888888888,
              "#fdca26"
             ],
             [
              1,
              "#f0f921"
             ]
            ],
            "type": "surface"
           }
          ],
          "table": [
           {
            "cells": {
             "fill": {
              "color": "#EBF0F8"
             },
             "line": {
              "color": "white"
             }
            },
            "header": {
             "fill": {
              "color": "#C8D4E3"
             },
             "line": {
              "color": "white"
             }
            },
            "type": "table"
           }
          ]
         },
         "layout": {
          "annotationdefaults": {
           "arrowcolor": "#2a3f5f",
           "arrowhead": 0,
           "arrowwidth": 1
          },
          "autotypenumbers": "strict",
          "coloraxis": {
           "colorbar": {
            "outlinewidth": 0,
            "ticks": ""
           }
          },
          "colorscale": {
           "diverging": [
            [
             0,
             "#8e0152"
            ],
            [
             0.1,
             "#c51b7d"
            ],
            [
             0.2,
             "#de77ae"
            ],
            [
             0.3,
             "#f1b6da"
            ],
            [
             0.4,
             "#fde0ef"
            ],
            [
             0.5,
             "#f7f7f7"
            ],
            [
             0.6,
             "#e6f5d0"
            ],
            [
             0.7,
             "#b8e186"
            ],
            [
             0.8,
             "#7fbc41"
            ],
            [
             0.9,
             "#4d9221"
            ],
            [
             1,
             "#276419"
            ]
           ],
           "sequential": [
            [
             0,
             "#0d0887"
            ],
            [
             0.1111111111111111,
             "#46039f"
            ],
            [
             0.2222222222222222,
             "#7201a8"
            ],
            [
             0.3333333333333333,
             "#9c179e"
            ],
            [
             0.4444444444444444,
             "#bd3786"
            ],
            [
             0.5555555555555556,
             "#d8576b"
            ],
            [
             0.6666666666666666,
             "#ed7953"
            ],
            [
             0.7777777777777778,
             "#fb9f3a"
            ],
            [
             0.8888888888888888,
             "#fdca26"
            ],
            [
             1,
             "#f0f921"
            ]
           ],
           "sequentialminus": [
            [
             0,
             "#0d0887"
            ],
            [
             0.1111111111111111,
             "#46039f"
            ],
            [
             0.2222222222222222,
             "#7201a8"
            ],
            [
             0.3333333333333333,
             "#9c179e"
            ],
            [
             0.4444444444444444,
             "#bd3786"
            ],
            [
             0.5555555555555556,
             "#d8576b"
            ],
            [
             0.6666666666666666,
             "#ed7953"
            ],
            [
             0.7777777777777778,
             "#fb9f3a"
            ],
            [
             0.8888888888888888,
             "#fdca26"
            ],
            [
             1,
             "#f0f921"
            ]
           ]
          },
          "colorway": [
           "#636efa",
           "#EF553B",
           "#00cc96",
           "#ab63fa",
           "#FFA15A",
           "#19d3f3",
           "#FF6692",
           "#B6E880",
           "#FF97FF",
           "#FECB52"
          ],
          "font": {
           "color": "#2a3f5f"
          },
          "geo": {
           "bgcolor": "white",
           "lakecolor": "white",
           "landcolor": "#E5ECF6",
           "showlakes": true,
           "showland": true,
           "subunitcolor": "white"
          },
          "hoverlabel": {
           "align": "left"
          },
          "hovermode": "closest",
          "mapbox": {
           "style": "light"
          },
          "paper_bgcolor": "white",
          "plot_bgcolor": "#E5ECF6",
          "polar": {
           "angularaxis": {
            "gridcolor": "white",
            "linecolor": "white",
            "ticks": ""
           },
           "bgcolor": "#E5ECF6",
           "radialaxis": {
            "gridcolor": "white",
            "linecolor": "white",
            "ticks": ""
           }
          },
          "scene": {
           "xaxis": {
            "backgroundcolor": "#E5ECF6",
            "gridcolor": "white",
            "gridwidth": 2,
            "linecolor": "white",
            "showbackground": true,
            "ticks": "",
            "zerolinecolor": "white"
           },
           "yaxis": {
            "backgroundcolor": "#E5ECF6",
            "gridcolor": "white",
            "gridwidth": 2,
            "linecolor": "white",
            "showbackground": true,
            "ticks": "",
            "zerolinecolor": "white"
           },
           "zaxis": {
            "backgroundcolor": "#E5ECF6",
            "gridcolor": "white",
            "gridwidth": 2,
            "linecolor": "white",
            "showbackground": true,
            "ticks": "",
            "zerolinecolor": "white"
           }
          },
          "shapedefaults": {
           "line": {
            "color": "#2a3f5f"
           }
          },
          "ternary": {
           "aaxis": {
            "gridcolor": "white",
            "linecolor": "white",
            "ticks": ""
           },
           "baxis": {
            "gridcolor": "white",
            "linecolor": "white",
            "ticks": ""
           },
           "bgcolor": "#E5ECF6",
           "caxis": {
            "gridcolor": "white",
            "linecolor": "white",
            "ticks": ""
           }
          },
          "title": {
           "x": 0.05
          },
          "xaxis": {
           "automargin": true,
           "gridcolor": "white",
           "linecolor": "white",
           "ticks": "",
           "title": {
            "standoff": 15
           },
           "zerolinecolor": "white",
           "zerolinewidth": 2
          },
          "yaxis": {
           "automargin": true,
           "gridcolor": "white",
           "linecolor": "white",
           "ticks": "",
           "title": {
            "standoff": 15
           },
           "zerolinecolor": "white",
           "zerolinewidth": 2
          }
         }
        },
        "xaxis": {
         "anchor": "y",
         "domain": [
          0,
          1
         ],
         "title": {
          "text": "0"
         }
        },
        "yaxis": {
         "anchor": "x",
         "domain": [
          0,
          1
         ],
         "title": {
          "text": "1"
         }
        }
       }
      }
     },
     "metadata": {},
     "output_type": "display_data"
    }
   ],
   "source": [
    "fig = px.scatter(x_pca, x = 0,y=1, color = data['Continent'])\n",
    "fig.show()"
   ]
  },
  {
   "cell_type": "markdown",
   "metadata": {},
   "source": [
    "Looking at the clusters at the PCA there is some hint of pattern. Although appearing like a mess, there is are a couple of interesting observations. To point out the pressing clusters, Europe and Africa show distinctive clusters being on the polar opposites of the scale. The rest however are observably messed together. But, Asia for example, shows a downward incline from about -0.6 to 0.4. South America is somewhat perpendicular to this intercepting at about 0. Reguardless, how would a clustering classifier visualise this.\n",
    "\n",
    "\n",
    "The Clustering method I will use is K-means. This is a process which uses a centroid to categorise data based on distance. I will first use baseline inputs with 5 clusters and 2 components as a simple visualisation, but for optimization these inputs will be analysed and further tests will be deployed to maxmise the clustering compactness and variance explanation. Idealliy we are looking for the clusters to explained 95% of the varience."
   ]
  },
  {
   "cell_type": "code",
   "execution_count": 12,
   "metadata": {},
   "outputs": [
    {
     "data": {
      "text/plain": [
       "<Figure size 432x288 with 0 Axes>"
      ]
     },
     "metadata": {},
     "output_type": "display_data"
    },
    {
     "data": {
      "image/png": "[encoded data removed]",
      "text/plain": [
       "<Figure size 864x576 with 1 Axes>"
      ]
     },
     "metadata": {
      "needs_background": "light"
     },
     "output_type": "display_data"
    },
    {
     "name": "stdout",
     "output_type": "stream",
     "text": [
      " Explained variance ratio for first two compoentns: [0.66547859 0.09848589]\n"
     ]
    }
   ],
   "source": [
    "from sklearn.cluster import KMeans\n",
    "\n",
    "kmeans = KMeans(n_clusters = 5)\n",
    "kmeans = kmeans.fit(data_transform)\n",
    "\n",
    "predictions = kmeans.predict(data_transform)\n",
    "\n",
    "pca = PCA(n_components=2)\n",
    "x_pca = pca.fit(data_transform).transform(data_transform)\n",
    "\n",
    "\n",
    "plt.figure()\n",
    "plt.figure(figsize = (12,8))\n",
    "lw = 2\n",
    "\n",
    "target_names = ['cluster 0','cluster 1', 'cluster 2','cluster 3','cluster 4']\n",
    "\n",
    "for i, targetname in zip([0,1,2,3,4],target_names):\n",
    "    plt.scatter(x_pca[predictions == i,0],x_pca[predictions == i,1], alpha = .8, lw = lw, label = targetname)\n",
    "\n",
    "plt.show()\n",
    "\n",
    "from sklearn.discriminant_analysis import LinearDiscriminantAnalysis\n",
    "\n",
    "print(\" Explained variance ratio for first two compoentns: \" + str(pca.explained_variance_ratio_))\n"
   ]
  },
  {
   "cell_type": "markdown",
   "metadata": {},
   "source": [
    "Looking at the PCA "
   ]
  },
  {
   "cell_type": "code",
   "execution_count": 240,
   "metadata": {},
   "outputs": [],
   "source": [
    "data_transform['clusters'] = predictions"
   ]
  },
  {
   "cell_type": "code",
   "execution_count": 209,
   "metadata": {},
   "outputs": [
    {
     "data": {
      "text/plain": [
       "Index(['CO2_per_capita_2016', 'epi_score2022', 'fem_life_expectancy',\n",
       "       'male_life_expectancy', 'homosexuality_score', 'avg_schooling',\n",
       "       'malnourishment_2016_18', 'protein_supply_2017',\n",
       "       'political_stability_2020', 'obesity_2016', 'clusters'],\n",
       "      dtype='object')"
      ]
     },
     "execution_count": 209,
     "metadata": {},
     "output_type": "execute_result"
    }
   ],
   "source": [
    "data_transform.columns"
   ]
  },
  {
   "cell_type": "code",
   "execution_count": 241,
   "metadata": {},
   "outputs": [
    {
     "data": {
      "text/plain": [
       "<AxesSubplot:xlabel='political_stability_2020', ylabel='obesity_2016'>"
      ]
     },
     "execution_count": 241,
     "metadata": {},
     "output_type": "execute_result"
    },
    {
     "data": {
      "image/png": "[encoded data removed]",
      "text/plain": [
       "<Figure size 432x288 with 1 Axes>"
      ]
     },
     "metadata": {},
     "output_type": "display_data"
    }
   ],
   "source": [
    "sns.scatterplot(x = 'political_stability_2020', y = 'obesity_2016', hue = 'clusters', data = data_transform)"
   ]
  },
  {
   "cell_type": "code",
   "execution_count": 214,
   "metadata": {},
   "outputs": [
    {
     "data": {
      "text/plain": [
       "<AxesSubplot:xlabel='political_stability_2020', ylabel='obesity_2016'>"
      ]
     },
     "execution_count": 214,
     "metadata": {},
     "output_type": "execute_result"
    },
    {
     "data": {
      "image/png": "[encoded data removed]",
      "text/plain": [
       "<Figure size 432x288 with 1 Axes>"
      ]
     },
     "metadata": {
      "needs_background": "light"
     },
     "output_type": "display_data"
    }
   ],
   "source": [
    "sns.scatterplot(x = 'political_stability_2020', y = 'obesity_2016', hue = 'Continent', data = data)"
   ]
  },
  {
   "cell_type": "code",
   "execution_count": 249,
   "metadata": {},
   "outputs": [
    {
     "data": {
      "image/png": "[encoded data removed]",
      "text/plain": [
       "<Figure size 432x288 with 1 Axes>"
      ]
     },
     "metadata": {},
     "output_type": "display_data"
    },
    {
     "data": {
      "image/png": "[encoded data removed]",
      "text/plain": [
       "<Figure size 432x288 with 1 Axes>"
      ]
     },
     "metadata": {},
     "output_type": "display_data"
    },
    {
     "data": {
      "image/png": "[encoded data removed]",
      "text/plain": [
       "<Figure size 432x288 with 1 Axes>"
      ]
     },
     "metadata": {},
     "output_type": "display_data"
    },
    {
     "data": {
      "image/png": "[encoded data removed]",
      "text/plain": [
       "<Figure size 432x288 with 1 Axes>"
      ]
     },
     "metadata": {},
     "output_type": "display_data"
    },
    {
     "data": {
      "image/png": "[encoded data removed]",
      "text/plain": [
       "<Figure size 432x288 with 1 Axes>"
      ]
     },
     "metadata": {},
     "output_type": "display_data"
    },
    {
     "data": {
      "image/png": "[encoded data removed]",
      "text/plain": [
       "<Figure size 432x288 with 1 Axes>"
      ]
     },
     "metadata": {},
     "output_type": "display_data"
    },
    {
     "data": {
      "image/png": "[encoded data removed]",
      "text/plain": [
       "<Figure size 432x288 with 1 Axes>"
      ]
     },
     "metadata": {},
     "output_type": "display_data"
    },
    {
     "data": {
      "image/png": "[encoded data removed]",
      "text/plain": [
       "<Figure size 432x288 with 1 Axes>"
      ]
     },
     "metadata": {},
     "output_type": "display_data"
    },
    {
     "data": {
      "image/png": "[encoded data removed]",
      "text/plain": [
       "<Figure size 432x288 with 1 Axes>"
      ]
     },
     "metadata": {},
     "output_type": "display_data"
    },
    {
     "data": {
      "image/png": "[encoded data removed]",
      "text/plain": [
       "<Figure size 432x288 with 1 Axes>"
      ]
     },
     "metadata": {},
     "output_type": "display_data"
    }
   ],
   "source": [
    "sns.set(style='white')\n",
    "\n",
    "cols = ['CO2_per_capita_2016', 'epi_score2022', 'fem_life_expectancy',\n",
    "       'male_life_expectancy', 'homosexuality_score', 'avg_schooling',\n",
    "       'malnourishment_2016_18', 'protein_supply_2017',\n",
    "       'political_stability_2020', 'obesity_2016']\n",
    "\n",
    "for item in cols:\n",
    "    plt.figure()\n",
    "    sns.barplot(x='Continent', y=item, hue='clusters', data=data) \n",
    "    plt.xticks(rotation=45)\n",
    "    plt.show"
   ]
  }
 ],
 "metadata": {
  "kernelspec": {
   "display_name": "Python 3.10.2 64-bit",
   "language": "python",
   "name": "python3"
  },
  "language_info": {
   "codemirror_mode": {
    "name": "ipython",
    "version": 3
   },
   "file_extension": ".py",
   "mimetype": "text/x-python",
   "name": "python",
   "nbconvert_exporter": "python",
   "pygments_lexer": "ipython3",
   "version": "3.10.2"
  },
  "orig_nbformat": 4,
  "vscode": {
   "interpreter": {
    "hash": "d945ed2a52083c4a5b72234668779b0e7ade9860b23e6b7df5d4937d091dd521"
   }
  }
 },
 "nbformat": 4,
 "nbformat_minor": 2
}
