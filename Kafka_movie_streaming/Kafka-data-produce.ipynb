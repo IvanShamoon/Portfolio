{
 "cells": [
  {
   "cell_type": "code",
   "execution_count": 1,
   "id": "a06c776f",
   "metadata": {},
   "outputs": [
    {
     "name": "stderr",
     "output_type": "stream",
     "text": [
      "c:\\Users\\Ivan Shamoon\\AppData\\Local\\Programs\\Python\\Python310\\lib\\site-packages\\requests\\__init__.py:102: RequestsDependencyWarning: urllib3 (1.26.8) or chardet (5.1.0)/charset_normalizer (2.0.11) doesn't match a supported version!\n",
      "  warnings.warn(\"urllib3 ({}) or chardet ({})/charset_normalizer ({}) doesn't match a supported \"\n"
     ]
    }
   ],
   "source": [
    "import kafka\n",
    "from kafka import KafkaProducer\n",
    "import pandas as pd\n",
    "from json import dumps\n",
    "import json\n",
    "import time\n",
    "import requests\n",
    "import random\n",
    "import creds\n"
   ]
  },
  {
   "cell_type": "code",
   "execution_count": 2,
   "id": "769cdd05",
   "metadata": {},
   "outputs": [],
   "source": [
    "def extract_data():\n",
    "    id_type = {'id_num': random.randint(1,999), 'type':random.choice(['tv','movie'])}\n",
    "    response = requests.get(\"https://api.themoviedb.org/3/{medium}/{movie_num}?api_key={key}\".format(medium = id_type[\"type\"],movie_num = id_type[\"id_num\"], key = creds.api_key))\n",
    "    json_object = json.loads(response.content)\n",
    "    json_object['type'] = id_type[\"type\"]\n",
    "    response_code = response.status_code\n",
    "    return json_object, response_code"
   ]
  },
  {
   "cell_type": "code",
   "execution_count": 3,
   "id": "c4596002",
   "metadata": {},
   "outputs": [],
   "source": [
    "def clean_dic(dictionary):\n",
    "    \n",
    "    \n",
    "    tv_keys = [\"name\",\"vote_average\",\"first_air_date\",\"type\"]\n",
    "    movie_keys = [\"original_title\",\"vote_average\",\"release_date\",\"type\"]\n",
    "    \n",
    "    if dictionary['vote_average'] != 0.0:\n",
    "        for key in list(dictionary.keys()):\n",
    "\n",
    "            if dictionary[\"type\"] == \"tv\":\n",
    "                if key not in tv_keys:\n",
    "                    dictionary.pop(key)\n",
    "\n",
    "            else:\n",
    "                if key not in movie_keys:\n",
    "                    dictionary.pop(key)\n",
    "\n",
    "        if dictionary[\"type\"] == \"tv\":\n",
    "            dictionary[\"original_title\"] = dictionary.pop(\"name\")\n",
    "            dictionary[\"release_date\"] = dictionary.pop(\"first_air_date\")\n",
    "        \n",
    "        return dictionary\n",
    "\n",
    "    "
   ]
  },
  {
   "cell_type": "code",
   "execution_count": 4,
   "id": "317a144f",
   "metadata": {},
   "outputs": [],
   "source": [
    "def send_data(producer, data, topic):\n",
    "    time.sleep(1)\n",
    "    if data != None:\n",
    "        producer.send(topic,value = data)\n",
    "        "
   ]
  },
  {
   "cell_type": "code",
   "execution_count": 5,
   "id": "54c08af6",
   "metadata": {},
   "outputs": [],
   "source": [
    "def main_function(producer, topic):\n",
    "    \n",
    "    json_object, response_code = extract_data()\n",
    "    \n",
    "    if response_code == 200:\n",
    "        \n",
    "        new_dict = clean_dic(json_object)\n",
    "        \n",
    "        send_data(producer, new_dict, topic)\n",
    "        \n"
   ]
  },
  {
   "cell_type": "code",
   "execution_count": null,
   "id": "730e2c59",
   "metadata": {},
   "outputs": [],
   "source": [
    "producer = KafkaProducer(bootstrap_servers = [creds.ip_host],\n",
    "                        value_serializer = lambda x: json.dumps(x).encode('utf-8'))\n",
    "\n",
    "\n",
    "\n",
    "if __name__ == \"__main__\":\n",
    "    while True:\n",
    "        data = main_function(producer, creds.topic_name)\n"
   ]
  }
 ],
 "metadata": {
  "kernelspec": {
   "display_name": "Python 3 (ipykernel)",
   "language": "python",
   "name": "python3"
  },
  "language_info": {
   "codemirror_mode": {
    "name": "ipython",
    "version": 3
   },
   "file_extension": ".py",
   "mimetype": "text/x-python",
   "name": "python",
   "nbconvert_exporter": "python",
   "pygments_lexer": "ipython3",
   "version": "3.10.2"
  }
 },
 "nbformat": 4,
 "nbformat_minor": 5
}
