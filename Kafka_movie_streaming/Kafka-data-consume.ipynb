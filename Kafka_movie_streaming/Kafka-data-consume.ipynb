{
 "cells": [
  {
   "cell_type": "code",
   "execution_count": 1,
   "id": "cfe1934c",
   "metadata": {},
   "outputs": [],
   "source": [
    "import json\n",
    "from json import loads\n",
    "import time\n",
    "import creds\n",
    "from s3fs import S3FileSystem\n",
    "from kafka import KafkaConsumer\n",
    "from base64 import b64decode\n"
   ]
  },
  {
   "cell_type": "code",
   "execution_count": null,
   "id": "d7a845d0",
   "metadata": {},
   "outputs": [],
   "source": [
    "s3 = S3FileSystem()\n",
    "\n",
    "consumer = KafkaConsumer(\n",
    "    creds.topic_name,\n",
    "    bootstrap_servers = [creds.ip_host],\n",
    "    value_deserializer = lambda x: loads(x.decode('utf-8')))\n",
    "\n",
    "for count, i in enumerate(consumer):\n",
    "    with s3.open('s3://{bucket}/media_data_{count}.json'.format(bucket = creds.s3_bucket_name, count = count),'w') as file:\n",
    "        json.dump(i.value, file)"
   ]
  }
 ],
 "metadata": {
  "kernelspec": {
   "display_name": "Python 3 (ipykernel)",
   "language": "python",
   "name": "python3"
  },
  "language_info": {
   "codemirror_mode": {
    "name": "ipython",
    "version": 3
   },
   "file_extension": ".py",
   "mimetype": "text/x-python",
   "name": "python",
   "nbconvert_exporter": "python",
   "pygments_lexer": "ipython3",
   "version": "3.10.2"
  }
 },
 "nbformat": 4,
 "nbformat_minor": 5
}
